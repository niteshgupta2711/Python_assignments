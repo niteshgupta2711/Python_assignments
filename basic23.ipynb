{
 "cells": [
  {
   "cell_type": "markdown",
   "id": "325707a7",
   "metadata": {},
   "source": [
    "Question 1\n",
    "Create a function that takes a number as an argument and returns True or False depending\n",
    "on whether the number is symmetrical or not. A number is symmetrical when it is the same as\n",
    "its reverse.\n",
    "Examples\n",
    "is_symmetrical(7227) ➞ True\n",
    "is_symmetrical(12567) ➞ False\n",
    "is_symmetrical(44444444) ➞ True\n",
    "is_symmetrical(9939) ➞ False\n",
    "is_symmetrical(1112111) ➞ True\n",
    "\n",
    "Question 2\n",
    "Given a string of numbers separated by a comma and space, return the product of the\n",
    "numbers.\n",
    "Examples\n",
    "multiply_nums(&quot;2, 3&quot;) ➞ 6\n",
    "multiply_nums(&quot;1, 2, 3, 4&quot;) ➞ 24\n",
    "multiply_nums(&quot;54, 75, 453, 0&quot;) ➞ 0\n",
    "multiply_nums(&quot;10, -2&quot;) ➞ -20\n",
    "\n",
    "Question 3\n",
    "Create a function that squares every digit of a number.\n",
    "Examples\n",
    "square_digits(9119) ➞ 811181\n",
    "square_digits(2483) ➞ 416649\n",
    "square_digits(3212) ➞ 9414\n",
    "Notes\n",
    "The function receives an integer and must return an integer.\n",
    "\n",
    "Question 4\n",
    "Create a function that sorts a list and removes all duplicate items from it.\n",
    "Examples\n",
    "setify([1, 3, 3, 5, 5]) ➞ [1, 3, 5]\n",
    "setify([4, 4, 4, 4]) ➞ [4]\n",
    "setify([5, 7, 8, 9, 10, 15]) ➞ [5, 7, 8, 9, 10, 15]\n",
    "setify([3, 3, 3, 2, 1]) ➞ [1, 2, 3]\n",
    "\n",
    "Question 5\n",
    "Create a function that returns the mean of all digits.\n",
    "Examples\n",
    "mean(42) ➞ 3\n",
    "mean(12345) ➞ 3\n",
    "mean(666) ➞ 6\n",
    "Notes\n",
    " The mean of all digits is the sum of digits / how many digits there are (e.g. mean of digits in\n",
    "512 is (5+1+2)/3(number of digits) = 8/3=2).\n",
    " The mean will always be an integer."
   ]
  },
  {
   "cell_type": "code",
   "execution_count": 13,
   "id": "dd5c390a",
   "metadata": {},
   "outputs": [],
   "source": [
    "def is_sym(num):\n",
    "    num=str(num)\n",
    "    if len(num)%2==0:\n",
    "        if num[:int(len(num)//2)]==num[int(len(num)//2):][::-1]:\n",
    "            return True\n",
    "        else:return False\n",
    "    if len(num)%2!=0:\n",
    "        if num[:int(len(num)//2)]==num[int(len(num)//2)+1:][::-1]:\n",
    "            return True\n",
    "        else:return False\n",
    "    "
   ]
  },
  {
   "cell_type": "code",
   "execution_count": 15,
   "id": "d838be74",
   "metadata": {},
   "outputs": [
    {
     "data": {
      "text/plain": [
       "True"
      ]
     },
     "execution_count": 15,
     "metadata": {},
     "output_type": "execute_result"
    }
   ],
   "source": [
    "is_sym(7227)"
   ]
  },
  {
   "cell_type": "code",
   "execution_count": 8,
   "id": "42183dcf",
   "metadata": {},
   "outputs": [],
   "source": [
    "def multiply_nums(num):\n",
    "    l1=[int(x) for x in num.split(',')]\n",
    "    if len(l1)==1:\n",
    "        return l1[0]\n",
    "    else:\n",
    "        return l1[0]*multiply_nums(','.join([str(x) for x in l1[1:]]))"
   ]
  },
  {
   "cell_type": "code",
   "execution_count": 9,
   "id": "f1d59112",
   "metadata": {},
   "outputs": [
    {
     "data": {
      "text/plain": [
       "24"
      ]
     },
     "execution_count": 9,
     "metadata": {},
     "output_type": "execute_result"
    }
   ],
   "source": [
    "multiply_nums(\"1, 2, 3, 4\")"
   ]
  },
  {
   "cell_type": "code",
   "execution_count": 16,
   "id": "c9f3dab2",
   "metadata": {},
   "outputs": [],
   "source": [
    "def square_digits(num):\n",
    "    num=str(num)\n",
    "    return int(''.join([str(x) for x in [int(x)**2 for x in num]]))"
   ]
  },
  {
   "cell_type": "code",
   "execution_count": 18,
   "id": "b9b642a1",
   "metadata": {},
   "outputs": [
    {
     "data": {
      "text/plain": [
       "811181"
      ]
     },
     "execution_count": 18,
     "metadata": {},
     "output_type": "execute_result"
    }
   ],
   "source": [
    "square_digits(9119)"
   ]
  },
  {
   "cell_type": "code",
   "execution_count": 19,
   "id": "b8cfbb28",
   "metadata": {},
   "outputs": [],
   "source": [
    "def setify(li):\n",
    "    return list(set(li))"
   ]
  },
  {
   "cell_type": "code",
   "execution_count": 20,
   "id": "de2f527c",
   "metadata": {},
   "outputs": [],
   "source": [
    "def mean_of(num):\n",
    "    num=str(num)\n",
    "    return sum([int(x) for x in num])/len([int(x) for x in num])"
   ]
  },
  {
   "cell_type": "code",
   "execution_count": 22,
   "id": "a7721be6",
   "metadata": {},
   "outputs": [
    {
     "data": {
      "text/plain": [
       "3.0"
      ]
     },
     "execution_count": 22,
     "metadata": {},
     "output_type": "execute_result"
    }
   ],
   "source": [
    "mean_of(12345)"
   ]
  },
  {
   "cell_type": "code",
   "execution_count": null,
   "id": "359a24af",
   "metadata": {},
   "outputs": [],
   "source": []
  }
 ],
 "metadata": {
  "kernelspec": {
   "display_name": "Python 3 (ipykernel)",
   "language": "python",
   "name": "python3"
  },
  "language_info": {
   "codemirror_mode": {
    "name": "ipython",
    "version": 3
   },
   "file_extension": ".py",
   "mimetype": "text/x-python",
   "name": "python",
   "nbconvert_exporter": "python",
   "pygments_lexer": "ipython3",
   "version": "3.9.7"
  }
 },
 "nbformat": 4,
 "nbformat_minor": 5
}
