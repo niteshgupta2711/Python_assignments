{
 "cells": [
  {
   "cell_type": "markdown",
   "id": "6a9030be",
   "metadata": {},
   "source": [
    "1. Write a Python program to convert kilometers to miles?\n",
    "2. Write a Python program to convert Celsius to Fahrenheit?\n",
    "3. Write a Python program to display calendar?\n",
    "4. Write a Python program to solve quadratic equation?\n",
    "5. Write a Python program to swap two variables without temp variable?\n"
   ]
  },
  {
   "cell_type": "code",
   "execution_count": 1,
   "id": "fd134ec7",
   "metadata": {},
   "outputs": [],
   "source": [
    "# 1mile=1.6km"
   ]
  },
  {
   "cell_type": "code",
   "execution_count": 2,
   "id": "807644e8",
   "metadata": {},
   "outputs": [],
   "source": [
    "km=28\n",
    "mile=1.6*km"
   ]
  },
  {
   "cell_type": "code",
   "execution_count": 5,
   "id": "cd6f5718",
   "metadata": {},
   "outputs": [],
   "source": [
    "# 0C=32F\n",
    "T=100"
   ]
  },
  {
   "cell_type": "code",
   "execution_count": 6,
   "id": "0e270f8b",
   "metadata": {},
   "outputs": [],
   "source": [
    "F=(T*9/5)+32"
   ]
  },
  {
   "cell_type": "code",
   "execution_count": 7,
   "id": "76808dd0",
   "metadata": {},
   "outputs": [
    {
     "name": "stdout",
     "output_type": "stream",
     "text": [
      "   November 2014\n",
      "Mo Tu We Th Fr Sa Su\n",
      "                1  2\n",
      " 3  4  5  6  7  8  9\n",
      "10 11 12 13 14 15 16\n",
      "17 18 19 20 21 22 23\n",
      "24 25 26 27 28 29 30\n",
      "\n"
     ]
    }
   ],
   "source": [
    "import calendar\n",
    "\n",
    "yy = 2014  # year\n",
    "mm = 11    # month\n",
    "\n",
    "# To take month and year input from the user\n",
    "# yy = int(input(\"Enter year: \"))\n",
    "# mm = int(input(\"Enter month: \"))\n",
    "\n",
    "# display the calendar\n",
    "print(calendar.month(yy, mm))"
   ]
  },
  {
   "cell_type": "code",
   "execution_count": 19,
   "id": "88d1d0b1",
   "metadata": {},
   "outputs": [
    {
     "data": {
      "text/plain": [
       "16"
      ]
     },
     "execution_count": 19,
     "metadata": {},
     "output_type": "execute_result"
    }
   ],
   "source": [
    "#ax^2+bx+c\n",
    "import math\n",
    "a=5\n",
    "b=6\n",
    "c=1\n",
    "(b**2)-(4*a*c)\n"
   ]
  },
  {
   "cell_type": "code",
   "execution_count": 20,
   "id": "b12c157d",
   "metadata": {},
   "outputs": [],
   "source": [
    "sol1=((-b)+math.sqrt((b**2)-(4*a*c)))/2*a"
   ]
  },
  {
   "cell_type": "markdown",
   "id": "4775766f",
   "metadata": {},
   "source": [
    "math.sqrt(2)"
   ]
  },
  {
   "cell_type": "code",
   "execution_count": null,
   "id": "0895b0fc",
   "metadata": {},
   "outputs": [],
   "source": []
  },
  {
   "cell_type": "code",
   "execution_count": 22,
   "id": "40117ef5",
   "metadata": {},
   "outputs": [],
   "source": [
    "a=3\n",
    "b=4\n",
    "a,b=b,a"
   ]
  },
  {
   "cell_type": "code",
   "execution_count": null,
   "id": "5887e79b",
   "metadata": {},
   "outputs": [],
   "source": []
  }
 ],
 "metadata": {
  "kernelspec": {
   "display_name": "Python 3 (ipykernel)",
   "language": "python",
   "name": "python3"
  },
  "language_info": {
   "codemirror_mode": {
    "name": "ipython",
    "version": 3
   },
   "file_extension": ".py",
   "mimetype": "text/x-python",
   "name": "python",
   "nbconvert_exporter": "python",
   "pygments_lexer": "ipython3",
   "version": "3.9.7"
  }
 },
 "nbformat": 4,
 "nbformat_minor": 5
}
