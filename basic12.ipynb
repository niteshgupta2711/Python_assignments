{
 "cells": [
  {
   "cell_type": "markdown",
   "id": "34defc17",
   "metadata": {},
   "source": [
    "1. Write a Python program to Extract Unique values dictionary values?\n",
    "2. Write a Python program to find the sum of all items in a dictionary?\n",
    "3. Write a Python program to Merging two Dictionaries?\n",
    "4. Write a Python program to convert key-values list to flat dictionary?\n",
    "5. Write a Python program to insertion at the beginning in OrderedDict?\n",
    "6. Write a Python program to check order of character in string using OrderedDict()?\n",
    "7. Write a Python program to sort Python Dictionaries by Key or Value?"
   ]
  },
  {
   "cell_type": "code",
   "execution_count": 1,
   "id": "c8e84272",
   "metadata": {},
   "outputs": [],
   "source": [
    "d={i:i**2 for i in range(10)}"
   ]
  },
  {
   "cell_type": "code",
   "execution_count": 2,
   "id": "9de11083",
   "metadata": {},
   "outputs": [
    {
     "data": {
      "text/plain": [
       "dict_values([0, 1, 4, 9, 16, 25, 36, 49, 64, 81])"
      ]
     },
     "execution_count": 2,
     "metadata": {},
     "output_type": "execute_result"
    }
   ],
   "source": [
    "d.values()"
   ]
  },
  {
   "cell_type": "code",
   "execution_count": 3,
   "id": "f1e238e7",
   "metadata": {},
   "outputs": [
    {
     "data": {
      "text/plain": [
       "285"
      ]
     },
     "execution_count": 3,
     "metadata": {},
     "output_type": "execute_result"
    }
   ],
   "source": [
    "sum(list(d.values()))"
   ]
  },
  {
   "cell_type": "code",
   "execution_count": 4,
   "id": "cbdcb475",
   "metadata": {},
   "outputs": [],
   "source": [
    "d.update(d)"
   ]
  },
  {
   "cell_type": "code",
   "execution_count": 5,
   "id": "c3994190",
   "metadata": {},
   "outputs": [],
   "source": [
    "from collections import OrderedDict"
   ]
  },
  {
   "cell_type": "code",
   "execution_count": 6,
   "id": "71e4da84",
   "metadata": {},
   "outputs": [],
   "source": [
    "d1=OrderedDict()"
   ]
  },
  {
   "cell_type": "code",
   "execution_count": 8,
   "id": "f156ee09",
   "metadata": {},
   "outputs": [],
   "source": [
    "d1['name']='nitesh'"
   ]
  },
  {
   "cell_type": "code",
   "execution_count": 9,
   "id": "17e9995a",
   "metadata": {},
   "outputs": [
    {
     "data": {
      "text/plain": [
       "odict_values(['nitesh'])"
      ]
     },
     "execution_count": 9,
     "metadata": {},
     "output_type": "execute_result"
    }
   ],
   "source": [
    "d1.values()"
   ]
  },
  {
   "cell_type": "code",
   "execution_count": 13,
   "id": "879daef5",
   "metadata": {},
   "outputs": [],
   "source": [
    "for i, v in d.items():\n",
    "    d2={}\n",
    "    \n",
    "    d1=sorted(d.keys())\n",
    "    for v in d1:\n",
    "        \n",
    "        d2[v]=d[v]"
   ]
  },
  {
   "cell_type": "code",
   "execution_count": 14,
   "id": "ccd192e8",
   "metadata": {},
   "outputs": [
    {
     "data": {
      "text/plain": [
       "{0: 0, 1: 1, 2: 4, 3: 9, 4: 16, 5: 25, 6: 36, 7: 49, 8: 64, 9: 81}"
      ]
     },
     "execution_count": 14,
     "metadata": {},
     "output_type": "execute_result"
    }
   ],
   "source": [
    "d2"
   ]
  },
  {
   "cell_type": "code",
   "execution_count": 15,
   "id": "209a96c0",
   "metadata": {},
   "outputs": [],
   "source": [
    "d3={v:k for k,v in d.items()}"
   ]
  },
  {
   "cell_type": "code",
   "execution_count": 16,
   "id": "f9d7b3dc",
   "metadata": {},
   "outputs": [
    {
     "data": {
      "text/plain": [
       "{0: 0, 1: 1, 4: 2, 9: 3, 16: 4, 25: 5, 36: 6, 49: 7, 64: 8, 81: 9}"
      ]
     },
     "execution_count": 16,
     "metadata": {},
     "output_type": "execute_result"
    }
   ],
   "source": []
  },
  {
   "cell_type": "code",
   "execution_count": 18,
   "id": "ab942279",
   "metadata": {},
   "outputs": [],
   "source": [
    "for i, v in d3.items():\n",
    "    d4={}\n",
    "    \n",
    "    d1=sorted(d3.keys())\n",
    "    for v in d1:\n",
    "        \n",
    "        d4[v]=d3[v]"
   ]
  },
  {
   "cell_type": "code",
   "execution_count": 19,
   "id": "4760b4de",
   "metadata": {},
   "outputs": [
    {
     "data": {
      "text/plain": [
       "{0: 0, 1: 1, 4: 2, 9: 3, 16: 4, 25: 5, 36: 6, 49: 7, 64: 8, 81: 9}"
      ]
     },
     "execution_count": 19,
     "metadata": {},
     "output_type": "execute_result"
    }
   ],
   "source": [
    "d4"
   ]
  },
  {
   "cell_type": "code",
   "execution_count": null,
   "id": "09e1a45f",
   "metadata": {},
   "outputs": [],
   "source": []
  }
 ],
 "metadata": {
  "kernelspec": {
   "display_name": "Python 3 (ipykernel)",
   "language": "python",
   "name": "python3"
  },
  "language_info": {
   "codemirror_mode": {
    "name": "ipython",
    "version": 3
   },
   "file_extension": ".py",
   "mimetype": "text/x-python",
   "name": "python",
   "nbconvert_exporter": "python",
   "pygments_lexer": "ipython3",
   "version": "3.9.7"
  }
 },
 "nbformat": 4,
 "nbformat_minor": 5
}
