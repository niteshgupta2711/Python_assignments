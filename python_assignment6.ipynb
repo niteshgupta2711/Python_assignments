{
 "cells": [
  {
   "cell_type": "markdown",
   "id": "a0e5e962-8961-400c-ac06-09c6e74af1bf",
   "metadata": {},
   "source": [
    "1. What are escape characters, and how do you use them?"
   ]
  },
  {
   "cell_type": "markdown",
   "id": "acdee4bc-d78d-426d-9daf-d90754141ed5",
   "metadata": {},
   "source": [
    "`To insert characters that are illegal in a string, use an escape character`\n",
    "+ characters that are illegal in a string are needs to use a escape character"
   ]
  },
  {
   "cell_type": "code",
   "execution_count": 1,
   "id": "52cbf51d-188e-45ce-b26c-99ad765efde9",
   "metadata": {},
   "outputs": [],
   "source": [
    "txt = \"We are the so-called \\\"Vikings\\\" from the north.\""
   ]
  },
  {
   "cell_type": "code",
   "execution_count": 2,
   "id": "4e3b0c1b-ed68-435b-9bf9-fe3615a94246",
   "metadata": {},
   "outputs": [
    {
     "data": {
      "text/plain": [
       "'We are the so-called \"Vikings\" from the north.'"
      ]
     },
     "execution_count": 2,
     "metadata": {},
     "output_type": "execute_result"
    }
   ],
   "source": [
    "txt"
   ]
  },
  {
   "cell_type": "code",
   "execution_count": 16,
   "id": "5e330ca7-f7e5-4c5f-a738-e8d1666a3616",
   "metadata": {},
   "outputs": [],
   "source": [
    "txt = \"We are the so-called \\\"Vikings\\\" from the north.\\\\n\""
   ]
  },
  {
   "cell_type": "code",
   "execution_count": 17,
   "id": "1f1c8f3d-6ff1-4eba-94b0-9153a27248f3",
   "metadata": {},
   "outputs": [
    {
     "name": "stdout",
     "output_type": "stream",
     "text": [
      "We are the so-called \"Vikings\" from the north.\\n\n"
     ]
    }
   ],
   "source": [
    "print(txt)"
   ]
  },
  {
   "cell_type": "markdown",
   "id": "990a3d84-acd7-4a06-a5f5-d80fde44e931",
   "metadata": {},
   "source": [
    "+ An escape character is a backslash \\ followed by the character you want to insert."
   ]
  },
  {
   "cell_type": "markdown",
   "id": "fb579357-dd8b-45de-a399-4c17403ad971",
   "metadata": {},
   "source": [
    "2. What do the escape characters n and t stand for?"
   ]
  },
  {
   "cell_type": "markdown",
   "id": "f007d2d2-22b7-40ac-ac37-540ea7e06bbf",
   "metadata": {},
   "source": [
    "+ \\n stands for a new line\n",
    "+ \\t stands for a tab space"
   ]
  },
  {
   "cell_type": "markdown",
   "id": "c7e67614-78f6-4373-970c-de22c8e94974",
   "metadata": {},
   "source": [
    "3. What is the way to include backslash characters in a string?"
   ]
  },
  {
   "cell_type": "code",
   "execution_count": 20,
   "id": "eabe0fbc-ba7a-4d4b-8f1f-d67a8e6a0aa8",
   "metadata": {},
   "outputs": [],
   "source": [
    "txt=\" we are rocksatrs\\\\\""
   ]
  },
  {
   "cell_type": "markdown",
   "id": "1e5fe10a-b853-4e10-8155-bdcffaba8105",
   "metadata": {},
   "source": [
    "+ ` The one way to inclue \\ is to use \\\\ in a string`"
   ]
  },
  {
   "cell_type": "markdown",
   "id": "bfc78c8f-1df2-490b-8584-39f452546f42",
   "metadata": {},
   "source": [
    "4. The string &quot;Howl&#39;s Moving Castle&quot; is a correct value. Why isn&#39;t the single quote character in the\n",
    "word Howl&#39;s not escaped a problem?"
   ]
  },
  {
   "cell_type": "code",
   "execution_count": 23,
   "id": "b71c7b69-cb11-492a-976f-e46887229b22",
   "metadata": {},
   "outputs": [
    {
     "ename": "SyntaxError",
     "evalue": "invalid syntax (Temp/ipykernel_6248/2294856080.py, line 1)",
     "output_type": "error",
     "traceback": [
      "\u001b[1;36m  File \u001b[1;32m\"C:\\Users\\Nitesh\\AppData\\Local\\Temp/ipykernel_6248/2294856080.py\"\u001b[1;36m, line \u001b[1;32m1\u001b[0m\n\u001b[1;33m    txt='Howl's Moving castle'\u001b[0m\n\u001b[1;37m              ^\u001b[0m\n\u001b[1;31mSyntaxError\u001b[0m\u001b[1;31m:\u001b[0m invalid syntax\n"
     ]
    }
   ],
   "source": [
    "txt='Howl's Moving castle'\n",
    "tx1='Howl\"s Moving castle'"
   ]
  },
  {
   "cell_type": "markdown",
   "id": "58104bde-3e44-475f-ac51-55eac8f23719",
   "metadata": {},
   "source": [
    "+ as you can see the above txt string shows an error\n",
    "+ and txt1 doesn't show any error\n",
    "+ the reason been it is not illegal to use \"\" in a single quoted string or '' in a double quoted string"
   ]
  },
  {
   "cell_type": "markdown",
   "id": "b9e85fa5-2301-471f-9659-856573bcd23a",
   "metadata": {},
   "source": [
    "5. How do you write a string of newlines if you don&#39;t want to use the n character?"
   ]
  },
  {
   "cell_type": "code",
   "execution_count": 28,
   "id": "1b6fecf4-707c-41f0-9057-eca269f975f6",
   "metadata": {},
   "outputs": [],
   "source": [
    "txt=\"\"\" a new line \n",
    "with a lot of characters\"\"\""
   ]
  },
  {
   "cell_type": "code",
   "execution_count": 29,
   "id": "cb63282c-a0bd-439f-8126-e755e24e59bc",
   "metadata": {},
   "outputs": [
    {
     "data": {
      "text/plain": [
       "' a new line \\nwith a lot of characters'"
      ]
     },
     "execution_count": 29,
     "metadata": {},
     "output_type": "execute_result"
    }
   ],
   "source": [
    "txt"
   ]
  },
  {
   "cell_type": "markdown",
   "id": "c6e82149-a486-4eb8-8e56-d1f8d4a1dc63",
   "metadata": {},
   "source": [
    "6. What are the values of the given expressions?\n",
    "+ &#39;Hello, world!&#39;[1]\n",
    "+ &#39;Hello, world!&#39;[0:5]\n",
    "+ &#39;Hello, world!&#39;[:5]\n",
    "+ &#39;Hello, world!&#39;[3:]"
   ]
  },
  {
   "cell_type": "code",
   "execution_count": 30,
   "id": "44cf8d1a-85f3-4d15-922e-0ffda507f108",
   "metadata": {},
   "outputs": [
    {
     "data": {
      "text/plain": [
       "'e'"
      ]
     },
     "execution_count": 30,
     "metadata": {},
     "output_type": "execute_result"
    }
   ],
   "source": [
    "'Hello, world!'[1]"
   ]
  },
  {
   "cell_type": "code",
   "execution_count": 31,
   "id": "f241f56a-07fc-4c8f-be50-e9bd51605009",
   "metadata": {},
   "outputs": [
    {
     "data": {
      "text/plain": [
       "'Hello'"
      ]
     },
     "execution_count": 31,
     "metadata": {},
     "output_type": "execute_result"
    }
   ],
   "source": [
    "'Hello, world!'[0:5]"
   ]
  },
  {
   "cell_type": "code",
   "execution_count": 32,
   "id": "1449060c-a634-49f1-8441-fbd61a8890bb",
   "metadata": {},
   "outputs": [
    {
     "data": {
      "text/plain": [
       "'Hello'"
      ]
     },
     "execution_count": 32,
     "metadata": {},
     "output_type": "execute_result"
    }
   ],
   "source": [
    "'Hello, world!'[:5]"
   ]
  },
  {
   "cell_type": "code",
   "execution_count": 33,
   "id": "09ea5b3d-b48d-4787-9e53-ed54d518c933",
   "metadata": {},
   "outputs": [
    {
     "data": {
      "text/plain": [
       "'lo, world!'"
      ]
     },
     "execution_count": 33,
     "metadata": {},
     "output_type": "execute_result"
    }
   ],
   "source": [
    "'Hello, world!'[3:]"
   ]
  },
  {
   "cell_type": "markdown",
   "id": "a149fc73-2f45-4ab8-8654-6529b5b34d13",
   "metadata": {},
   "source": [
    "7. What are the values of the following expressions?\n",
    "+ &#39;Hello&#39;.upper()\n",
    "+ &#39;Hello&#39;.upper().isupper()\n",
    "+ &#39;Hello&#39;.upper().lower()"
   ]
  },
  {
   "cell_type": "code",
   "execution_count": 39,
   "id": "651648c5-c462-4ea6-9bc9-bd692febf851",
   "metadata": {},
   "outputs": [
    {
     "data": {
      "text/plain": [
       "'HELLO'"
      ]
     },
     "execution_count": 39,
     "metadata": {},
     "output_type": "execute_result"
    }
   ],
   "source": [
    "'Hello'.upper()"
   ]
  },
  {
   "cell_type": "code",
   "execution_count": 40,
   "id": "f2518a1a-71af-4d25-aef7-92128374f983",
   "metadata": {},
   "outputs": [
    {
     "data": {
      "text/plain": [
       "True"
      ]
     },
     "execution_count": 40,
     "metadata": {},
     "output_type": "execute_result"
    }
   ],
   "source": [
    "'Hello'.upper().isupper()"
   ]
  },
  {
   "cell_type": "code",
   "execution_count": 42,
   "id": "9e358b2f-2346-460f-bcdd-2bcb12093db8",
   "metadata": {},
   "outputs": [
    {
     "data": {
      "text/plain": [
       "'hello'"
      ]
     },
     "execution_count": 42,
     "metadata": {},
     "output_type": "execute_result"
    }
   ],
   "source": [
    "'Hello'.upper().lower()"
   ]
  },
  {
   "cell_type": "markdown",
   "id": "86a1643e-ade0-4ad9-a0b2-87827c5903ee",
   "metadata": {},
   "source": [
    "8. What are the values of the following expressions?\n",
    "+ &#39;Remember, remember, the fifth of July.&#39;.split()\n",
    "+ &#39;-&#39;.join(&#39;There can only one.&#39;.split())"
   ]
  },
  {
   "cell_type": "code",
   "execution_count": 43,
   "id": "642a2eed-a2c7-40bb-a812-c0316df0ff28",
   "metadata": {},
   "outputs": [
    {
     "data": {
      "text/plain": [
       "['Remember,', 'remember,', 'the', 'fifth', 'of', 'july.']"
      ]
     },
     "execution_count": 43,
     "metadata": {},
     "output_type": "execute_result"
    }
   ],
   "source": [
    "'Remember, remember, the fifth of july.'.split()"
   ]
  },
  {
   "cell_type": "code",
   "execution_count": 44,
   "id": "c4668bf2-d9ba-4cea-b7b3-4b2dd46b1cd3",
   "metadata": {},
   "outputs": [
    {
     "data": {
      "text/plain": [
       "'there-can-only-one'"
      ]
     },
     "execution_count": 44,
     "metadata": {},
     "output_type": "execute_result"
    }
   ],
   "source": [
    "'-'.join('there can only one'.split())"
   ]
  },
  {
   "cell_type": "markdown",
   "id": "9f590e3a-8219-4ae9-919b-66642867f272",
   "metadata": {},
   "source": [
    "9. What are the methods for right-justifying, left-justifying, and centering a string?"
   ]
  },
  {
   "cell_type": "code",
   "execution_count": 48,
   "id": "92855681-ecd5-451c-95ae-7188d7adc900",
   "metadata": {},
   "outputs": [
    {
     "data": {
      "text/plain": [
       "'nitesh########################'"
      ]
     },
     "execution_count": 48,
     "metadata": {},
     "output_type": "execute_result"
    }
   ],
   "source": [
    "'nitesh'.ljust(30,'#')"
   ]
  },
  {
   "cell_type": "code",
   "execution_count": 49,
   "id": "d50d4ca8-1e7b-47ea-8dff-7c53880c33da",
   "metadata": {},
   "outputs": [
    {
     "data": {
      "text/plain": [
       "'########################nitesh'"
      ]
     },
     "execution_count": 49,
     "metadata": {},
     "output_type": "execute_result"
    }
   ],
   "source": [
    "'nitesh'.rjust(30,'#')"
   ]
  },
  {
   "cell_type": "code",
   "execution_count": 51,
   "id": "6be36250-ab14-4ccc-9022-d61d5afb963c",
   "metadata": {},
   "outputs": [
    {
     "data": {
      "text/plain": [
       "'############nitesh############'"
      ]
     },
     "execution_count": 51,
     "metadata": {},
     "output_type": "execute_result"
    }
   ],
   "source": [
    "'nitesh'.center(30,'#')"
   ]
  },
  {
   "cell_type": "markdown",
   "id": "ed83e063-28d8-4f02-afcb-8666828c826e",
   "metadata": {},
   "source": [
    "10. What is the best way to remove whitespace characters from the start or end?"
   ]
  },
  {
   "cell_type": "code",
   "execution_count": null,
   "id": "9af4a49f-73dd-4b74-a4f2-a0b6989f8ad0",
   "metadata": {},
   "outputs": [],
   "source": [
    "string.strip()"
   ]
  }
 ],
 "metadata": {
  "kernelspec": {
   "display_name": "Python 3 (ipykernel)",
   "language": "python",
   "name": "python3"
  },
  "language_info": {
   "codemirror_mode": {
    "name": "ipython",
    "version": 3
   },
   "file_extension": ".py",
   "mimetype": "text/x-python",
   "name": "python",
   "nbconvert_exporter": "python",
   "pygments_lexer": "ipython3",
   "version": "3.9.7"
  }
 },
 "nbformat": 4,
 "nbformat_minor": 5
}
