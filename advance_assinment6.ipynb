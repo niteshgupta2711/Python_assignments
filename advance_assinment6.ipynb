{
 "cells": [
  {
   "cell_type": "markdown",
   "id": "9a93c3ad",
   "metadata": {},
   "source": [
    "Q1. Describe three applications for exception processing.\n",
    "\n",
    "Q2. What happens if you don&#39;t do something extra to treat an exception?\n",
    "\n",
    "Q3. What are your options for recovering from an exception in your script?\n",
    "\n",
    "Q4. Describe two methods for triggering exceptions in your script.\n",
    "\n",
    "Q5. Identify two methods for specifying actions to be executed at termination time, regardless of\n",
    "whether or not an exception exists."
   ]
  },
  {
   "cell_type": "code",
   "execution_count": 1,
   "id": "4eb4535e",
   "metadata": {},
   "outputs": [],
   "source": [
    "# exception processing is for runtime errors not compile time errors"
   ]
  },
  {
   "cell_type": "code",
   "execution_count": 2,
   "id": "0e5b462a",
   "metadata": {},
   "outputs": [],
   "source": [
    "# entire program will stop and the application stops "
   ]
  },
  {
   "cell_type": "code",
   "execution_count": null,
   "id": "591ec7c3",
   "metadata": {},
   "outputs": [],
   "source": [
    "# using\n",
    "try:\n",
    "except:\n",
    "else:\n",
    "finally:\n",
    "# te for code lines can be written in every block of code to handle exceptions even these can be nested "
   ]
  },
  {
   "cell_type": "code",
   "execution_count": 3,
   "id": "4fe6e55b",
   "metadata": {},
   "outputs": [
    {
     "name": "stdout",
     "output_type": "stream",
     "text": [
      "name 'a' is not defined\n"
     ]
    }
   ],
   "source": [
    "try:\n",
    "    a<3\n",
    "except Exception as e:\n",
    "    print(e)\n",
    "    "
   ]
  },
  {
   "cell_type": "code",
   "execution_count": 4,
   "id": "812315e1",
   "metadata": {},
   "outputs": [
    {
     "name": "stdout",
     "output_type": "stream",
     "text": [
      "hello\n"
     ]
    }
   ],
   "source": [
    "try:\n",
    "    b=56\n",
    "    b+[34,34]\n",
    "except Exception as e:\n",
    "    print('hello')"
   ]
  },
  {
   "cell_type": "code",
   "execution_count": null,
   "id": "69bcddf4",
   "metadata": {},
   "outputs": [],
   "source": [
    "# Finally block always executes irrespective of an exception being thrown or not. "
   ]
  }
 ],
 "metadata": {
  "kernelspec": {
   "display_name": "Python 3 (ipykernel)",
   "language": "python",
   "name": "python3"
  },
  "language_info": {
   "codemirror_mode": {
    "name": "ipython",
    "version": 3
   },
   "file_extension": ".py",
   "mimetype": "text/x-python",
   "name": "python",
   "nbconvert_exporter": "python",
   "pygments_lexer": "ipython3",
   "version": "3.9.7"
  }
 },
 "nbformat": 4,
 "nbformat_minor": 5
}
