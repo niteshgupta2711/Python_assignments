{
 "cells": [
  {
   "cell_type": "markdown",
   "id": "b2da79f5-6c72-40b4-a8a4-8d0838a12258",
   "metadata": {},
   "source": [
    "1. What does an empty dictionary&#39;s code look like?"
   ]
  },
  {
   "cell_type": "code",
   "execution_count": 1,
   "id": "46d85ee8-55b2-4566-aa22-0b474aaf2112",
   "metadata": {},
   "outputs": [],
   "source": [
    "d={}\n",
    "d1=dict()"
   ]
  },
  {
   "cell_type": "code",
   "execution_count": 2,
   "id": "98352755-31c6-4e26-a0c9-d6357fe4266a",
   "metadata": {},
   "outputs": [
    {
     "data": {
      "text/plain": [
       "dict"
      ]
     },
     "execution_count": 2,
     "metadata": {},
     "output_type": "execute_result"
    }
   ],
   "source": [
    "type(d)"
   ]
  },
  {
   "cell_type": "markdown",
   "id": "78e4afba-da68-4721-a790-cc33daf8c3de",
   "metadata": {},
   "source": [
    "` this is how empty dict looks like`"
   ]
  },
  {
   "cell_type": "markdown",
   "id": "a401f098-aca9-4768-a6d7-e525f2734ad7",
   "metadata": {},
   "source": [
    "2. What is the value of a dictionary value with the key &#39;foo&#39; and the value 42?"
   ]
  },
  {
   "cell_type": "code",
   "execution_count": 3,
   "id": "ce326f87-31d4-4607-9518-b2c590175bec",
   "metadata": {},
   "outputs": [
    {
     "name": "stdout",
     "output_type": "stream",
     "text": [
      "{'foo': 42}\n"
     ]
    }
   ],
   "source": [
    "d={'foo':42}\n",
    "print(d)"
   ]
  },
  {
   "cell_type": "markdown",
   "id": "97496a2f-6281-4be1-ae21-9c1a9180bd3b",
   "metadata": {},
   "source": [
    "`the above shows the value`"
   ]
  },
  {
   "cell_type": "markdown",
   "id": "b1f5527b-255a-4dbf-a7e7-90bed750e1d1",
   "metadata": {},
   "source": [
    "3. What is the most significant distinction between a dictionary and a list?"
   ]
  },
  {
   "cell_type": "markdown",
   "id": "d931f4ac-1e8c-49c0-8501-1be0142ed7ab",
   "metadata": {},
   "source": [
    "+ `Both dictionary and list have O(1) time in accessing the elements`\n",
    "+ `The reason is their indexes`\n",
    "+ `In dict the indexes are keys, And in lists the indexes are 0,1,2etc which same as dict act as keys for list`"
   ]
  },
  {
   "cell_type": "markdown",
   "id": "7f49d906-e64a-4fc9-aa7e-15bec23ca305",
   "metadata": {},
   "source": [
    "4. What happens if you try to access spam[&#39;foo&#39;] if spam is {&#39;bar&#39;: 100}?"
   ]
  },
  {
   "cell_type": "code",
   "execution_count": 4,
   "id": "db36144f-9ed1-4b0d-9809-cd602545bb72",
   "metadata": {},
   "outputs": [
    {
     "ename": "KeyError",
     "evalue": "'foo'",
     "output_type": "error",
     "traceback": [
      "\u001b[1;31m---------------------------------------------------------------------------\u001b[0m",
      "\u001b[1;31mKeyError\u001b[0m                                  Traceback (most recent call last)",
      "\u001b[1;32m~\\AppData\\Local\\Temp/ipykernel_6928/3380892657.py\u001b[0m in \u001b[0;36m<module>\u001b[1;34m\u001b[0m\n\u001b[0;32m      1\u001b[0m \u001b[0mspam\u001b[0m\u001b[1;33m=\u001b[0m\u001b[1;33m{\u001b[0m\u001b[1;34m'bae'\u001b[0m\u001b[1;33m:\u001b[0m\u001b[1;36m100\u001b[0m\u001b[1;33m}\u001b[0m\u001b[1;33m\u001b[0m\u001b[1;33m\u001b[0m\u001b[0m\n\u001b[1;32m----> 2\u001b[1;33m \u001b[0mspam\u001b[0m\u001b[1;33m[\u001b[0m\u001b[1;34m'foo'\u001b[0m\u001b[1;33m]\u001b[0m\u001b[1;33m\u001b[0m\u001b[1;33m\u001b[0m\u001b[0m\n\u001b[0m",
      "\u001b[1;31mKeyError\u001b[0m: 'foo'"
     ]
    }
   ],
   "source": [
    "spam={'bae':100}\n",
    "spam['foo']"
   ]
  },
  {
   "cell_type": "markdown",
   "id": "5f898e70-d996-421f-a9ac-fc84199e0364",
   "metadata": {},
   "source": [
    "` A key error has occured`\n",
    "+ `one can write `\n",
    "+ spam.get('foo')"
   ]
  },
  {
   "cell_type": "markdown",
   "id": "0a847d4d-e6d4-459c-b169-ddd36aa8a6b7",
   "metadata": {},
   "source": [
    "5. If a dictionary is stored in spam, what is the difference between the expressions &#39;cat&#39; in spam and\n",
    "&#39;cat&#39; in spam.keys()?"
   ]
  },
  {
   "cell_type": "code",
   "execution_count": 5,
   "id": "7a05cca5-04a1-43da-8583-6cfeb207015d",
   "metadata": {},
   "outputs": [],
   "source": [
    "spam={'cat':2}"
   ]
  },
  {
   "cell_type": "code",
   "execution_count": 6,
   "id": "98d17b94-f1ce-47d6-ad0a-a827d55ea6b3",
   "metadata": {},
   "outputs": [
    {
     "data": {
      "text/plain": [
       "True"
      ]
     },
     "execution_count": 6,
     "metadata": {},
     "output_type": "execute_result"
    }
   ],
   "source": [
    "'cat' in spam"
   ]
  },
  {
   "cell_type": "code",
   "execution_count": 7,
   "id": "27947737-f1f0-4ed3-87b9-534325f82485",
   "metadata": {},
   "outputs": [
    {
     "data": {
      "text/plain": [
       "True"
      ]
     },
     "execution_count": 7,
     "metadata": {},
     "output_type": "execute_result"
    }
   ],
   "source": [
    "'cat' in spam.keys()"
   ]
  },
  {
   "cell_type": "markdown",
   "id": "80ca8e9f-fa23-4fbb-a571-71bfc3c7618e",
   "metadata": {},
   "source": [
    "` IN BOTH THE CASES IT IS IETRATING OVER KEYS TO CHECK`"
   ]
  },
  {
   "cell_type": "markdown",
   "id": "d2e018d1-5d67-46c7-a82e-180bf349e4ad",
   "metadata": {},
   "source": [
    "6. If a dictionary is stored in spam, what is the difference between the expressions &#39;cat&#39; in spam and\n",
    "&#39;cat&#39; in spam.values()?"
   ]
  },
  {
   "cell_type": "code",
   "execution_count": 8,
   "id": "f4ccc2c3-2cfd-4dd4-94ef-5ca9555ae7c1",
   "metadata": {},
   "outputs": [],
   "source": [
    "spam={'cat':4}"
   ]
  },
  {
   "cell_type": "code",
   "execution_count": 9,
   "id": "b476cdf9-4fc1-4eb6-92a2-9652435364b8",
   "metadata": {},
   "outputs": [
    {
     "data": {
      "text/plain": [
       "True"
      ]
     },
     "execution_count": 9,
     "metadata": {},
     "output_type": "execute_result"
    }
   ],
   "source": [
    "'cat' in spam"
   ]
  },
  {
   "cell_type": "code",
   "execution_count": 10,
   "id": "217c202f-15fb-4ef2-972a-d520cf40dc72",
   "metadata": {},
   "outputs": [
    {
     "data": {
      "text/plain": [
       "False"
      ]
     },
     "execution_count": 10,
     "metadata": {},
     "output_type": "execute_result"
    }
   ],
   "source": [
    "'cat' in spam.values()"
   ]
  },
  {
   "cell_type": "markdown",
   "id": "cc6c9389-9ead-432d-82c4-1f46dbd8d10b",
   "metadata": {},
   "source": [
    "`cat in spam is iterating over keys, cat in spam.values() is iterating over values of dict`"
   ]
  },
  {
   "cell_type": "markdown",
   "id": "af4b6326-d07b-45f4-85a2-2f268a9d86ab",
   "metadata": {},
   "source": [
    "7. What is a shortcut for the following code?\n",
    "+ if &#39;color&#39; not in spam:\n",
    "+ spam[&#39;color&#39;] = &#39;black&#39;"
   ]
  },
  {
   "cell_type": "code",
   "execution_count": 25,
   "id": "bd9392ba-bafe-4e2b-9bf6-9488836ed640",
   "metadata": {},
   "outputs": [],
   "source": [
    "color=dict()\n",
    "if 'color' not in color:\n",
    "    color['color']='black'"
   ]
  },
  {
   "cell_type": "code",
   "execution_count": 30,
   "id": "c8ee4698-97fd-4064-901e-eb2433603c31",
   "metadata": {},
   "outputs": [
    {
     "data": {
      "text/plain": [
       "'black'"
      ]
     },
     "execution_count": 30,
     "metadata": {},
     "output_type": "execute_result"
    }
   ],
   "source": [
    "color.get('col','black')"
   ]
  },
  {
   "cell_type": "code",
   "execution_count": 31,
   "id": "b94c91bf-539b-47cd-9e88-91a305d97059",
   "metadata": {},
   "outputs": [],
   "source": [
    "color['color']='black'"
   ]
  },
  {
   "cell_type": "code",
   "execution_count": 32,
   "id": "a863052f-8964-4ecc-8029-e35d86453043",
   "metadata": {},
   "outputs": [],
   "source": [
    "import pprint"
   ]
  },
  {
   "cell_type": "code",
   "execution_count": 33,
   "id": "1c4cc918-08c7-41e5-a829-be894487ebae",
   "metadata": {},
   "outputs": [],
   "source": [
    "c={'k':2,'l':8,'kl':0}"
   ]
  },
  {
   "cell_type": "code",
   "execution_count": 34,
   "id": "5a9122e3-213c-480a-8708-8b73523e6360",
   "metadata": {},
   "outputs": [
    {
     "name": "stdout",
     "output_type": "stream",
     "text": [
      "{'k': 2, 'kl': 0, 'l': 8}\n"
     ]
    }
   ],
   "source": [
    "pprint.pprint(c)"
   ]
  },
  {
   "cell_type": "markdown",
   "id": "5efd41cb-2c0f-489f-8e73-fa51f377b318",
   "metadata": {},
   "source": [
    "8. How do you &quot;pretty print&quot; dictionary values using which module and function?"
   ]
  },
  {
   "cell_type": "code",
   "execution_count": 35,
   "id": "d349f078-7a8f-4b6e-906f-d5c78784468c",
   "metadata": {},
   "outputs": [],
   "source": [
    "# to import pretty print one imports pprint"
   ]
  },
  {
   "cell_type": "code",
   "execution_count": 36,
   "id": "a5bab3d8-c1a5-4178-8aa5-7df29d91a181",
   "metadata": {},
   "outputs": [],
   "source": [
    "import pprint"
   ]
  },
  {
   "cell_type": "markdown",
   "id": "dafbe137-f141-4dfc-97e4-8fa05f0b640a",
   "metadata": {},
   "source": [
    "`pprint.pprint() is the function`"
   ]
  },
  {
   "cell_type": "code",
   "execution_count": null,
   "id": "1c67e4f7-832c-4576-9944-460d6e98a1de",
   "metadata": {},
   "outputs": [],
   "source": []
  }
 ],
 "metadata": {
  "kernelspec": {
   "display_name": "Python 3 (ipykernel)",
   "language": "python",
   "name": "python3"
  },
  "language_info": {
   "codemirror_mode": {
    "name": "ipython",
    "version": 3
   },
   "file_extension": ".py",
   "mimetype": "text/x-python",
   "name": "python",
   "nbconvert_exporter": "python",
   "pygments_lexer": "ipython3",
   "version": "3.9.7"
  }
 },
 "nbformat": 4,
 "nbformat_minor": 5
}
