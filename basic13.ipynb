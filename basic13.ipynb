{
 "cells": [
  {
   "cell_type": "markdown",
   "id": "2b56b630",
   "metadata": {},
   "source": [
    "Question 1:\n",
    "Write a program that calculates and prints the value according to the given formula:\n",
    "Q = Square root of [(2 * C * D)/H]\n",
    "Following are the fixed values of C and H:\n",
    "C is 50. H is 30.\n",
    "D is the variable whose values should be input to your program in a comma-separated\n",
    "sequence.\n",
    "Example\n",
    "Let us assume the following comma separated input sequence is given to the program:\n",
    "100,150,180\n",
    "The output of the program should be:\n",
    "18,22,24\n",
    "\n",
    "Question 2:\n",
    "Write a program which takes 2 digits, X,Y as input and generates a 2-dimensional array. The\n",
    "element value in the i-th row and j-th column of the array should be i*j.\n",
    "Note: i=0,1.., X-1; j=0,1,¡Y-1.\n",
    "Example\n",
    "Suppose the following inputs are given to the program:\n",
    "3,5\n",
    "Then, the output of the program should be:\n",
    "[[0, 0, 0, 0, 0], [0, 1, 2, 3, 4], [0, 2, 4, 6, 8]]\n",
    "\n",
    "Question 3:\n",
    "Write a program that accepts a comma separated sequence of words as input and prints the\n",
    "words in a comma-separated sequence after sorting them alphabetically.\n",
    "Suppose the following input is supplied to the program:\n",
    "without,hello,bag,world\n",
    "Then, the output should be:\n",
    "bag,hello,without,world\n",
    "\n",
    "Question 4:\n",
    "Write a program that accepts a sequence of whitespace separated words as input and prints\n",
    "the words after removing all duplicate words and sorting them alphanumerically.\n",
    "Suppose the following input is supplied to the program:\n",
    "hello world and practice makes perfect and hello world again\n",
    "Then, the output should be:\n",
    "again and hello makes perfect practice world\n",
    "\n",
    "Question 5:\n",
    "Write a program that accepts a sentence and calculate the number of letters and digits.\n",
    "Suppose the following input is supplied to the program:\n",
    "hello world! 123\n",
    "Then, the output should be:\n",
    "LETTERS 10\n",
    "\n",
    "DIGITS 3\n",
    "\n",
    "Question 6:\n",
    "A website requires the users to input username and password to register. Write a program to\n",
    "check the validity of password input by users.\n",
    "Following are the criteria for checking the password:\n",
    "1. At least 1 letter between [a-z]\n",
    "2. At least 1 number between [0-9]\n",
    "1. At least 1 letter between [A-Z]\n",
    "3. At least 1 character from [$#@]\n",
    "4. Minimum length of transaction password: 6\n",
    "5. Maximum length of transaction password: 12\n",
    "Your program should accept a sequence of comma separated passwords and will check them\n",
    "according to the above criteria. Passwords that match the criteria are to be printed, each\n",
    "separated by a comma.\n",
    "Example\n",
    "If the following passwords are given as input to the program:\n",
    "ABd1234@1,a F1#,2w3E*,2We3345\n",
    "Then, the output of the program should be:\n",
    "ABd1234@1"
   ]
  },
  {
   "cell_type": "code",
   "execution_count": 1,
   "id": "3ff016f1",
   "metadata": {},
   "outputs": [],
   "source": [
    "c=50\n",
    "h=30\n",
    "d=None"
   ]
  },
  {
   "cell_type": "code",
   "execution_count": 3,
   "id": "17c172a5",
   "metadata": {},
   "outputs": [],
   "source": [
    "import math\n",
    "def func(d,c,h):\n",
    "    return math.sqrt((2*c*d)/h)"
   ]
  },
  {
   "cell_type": "code",
   "execution_count": 4,
   "id": "5d40b6ca",
   "metadata": {},
   "outputs": [
    {
     "data": {
      "text/plain": [
       "[18.257418583505537, 22.360679774997898, 24.49489742783178]"
      ]
     },
     "execution_count": 4,
     "metadata": {},
     "output_type": "execute_result"
    }
   ],
   "source": [
    "[func(d,50,30) for d in [100,150,180]]"
   ]
  },
  {
   "cell_type": "code",
   "execution_count": 14,
   "id": "a6832b86",
   "metadata": {},
   "outputs": [
    {
     "name": "stdout",
     "output_type": "stream",
     "text": [
      "enter number with space3 5\n"
     ]
    }
   ],
   "source": [
    "x,y=input('enter number with space').split()[:3]"
   ]
  },
  {
   "cell_type": "code",
   "execution_count": 15,
   "id": "a3db0f94",
   "metadata": {},
   "outputs": [],
   "source": [
    "import numpy as np"
   ]
  },
  {
   "cell_type": "code",
   "execution_count": 16,
   "id": "8cf84bf5",
   "metadata": {},
   "outputs": [
    {
     "data": {
      "text/plain": [
       "(3, 5)"
      ]
     },
     "execution_count": 16,
     "metadata": {},
     "output_type": "execute_result"
    }
   ],
   "source": [
    "k=np.zeros(shape=(int(x),int(y)))\n",
    "k.shape"
   ]
  },
  {
   "cell_type": "code",
   "execution_count": 22,
   "id": "b279f9b5",
   "metadata": {},
   "outputs": [],
   "source": [
    "for i in list(range(k.shape[0])):\n",
    "    for j in list(range(k.shape[1])):\n",
    "        \n",
    "\n",
    "        k[i,j]=i*j"
   ]
  },
  {
   "cell_type": "code",
   "execution_count": 23,
   "id": "e9d9baac",
   "metadata": {},
   "outputs": [
    {
     "data": {
      "text/plain": [
       "array([[0., 0., 0., 0., 0.],\n",
       "       [0., 1., 2., 3., 4.],\n",
       "       [0., 2., 4., 6., 8.]])"
      ]
     },
     "execution_count": 23,
     "metadata": {},
     "output_type": "execute_result"
    }
   ],
   "source": [
    "k"
   ]
  },
  {
   "cell_type": "code",
   "execution_count": 24,
   "id": "b43a2ff9",
   "metadata": {},
   "outputs": [
    {
     "name": "stdout",
     "output_type": "stream",
     "text": [
      "without,hello,bag,world\n"
     ]
    },
    {
     "data": {
      "text/plain": [
       "['bag', 'hello', 'without', 'world']"
      ]
     },
     "execution_count": 24,
     "metadata": {},
     "output_type": "execute_result"
    }
   ],
   "source": [
    "words=input().split(',')\n",
    "sorted(words)"
   ]
  },
  {
   "cell_type": "code",
   "execution_count": 25,
   "id": "4dafb8d4",
   "metadata": {},
   "outputs": [
    {
     "name": "stdout",
     "output_type": "stream",
     "text": [
      "hello world and practice makes perfect and hello world again\n"
     ]
    },
    {
     "data": {
      "text/plain": [
       "['again', 'and', 'hello', 'makes', 'perfect', 'practice', 'world']"
      ]
     },
     "execution_count": 25,
     "metadata": {},
     "output_type": "execute_result"
    }
   ],
   "source": [
    "words=input().split()\n",
    "sorted(list(set(words)))"
   ]
  },
  {
   "cell_type": "code",
   "execution_count": 26,
   "id": "166305a3",
   "metadata": {},
   "outputs": [],
   "source": [
    "import re"
   ]
  },
  {
   "cell_type": "code",
   "execution_count": 34,
   "id": "37fb4fdd",
   "metadata": {},
   "outputs": [
    {
     "name": "stdout",
     "output_type": "stream",
     "text": [
      "hello world! 123\n",
      "LETTERS 10 DIGITS 3\n"
     ]
    }
   ],
   "source": [
    "rep1=input()\n",
    "letters=re.findall(r'[a-zA-Z]+',rep1)\n",
    "letters=''.join(letters)\n",
    "numbers=re.findall(r'\\d',rep1)\n",
    "print(f'LETTERS {len(letters)} DIGITS {len(numbers)}')"
   ]
  },
  {
   "cell_type": "code",
   "execution_count": 28,
   "id": "eded3738",
   "metadata": {},
   "outputs": [
    {
     "data": {
      "text/plain": [
       "['t', 'h', 'i', 'i', 's', 'a', 't', 'e', 's', 't']"
      ]
     },
     "execution_count": 28,
     "metadata": {},
     "output_type": "execute_result"
    }
   ],
   "source": []
  },
  {
   "cell_type": "code",
   "execution_count": 42,
   "id": "5754529d",
   "metadata": {},
   "outputs": [
    {
     "name": "stdout",
     "output_type": "stream",
     "text": [
      "enter a passwordNitesh09@\n",
      "password is approved\n"
     ]
    }
   ],
   "source": [
    "passs=input(\"enter a password\")\n",
    "a=re.findall(r'[a-z]+',passs)\n",
    "b=re.findall(r'[A-Z]+',passs)\n",
    "c=re.findall(r'[0-9]+',passs)\n",
    "d=re.findall(r'[$#@]+',passs)\n",
    "if len(a)>=1 and len(b)>=1 and len(c)>=1 and len(d)>=1 and len(passs)>=6 and len(passs)<=12 and (not ',' in passs):\n",
    "    print('password is approved')\n"
   ]
  },
  {
   "cell_type": "code",
   "execution_count": 41,
   "id": "a261394f",
   "metadata": {},
   "outputs": [
    {
     "data": {
      "text/plain": [
       "['#']"
      ]
     },
     "execution_count": 41,
     "metadata": {},
     "output_type": "execute_result"
    }
   ],
   "source": []
  },
  {
   "cell_type": "code",
   "execution_count": null,
   "id": "bf0c4a71",
   "metadata": {},
   "outputs": [],
   "source": []
  }
 ],
 "metadata": {
  "kernelspec": {
   "display_name": "Python 3 (ipykernel)",
   "language": "python",
   "name": "python3"
  },
  "language_info": {
   "codemirror_mode": {
    "name": "ipython",
    "version": 3
   },
   "file_extension": ".py",
   "mimetype": "text/x-python",
   "name": "python",
   "nbconvert_exporter": "python",
   "pygments_lexer": "ipython3",
   "version": "3.9.7"
  }
 },
 "nbformat": 4,
 "nbformat_minor": 5
}
