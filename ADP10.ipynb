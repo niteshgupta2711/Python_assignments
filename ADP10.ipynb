{
 "cells": [
  {
   "cell_type": "markdown",
   "id": "5f64d3cb",
   "metadata": {},
   "source": [
    "1. Create a function that takes the width, height and character and returns a\n",
    "picture frame as a 2D list.\n",
    "Examples\n",
    "get_frame(4, 5, &quot;#&quot;) ➞ [\n",
    "[&quot;####&quot;],\n",
    "[&quot;# #&quot;],\n",
    "[&quot;# #&quot;],\n",
    "[&quot;# #&quot;],\n",
    "[&quot;####&quot;]\n",
    "]"
   ]
  },
  {
   "cell_type": "code",
   "execution_count": 3,
   "id": "24bf9251",
   "metadata": {},
   "outputs": [],
   "source": [
    "def get_frame(a,b,s):\n",
    "    return [[s*a] if i==0 or i==b-1 else [s+(\" \"*(b-2))+s] for i in range(b)]"
   ]
  },
  {
   "cell_type": "code",
   "execution_count": 4,
   "id": "71c3c5a8",
   "metadata": {},
   "outputs": [
    {
     "data": {
      "text/plain": [
       "[['####'], ['#   #'], ['#   #'], ['#   #'], ['####']]"
      ]
     },
     "execution_count": 4,
     "metadata": {},
     "output_type": "execute_result"
    }
   ],
   "source": [
    "get_frame(4,5,'#')"
   ]
  },
  {
   "cell_type": "markdown",
   "id": "73b67420",
   "metadata": {},
   "source": [
    "2. Write three functions:\n",
    "1. boolean_and\n",
    "2. boolean_or\n",
    "3. boolean_xor\n",
    "These functions should evaluate a list of True and False values, starting from\n",
    "the leftmost element and evaluating pairwise.\n",
    "Examples\n",
    "boolean_and([True, True, False, True]) ➞ False\n",
    "# [True, True, False, True] =&gt; [True, False, True] =&gt; [False, True] =&gt; False\n",
    "boolean_or([True, True, False, False]) ➞ True\n",
    "# [True, True, False, True] =&gt; [True, False, False] =&gt; [True, False] =&gt; True\n",
    "boolean_xor([True, True, False, False]) ➞ False\n",
    "# [True, True, False, False] =&gt; [False, False, False] =&gt; [False, False] =&gt;\n",
    "False"
   ]
  },
  {
   "cell_type": "code",
   "execution_count": 5,
   "id": "a6ec3ce0",
   "metadata": {},
   "outputs": [],
   "source": [
    "from functools import reduce"
   ]
  },
  {
   "cell_type": "code",
   "execution_count": 7,
   "id": "7bb0b30a",
   "metadata": {},
   "outputs": [],
   "source": [
    "def boolean_and(list1):\n",
    "    return reduce(lambda a,b:(a and b),list1)\n",
    "def boolean_or(list1):\n",
    "    return reduce(lambda a,b:(a or b),list1)\n",
    "def boolean_xor(list1):\n",
    "    return reduce(lambda a,b:(a^b),list1)\n"
   ]
  },
  {
   "cell_type": "code",
   "execution_count": 8,
   "id": "484f2e65",
   "metadata": {},
   "outputs": [
    {
     "data": {
      "text/plain": [
       "True"
      ]
     },
     "execution_count": 8,
     "metadata": {},
     "output_type": "execute_result"
    }
   ],
   "source": [
    "boolean_or([True, True, False, False])"
   ]
  },
  {
   "cell_type": "markdown",
   "id": "e86a3d84",
   "metadata": {},
   "source": [
    "3. Create a function that creates a box based on dimension n.\n",
    "Examples\n",
    "make_box(5) ➞ [\n",
    "&quot;#####&quot;,\n",
    "&quot;# #&quot;,\n",
    "&quot;# #&quot;,\n",
    "&quot;# #&quot;,\n",
    "&quot;#####&quot;\n",
    "]\n",
    "make_box(3) ➞ [\n",
    "&quot;###&quot;,\n",
    "&quot;# #&quot;,\n",
    "&quot;###&quot;\n",
    "]\n",
    "make_box(2) ➞ [\n",
    "&quot;##&quot;,\n",
    "&quot;##&quot;\n",
    "]"
   ]
  },
  {
   "cell_type": "code",
   "execution_count": 9,
   "id": "40a04624",
   "metadata": {},
   "outputs": [],
   "source": [
    "def get_frame_(a,b):\n",
    "    return [['#'*a] if i==0 or i==b-1 else ['#'+(\" \"*(b-2))+'#'] for i in range(b)]"
   ]
  },
  {
   "cell_type": "code",
   "execution_count": 10,
   "id": "7ea19b89",
   "metadata": {},
   "outputs": [
    {
     "data": {
      "text/plain": [
       "[['###'], ['# #'], ['###']]"
      ]
     },
     "execution_count": 10,
     "metadata": {},
     "output_type": "execute_result"
    }
   ],
   "source": [
    "get_frame_(3,3)"
   ]
  },
  {
   "cell_type": "markdown",
   "id": "a2067177",
   "metadata": {},
   "source": [
    "4. Given a common phrase, return False if any individual word in the phrase\n",
    "contains duplicate letters. Return True otherwise.\n",
    "Examples\n",
    "no_duplicate_letters(&quot;Fortune favours the bold.&quot;) ➞ True\n",
    "no_duplicate_letters(&quot;You can lead a horse to water, but you can&#39;t make him\n",
    "drink.&quot;) ➞ True\n",
    "no_duplicate_letters(&quot;Look before you leap.&quot;) ➞ False\n",
    "# Duplicate letters in &quot;Look&quot; and &quot;before&quot;.\n",
    "no_duplicate_letters(&quot;An apple a day keeps the doctor away.&quot;) ➞ False\n",
    "# Duplicate letters in &quot;apple&quot;, &quot;keeps&quot;, &quot;doctor&quot;, and &quot;away&quot;."
   ]
  },
  {
   "cell_type": "code",
   "execution_count": 11,
   "id": "80ab982f",
   "metadata": {},
   "outputs": [],
   "source": [
    "def dup(str1):\n",
    "    if len(list(set(str1)))==len(str1):\n",
    "        return True\n",
    "    else: return False"
   ]
  },
  {
   "cell_type": "code",
   "execution_count": 12,
   "id": "033114de",
   "metadata": {},
   "outputs": [],
   "source": [
    "def no_duplicate_letters(sent):\n",
    "    sent=sent.split()\n",
    "    return all([dup(x) for x in sent])"
   ]
  },
  {
   "cell_type": "code",
   "execution_count": 13,
   "id": "9f254791",
   "metadata": {},
   "outputs": [
    {
     "data": {
      "text/plain": [
       "True"
      ]
     },
     "execution_count": 13,
     "metadata": {},
     "output_type": "execute_result"
    }
   ],
   "source": [
    "no_duplicate_letters('Fortune favours the bold.')"
   ]
  },
  {
   "cell_type": "markdown",
   "id": "8d145f13",
   "metadata": {},
   "source": [
    "5. Write a regular expression that will match the states that voted yes to\n",
    "President Trump&#39;s impeachment. You must use RegEx positive lookahead.\n",
    "Example\n",
    "txt = &quot;Texas = no, California = yes, Florida = yes, Michigan = no&quot;\n",
    "pattern = &quot;yourregularexpressionhere&quot;\n",
    "re.findall(pattern, txt) ➞ [&quot;California&quot;, &quot;Florida&quot;]"
   ]
  },
  {
   "cell_type": "code",
   "execution_count": 16,
   "id": "56f1a68a",
   "metadata": {},
   "outputs": [],
   "source": [
    "txt = \"Texas = no, California = yes, Florida = yes, Michigan = no\"\n",
    "import re"
   ]
  },
  {
   "cell_type": "code",
   "execution_count": 18,
   "id": "92ddfde3",
   "metadata": {},
   "outputs": [
    {
     "data": {
      "text/plain": [
       "['California ', 'Florida ']"
      ]
     },
     "execution_count": 18,
     "metadata": {},
     "output_type": "execute_result"
    }
   ],
   "source": [
    "[x.split('=')[0] for x in re.findall('[a-zA-Z]+ = yes',txt)]"
   ]
  },
  {
   "cell_type": "code",
   "execution_count": null,
   "id": "a65fdccf",
   "metadata": {},
   "outputs": [],
   "source": []
  }
 ],
 "metadata": {
  "kernelspec": {
   "display_name": "Python 3 (ipykernel)",
   "language": "python",
   "name": "python3"
  },
  "language_info": {
   "codemirror_mode": {
    "name": "ipython",
    "version": 3
   },
   "file_extension": ".py",
   "mimetype": "text/x-python",
   "name": "python",
   "nbconvert_exporter": "python",
   "pygments_lexer": "ipython3",
   "version": "3.9.7"
  }
 },
 "nbformat": 4,
 "nbformat_minor": 5
}
