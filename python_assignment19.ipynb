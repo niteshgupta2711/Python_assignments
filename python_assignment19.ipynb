{
 "cells": [
  {
   "cell_type": "markdown",
   "id": "de69a964",
   "metadata": {},
   "source": [
    "1. Make a class called Thing with no contents and print it. Then, create an object called example\n",
    "from this class and also print it. Are the printed values the same or different?\n",
    "2. Create a new class called Thing2 and add the value &#39;abc&#39; to the letters class attribute. Letters\n",
    "should be printed.\n",
    "3. Make yet another class called, of course, Thing3. This time, assign the value &#39;xyz&#39; to an instance\n",
    "(object) attribute called letters. Print letters. Do you need to make an object from the class to do\n",
    "this?\n",
    "4. Create an Element class with the instance attributes name, symbol, and number. Create a class\n",
    "object with the values &#39;Hydrogen,&#39; &#39;H,&#39; and 1.\n",
    "5. Make a dictionary with these keys and values: &#39;name&#39;: &#39;Hydrogen&#39;, &#39;symbol&#39;: &#39;H&#39;, &#39;number&#39;: 1. Then,\n",
    "create an object called hydrogen from class Element using this dictionary.\n",
    "6. For the Element class, define a method called dump() that prints the values of the object’s\n",
    "attributes (name, symbol, and number). Create the hydrogen object from this new definition and\n",
    "use dump() to print its attributes.\n",
    "7. Call print(hydrogen). In the definition of Element, change the name of method dump to __str__,\n",
    "create a new hydrogen object, and call print(hydrogen) again.\n",
    "8. Modify Element to make the attributes name, symbol, and number private. Define a getter\n",
    "property for each to return its value.\n",
    "9. Define three classes: Bear, Rabbit, and Octothorpe. For each, define only one method: eats(). This\n",
    "should return &#39;berries&#39; (Bear), &#39;clover&#39; (Rabbit), or &#39;campers&#39; (Octothorpe). Create one object from\n",
    "each and print what it eats.\n",
    "10. Define these classes: Laser, Claw, and SmartPhone. Each has only one method: does(). This\n",
    "returns &#39;disintegrate&#39; (Laser), &#39;crush&#39; (Claw), or &#39;ring&#39; (SmartPhone). Then, define the class Robot that\n",
    "has one instance (object) of each of these. Define a does() method for the Robot that prints what its\n",
    "component objects do."
   ]
  },
  {
   "cell_type": "code",
   "execution_count": 1,
   "id": "56e0b1b0",
   "metadata": {},
   "outputs": [],
   "source": [
    "class Thing:\n",
    "    pass"
   ]
  },
  {
   "cell_type": "code",
   "execution_count": 2,
   "id": "4829009e",
   "metadata": {},
   "outputs": [
    {
     "name": "stdout",
     "output_type": "stream",
     "text": [
      "<class '__main__.Thing'>\n"
     ]
    }
   ],
   "source": [
    "print(Thing)"
   ]
  },
  {
   "cell_type": "code",
   "execution_count": 3,
   "id": "49034545",
   "metadata": {},
   "outputs": [
    {
     "name": "stdout",
     "output_type": "stream",
     "text": [
      "<__main__.Thing object at 0x0000018CF48D0520>\n"
     ]
    }
   ],
   "source": [
    "a=Thing()\n",
    "print(a)"
   ]
  },
  {
   "cell_type": "code",
   "execution_count": 4,
   "id": "087eed9f",
   "metadata": {},
   "outputs": [],
   "source": [
    "class Thing2:\n",
    "    l=\"abc\""
   ]
  },
  {
   "cell_type": "code",
   "execution_count": 5,
   "id": "f654828e",
   "metadata": {},
   "outputs": [
    {
     "name": "stdout",
     "output_type": "stream",
     "text": [
      "abc\n"
     ]
    }
   ],
   "source": [
    "print(Thing2.l)"
   ]
  },
  {
   "cell_type": "code",
   "execution_count": 6,
   "id": "133309a2",
   "metadata": {},
   "outputs": [],
   "source": [
    "class Thing3:\n",
    "    def __init__(self):\n",
    "        self.b='xyz'"
   ]
  },
  {
   "cell_type": "code",
   "execution_count": 7,
   "id": "d4f04231",
   "metadata": {},
   "outputs": [],
   "source": [
    "t3=Thing3()"
   ]
  },
  {
   "cell_type": "code",
   "execution_count": 8,
   "id": "341864ec",
   "metadata": {},
   "outputs": [
    {
     "data": {
      "text/plain": [
       "'xyz'"
      ]
     },
     "execution_count": 8,
     "metadata": {},
     "output_type": "execute_result"
    }
   ],
   "source": [
    "t3.b"
   ]
  },
  {
   "cell_type": "code",
   "execution_count": 9,
   "id": "e49d1029",
   "metadata": {},
   "outputs": [],
   "source": [
    "class Element:\n",
    "    def __init__(self,name,symbol,number):\n",
    "        self.name=name\n",
    "        self.symbol=symbol\n",
    "        self.number=number"
   ]
  },
  {
   "cell_type": "code",
   "execution_count": 10,
   "id": "33864bce",
   "metadata": {},
   "outputs": [],
   "source": [
    "ee=Element(\"Hydrogen\",\"H\",1)"
   ]
  },
  {
   "cell_type": "code",
   "execution_count": 11,
   "id": "c77bf1c8",
   "metadata": {},
   "outputs": [
    {
     "data": {
      "text/plain": [
       "'Hydrogen'"
      ]
     },
     "execution_count": 11,
     "metadata": {},
     "output_type": "execute_result"
    }
   ],
   "source": [
    "ee.name"
   ]
  },
  {
   "cell_type": "code",
   "execution_count": 12,
   "id": "57ec8112",
   "metadata": {},
   "outputs": [
    {
     "data": {
      "text/plain": [
       "'H'"
      ]
     },
     "execution_count": 12,
     "metadata": {},
     "output_type": "execute_result"
    }
   ],
   "source": [
    "ee.symbol\n"
   ]
  },
  {
   "cell_type": "code",
   "execution_count": 13,
   "id": "e963f141",
   "metadata": {},
   "outputs": [
    {
     "data": {
      "text/plain": [
       "1"
      ]
     },
     "execution_count": 13,
     "metadata": {},
     "output_type": "execute_result"
    }
   ],
   "source": [
    "ee.number"
   ]
  },
  {
   "cell_type": "code",
   "execution_count": 14,
   "id": "65619283",
   "metadata": {},
   "outputs": [],
   "source": [
    "d={'name': 'Hydrogen', 'symbol': 'H', 'number': 1}"
   ]
  },
  {
   "cell_type": "code",
   "execution_count": 15,
   "id": "c077cd71",
   "metadata": {},
   "outputs": [],
   "source": [
    "class Element:\n",
    "    def __init__(self,d):\n",
    "        self.name=d['name']\n",
    "        self.symbol=d['symbol']\n",
    "        self.number=d['number']"
   ]
  },
  {
   "cell_type": "code",
   "execution_count": 16,
   "id": "c950c6fa",
   "metadata": {},
   "outputs": [],
   "source": [
    "class Element:\n",
    "    def __init__(self,d):\n",
    "        self.d=d\n",
    "        self.name=d['name']\n",
    "        self.symbol=d['symbol']\n",
    "        self.number=d['number']\n",
    "    def dump(self):\n",
    "        print(self.d)"
   ]
  },
  {
   "cell_type": "code",
   "execution_count": 26,
   "id": "be1408b8",
   "metadata": {},
   "outputs": [],
   "source": [
    "class Element:\n",
    "    def __init__(self,d):\n",
    "        self.d=d\n",
    "        self.name=d['name']\n",
    "        self.symbol=d['symbol']\n",
    "        self.number=d['number']\n",
    "    def __str__(self):\n",
    "        return str(self.d)"
   ]
  },
  {
   "cell_type": "code",
   "execution_count": 27,
   "id": "cd6de600",
   "metadata": {},
   "outputs": [],
   "source": [
    "hydrogen=Element(d)"
   ]
  },
  {
   "cell_type": "code",
   "execution_count": 28,
   "id": "f62aba93",
   "metadata": {},
   "outputs": [
    {
     "name": "stdout",
     "output_type": "stream",
     "text": [
      "{'name': 'Hydrogen', 'symbol': 'H', 'number': 1}\n"
     ]
    }
   ],
   "source": [
    "print(hydrogen)"
   ]
  },
  {
   "cell_type": "code",
   "execution_count": 29,
   "id": "40e41965",
   "metadata": {},
   "outputs": [],
   "source": [
    "class Element:\n",
    "    def __init__(self,d):\n",
    "        self.__d=d\n",
    "        self.__name=d['name']\n",
    "        self.__symbol=d['symbol']\n",
    "        self.__number=d['number']\n",
    "    def __str__(self):\n",
    "        return str(self.d)"
   ]
  },
  {
   "cell_type": "code",
   "execution_count": 30,
   "id": "50262270",
   "metadata": {},
   "outputs": [],
   "source": [
    "hydrogen=Element(d)"
   ]
  },
  {
   "cell_type": "code",
   "execution_count": 34,
   "id": "b442c335",
   "metadata": {},
   "outputs": [],
   "source": [
    "class Bear:\n",
    "    def eats(self):\n",
    "        print('berries')\n",
    "class Rabbit:\n",
    "    def eats(self):\n",
    "        print('clover')\n",
    "class Octothorpe:\n",
    "    def eats(self):\n",
    "        print('campers')"
   ]
  },
  {
   "cell_type": "code",
   "execution_count": 35,
   "id": "cc968ee3",
   "metadata": {},
   "outputs": [
    {
     "name": "stdout",
     "output_type": "stream",
     "text": [
      "berries\n",
      "clover\n",
      "campers\n"
     ]
    }
   ],
   "source": [
    "b=Bear().eats()\n",
    "r=Rabbit().eats()\n",
    "o=Octothorpe().eats()"
   ]
  },
  {
   "cell_type": "code",
   "execution_count": null,
   "id": "c148d667",
   "metadata": {},
   "outputs": [],
   "source": []
  }
 ],
 "metadata": {
  "kernelspec": {
   "display_name": "Python 3 (ipykernel)",
   "language": "python",
   "name": "python3"
  },
  "language_info": {
   "codemirror_mode": {
    "name": "ipython",
    "version": 3
   },
   "file_extension": ".py",
   "mimetype": "text/x-python",
   "name": "python",
   "nbconvert_exporter": "python",
   "pygments_lexer": "ipython3",
   "version": "3.9.7"
  }
 },
 "nbformat": 4,
 "nbformat_minor": 5
}
