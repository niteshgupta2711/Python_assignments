{
 "cells": [
  {
   "cell_type": "markdown",
   "id": "cdac164f",
   "metadata": {},
   "source": [
    "1. Write a Python program to check if the given number is a Disarium Number?\n",
    "2. Write a Python program to print all disarium numbers between 1 to 100?\n",
    "3. Write a Python program to check if the given number is Happy Number?\n",
    "4. Write a Python program to print all happy numbers between 1 and 100?\n",
    "5. Write a Python program to determine whether the given number is a Harshad Number?\n",
    "6. Write a Python program to print all pronic numbers between 1 and 100?"
   ]
  },
  {
   "cell_type": "code",
   "execution_count": 11,
   "id": "d5eb6824",
   "metadata": {},
   "outputs": [
    {
     "name": "stdout",
     "output_type": "stream",
     "text": [
      "Enter the Number to Check Disarium Number = 89\n",
      "The Sum of the Digits = 89\n",
      "\n",
      "89 is a Disarium Number.\n"
     ]
    }
   ],
   "source": [
    "Number = int(input(\"Enter the Number to Check Disarium Number = \"))\n",
    "length = len(str(Number))\n",
    "\n",
    "Temp = Number\n",
    "Sum = 0\n",
    "rem = 0\n",
    "\n",
    "while Temp > 0:\n",
    "    rem = Temp % 10\n",
    "    Sum = Sum + int(rem**length)\n",
    "    Temp = Temp // 10\n",
    "    length = length - 1\n",
    "\n",
    "print(\"The Sum of the Digits = %d\" %Sum)\n",
    "\n",
    "if Sum == Number:\n",
    "    print(\"\\n%d is a Disarium Number.\" %Number)\n",
    "else:\n",
    "    print(\"%d is Not a Disarium Number.\" %Number)"
   ]
  },
  {
   "cell_type": "code",
   "execution_count": 22,
   "id": "c0cf2512",
   "metadata": {},
   "outputs": [],
   "source": [
    "def disarium(Number):\n",
    "    length = len(str(Number))\n",
    "\n",
    "    Temp = Number\n",
    "    Sum = 0\n",
    "    rem = 0\n",
    "\n",
    "    while Temp > 0:\n",
    "        rem = Temp % 10\n",
    "        Sum = Sum + int(rem**length)\n",
    "        Temp = Temp // 10\n",
    "        length = length - 1\n",
    "\n",
    "    \n",
    "\n",
    "    if Sum == Number:\n",
    "        return True\n",
    "    \n",
    "    else:\n",
    "        return False"
   ]
  },
  {
   "cell_type": "code",
   "execution_count": 25,
   "id": "58f15e1b",
   "metadata": {},
   "outputs": [
    {
     "data": {
      "text/plain": [
       "True"
      ]
     },
     "execution_count": 25,
     "metadata": {},
     "output_type": "execute_result"
    }
   ],
   "source": [
    "disarium(89)"
   ]
  },
  {
   "cell_type": "code",
   "execution_count": 27,
   "id": "a541bc96",
   "metadata": {},
   "outputs": [
    {
     "name": "stdout",
     "output_type": "stream",
     "text": [
      "1\n",
      "2\n",
      "3\n",
      "4\n",
      "5\n",
      "6\n",
      "7\n",
      "8\n",
      "9\n",
      "89\n"
     ]
    }
   ],
   "source": [
    "for i in range(1,100):\n",
    "    if disarium(i):\n",
    "        print(i)"
   ]
  },
  {
   "cell_type": "code",
   "execution_count": 28,
   "id": "dffb0648",
   "metadata": {},
   "outputs": [],
   "source": [
    "class Solution(object):\n",
    "   def isHappy(self, n):\n",
    "      \"\"\"\n",
    "      :type n: int\n",
    "      :rtype: bool\n",
    "      \"\"\"\n",
    "      return self.solve(n,{})\n",
    "   def solve(self,n,visited):\n",
    "      if n == 1:\n",
    "         return True\n",
    "      if n in visited:\n",
    "         return False\n",
    "      visited[n]= 1\n",
    "      n = str(n)\n",
    "      l = list(n)\n",
    "      l = list(map(int,l))\n",
    "      temp = 0\n",
    "      for i in l:\n",
    "         temp += (i**2)\n",
    "      return self.solve(temp,visited)"
   ]
  },
  {
   "cell_type": "code",
   "execution_count": 29,
   "id": "70dae3b6",
   "metadata": {},
   "outputs": [
    {
     "name": "stdout",
     "output_type": "stream",
     "text": [
      "Is Happy: True\n"
     ]
    }
   ],
   "source": [
    "ob1 = Solution()\n",
    "op = ob1.isHappy(19)\n",
    "print(\"Is Happy:\",op)"
   ]
  },
  {
   "cell_type": "code",
   "execution_count": 35,
   "id": "707a142b",
   "metadata": {},
   "outputs": [],
   "source": [
    "def solve(n,visited):\n",
    "      if n == 1:\n",
    "         return True\n",
    "      if n in visited:\n",
    "         return False\n",
    "      visited[n]= 1\n",
    "      n = str(n)\n",
    "      l = list(n)\n",
    "      l = list(map(int,l))\n",
    "      temp = 0\n",
    "      for i in l:\n",
    "         temp += (i**2)\n",
    "      return solve(temp,visited)"
   ]
  },
  {
   "cell_type": "code",
   "execution_count": 36,
   "id": "08acd12c",
   "metadata": {},
   "outputs": [],
   "source": [
    " def isHappy(n):\n",
    "      \"\"\"\n",
    "      :type n: int\n",
    "      :rtype: bool\n",
    "      \"\"\"\n",
    "      return solve(n,{})"
   ]
  },
  {
   "cell_type": "code",
   "execution_count": 37,
   "id": "b38d3cb3",
   "metadata": {},
   "outputs": [
    {
     "name": "stdout",
     "output_type": "stream",
     "text": [
      "1\n",
      "7\n",
      "10\n",
      "13\n",
      "19\n",
      "23\n",
      "28\n",
      "31\n",
      "32\n",
      "44\n",
      "49\n",
      "68\n",
      "70\n",
      "79\n",
      "82\n",
      "86\n",
      "91\n",
      "94\n",
      "97\n"
     ]
    }
   ],
   "source": [
    "for i in range(100):\n",
    "    if isHappy(i):\n",
    "        print(i)"
   ]
  },
  {
   "cell_type": "code",
   "execution_count": 44,
   "id": "8b4a8980",
   "metadata": {},
   "outputs": [],
   "source": [
    "def harshad(num):\n",
    "    rem=sum=0\n",
    "    n = num   \n",
    "     \n",
    "#Calculates sum of digits    \n",
    "    while(num > 0):    \n",
    "        rem = num%10   \n",
    "        sum = sum + rem    \n",
    "        num = num//10    \n",
    "     \n",
    "# Checks whether the number is divisible by the sum of digits    \n",
    "    if(n%sum == 0):    \n",
    "           return True\n",
    "    else:    \n",
    "            return False"
   ]
  },
  {
   "cell_type": "code",
   "execution_count": 45,
   "id": "9db86531",
   "metadata": {},
   "outputs": [
    {
     "data": {
      "text/plain": [
       "True"
      ]
     },
     "execution_count": 45,
     "metadata": {},
     "output_type": "execute_result"
    }
   ],
   "source": [
    "harshad(2)"
   ]
  },
  {
   "cell_type": "code",
   "execution_count": 46,
   "id": "60f484ee",
   "metadata": {},
   "outputs": [
    {
     "name": "stdout",
     "output_type": "stream",
     "text": [
      "2\n",
      "6\n",
      "12\n",
      "20\n",
      "30\n",
      "42\n",
      "56\n",
      "72\n",
      "90\n",
      "110\n",
      "132\n",
      "156\n",
      "182\n",
      "210\n",
      "240\n",
      "272\n",
      "306\n",
      "342\n",
      "380\n",
      "420\n",
      "462\n",
      "506\n",
      "552\n",
      "600\n",
      "650\n",
      "702\n",
      "756\n",
      "812\n",
      "870\n",
      "930\n",
      "992\n",
      "1056\n",
      "1122\n",
      "1190\n",
      "1260\n",
      "1332\n",
      "1406\n",
      "1482\n",
      "1560\n",
      "1640\n",
      "1722\n",
      "1806\n",
      "1892\n",
      "1980\n",
      "2070\n",
      "2162\n",
      "2256\n",
      "2352\n",
      "2450\n",
      "2550\n",
      "2652\n",
      "2756\n",
      "2862\n",
      "2970\n",
      "3080\n",
      "3192\n",
      "3306\n",
      "3422\n",
      "3540\n",
      "3660\n",
      "3782\n",
      "3906\n",
      "4032\n",
      "4160\n",
      "4290\n",
      "4422\n",
      "4556\n",
      "4692\n",
      "4830\n",
      "4970\n",
      "5112\n",
      "5256\n",
      "5402\n",
      "5550\n",
      "5700\n",
      "5852\n",
      "6006\n",
      "6162\n",
      "6320\n",
      "6480\n",
      "6642\n",
      "6806\n",
      "6972\n",
      "7140\n",
      "7310\n",
      "7482\n",
      "7656\n",
      "7832\n",
      "8010\n",
      "8190\n",
      "8372\n",
      "8556\n",
      "8742\n",
      "8930\n",
      "9120\n",
      "9312\n",
      "9506\n",
      "9702\n",
      "9900\n"
     ]
    }
   ],
   "source": [
    "for i in range(1,100):\n",
    "    print(i*(i+1))"
   ]
  },
  {
   "cell_type": "code",
   "execution_count": null,
   "id": "3b64251d",
   "metadata": {},
   "outputs": [],
   "source": []
  }
 ],
 "metadata": {
  "kernelspec": {
   "display_name": "Python 3 (ipykernel)",
   "language": "python",
   "name": "python3"
  },
  "language_info": {
   "codemirror_mode": {
    "name": "ipython",
    "version": 3
   },
   "file_extension": ".py",
   "mimetype": "text/x-python",
   "name": "python",
   "nbconvert_exporter": "python",
   "pygments_lexer": "ipython3",
   "version": "3.9.7"
  }
 },
 "nbformat": 4,
 "nbformat_minor": 5
}
