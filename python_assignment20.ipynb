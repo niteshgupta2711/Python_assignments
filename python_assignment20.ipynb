{
 "cells": [
  {
   "cell_type": "markdown",
   "id": "0a94bbe3",
   "metadata": {},
   "source": [
    "1. Set the variable test1 to the string &#39;This is a test of the emergency text system,&#39; and save test1 to a\n",
    "file named test.txt.\n",
    "2. Read the contents of the file test.txt into the variable test2. Is there a difference between test 1\n",
    "and test 2?\n",
    "3. Create a CSV file called books.csv by using these lines:\n",
    "title,author,year\n",
    "The Weirdstone of Brisingamen,Alan Garner,1960\n",
    "Perdido Street Station,China Miéville,2000\n",
    "Thud!,Terry Pratchett,2005\n",
    "The Spellman Files,Lisa Lutz,2007\n",
    "Small Gods,Terry Pratchett,1992\n",
    "4. Use the sqlite3 module to create a SQLite database called books.db, and a table called books with\n",
    "these fields: title (text), author (text), and year (integer).\n",
    "5. Read books.csv and insert its data into the book table.\n",
    "6. Select and print the title column from the book table in alphabetical order.\n",
    "7. From the book table, select and print all columns in the order of publication.\n",
    "8. Use the sqlalchemy module to connect to the sqlite3 database books.db that you just made in\n",
    "exercise 6.\n",
    "9. Install the Redis server and the Python redis library (pip install redis) on your computer. Create a\n",
    "Redis hash called test with the fields count (1) and name (&#39;Fester Bestertester&#39;). Print all the fields for\n",
    "test.\n",
    "10. Increment the count field of test and print it."
   ]
  },
  {
   "cell_type": "code",
   "execution_count": 1,
   "id": "7b633647",
   "metadata": {},
   "outputs": [],
   "source": [
    "test1='This is a test of the emergency text system,'\n",
    "with open('test.txt','w') as f:\n",
    "    f.write(test1)"
   ]
  },
  {
   "cell_type": "code",
   "execution_count": 2,
   "id": "ed8dac73",
   "metadata": {},
   "outputs": [
    {
     "name": "stdout",
     "output_type": "stream",
     "text": [
      "This is a test of the emergency text system,\n"
     ]
    }
   ],
   "source": [
    "with open('test.txt') as f:\n",
    "    test2=f.read()\n",
    "    print(test2)"
   ]
  },
  {
   "cell_type": "code",
   "execution_count": 3,
   "id": "61dafc9f",
   "metadata": {},
   "outputs": [],
   "source": [
    "import csv"
   ]
  },
  {
   "cell_type": "code",
   "execution_count": 6,
   "id": "0e1c95cd",
   "metadata": {},
   "outputs": [],
   "source": [
    "with open('books.csv','w') as f:\n",
    "    w=csv.writer(f)\n",
    "    w.writerow(['title','author','year'])\n",
    "    w.writerow(['The Weirdstone of Brisingamen','Alan Garner',1960])\n",
    "    w.writerow(['Perdido Street Station','China Miéville',2000])\n",
    "    w.writerow(['Thud!','Terry Pratchett',2005])\n",
    "    w.writerows([['The Spellman Files','Lisa Lutz',2007 ],['Small Gods','Terry Pratchett',1992]])\n",
    "    "
   ]
  },
  {
   "cell_type": "code",
   "execution_count": 55,
   "id": "a9fed02a",
   "metadata": {},
   "outputs": [],
   "source": [
    "import sqlite3"
   ]
  },
  {
   "cell_type": "code",
   "execution_count": 56,
   "id": "68fd2eb2",
   "metadata": {},
   "outputs": [],
   "source": [
    "connection=sqlite3.connect('books.db')"
   ]
  },
  {
   "cell_type": "code",
   "execution_count": 57,
   "id": "8fa4597b",
   "metadata": {},
   "outputs": [],
   "source": [
    "cursor=connection.cursor()"
   ]
  },
  {
   "cell_type": "code",
   "execution_count": 58,
   "id": "4d9aff27",
   "metadata": {},
   "outputs": [
    {
     "data": {
      "text/plain": [
       "<sqlite3.Cursor at 0x183a8a9f2d0>"
      ]
     },
     "execution_count": 58,
     "metadata": {},
     "output_type": "execute_result"
    }
   ],
   "source": [
    "connection.execute(\"create table books (title text,author text,year integer)\")"
   ]
  },
  {
   "cell_type": "code",
   "execution_count": null,
   "id": "6596ffb5",
   "metadata": {},
   "outputs": [],
   "source": []
  },
  {
   "cell_type": "code",
   "execution_count": 63,
   "id": "5c73274f",
   "metadata": {},
   "outputs": [],
   "source": [
    "with open('books.csv') as f:\n",
    "    kl=f.read().split('\\n')[1:]\n",
    "    b=[s for s in kl if s!='']\n",
    "    for bl in b:\n",
    "        \n",
    "        vals=bl.split(',')\n",
    "        \n",
    "        connection.execute(\"insert into books (title,author,year) VALUES('{e}','{f}',{g})\".format(e=vals[0].replace(\" \",\"_\"),f=vals[1].replace(\" \",\"_\"),g=int(vals[2])))\n",
    "    connection.commit()"
   ]
  },
  {
   "cell_type": "code",
   "execution_count": 64,
   "id": "41094987",
   "metadata": {},
   "outputs": [],
   "source": [
    "cursor1=connection.execute('select * from books order by title')"
   ]
  },
  {
   "cell_type": "code",
   "execution_count": 66,
   "id": "10da9fac",
   "metadata": {},
   "outputs": [
    {
     "name": "stdout",
     "output_type": "stream",
     "text": [
      "('Perdido_Street_Station', 'China_Miéville', 2000)\n",
      "('Small_Gods', 'Terry_Pratchett', 1992)\n",
      "('The_Spellman_Files', 'Lisa_Lutz', 2007)\n",
      "('The_Weirdstone_of_Brisingamen', 'Alan_Garner', 1960)\n",
      "('Thud!', 'Terry_Pratchett', 2005)\n"
     ]
    }
   ],
   "source": [
    "for row in (cursor1):\n",
    "    print(row)"
   ]
  },
  {
   "cell_type": "code",
   "execution_count": 67,
   "id": "5453b668",
   "metadata": {},
   "outputs": [],
   "source": [
    "cursor2=connection.execute('select * from books order by year')"
   ]
  },
  {
   "cell_type": "code",
   "execution_count": 69,
   "id": "55397d00",
   "metadata": {},
   "outputs": [
    {
     "name": "stdout",
     "output_type": "stream",
     "text": [
      "('The_Weirdstone_of_Brisingamen', 'Alan_Garner', 1960)\n",
      "('Small_Gods', 'Terry_Pratchett', 1992)\n",
      "('Perdido_Street_Station', 'China_Miéville', 2000)\n",
      "('Thud!', 'Terry_Pratchett', 2005)\n",
      "('The_Spellman_Files', 'Lisa_Lutz', 2007)\n"
     ]
    }
   ],
   "source": [
    "for row in (cursor2):\n",
    "    print(row)"
   ]
  },
  {
   "cell_type": "code",
   "execution_count": 70,
   "id": "0f8c1cf2",
   "metadata": {},
   "outputs": [
    {
     "name": "stdout",
     "output_type": "stream",
     "text": [
      "Requirement already satisfied: SQLAlchemy in c:\\users\\nitesh\\anaconda3\\lib\\site-packages (1.4.22)\n",
      "Requirement already satisfied: greenlet!=0.4.17 in c:\\users\\nitesh\\anaconda3\\lib\\site-packages (from SQLAlchemy) (1.1.1)\n"
     ]
    }
   ],
   "source": [
    "!pip install SQLAlchemy\n"
   ]
  },
  {
   "cell_type": "code",
   "execution_count": 71,
   "id": "33b87a97",
   "metadata": {},
   "outputs": [],
   "source": [
    " import sqlalchemy"
   ]
  },
  {
   "cell_type": "code",
   "execution_count": 74,
   "id": "c13a4b79",
   "metadata": {},
   "outputs": [],
   "source": [
    "import sqlalchemy as db\n",
    "  \n",
    "engine = db.create_engine('sqlite:///books.db')"
   ]
  },
  {
   "cell_type": "code",
   "execution_count": 75,
   "id": "7cb3766e",
   "metadata": {},
   "outputs": [
    {
     "name": "stdout",
     "output_type": "stream",
     "text": [
      "Collecting redis\n",
      "  Downloading redis-4.3.1-py3-none-any.whl (241 kB)\n",
      "Collecting deprecated>=1.2.3\n",
      "  Using cached Deprecated-1.2.13-py2.py3-none-any.whl (9.6 kB)\n",
      "Requirement already satisfied: async-timeout>=4.0.2 in c:\\users\\nitesh\\anaconda3\\lib\\site-packages (from redis) (4.0.2)\n",
      "Requirement already satisfied: packaging>=20.4 in c:\\users\\nitesh\\anaconda3\\lib\\site-packages (from redis) (21.0)\n",
      "Requirement already satisfied: wrapt<2,>=1.10 in c:\\users\\nitesh\\anaconda3\\lib\\site-packages (from deprecated>=1.2.3->redis) (1.12.1)\n",
      "Requirement already satisfied: pyparsing>=2.0.2 in c:\\users\\nitesh\\anaconda3\\lib\\site-packages (from packaging>=20.4->redis) (3.0.4)\n",
      "Installing collected packages: deprecated, redis\n",
      "Successfully installed deprecated-1.2.13 redis-4.3.1\n"
     ]
    }
   ],
   "source": [
    "! pip install redis"
   ]
  },
  {
   "cell_type": "code",
   "execution_count": 84,
   "id": "94e415b3",
   "metadata": {},
   "outputs": [],
   "source": [
    "import redis\n",
    "\n",
    "r = redis.Redis(\n",
    "    host='localhost',\n",
    "    port=6379, \n",
    "    )\n",
    "count=1"
   ]
  },
  {
   "cell_type": "code",
   "execution_count": 92,
   "id": "e80d66ce",
   "metadata": {},
   "outputs": [
    {
     "name": "stdout",
     "output_type": "stream",
     "text": [
      "[b'Fester Bestertester']\n"
     ]
    }
   ],
   "source": [
    "r.hset('test', str(count),'Fester Bestertester')\n",
    "value = r.hvals('test')\n",
    "print(value)"
   ]
  },
  {
   "cell_type": "code",
   "execution_count": null,
   "id": "be83f321",
   "metadata": {},
   "outputs": [],
   "source": []
  }
 ],
 "metadata": {
  "kernelspec": {
   "display_name": "Python 3 (ipykernel)",
   "language": "python",
   "name": "python3"
  },
  "language_info": {
   "codemirror_mode": {
    "name": "ipython",
    "version": 3
   },
   "file_extension": ".py",
   "mimetype": "text/x-python",
   "name": "python",
   "nbconvert_exporter": "python",
   "pygments_lexer": "ipython3",
   "version": "3.9.7"
  }
 },
 "nbformat": 4,
 "nbformat_minor": 5
}
