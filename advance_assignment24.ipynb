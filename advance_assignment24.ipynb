{
 "cells": [
  {
   "cell_type": "markdown",
   "id": "b42b2172",
   "metadata": {},
   "source": [
    "Q1. Is it permissible to use several import statements to import the same module? What would the\n",
    "goal be? Can you think of a situation where it would be beneficial?\n",
    "\n",
    "Q2. What are some of a module&#39;s characteristics? (Name at least one.)\n",
    "\n",
    "Q3. Circular importing, such as when two modules import each other, can lead to dependencies and\n",
    "bugs that aren&#39;t visible. How can you go about creating a program that avoids mutual importing?\n",
    "\n",
    "Q4. Why is _ _all_ _ in Python?\n",
    "\n",
    "Q5. In what situation is it useful to refer to the _ _name_ _ attribute or the string &#39;_ _main_ _&#39;?\n",
    "\n",
    "Q6. What are some of the benefits of attaching a program counter to the RPN interpreter\n",
    "application, which interprets an RPN script line by line?\n",
    "\n",
    "Q7. What are the minimum expressions or statements (or both) that you&#39;d need to render a basic\n",
    "programming language like RPN primitive but complete— that is, capable of carrying out any\n",
    "computerised task theoretically possible?"
   ]
  },
  {
   "cell_type": "code",
   "execution_count": 1,
   "id": "9b2473ba",
   "metadata": {},
   "outputs": [],
   "source": [
    "# yes it is permissible to use several import statements to import the same module.\n",
    "# goal is to increase re-usability\n",
    "# It helps writing more readable and re-usable , more clean code in a modular fashion"
   ]
  },
  {
   "cell_type": "code",
   "execution_count": 2,
   "id": "58893b9e",
   "metadata": {},
   "outputs": [],
   "source": [
    "# modules are python scripts\n",
    "# and can access classes and func from other modules\n",
    "# these modules have their own env variables"
   ]
  },
  {
   "cell_type": "code",
   "execution_count": 3,
   "id": "5984ff97",
   "metadata": {},
   "outputs": [],
   "source": [
    "# to avoid such circular import keep dependencies edges in one direction , dont keep in loops"
   ]
  },
  {
   "cell_type": "markdown",
   "id": "b5b69199",
   "metadata": {},
   "source": [
    "### __all__\n",
    "### Python __all__ is a variable that can be set in the __init__.py file of a package. The __all__ variable is a list of strings that defines those symbols that are imported when a program does."
   ]
  },
  {
   "cell_type": "code",
   "execution_count": 5,
   "id": "67533733",
   "metadata": {},
   "outputs": [],
   "source": [
    "# In most of the programing lamguages\n",
    "# the code starts with main\n",
    "# everything with indentation 0 run in python\n",
    "# if we write __name__=='__main__' if we run that particular .py everything in __name__==\"__main__\" will be executed"
   ]
  },
  {
   "cell_type": "code",
   "execution_count": null,
   "id": "30fce186",
   "metadata": {},
   "outputs": [],
   "source": []
  }
 ],
 "metadata": {
  "kernelspec": {
   "display_name": "Python 3 (ipykernel)",
   "language": "python",
   "name": "python3"
  },
  "language_info": {
   "codemirror_mode": {
    "name": "ipython",
    "version": 3
   },
   "file_extension": ".py",
   "mimetype": "text/x-python",
   "name": "python",
   "nbconvert_exporter": "python",
   "pygments_lexer": "ipython3",
   "version": "3.9.7"
  }
 },
 "nbformat": 4,
 "nbformat_minor": 5
}
