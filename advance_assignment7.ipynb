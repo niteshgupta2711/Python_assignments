{
 "cells": [
  {
   "cell_type": "markdown",
   "id": "d1fc4167",
   "metadata": {},
   "source": [
    "Q1. What is the purpose of the try statement?\n",
    "\n",
    "Q2. What are the two most popular try statement variations?\n",
    "\n",
    "Q3. What is the purpose of the raise statement?\n",
    "\n",
    "Q4. What does the assert statement do, and what other statement is it like?\n",
    "\n",
    "Q5. What is the purpose of the with/as argument, and what other statement is it like?"
   ]
  },
  {
   "cell_type": "markdown",
   "id": "12f5799c",
   "metadata": {},
   "source": [
    "` the purpose of try statement is to handle exception code block !! when one knows that code can raise an exception we arite in try block`"
   ]
  },
  {
   "cell_type": "code",
   "execution_count": 1,
   "id": "2ff8062d",
   "metadata": {},
   "outputs": [
    {
     "ename": "SyntaxError",
     "evalue": "cannot assign to literal (Temp/ipykernel_8780/1902973602.py, line 2)",
     "output_type": "error",
     "traceback": [
      "\u001b[1;36m  File \u001b[1;32m\"C:\\Users\\Nitesh\\AppData\\Local\\Temp/ipykernel_8780/1902973602.py\"\u001b[1;36m, line \u001b[1;32m2\u001b[0m\n\u001b[1;33m    34=34\u001b[0m\n\u001b[1;37m    ^\u001b[0m\n\u001b[1;31mSyntaxError\u001b[0m\u001b[1;31m:\u001b[0m cannot assign to literal\n"
     ]
    }
   ],
   "source": [
    "try:\n",
    "    34=34\n",
    "except Exception as E:\n",
    "    pass"
   ]
  },
  {
   "cell_type": "code",
   "execution_count": 2,
   "id": "0446dd9a",
   "metadata": {},
   "outputs": [],
   "source": [
    "# we use exceptional handling for runtime errors not syntanticall errors as we can see"
   ]
  },
  {
   "cell_type": "code",
   "execution_count": 4,
   "id": "6b8ea3aa",
   "metadata": {},
   "outputs": [
    {
     "ename": "ValueError",
     "evalue": "2 is less than",
     "output_type": "error",
     "traceback": [
      "\u001b[1;31m---------------------------------------------------------------------------\u001b[0m",
      "\u001b[1;31mValueError\u001b[0m                                Traceback (most recent call last)",
      "\u001b[1;32m~\\AppData\\Local\\Temp/ipykernel_8780/2633067413.py\u001b[0m in \u001b[0;36m<module>\u001b[1;34m\u001b[0m\n\u001b[0;32m      1\u001b[0m \u001b[1;31m# the purpose of raise statement is to raise Exception in case you know your code block is going to have a logic gone wrong\u001b[0m\u001b[1;33m\u001b[0m\u001b[1;33m\u001b[0m\u001b[0m\n\u001b[0;32m      2\u001b[0m \u001b[1;32mif\u001b[0m \u001b[1;36m2\u001b[0m\u001b[1;33m<\u001b[0m\u001b[1;36m3\u001b[0m\u001b[1;33m:\u001b[0m\u001b[1;33m\u001b[0m\u001b[1;33m\u001b[0m\u001b[0m\n\u001b[1;32m----> 3\u001b[1;33m     \u001b[1;32mraise\u001b[0m \u001b[0mValueError\u001b[0m\u001b[1;33m(\u001b[0m\u001b[1;34m'2 is less than'\u001b[0m\u001b[1;33m)\u001b[0m\u001b[1;33m\u001b[0m\u001b[1;33m\u001b[0m\u001b[0m\n\u001b[0m",
      "\u001b[1;31mValueError\u001b[0m: 2 is less than"
     ]
    }
   ],
   "source": [
    "# the purpose of raise statement is to raise Exception in case you know your code block is going to have a logic gone wrong\n",
    "if 2<3:\n",
    "    raise ValueError('2 is less than')"
   ]
  },
  {
   "cell_type": "code",
   "execution_count": 6,
   "id": "863bf8c7",
   "metadata": {},
   "outputs": [
    {
     "ename": "AssertionError",
     "evalue": "",
     "output_type": "error",
     "traceback": [
      "\u001b[1;31m---------------------------------------------------------------------------\u001b[0m",
      "\u001b[1;31mAssertionError\u001b[0m                            Traceback (most recent call last)",
      "\u001b[1;32m~\\AppData\\Local\\Temp/ipykernel_8780/1812219001.py\u001b[0m in \u001b[0;36m<module>\u001b[1;34m\u001b[0m\n\u001b[0;32m      1\u001b[0m \u001b[1;31m# the assert statement looks for condition to be met the code forwards with execution other wise it raises an assertion eerro\u001b[0m\u001b[1;33m\u001b[0m\u001b[1;33m\u001b[0m\u001b[0m\n\u001b[1;32m----> 2\u001b[1;33m \u001b[1;32massert\u001b[0m \u001b[1;36m2\u001b[0m\u001b[1;33m>\u001b[0m\u001b[1;36m3\u001b[0m\u001b[1;33m\u001b[0m\u001b[1;33m\u001b[0m\u001b[0m\n\u001b[0m",
      "\u001b[1;31mAssertionError\u001b[0m: "
     ]
    }
   ],
   "source": [
    "# the assert statement looks for condition to be met the code forwards with execution other wise it raises an assertion eerro\n",
    "assert 2>3"
   ]
  },
  {
   "cell_type": "code",
   "execution_count": 7,
   "id": "b995c835",
   "metadata": {},
   "outputs": [],
   "source": [
    "# with statement opens a file or instantiates a class with an alias and can only be accesed within that indention block"
   ]
  },
  {
   "cell_type": "code",
   "execution_count": 14,
   "id": "d7e1d9d1",
   "metadata": {},
   "outputs": [],
   "source": [
    "with open(\"jj.txt\",'w') as f:\n",
    "    f.write('34')"
   ]
  },
  {
   "cell_type": "code",
   "execution_count": null,
   "id": "74295af9",
   "metadata": {},
   "outputs": [],
   "source": []
  }
 ],
 "metadata": {
  "kernelspec": {
   "display_name": "Python 3 (ipykernel)",
   "language": "python",
   "name": "python3"
  },
  "language_info": {
   "codemirror_mode": {
    "name": "ipython",
    "version": 3
   },
   "file_extension": ".py",
   "mimetype": "text/x-python",
   "name": "python",
   "nbconvert_exporter": "python",
   "pygments_lexer": "ipython3",
   "version": "3.9.7"
  }
 },
 "nbformat": 4,
 "nbformat_minor": 5
}
