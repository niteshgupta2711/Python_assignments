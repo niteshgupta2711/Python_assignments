{
 "cells": [
  {
   "cell_type": "markdown",
   "id": "d2edb10d",
   "metadata": {},
   "source": [
    "1. To what does a relative path refer?\n",
    "+ A relative path refers to a location that is relative to a current directory. Relative paths make use of two special symbols, a dot (.) and a double-dot (..), which translate into the current directory and the parent directory"
   ]
  },
  {
   "cell_type": "markdown",
   "id": "2f0c9e6f",
   "metadata": {},
   "source": [
    "2. What does an absolute path start with your operating system?\n"
   ]
  },
  {
   "cell_type": "code",
   "execution_count": 1,
   "id": "87cd4cfa",
   "metadata": {},
   "outputs": [],
   "source": [
    "import os\n"
   ]
  },
  {
   "cell_type": "code",
   "execution_count": 4,
   "id": "38429425",
   "metadata": {},
   "outputs": [
    {
     "data": {
      "text/plain": [
       "'C:\\\\Users\\\\Nitesh\\\\Desktop\\\\ALL_Python\\\\python_assignments'"
      ]
     },
     "execution_count": 4,
     "metadata": {},
     "output_type": "execute_result"
    }
   ],
   "source": [
    "os.path.abspath(\".\")"
   ]
  },
  {
   "cell_type": "markdown",
   "id": "1aff3998",
   "metadata": {},
   "source": [
    "3. What do the functions os.getcwd() and os.chdir() do?\n"
   ]
  },
  {
   "cell_type": "code",
   "execution_count": 6,
   "id": "397b58aa",
   "metadata": {},
   "outputs": [
    {
     "data": {
      "text/plain": [
       "'C:\\\\Users\\\\Nitesh\\\\Desktop\\\\ALL_Python\\\\python_assignments'"
      ]
     },
     "execution_count": 6,
     "metadata": {},
     "output_type": "execute_result"
    }
   ],
   "source": [
    "os.getcwd() \n",
    "# gets the current working directory\n",
    "#os.chdir()\n",
    "# given a path we can change the directory we are working"
   ]
  },
  {
   "cell_type": "markdown",
   "id": "9fb6d193",
   "metadata": {},
   "source": [
    "4. What are the . and .. folders?\n",
    "+ . is the current dir\n",
    "+ .. means a dir before the current"
   ]
  },
  {
   "cell_type": "markdown",
   "id": "75a5db15",
   "metadata": {},
   "source": [
    "5. In C:\\bacon\\eggs\\spam.txt, which part is the dir name, and which part is the base name?\n",
    "+ eggs is the dir name\n",
    "+ spam.txt is the base file"
   ]
  },
  {
   "cell_type": "markdown",
   "id": "4c6cbc68",
   "metadata": {},
   "source": [
    "6. What are the three “mode” arguments that can be passed to the open() function?\n",
    "  + open(path,\"r\")\n",
    "  + open(path,\"w\")\n",
    "  + open(path,\"a\")"
   ]
  },
  {
   "cell_type": "markdown",
   "id": "f7c6b030",
   "metadata": {},
   "source": [
    "7. What happens if an existing file is opened in write mode?\n",
    "+ If a file with the same name already exists, its contents are discarded and the file is treated as a new empty file."
   ]
  },
  {
   "cell_type": "markdown",
   "id": "62fb5ca6",
   "metadata": {},
   "source": [
    "8. How do you tell the difference between read() and readlines()?\n",
    " + file.read() gives the entire content of a file in string format\n",
    "+ .readlines() allows us to iterate over each line "
   ]
  },
  {
   "cell_type": "markdown",
   "id": "6e6dd76f",
   "metadata": {},
   "source": [
    "What data structure does a shelf value resemble?\n",
    "A shelf value resembles a dictionary value; it has keys and values, along with keys() and values() methods that work similarly to the dictionary methods of the same names."
   ]
  },
  {
   "cell_type": "code",
   "execution_count": null,
   "id": "460627eb",
   "metadata": {},
   "outputs": [],
   "source": []
  }
 ],
 "metadata": {
  "kernelspec": {
   "display_name": "Python 3 (ipykernel)",
   "language": "python",
   "name": "python3"
  },
  "language_info": {
   "codemirror_mode": {
    "name": "ipython",
    "version": 3
   },
   "file_extension": ".py",
   "mimetype": "text/x-python",
   "name": "python",
   "nbconvert_exporter": "python",
   "pygments_lexer": "ipython3",
   "version": "3.9.7"
  }
 },
 "nbformat": 4,
 "nbformat_minor": 5
}
