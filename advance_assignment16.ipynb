{
 "cells": [
  {
   "cell_type": "markdown",
   "id": "570d89a3",
   "metadata": {},
   "source": [
    "Q1. What is the benefit of regular expressions?\n",
    "\n",
    "Q2. Describe the difference between the effects of &quot;(ab)c+&quot; and &quot;a(bc)+.&quot; Which of these, if any, is the\n",
    "unqualified pattern &quot;abc+&quot;?\n",
    "\n",
    "Q3. How much do you need to use the following sentence while using regular expressions?\n",
    "\n",
    "import re\n",
    "\n",
    "Q4. Which characters have special significance in square brackets when expressing a range, and\n",
    "under what circumstances?\n",
    "\n",
    "Q5. How does compiling a regular-expression object benefit you?\n",
    "\n",
    "Q6. What are some examples of how to use the match object returned by re.match and re.search?\n",
    "\n",
    "Q7. What is the difference between using a vertical bar (|) as an alteration and using square brackets\n",
    "as a character set?\n",
    "\n",
    "Q8. In regular-expression search patterns, why is it necessary to use the raw-string indicator (r)? In  \n",
    "replacement strings?"
   ]
  },
  {
   "cell_type": "code",
   "execution_count": 3,
   "id": "6f2e0989",
   "metadata": {},
   "outputs": [],
   "source": [
    "import re\n",
    "# regular expressions helps to extract useful pattern from corpus of string"
   ]
  },
  {
   "cell_type": "code",
   "execution_count": 9,
   "id": "9a84642b",
   "metadata": {},
   "outputs": [
    {
     "data": {
      "text/plain": [
       "['bc', 'bc']"
      ]
     },
     "execution_count": 9,
     "metadata": {},
     "output_type": "execute_result"
    }
   ],
   "source": [
    "pattern=r'a(bc)+'\n",
    "re.findall(pattern,\"abccccabccc nitesh\")"
   ]
  },
  {
   "cell_type": "code",
   "execution_count": 7,
   "id": "2e094a16",
   "metadata": {},
   "outputs": [],
   "source": [
    "# () represents extraction pattern"
   ]
  },
  {
   "cell_type": "code",
   "execution_count": 10,
   "id": "7abc3fd3",
   "metadata": {},
   "outputs": [],
   "source": [
    "# chraters which are significant in range of brackets\n",
    "#[a-zA-Z0-9.] and ^ to include not in inside brackets"
   ]
  },
  {
   "cell_type": "code",
   "execution_count": 13,
   "id": "922c8514",
   "metadata": {},
   "outputs": [
    {
     "name": "stdout",
     "output_type": "stream",
     "text": [
      "['TP', 'TP']\n",
      "['TP']\n"
     ]
    }
   ],
   "source": [
    "import re\n",
    "pattern=re.compile('TP')\n",
    "result=pattern.findall('TP Tutorialspoint TP')\n",
    "print(result)\n",
    "result2=pattern.findall('TP is most popular tutorials site of India')\n",
    "print(result2)"
   ]
  },
  {
   "cell_type": "code",
   "execution_count": 14,
   "id": "ebf06eda",
   "metadata": {},
   "outputs": [
    {
     "name": "stdout",
     "output_type": "stream",
     "text": [
      "<re.Match object; span=(68, 74), match='string'>\n",
      "None\n",
      "<re.Match object; span=(0, 6), match='string'>\n",
      "<re.Match object; span=(0, 6), match='string'>\n"
     ]
    }
   ],
   "source": [
    "# import re module\n",
    "import re\n",
    "\n",
    "Substring ='string'\n",
    "\n",
    "\n",
    "String1 ='''We are learning regex with geeksforgeeks\n",
    "\t\tregex is very useful for string matching.\n",
    "\t\tIt is fast too.'''\n",
    "String2 ='''string We are learning regex with geeksforgeeks\n",
    "\t\tregex is very useful for string matching.\n",
    "\t\tIt is fast too.'''\n",
    "\n",
    "# Use of re.search() Method\n",
    "print(re.search(Substring, String1, re.IGNORECASE))\n",
    "# Use of re.match() Method\n",
    "print(re.match(Substring, String1, re.IGNORECASE))\n",
    "\n",
    "# Use of re.search() Method\n",
    "print(re.search(Substring, String2, re.IGNORECASE))\n",
    "# Use of re.match() Method\n",
    "print(re.match(Substring, String2, re.IGNORECASE))\n"
   ]
  },
  {
   "cell_type": "code",
   "execution_count": 16,
   "id": "03abe71f",
   "metadata": {},
   "outputs": [
    {
     "data": {
      "text/plain": [
       "['e',\n",
       " 'are',\n",
       " 'learning',\n",
       " 'regex',\n",
       " 'with',\n",
       " 'geeksforgeeks',\n",
       " 'regex',\n",
       " 'is',\n",
       " 'very',\n",
       " 'useful',\n",
       " 'for',\n",
       " 'string',\n",
       " 'matching',\n",
       " 't',\n",
       " 'is',\n",
       " 'fast',\n",
       " 'too']"
      ]
     },
     "execution_count": 16,
     "metadata": {},
     "output_type": "execute_result"
    }
   ],
   "source": [
    "re.findall(r'[a-z]+',String1)\n",
    "# the pip chracter is a or format"
   ]
  },
  {
   "cell_type": "code",
   "execution_count": 17,
   "id": "f50d48e1",
   "metadata": {},
   "outputs": [],
   "source": [
    "# using raw string gives pattern to re"
   ]
  },
  {
   "cell_type": "code",
   "execution_count": null,
   "id": "be5e4234",
   "metadata": {},
   "outputs": [],
   "source": []
  }
 ],
 "metadata": {
  "kernelspec": {
   "display_name": "Python 3 (ipykernel)",
   "language": "python",
   "name": "python3"
  },
  "language_info": {
   "codemirror_mode": {
    "name": "ipython",
    "version": 3
   },
   "file_extension": ".py",
   "mimetype": "text/x-python",
   "name": "python",
   "nbconvert_exporter": "python",
   "pygments_lexer": "ipython3",
   "version": "3.9.7"
  }
 },
 "nbformat": 4,
 "nbformat_minor": 5
}
