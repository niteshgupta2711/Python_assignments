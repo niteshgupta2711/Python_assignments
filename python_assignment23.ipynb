{
 "cells": [
  {
   "cell_type": "markdown",
   "id": "af07812a",
   "metadata": {},
   "source": [
    "1. What is the result of the code, and why?"
   ]
  },
  {
   "cell_type": "code",
   "execution_count": 1,
   "id": "98ed0d53",
   "metadata": {},
   "outputs": [],
   "source": [
    "def func(a, b=6, c=8):\n",
    "    print(a,b,c)"
   ]
  },
  {
   "cell_type": "code",
   "execution_count": 3,
   "id": "c489e25f",
   "metadata": {},
   "outputs": [
    {
     "name": "stdout",
     "output_type": "stream",
     "text": [
      "1 2 8\n"
     ]
    }
   ],
   "source": [
    "func(1,2)"
   ]
  },
  {
   "cell_type": "code",
   "execution_count": 4,
   "id": "7d345975",
   "metadata": {},
   "outputs": [],
   "source": [
    "# the results we see above are positional arguments and keyword arguemnts"
   ]
  },
  {
   "cell_type": "markdown",
   "id": "9ebd7c7c",
   "metadata": {},
   "source": [
    "2. What is the result of this code, and why?"
   ]
  },
  {
   "cell_type": "code",
   "execution_count": 5,
   "id": "ae532dd7",
   "metadata": {},
   "outputs": [],
   "source": [
    "def func(a, b, c=5):\n",
    "    print(a,b,c)"
   ]
  },
  {
   "cell_type": "code",
   "execution_count": 6,
   "id": "1735660e",
   "metadata": {},
   "outputs": [
    {
     "name": "stdout",
     "output_type": "stream",
     "text": [
      "1 2 3\n"
     ]
    }
   ],
   "source": [
    "func(1, c=3, b=2)"
   ]
  },
  {
   "cell_type": "code",
   "execution_count": 8,
   "id": "5b61c164",
   "metadata": {},
   "outputs": [],
   "source": [
    "# here we see keyword arguments in action\n",
    "# the parameter values are given within the func call"
   ]
  },
  {
   "cell_type": "markdown",
   "id": "e4d2c110",
   "metadata": {},
   "source": [
    "3. How about this code: what is its result, and why?"
   ]
  },
  {
   "cell_type": "code",
   "execution_count": 9,
   "id": "847717de",
   "metadata": {},
   "outputs": [],
   "source": [
    "def func(a, *pargs):\n",
    "    print(a,pargs)"
   ]
  },
  {
   "cell_type": "code",
   "execution_count": 10,
   "id": "f0fc9559",
   "metadata": {},
   "outputs": [
    {
     "name": "stdout",
     "output_type": "stream",
     "text": [
      "1 (2, 3)\n"
     ]
    }
   ],
   "source": [
    "func(1, 2, 3)"
   ]
  },
  {
   "cell_type": "code",
   "execution_count": 11,
   "id": "9e42a7c2",
   "metadata": {},
   "outputs": [],
   "source": [
    "# args bind everything inside a tuple\n",
    "# * paramater intilizes the args paarmeter\n",
    "# its standard to write args after * but it is not cumpolsory\n",
    "# as we can see here the args inside a tuple are other two parameters in func call\n",
    "# this allows dev to pass any no of parameters in a function"
   ]
  },
  {
   "cell_type": "markdown",
   "id": "e9e7ef59",
   "metadata": {},
   "source": [
    "4. What does this code print, and why?\n"
   ]
  },
  {
   "cell_type": "code",
   "execution_count": 13,
   "id": "35c591d4",
   "metadata": {},
   "outputs": [],
   "source": [
    "def func(a, **kargs):\n",
    "    print(a, kargs)"
   ]
  },
  {
   "cell_type": "code",
   "execution_count": 14,
   "id": "534594c3",
   "metadata": {},
   "outputs": [
    {
     "name": "stdout",
     "output_type": "stream",
     "text": [
      "1 {'c': 3, 'b': 2}\n"
     ]
    }
   ],
   "source": [
    "func(a=1,c=3,b=2)"
   ]
  },
  {
   "cell_type": "code",
   "execution_count": 15,
   "id": "de99584a",
   "metadata": {},
   "outputs": [],
   "source": [
    "# the args passed in the function call as defined function you pass a positional arg then keywords\n",
    "# a=1 action as defined went to the variable a other parameters in function are binded in kwargs in form of dictionary"
   ]
  },
  {
   "cell_type": "markdown",
   "id": "ed4ce9d9",
   "metadata": {},
   "source": [
    "5. What gets printed by this, and explain?"
   ]
  },
  {
   "cell_type": "code",
   "execution_count": 16,
   "id": "2024d50e",
   "metadata": {},
   "outputs": [
    {
     "name": "stdout",
     "output_type": "stream",
     "text": [
      "1 5 6 5\n"
     ]
    }
   ],
   "source": [
    "def func(a, b, c=8, d=5): \n",
    "    print(a, b, c, d)\n",
    "func(1, *(5, 6))"
   ]
  },
  {
   "cell_type": "markdown",
   "id": "f3d6b223",
   "metadata": {},
   "source": [
    "+ '*' symbol can also be used to unpack elements from tuple given this as d=5 is already defined and (5,6) is unpacked and is passed as positional arguemnts"
   ]
  },
  {
   "cell_type": "markdown",
   "id": "f4d42290",
   "metadata": {},
   "source": [
    "6. what is the result of this, and explain?"
   ]
  },
  {
   "cell_type": "code",
   "execution_count": 17,
   "id": "cbb0b307",
   "metadata": {},
   "outputs": [],
   "source": [
    "def func(a, b, c):\n",
    "    a=2\n",
    "    b[0]='x'\n",
    "    c['a']='y'"
   ]
  },
  {
   "cell_type": "code",
   "execution_count": 18,
   "id": "2f7a80cc",
   "metadata": {},
   "outputs": [],
   "source": [
    "l=1\n",
    "m=[1]\n",
    "n={'a':0}"
   ]
  },
  {
   "cell_type": "code",
   "execution_count": 19,
   "id": "043823c1",
   "metadata": {},
   "outputs": [],
   "source": [
    "func(l,m,n)"
   ]
  },
  {
   "cell_type": "code",
   "execution_count": 21,
   "id": "091cd58d",
   "metadata": {},
   "outputs": [
    {
     "name": "stdout",
     "output_type": "stream",
     "text": [
      "1 ['x'] {'a': 'y'}\n"
     ]
    }
   ],
   "source": [
    "print(l,m,n)"
   ]
  },
  {
   "cell_type": "code",
   "execution_count": 22,
   "id": "f9124235",
   "metadata": {},
   "outputs": [],
   "source": [
    "# as we can see in func no matter what you pass in function call a first param it will always be 2 as given within"
   ]
  },
  {
   "cell_type": "code",
   "execution_count": null,
   "id": "71bd680e",
   "metadata": {},
   "outputs": [],
   "source": []
  }
 ],
 "metadata": {
  "kernelspec": {
   "display_name": "Python 3 (ipykernel)",
   "language": "python",
   "name": "python3"
  },
  "language_info": {
   "codemirror_mode": {
    "name": "ipython",
    "version": 3
   },
   "file_extension": ".py",
   "mimetype": "text/x-python",
   "name": "python",
   "nbconvert_exporter": "python",
   "pygments_lexer": "ipython3",
   "version": "3.9.7"
  }
 },
 "nbformat": 4,
 "nbformat_minor": 5
}
