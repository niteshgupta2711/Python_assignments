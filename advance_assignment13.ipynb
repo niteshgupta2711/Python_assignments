{
 "cells": [
  {
   "cell_type": "markdown",
   "id": "c8df67cd",
   "metadata": {},
   "source": [
    "Q1. Can you create a programme or function that employs both positive and negative indexing? Is\n",
    "there any repercussion if you do so?\n",
    "\n",
    "Q2. What is the most effective way of starting with 1,000 elements in a Python list? Assume that all\n",
    "elements should be set to the same value.\n",
    "\n",
    "Q3. How do you slice a list to get any other part while missing the rest? (For example, suppose you\n",
    "want to make a new list with the elements first, third, fifth, seventh, and so on.)\n",
    "\n",
    "Q4. Explain the distinctions between indexing and slicing.\n",
    "\n",
    "Q5. What happens if one of the slicing expression&#39;s indexes is out of range?\n",
    "\n",
    "Q6. If you pass a list to a function, and if you want the function to be able to change the values of the\n",
    "list—so that the list is different after the function returns—what action should you avoid?\n",
    "\n",
    "Q7. What is the concept of an unbalanced matrix?\n",
    "\n",
    "Q8. Why is it necessary to use either list comprehension or a loop to create arbitrarily large matrices?"
   ]
  },
  {
   "cell_type": "code",
   "execution_count": 1,
   "id": "07316f96",
   "metadata": {},
   "outputs": [],
   "source": [
    "# yes i can create a func that can take index of negative with no repercussion\n",
    "l=[1,2,3,4,5,7]"
   ]
  },
  {
   "cell_type": "code",
   "execution_count": 2,
   "id": "d950ae14",
   "metadata": {},
   "outputs": [
    {
     "data": {
      "text/plain": [
       "7"
      ]
     },
     "execution_count": 2,
     "metadata": {},
     "output_type": "execute_result"
    }
   ],
   "source": [
    "l[-1]"
   ]
  },
  {
   "cell_type": "code",
   "execution_count": 5,
   "id": "26c18443",
   "metadata": {},
   "outputs": [],
   "source": [
    "...\n",
    "l2=[1 for i in range(1000)]"
   ]
  },
  {
   "cell_type": "code",
   "execution_count": 7,
   "id": "1464e6c1",
   "metadata": {},
   "outputs": [],
   "source": [
    "# there is a flexibility to d that in lists by using step sizes in python list\n",
    "l3=l2[0::2]"
   ]
  },
  {
   "cell_type": "code",
   "execution_count": 8,
   "id": "5cfe8593",
   "metadata": {},
   "outputs": [],
   "source": [
    "# indexing gives you a particular element\n",
    "# where slicing gives you range of indexes values"
   ]
  },
  {
   "cell_type": "code",
   "execution_count": 9,
   "id": "caeb4b96",
   "metadata": {},
   "outputs": [],
   "source": [
    "# if one slicing numbers is out of range , no error will be shown , one will get all elements till last as usual"
   ]
  },
  {
   "cell_type": "code",
   "execution_count": 10,
   "id": "d4e949c5",
   "metadata": {},
   "outputs": [],
   "source": [
    "# it happens when it is an inplace algorithm that does that,, in order to avoid that you just create a copy and then return that"
   ]
  },
  {
   "cell_type": "code",
   "execution_count": 11,
   "id": "b01d53a3",
   "metadata": {},
   "outputs": [],
   "source": [
    "# list comprehensions are one line for loops , we also have dict comprehensions\n",
    "# set comprehension which provides the flexibility to to write on eline loops"
   ]
  },
  {
   "cell_type": "code",
   "execution_count": 12,
   "id": "9ce15957",
   "metadata": {},
   "outputs": [
    {
     "name": "stdout",
     "output_type": "stream",
     "text": [
      "Unbalanced\n"
     ]
    }
   ],
   "source": [
    "# Python3 program for the above approach\n",
    "# Define the size of the matrix\n",
    "N = 4\n",
    "M = 4\n",
    "\n",
    "# Function to check given matrix\n",
    "# balanced or unbalanced\n",
    "def balancedMatrix(mat):\n",
    "\t\n",
    "\t# Flag for check matrix is balanced\n",
    "\t# or unbalanced\n",
    "\tis_balanced = True\n",
    "\t\n",
    "\t# Iterate row until condition is true\n",
    "\ti = 0\n",
    "\twhile i < N and is_balanced:\n",
    "\t\t\n",
    "\t\t# Iterate cols until condition is true\n",
    "\t\tj = 0\n",
    "\t\twhile j < N and is_balanced:\n",
    "\t\t\t\n",
    "\t\t\t# Check for corner edge elements\n",
    "\t\t\tif ((i == 0 or i == N - 1) and\n",
    "\t\t\t\t(j == 0 or j == M - 1)):\n",
    "\t\t\t\tif mat[i][j] >= 2:\n",
    "\t\t\t\t\tisbalanced = False\n",
    "\t\t\t\n",
    "\t\t\t# Check for border elements\n",
    "\t\t\telif (i == 0 or i == N - 1 or\n",
    "\t\t\t\tj == 0 or j == M - 1):\n",
    "\t\t\t\tif mat[i][j] >= 3:\n",
    "\t\t\t\t\tis_balanced = False\n",
    "\t\t\t\t\t\n",
    "\t\t\t# Check for the middle ones\n",
    "\t\t\telse:\n",
    "\t\t\t\tif mat[i][j] >= 4:\n",
    "\t\t\t\t\tis_balanced = False\n",
    "\t\t\t\n",
    "\t\t\tj += 1\n",
    "\t\ti += 1\n",
    "\t\t\n",
    "\t# Return balanced or not\n",
    "\tif is_balanced:\n",
    "\t\treturn \"Balanced\"\n",
    "\telse:\n",
    "\t\treturn \"Unbalanced\"\n",
    "\t\n",
    "# Driver code\n",
    "\n",
    "# Given matrix mat[][]\n",
    "mat = [ [ 1, 2, 3, 4 ],\n",
    "\t\t[ 3, 5, 2, 6 ],\n",
    "\t\t[ 5, 3, 6, 1 ],\n",
    "\t\t[ 9, 5, 6, 0 ] ]\n",
    "\n",
    "# Function call\n",
    "print(balancedMatrix(mat))\n",
    "\n",
    "# This code is contributed by Stuti Pathak\n"
   ]
  },
  {
   "cell_type": "code",
   "execution_count": null,
   "id": "8f181981",
   "metadata": {},
   "outputs": [],
   "source": []
  }
 ],
 "metadata": {
  "kernelspec": {
   "display_name": "Python 3 (ipykernel)",
   "language": "python",
   "name": "python3"
  },
  "language_info": {
   "codemirror_mode": {
    "name": "ipython",
    "version": 3
   },
   "file_extension": ".py",
   "mimetype": "text/x-python",
   "name": "python",
   "nbconvert_exporter": "python",
   "pygments_lexer": "ipython3",
   "version": "3.9.7"
  }
 },
 "nbformat": 4,
 "nbformat_minor": 5
}
