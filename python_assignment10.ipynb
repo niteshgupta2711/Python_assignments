{
 "cells": [
  {
   "cell_type": "code",
   "execution_count": 2,
   "id": "6fd3a8ce",
   "metadata": {},
   "outputs": [],
   "source": [
    "import shutil\n",
    "import re\n",
    "import os"
   ]
  },
  {
   "cell_type": "markdown",
   "id": "9bb23ee7",
   "metadata": {},
   "source": [
    "1. How do you distinguish between shutil.copy() and shutil.copytree()?\n",
    "+ shutil.copy copies a particular file\n",
    "+ where as shutil.copytree() copies all files in a dir"
   ]
  },
  {
   "cell_type": "markdown",
   "id": "2a4573f9",
   "metadata": {},
   "source": [
    "2. What function is used to rename files??\n",
    "+ import os\n",
    "+ os.rename()\n",
    " + Syntax: os.rename(source, destination, *, src_dir_fd = None, dst_dir_fd = None)"
   ]
  },
  {
   "cell_type": "markdown",
   "id": "a4df35fa",
   "metadata": {},
   "source": [
    "3. What is the difference between the delete functions in the send2trash and shutil modules?\n",
    "+ The send2trash functions will move a file or folder to the recycle bin, while shutil functions will permanently delete files and folders.\n"
   ]
  },
  {
   "cell_type": "markdown",
   "id": "fd757a12",
   "metadata": {},
   "source": [
    "4.ZipFile objects have a close() method just like File objects’ close() method. What ZipFile method is\n",
    "equivalent to File objects’ open() method?\n",
    "+ The zipfile.ZipFile() function is equivalent to the open() function; the first argument is the filename, and the second argument is the mode to open the ZIP."
   ]
  },
  {
   "cell_type": "markdown",
   "id": "934cc3ac",
   "metadata": {},
   "source": [
    "5. Create a programme that searches a folder tree for files with a certain file extension (such as .pdf\n",
    "or .jpg). Copy these files from whatever location they are in to a new folder."
   ]
  },
  {
   "cell_type": "code",
   "execution_count": null,
   "id": "25084e7f",
   "metadata": {},
   "outputs": [],
   "source": [
    "def fi(path,extlist,desti):\n",
    "    for (root,dirs,files) in os.walk(path, topdown=True):\n",
    "        for file in files:\n",
    "            if file.split(\".\")[1] in extlist:\n",
    "                shutil.copy(os.path.join(root,dirs,files),os.path.join(desti,files))\n",
    "        \n",
    "        \n",
    "        \n",
    "    \n",
    "    \n",
    "    \n",
    "    "
   ]
  }
 ],
 "metadata": {
  "kernelspec": {
   "display_name": "Python 3 (ipykernel)",
   "language": "python",
   "name": "python3"
  },
  "language_info": {
   "codemirror_mode": {
    "name": "ipython",
    "version": 3
   },
   "file_extension": ".py",
   "mimetype": "text/x-python",
   "name": "python",
   "nbconvert_exporter": "python",
   "pygments_lexer": "ipython3",
   "version": "3.9.7"
  }
 },
 "nbformat": 4,
 "nbformat_minor": 5
}
