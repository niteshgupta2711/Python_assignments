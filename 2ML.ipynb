{
 "cells": [
  {
   "cell_type": "markdown",
   "id": "fb7c6cb6",
   "metadata": {},
   "source": [
    "1. What is the concept of human learning? Please give two examples.\n",
    "2. What different forms of human learning are there? Are there any machine learning equivalents?\n",
    "3. What is machine learning, and how does it work? What are the key responsibilities of machine\n",
    "learning?\n",
    "4. Define the terms &quot;penalty&quot; and &quot;reward&quot; in the context of reinforcement learning.\n",
    "5. Explain the term &quot;learning as a search&quot;?\n",
    "6. What are the various goals of machine learning? What is the relationship between these and\n",
    "human learning?\n",
    "7. Illustrate the various elements of machine learning using a real-life illustration.\n",
    "8. Provide an example of the abstraction method.\n",
    "9. What is the concept of generalization? What function does it play in the machine learning\n",
    "process?\n",
    "What is classification, exactly? What are the main distinctions between classification and regression?\n",
    "11. What is regression, and how does it work? Give an example of a real-world problem that was\n",
    "solved using regression.\n",
    "12. Describe the clustering mechanism in detail.\n",
    "13. Make brief observations on two of the following topics:\n",
    "\n",
    "i. Machine learning algorithms are used\n",
    "ii. Studying under supervision\n",
    "iii. Studying without supervision\n",
    "\n",
    "iv. Reinforcement learning is a form of learning based on positive reinforcement."
   ]
  },
  {
   "cell_type": "markdown",
   "id": "59863d41",
   "metadata": {},
   "source": [
    "## concept of human learning\n",
    "## human learns from senses lik e vision, sound , touch, poitive senses that get from doing a task, all senses working together to get a personised info\n",
    "## practise makes perfect , this concept actually is how a human brain function in most scenarios of long term exposure of same info agaian and again"
   ]
  },
  {
   "cell_type": "markdown",
   "id": "32ac0201",
   "metadata": {},
   "source": [
    "2. Different forms of human learning\n",
    " + human leanring learns from supervision, yes ML can use this.\n",
    " + human can learn from vision , yes Ml can use this\n",
    " + humans can learn from positive reinforemnt from surrounds usings all senses. (reinforcement learning)\n",
    "    "
   ]
  },
  {
   "cell_type": "markdown",
   "id": "697101a9",
   "metadata": {},
   "source": [
    "3. Ability of a machine to learn from experience(data exposure) is machine learning.\n",
    "   Ml fits to data given , make preditions\n",
    "    when i say fit  it means a algorithm is behind it  to take data and make proper prediction\n",
    "    or nn is behind it leaning from data given"
   ]
  },
  {
   "cell_type": "markdown",
   "id": "596ca53c",
   "metadata": {},
   "source": [
    "4. In reinforcement learning reward context is when  agent reaches a state where env provides it with positive number\n",
    " penalty is when agent is in a state where encv gives negative number"
   ]
  },
  {
   "cell_type": "markdown",
   "id": "13a04bac",
   "metadata": {},
   "source": [
    "5. learning as a search is a concept where we we are looking for hypothesis that best fits the data"
   ]
  },
  {
   "cell_type": "markdown",
   "id": "ce195565",
   "metadata": {},
   "source": [
    "6. machine learning goals:\n",
    "    to make most decisions where humans cant, or dont want to waste resource on\n",
    "    + goals differ from field to field\n",
    "    + in education ml goals to be finding similar students acording to their score to give dffernent leaning regime\n",
    "    or a learning app for teachers so that they know where students lack in and train students more on that\n",
    "    + in medical field detecting tumors , eye catarcts, prescribibg medications, moniotring health etc\n",
    "    list goes on from field to field"
   ]
  },
  {
   "cell_type": "markdown",
   "id": "e9d80fe5",
   "metadata": {},
   "source": [
    "7. real life ml implementations \n",
    "+ recommendation systems\n",
    "+ security cameras with helmet detection,\n",
    "+ chat bots\n",
    "+ voice assitant\n",
    "+ price detection etc"
   ]
  },
  {
   "cell_type": "code",
   "execution_count": 5,
   "id": "9470147c",
   "metadata": {},
   "outputs": [],
   "source": [
    "from abc import ABC ,abstractmethod"
   ]
  },
  {
   "cell_type": "code",
   "execution_count": 6,
   "id": "f96ecbe5",
   "metadata": {},
   "outputs": [],
   "source": [
    "class info(ABC):\n",
    "    @abstractmethod\n",
    "    def pos(self):\n",
    "        pass"
   ]
  },
  {
   "cell_type": "markdown",
   "id": "06ca2038",
   "metadata": {},
   "source": [
    "## concept of  generalization\n",
    "+ generalization in ml is model fitting to data and leaning from data\n",
    "+ In ML generalization is when parameters gets updated as model learns from data\n",
    "+ classification is supervised learning where model tries to poredict a discrete value\n",
    "+ regrssion predicst a continuos value"
   ]
  },
  {
   "cell_type": "markdown",
   "id": "92b05787",
   "metadata": {},
   "source": [
    "+ House price prediction\n",
    "+ regression is when a model tries to predict a continues value"
   ]
  },
  {
   "cell_type": "markdown",
   "id": "08e40fb4",
   "metadata": {},
   "source": [
    "## clustering\n",
    "+ clustering is grouping data based on data patterns found\n",
    "+ one either use Autoencoders to do this \n",
    "+ or various algorithms\n",
    "+ one clustering mechanism is Kmeans cllsutering\n",
    "+ lts say i want two clsuters from data\n",
    "+ two ranrom points are created in latent space \n",
    "+ neanest vectors average is taken from both random points\n",
    "+ and now averages are centers for data\n",
    "+ again we repeat taking nearest averages from centers\n",
    "+ we repeat it till center value to is converged to a single point\n",
    "\n"
   ]
  },
  {
   "cell_type": "markdown",
   "id": "23ea6f0e",
   "metadata": {},
   "source": [
    "## studying under supervision\n",
    "+ data labeled \n",
    "+ models learn from data under labelled tags and a cost function that supervises the model to tune model parameters  such that cost funtion reahes its global minima\n",
    "## reinforcement learning\n",
    " + a environment where an agent explores and gets rewrd or penalty based on action taken by that agent in a gievn state.\n",
    " + here long term posive rewards tune pearameters  of a model to taken an action given a state"
   ]
  },
  {
   "cell_type": "code",
   "execution_count": null,
   "id": "66f815df",
   "metadata": {},
   "outputs": [],
   "source": []
  }
 ],
 "metadata": {
  "kernelspec": {
   "display_name": "Python 3 (ipykernel)",
   "language": "python",
   "name": "python3"
  },
  "language_info": {
   "codemirror_mode": {
    "name": "ipython",
    "version": 3
   },
   "file_extension": ".py",
   "mimetype": "text/x-python",
   "name": "python",
   "nbconvert_exporter": "python",
   "pygments_lexer": "ipython3",
   "version": "3.9.7"
  }
 },
 "nbformat": 4,
 "nbformat_minor": 5
}
