{
 "cells": [
  {
   "cell_type": "markdown",
   "id": "1d84a370",
   "metadata": {},
   "source": [
    "1. Compare and contrast the float and Decimal classes&#39; benefits and drawbacks.\n",
    "\n",
    "2. Decimal(&#39;1.200&#39;) and Decimal(&#39;1.2&#39;) are two objects to consider. In what sense are these the same\n",
    "object? Are these just two ways of representing the exact same value, or do they correspond to\n",
    "different internal states?\n",
    "\n",
    "3. What happens if the equality of Decimal(&#39;1.200&#39;) and Decimal(&#39;1.2&#39;) is checked?\n",
    "\n",
    "4. Why is it preferable to start a Decimal object with a string rather than a floating-point value?\n",
    "\n",
    "5. In an arithmetic phrase, how simple is it to combine Decimal objects with integers?\n",
    "\n",
    "6. Can Decimal objects and floating-point values be combined easily?\n",
    "\n",
    "7. Using the Fraction class but not the Decimal class, give an example of a quantity that can be\n",
    "expressed with absolute precision.\n",
    "\n",
    "8. Describe a quantity that can be accurately expressed by the Decimal or Fraction classes but not by\n",
    "a floating-point value.\n",
    "\n",
    "Q9.Consider the following two fraction objects: Fraction(1, 2) and Fraction(1, 2). (5, 10). Is the internal\n",
    "state of these two objects the same? Why do you think that is?\n",
    "\n",
    "Q10. How do the Fraction class and the integer type (int) relate to each other? Containment or\n",
    "inheritance?"
   ]
  },
  {
   "cell_type": "code",
   "execution_count": 1,
   "id": "a3645d80",
   "metadata": {},
   "outputs": [
    {
     "name": "stdout",
     "output_type": "stream",
     "text": [
      "The tuple form of decimal number is : DecimalTuple(sign=1, digits=(4, 5), exponent=-1)\n",
      "The fused multiply and addition of decimal number is : 13\n"
     ]
    }
   ],
   "source": [
    "# Python code to demonstrate the working of\n",
    "# as_tuple() and fma()\n",
    "\n",
    "# importing \"decimal\" module to use decimal functions\n",
    "import decimal\n",
    "\n",
    "# using as_tuple() to return decimal number as tuple\n",
    "a = decimal.Decimal(-4.5).as_tuple()\n",
    "\n",
    "# using fma() to compute fused multiply and addition\n",
    "b = decimal.Decimal(5).fma(2,3)\n",
    "\n",
    "# printing the tuple\n",
    "print (\"The tuple form of decimal number is : \",end=\"\")\n",
    "print (a)\n",
    "\n",
    "# printing the fused multiple and addition\n",
    "print (\"The fused multiply and addition of decimal number is : \",end=\"\")\n",
    "print (b)\n"
   ]
  },
  {
   "cell_type": "markdown",
   "id": "7eeecb6f",
   "metadata": {},
   "source": [
    "Python in its definition provides certain methods to perform faster decimal floating point arithmetic using the module “decimal”. "
   ]
  },
  {
   "cell_type": "code",
   "execution_count": 4,
   "id": "6ac4927b",
   "metadata": {},
   "outputs": [
    {
     "data": {
      "text/plain": [
       "Decimal('2')"
      ]
     },
     "execution_count": 4,
     "metadata": {},
     "output_type": "execute_result"
    }
   ],
   "source": [
    "decimal.Decimal(2)"
   ]
  },
  {
   "cell_type": "code",
   "execution_count": 5,
   "id": "f825f299",
   "metadata": {},
   "outputs": [],
   "source": [
    "# python provides faster decimal operation using decimal module"
   ]
  },
  {
   "cell_type": "code",
   "execution_count": 6,
   "id": "f174bfa5",
   "metadata": {},
   "outputs": [],
   "source": [
    "# disadvantahes # here the code is more complex to write unlike regular operations"
   ]
  },
  {
   "cell_type": "markdown",
   "id": "ec1d2550",
   "metadata": {},
   "source": [
    "Decimal('1.200') and Decimal('1.2') are two objects to consider. In what sense are these the same object? Are these just two ways of representing the exact same value, or do they correspond to different internal states?"
   ]
  },
  {
   "cell_type": "code",
   "execution_count": 9,
   "id": "38f951ce",
   "metadata": {},
   "outputs": [],
   "source": [
    "a=decimal.Decimal(1.2)"
   ]
  },
  {
   "cell_type": "code",
   "execution_count": 10,
   "id": "4f1690df",
   "metadata": {},
   "outputs": [],
   "source": [
    "b=decimal.Decimal(1.2000)"
   ]
  },
  {
   "cell_type": "code",
   "execution_count": 11,
   "id": "eecac644",
   "metadata": {},
   "outputs": [],
   "source": [
    "# yes they are same object\n"
   ]
  },
  {
   "cell_type": "code",
   "execution_count": 12,
   "id": "95295ff4",
   "metadata": {},
   "outputs": [
    {
     "data": {
      "text/plain": [
       "True"
      ]
     },
     "execution_count": 12,
     "metadata": {},
     "output_type": "execute_result"
    }
   ],
   "source": [
    "a==b"
   ]
  },
  {
   "cell_type": "code",
   "execution_count": 13,
   "id": "74061b82",
   "metadata": {},
   "outputs": [],
   "source": [
    "# because by default it takes string like object, if it does not have one , it converts to string "
   ]
  },
  {
   "cell_type": "code",
   "execution_count": 14,
   "id": "f2dc9b53",
   "metadata": {},
   "outputs": [],
   "source": [
    "c=decimal.Decimal(2)"
   ]
  },
  {
   "cell_type": "markdown",
   "id": "39fe5dac",
   "metadata": {},
   "source": [
    "it can easily phrase with integrs"
   ]
  },
  {
   "cell_type": "code",
   "execution_count": 17,
   "id": "5c62a238",
   "metadata": {},
   "outputs": [],
   "source": [
    "d1=float(2.3)"
   ]
  },
  {
   "cell_type": "code",
   "execution_count": 19,
   "id": "5cbefa4f",
   "metadata": {},
   "outputs": [
    {
     "data": {
      "text/plain": [
       "Decimal('2.29999999999999982236431605997495353221893310546875')"
      ]
     },
     "execution_count": 19,
     "metadata": {},
     "output_type": "execute_result"
    }
   ],
   "source": [
    "decimal.Decimal(d1)\n",
    "# this is highly feasible"
   ]
  },
  {
   "cell_type": "code",
   "execution_count": 21,
   "id": "cddbdabf",
   "metadata": {},
   "outputs": [
    {
     "name": "stdout",
     "output_type": "stream",
     "text": [
      "2267/900\n",
      "2\n",
      "288/95\n",
      "3/2\n",
      "2.8592589556010197\n"
     ]
    }
   ],
   "source": [
    "from fractions import Fraction\n",
    "\n",
    "print (Fraction(113, 100) + Fraction(25, 18))\n",
    "# returns Fraction(2267, 900)\n",
    "\n",
    "print (Fraction(18, 5) / Fraction(18, 10))\n",
    "# returns Fraction(2, 1)\n",
    "\n",
    "print (Fraction(18, 5) * Fraction(16, 19))\n",
    "# returns Fraction(288, 95)\n",
    "\n",
    "print (Fraction(18, 5) * Fraction(15, 36))\n",
    "# returns Fraction(3, 2)\n",
    "\n",
    "print (Fraction(12, 5) ** Fraction(12, 10))\n",
    "# returns 2.8592589556010197\n"
   ]
  },
  {
   "cell_type": "code",
   "execution_count": 22,
   "id": "e198563a",
   "metadata": {},
   "outputs": [
    {
     "ename": "TypeError",
     "evalue": "conversion from Fraction to Decimal is not supported",
     "output_type": "error",
     "traceback": [
      "\u001b[1;31m---------------------------------------------------------------------------\u001b[0m",
      "\u001b[1;31mTypeError\u001b[0m                                 Traceback (most recent call last)",
      "\u001b[1;32m~\\AppData\\Local\\Temp/ipykernel_5600/4048367835.py\u001b[0m in \u001b[0;36m<module>\u001b[1;34m\u001b[0m\n\u001b[1;32m----> 1\u001b[1;33m \u001b[0mdecimal\u001b[0m\u001b[1;33m.\u001b[0m\u001b[0mDecimal\u001b[0m\u001b[1;33m(\u001b[0m\u001b[0mFraction\u001b[0m\u001b[1;33m(\u001b[0m\u001b[1;36m18\u001b[0m\u001b[1;33m,\u001b[0m\u001b[1;36m5\u001b[0m\u001b[1;33m)\u001b[0m\u001b[1;33m)\u001b[0m\u001b[1;33m\u001b[0m\u001b[1;33m\u001b[0m\u001b[0m\n\u001b[0m",
      "\u001b[1;31mTypeError\u001b[0m: conversion from Fraction to Decimal is not supported"
     ]
    }
   ],
   "source": [
    "decimal.Decimal(Fraction(18,5))"
   ]
  },
  {
   "cell_type": "code",
   "execution_count": 23,
   "id": "ee31ff52",
   "metadata": {},
   "outputs": [
    {
     "data": {
      "text/plain": [
       "True"
      ]
     },
     "execution_count": 23,
     "metadata": {},
     "output_type": "execute_result"
    }
   ],
   "source": [
    "Fraction(1,2)==Fraction(5,10)"
   ]
  },
  {
   "cell_type": "code",
   "execution_count": 25,
   "id": "bdb182cf",
   "metadata": {},
   "outputs": [
    {
     "data": {
      "text/plain": [
       "fractions.Fraction"
      ]
     },
     "execution_count": 25,
     "metadata": {},
     "output_type": "execute_result"
    }
   ],
   "source": [
    "type((Fraction(1)))"
   ]
  },
  {
   "cell_type": "code",
   "execution_count": null,
   "id": "8f45fb43",
   "metadata": {},
   "outputs": [],
   "source": []
  }
 ],
 "metadata": {
  "kernelspec": {
   "display_name": "Python 3 (ipykernel)",
   "language": "python",
   "name": "python3"
  },
  "language_info": {
   "codemirror_mode": {
    "name": "ipython",
    "version": 3
   },
   "file_extension": ".py",
   "mimetype": "text/x-python",
   "name": "python",
   "nbconvert_exporter": "python",
   "pygments_lexer": "ipython3",
   "version": "3.9.7"
  }
 },
 "nbformat": 4,
 "nbformat_minor": 5
}
