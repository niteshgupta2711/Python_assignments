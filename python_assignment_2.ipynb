{
 "cells": [
  {
   "cell_type": "markdown",
   "id": "a1bfe025-9a6b-47e8-8289-cee9db81ede1",
   "metadata": {},
   "source": [
    "1.What are the two values of the Boolean data type? How do you write them?"
   ]
  },
  {
   "cell_type": "markdown",
   "id": "b8d83703-4a89-4eb3-8fc4-646c4f24d309",
   "metadata": {},
   "source": [
    "The two values for a boolean data type are True and False\n",
    "+ We write them as True,False OR 1,0"
   ]
  },
  {
   "cell_type": "markdown",
   "id": "9f06e8fd-df05-414e-9fb3-98e1aafaa234",
   "metadata": {},
   "source": [
    "2. What are the three different types of Boolean operators?"
   ]
  },
  {
   "cell_type": "markdown",
   "id": "be162e21-a59c-46b6-a280-1f77e53641a6",
   "metadata": {},
   "source": [
    "The three different types of boolean operators are :\n",
    "+ == or !=\n",
    "+ < or <=\n",
    "+ '>' or >="
   ]
  },
  {
   "cell_type": "markdown",
   "id": "bf9b4d78-cc1c-488c-bc8a-82289a51a4e2",
   "metadata": {},
   "source": [
    "3. Make a list of each Boolean operator&#39;s truth tables (i.e. every possible combination of Boolean\n",
    "values for the operator and what it evaluate )."
   ]
  },
  {
   "cell_type": "markdown",
   "id": "0dba79ce-ac7c-4b4f-9f19-32a1771204b4",
   "metadata": {},
   "source": [
    "+ list of each Boolean operator \n",
    "+ == `Check's if two value are equal return true if they are equal else False`\n",
    "+ < ` Check's if one value is less than the other returns true if it is true Else False`\n",
    "+ '>' `Check's if one value is greater than the other returns true if it is true Else False`\n",
    "+ <=  `Check's if one value is less than or equal to the the other, returns true if it is true Else False`\n",
    "+ '>='`Check's if one value is greater or equal than the other, returns true if it is true Else False`\n",
    "+ != `Check's if one value is not equal to the other returns true if it is true Else False`\n",
    "+ !< `Check's if one value is not less than the other returns true if it is true Else False`\n",
    "+ !> `Check's if one value is not greater than the other returns true if it is true Else False`\n"
   ]
  },
  {
   "cell_type": "markdown",
   "id": "2f4932aa-df3a-49ba-b957-a0d624e80994",
   "metadata": {},
   "source": [
    "4. What are the values of the following expressions?\n",
    "(5 &gt; 4) and (3 == 5)\n",
    "not (5 &gt; 4)\n",
    "(5 &gt; 4) or (3 == 5)\n",
    "not ((5 &gt; 4) or (3 == 5))\n",
    "(True and True) and (True == False)\n",
    "(not False) or (not True)"
   ]
  },
  {
   "cell_type": "markdown",
   "id": "4f4d706b-64d0-49ce-9583-3fafe700544d",
   "metadata": {},
   "source": [
    "+(5>4) `return True`\n",
    "+ 3==5 `returns false`\n",
    "+ not (5>4) `returns false`\n",
    "+  (5 > 4) and (3 == 5) `return False`\n",
    "+ not ((5 > 4) or (3 == 5)) ` returns false`\n",
    "+ (True and True) and (True == False) `returns false`\n",
    "+ (not False) or (not True) `returns True`"
   ]
  },
  {
   "cell_type": "markdown",
   "id": "02e4e1b7-885c-449a-9868-a821b5000f26",
   "metadata": {},
   "source": [
    "5. What are the six comparison operators?"
   ]
  },
  {
   "cell_type": "markdown",
   "id": "e360952b-320a-4cc0-9b68-890dbce5a373",
   "metadata": {},
   "source": [
    "+ ==\n",
    "+ !=\n",
    "+ '>'\n",
    "+ '<'\n",
    "+ '>='\n",
    "+ '<='"
   ]
  },
  {
   "cell_type": "markdown",
   "id": "785473a2-4f1a-4b4a-b668-fe7cf2c4ba9e",
   "metadata": {},
   "source": [
    "6. How do you tell the difference between the equal to and assignment operators?Describe a\n",
    "condition and when you would use one."
   ]
  },
  {
   "cell_type": "markdown",
   "id": "6a7b3b5e-b043-4497-b21b-dde23e8da33f",
   "metadata": {},
   "source": [
    "Assignment operators have single equal to sign in it \"=\" , where as equal to operaotr has \"==\" sign to it\n",
    "+ assignment operators are used when one declares a variable(a=10)\n",
    "+ equal to operator is used when one check's if two values are equal or not (1==1)"
   ]
  },
  {
   "cell_type": "markdown",
   "id": "dec83021-dae0-44a3-8604-a0436daf0d7c",
   "metadata": {},
   "source": [
    "7. Identify the three blocks in this code:\n",
    "spam = 0\n",
    "if spam == 10:\n",
    "print(&#39;eggs&#39;)\n",
    "if spam &gt; 5:\n",
    "print(&#39;bacon&#39;)\n",
    "else:\n",
    "print(&#39;ham&#39;)\n",
    "print(&#39;spam&#39;)\n",
    "print(&#39;spam&#39;)"
   ]
  },
  {
   "cell_type": "markdown",
   "id": "f528a76e-4db1-4407-943c-a44bf2ca4377",
   "metadata": {},
   "source": [
    " ## block1 \n",
    " `spam = 0 `\n",
    "`if spam == 10:`\n",
    "   `print('eggs')`\n",
    "## block2\n",
    "`if spam > 5:`\n",
    "    `print('bacon')`\n",
    "`else: `\n",
    "    `print('ham')`\n",
    "## block3\n",
    "`print('spam')` \n",
    "`print('spam')`"
   ]
  },
  {
   "cell_type": "markdown",
   "id": "7eda3693-1cc2-44af-967e-5b3192299da3",
   "metadata": {},
   "source": [
    "8. Write code that prints Hello if 1 is stored in spam, prints Howdy if 2 is stored in spam, and prints\n",
    "Greetings! if anything else is stored in spam."
   ]
  },
  {
   "cell_type": "markdown",
   "id": "90a9745d-568a-45e0-b1fd-a9bf2ffea35a",
   "metadata": {},
   "source": [
    "$ CODE $\n",
    "<br>\n",
    "spam=int(input('enter a number'))\n",
    "<br>\n",
    "if spam==1:\n",
    "<br>\n",
    "    print('spam')\n",
    "<br>\n",
    "elif spam==2:\n",
    "<br>\n",
    "    print('Howdy')\n",
    "<br>\n",
    "else:\n",
    "<br>\n",
    "    print('greetings')\n"
   ]
  },
  {
   "cell_type": "markdown",
   "id": "8c0aa8b5-4c50-434b-9196-266ed3d28b05",
   "metadata": {},
   "source": [
    "9.If your programme is stuck in an endless loop, what keys you’ll press?"
   ]
  },
  {
   "cell_type": "markdown",
   "id": "31b8c7a4-af43-404e-88c4-34d97e0d4814",
   "metadata": {},
   "source": [
    "` I would interupt the kernel for the cell`\n",
    "` Esc +ii`"
   ]
  },
  {
   "cell_type": "markdown",
   "id": "4540de51-585a-4308-a2d0-031f180c5103",
   "metadata": {},
   "source": [
    "10. How can you tell the difference between break and continue?"
   ]
  },
  {
   "cell_type": "markdown",
   "id": "15df5f1c-8829-4074-b468-24dcf87c531c",
   "metadata": {},
   "source": [
    "+ Break keyword breaks any loop( for /while)\n",
    "+ continue keyword jumps back to the loop."
   ]
  },
  {
   "cell_type": "markdown",
   "id": "d8abde05-76aa-4f7c-bcdf-aed5576bad0c",
   "metadata": {},
   "source": [
    "11. In a for loop, what is the difference between range(10), range(0, 10), and range(0, 10, 1)?"
   ]
  },
  {
   "cell_type": "markdown",
   "id": "415f5862-4b53-4864-91bc-66e9192fcdc4",
   "metadata": {},
   "source": [
    "`There is no differnce between all these in executing `"
   ]
  },
  {
   "cell_type": "markdown",
   "id": "ada3bb6d-cec2-428e-92eb-45292b70a634",
   "metadata": {},
   "source": [
    "12. Write a short program that prints the numbers 1 to 10 using a for loop. Then write an equivalent\n",
    "program that prints the numbers 1 to 10 using a while loop."
   ]
  },
  {
   "cell_type": "markdown",
   "id": "15097545-27a2-4e8b-8e48-9848ff6b2fc8",
   "metadata": {},
   "source": [
    "$ CODE $\n",
    "<br>\n",
    "for i in range(1,11):\n",
    "<br>\n",
    "    print(i)\n",
    "<br>\n",
    "i=1\n",
    "<br>\n",
    "while i<11:\n",
    "<br>\n",
    "    print(i)\n",
    "<br>\n",
    "    i+=1"
   ]
  },
  {
   "cell_type": "markdown",
   "id": "8a59eec6-cd5c-4bf6-9408-d3310f0d455c",
   "metadata": {},
   "source": [
    "13. If you had a function named bacon() inside a module named spam, how would you call it after\n",
    "importing spam?"
   ]
  },
  {
   "cell_type": "markdown",
   "id": "36669ab7-d933-4b5f-85fc-09cbd1b74eba",
   "metadata": {},
   "source": [
    "` from spam import bacon`"
   ]
  },
  {
   "cell_type": "code",
   "execution_count": null,
   "id": "fd461ebb-0c20-4654-9aeb-61d8aa3fd0ad",
   "metadata": {},
   "outputs": [],
   "source": []
  }
 ],
 "metadata": {
  "kernelspec": {
   "display_name": "Python 3 (ipykernel)",
   "language": "python",
   "name": "python3"
  },
  "language_info": {
   "codemirror_mode": {
    "name": "ipython",
    "version": 3
   },
   "file_extension": ".py",
   "mimetype": "text/x-python",
   "name": "python",
   "nbconvert_exporter": "python",
   "pygments_lexer": "ipython3",
   "version": "3.9.7"
  }
 },
 "nbformat": 4,
 "nbformat_minor": 5
}
