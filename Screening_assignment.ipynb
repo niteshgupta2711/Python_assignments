{
  "nbformat": 4,
  "nbformat_minor": 0,
  "metadata": {
    "colab": {
      "name": "Untitled5.ipynb",
      "provenance": [],
      "collapsed_sections": []
    },
    "kernelspec": {
      "name": "python3",
      "display_name": "Python 3"
    },
    "language_info": {
      "name": "python"
    }
  },
  "cells": [
    {
      "cell_type": "markdown",
      "source": [
        "1. **Create a function in python to read the text file and replace specific content of the file.**\n",
        "\n",
        "\n",
        "![image.png](data:image/png;base64,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)"
      ],
      "metadata": {
        "id": "7lC0SLzi9KhG"
      }
    },
    {
      "cell_type": "code",
      "source": [
        "def find_replace(path: str, f_string , r_string):\n",
        "  '''\n",
        "  An optimal function to find and replace string\n",
        "  args: path to file(str)\n",
        "  f_string : string to find in a file\n",
        "  r_string : string to replace it with\n",
        "  internally uses regex\n",
        "\n",
        "  '''\n",
        "  import re\n",
        "  with open(path,'r+') as f:\n",
        "    # instead of loading the entire file string to memory (f.read())\n",
        "    # iterate it line by line , find and replace\n",
        "    # it is an inplace algorithm\n",
        "    # this gives a good space complexity in memory and does the work optimally using generator method in filehandling\n",
        "\n",
        "    l=0\n",
        "    for line in f.readlines():\n",
        "      place_str=re.sub(f'{f_string}',f'{r_string}',line)\n",
        "      f.seek(l)\n",
        "      f.write(place_str)\n",
        "      l+=len(line)\n"
      ],
      "metadata": {
        "id": "yVz2zdvy-DOa"
      },
      "execution_count": 39,
      "outputs": []
    },
    {
      "cell_type": "code",
      "source": [
        "find_replace('example.txt','placement','screening')\n",
        "# function call"
      ],
      "metadata": {
        "id": "TgVPdfgN_OrC"
      },
      "execution_count": 40,
      "outputs": []
    },
    {
      "cell_type": "markdown",
      "source": [
        "2. Demonstrate use of abstract class, multiple inheritance and decorator in\n",
        "python using examples."
      ],
      "metadata": {
        "id": "hwQY-dbM_kPa"
      }
    },
    {
      "cell_type": "markdown",
      "source": [
        "`Decorators`\n",
        "+ functions in python are first class objects\n",
        "+ this allows functions to be treated as objects\n",
        "+ which means functions can be passed as arguments, assigned to a variable and can also returned etc\n",
        "+ in other words , when a function is defined it can be treated as any other object in python."
      ],
      "metadata": {
        "id": "sY0IQB1qDCuE"
      }
    },
    {
      "cell_type": "code",
      "source": [
        ""
      ],
      "metadata": {
        "id": "TV641Lf9Kn8S"
      },
      "execution_count": 42,
      "outputs": []
    },
    {
      "cell_type": "code",
      "source": [
        "# decorators acts as switch to modify the behaviour of the function\n",
        "def error_handler(func):\n",
        "  def inner(*args,**kwargs):\n",
        "    try:\n",
        "      ret=func(*args,**kwargs)\n",
        "      return ret\n",
        "    except Exception as E:\n",
        "      print('b parameter needs to be greater than zero or should be an digit'+' '+str(E))\n",
        "    \n",
        "  return inner\n"
      ],
      "metadata": {
        "id": "8ABIYq6ESpqH"
      },
      "execution_count": 64,
      "outputs": []
    },
    {
      "cell_type": "code",
      "source": [
        "@error_handler\n",
        "def div(a,b):\n",
        "  return a/b\n",
        "\n"
      ],
      "metadata": {
        "id": "M9q59I0mTcvK"
      },
      "execution_count": 65,
      "outputs": []
    },
    {
      "cell_type": "code",
      "source": [
        "div(2,'hello')"
      ],
      "metadata": {
        "colab": {
          "base_uri": "https://localhost:8080/"
        },
        "id": "QIjDPfHYTnAN",
        "outputId": "71f2d67e-e95a-4110-e05a-65260f8fe741"
      },
      "execution_count": 66,
      "outputs": [
        {
          "output_type": "stream",
          "name": "stdout",
          "text": [
            "b parameter needs to be greater than zero or should be an digit unsupported operand type(s) for /: 'int' and 'str'\n"
          ]
        }
      ]
    },
    {
      "cell_type": "code",
      "source": [
        "# multiple inheritence in python\n",
        "# python supports both scripting and object oriented programming\n",
        "# MRO\n",
        "# python allows multiple inheritences in OOP\n",
        "# this is how one defines a class in python"
      ],
      "metadata": {
        "id": "it3ISotlTpFR"
      },
      "execution_count": 68,
      "outputs": []
    },
    {
      "cell_type": "code",
      "source": [
        "class square:\n",
        "  def __init__(self,side):\n",
        "    print('this is inside square class')\n",
        "    self.side=side\n",
        "  def area(self):\n",
        "    return self.side*self.side\n",
        "\n",
        "\n",
        "\n",
        "class polygon:\n",
        "  def __init__(self,no_of_sides):\n",
        "    print('this is inside polygon class')\n",
        "    self.sides=no_of_sides\n",
        "  def ch_sides(self,no):\n",
        "    self.sides=no\n"
      ],
      "metadata": {
        "id": "OOcGI6fJVqve"
      },
      "execution_count": 93,
      "outputs": []
    },
    {
      "cell_type": "code",
      "source": [
        "class rectangle(square):\n",
        "  def __init__(self,l,b):\n",
        "    super().__init__(l)\n",
        "    self.l=l\n",
        "    self.b=b\n",
        "\n",
        "    print(f'a square has all the sides of length {l} or {b}')\n",
        "  # over riding the area class\n",
        "  def area(self):\n",
        "    return self.l*self.b \n"
      ],
      "metadata": {
        "id": "fJ8Xf8nsWLfy"
      },
      "execution_count": 94,
      "outputs": []
    },
    {
      "cell_type": "code",
      "source": [
        "rec=rectangle(2,3)\n",
        "# this is an example of single inheritence"
      ],
      "metadata": {
        "colab": {
          "base_uri": "https://localhost:8080/"
        },
        "id": "fJhQqCytXSrG",
        "outputId": "b2865947-9535-4d53-91c8-942f33637c94"
      },
      "execution_count": 108,
      "outputs": [
        {
          "output_type": "stream",
          "name": "stdout",
          "text": [
            "this is inside square class\n",
            "a square has all the sides of length 2 or 3\n"
          ]
        }
      ]
    },
    {
      "cell_type": "code",
      "source": [
        "# Example of multiple inheritence\n",
        "class circle(square,polygon):\n",
        "  def __init__(self,radius):\n",
        "    super().__init__(radius)\n",
        "    super().__init__(radius)\n",
        "    self.rad=radius\n",
        "  def area(self):\n",
        "    return 3.14*(self.rad**2)\n"
      ],
      "metadata": {
        "id": "bvle7sF-YAik"
      },
      "execution_count": 99,
      "outputs": []
    },
    {
      "cell_type": "code",
      "source": [
        "# EXAMPLE OF MULTIPLE INHERITENCE\n",
        "CIR=circle(10)\n",
        "# i Have written super().__init__(radius) two times\n"
      ],
      "metadata": {
        "colab": {
          "base_uri": "https://localhost:8080/"
        },
        "id": "_R20qcxma9-H",
        "outputId": "8ecba6ae-15f7-4f2e-a734-69541cc7375b"
      },
      "execution_count": 101,
      "outputs": [
        {
          "output_type": "stream",
          "name": "stdout",
          "text": [
            "this is inside square class\n",
            "this is inside square class\n"
          ]
        }
      ]
    },
    {
      "cell_type": "code",
      "source": [
        "# as you can see 'this is inside square class' 2 times\n",
        "# this is MRO(mthod resolution order) in action\n",
        "# __init__ method here is taken from sqaure class, As the order goes from left to right\n",
        "\n",
        "CIR.ch_sides(15)\n",
        "CIR.area()\n",
        "CIR.sides,CIR.side\n",
        "# As you can see ch_sides() and area() are methods from polygon and square class respectively\n",
        "# and we can acess both by instantiating a circle class \n",
        "# this is an example of multiple inheritence\n"
      ],
      "metadata": {
        "colab": {
          "base_uri": "https://localhost:8080/"
        },
        "id": "dzf119YXbkaq",
        "outputId": "0dea6e3e-a177-4dbe-f893-1ec1ca510308"
      },
      "execution_count": 107,
      "outputs": [
        {
          "output_type": "execute_result",
          "data": {
            "text/plain": [
              "(15, 10)"
            ]
          },
          "metadata": {},
          "execution_count": 107
        }
      ]
    },
    {
      "cell_type": "markdown",
      "source": [
        "## Abstract classes in python"
      ],
      "metadata": {
        "id": "aIug-iZmda2K"
      }
    },
    {
      "cell_type": "markdown",
      "source": [
        "1.  A class which contains one or more abstract methods is called an abstract class.\n",
        "2. One can not instantiate a abstract class\n",
        "3. it provides a blue print for other classes\n",
        "4. an abstract method is declared but not instantiated"
      ],
      "metadata": {
        "id": "ywup_aEwhUDq"
      }
    },
    {
      "cell_type": "code",
      "source": [
        "from abc import ABC , abstractmethod\n",
        "class Polygon(ABC):\n",
        " \n",
        "    @abstractmethod\n",
        "    def noofsides(self):\n",
        "        pass\n",
        "    @property\n",
        "    def sides(self):\n",
        "      print('this has limited sides')\n",
        " \n",
        "class Triangle(Polygon):\n",
        "  \n",
        " \n",
        "    # overriding abstract method\n",
        "    def noofsides(self):\n",
        "      print(\"I have 3 sides\")"
      ],
      "metadata": {
        "id": "UxLcZKD5iSY6"
      },
      "execution_count": 116,
      "outputs": []
    },
    {
      "cell_type": "code",
      "source": [
        "# another way of making an abstract class\n",
        "import abc\n",
        "class Shape(abc.ABC):\n",
        "   @abc.abstractmethod\n",
        "   def area(self):\n",
        "      pass\n",
        "@Shape.register\n",
        "class Rectangle():\n",
        "   def __init__(self, x,y):\n",
        "    self.l = x\n",
        "    self.b=y\n",
        "   def area(self):\n",
        "      return self.l*self.b"
      ],
      "metadata": {
        "id": "Jmg0psm-mrTQ"
      },
      "execution_count": 117,
      "outputs": []
    },
    {
      "cell_type": "code",
      "source": [
        ""
      ],
      "metadata": {
        "id": "eEcjnDKWmyfK"
      },
      "execution_count": 115,
      "outputs": []
    },
    {
      "cell_type": "code",
      "source": [
        "H."
      ],
      "metadata": {
        "id": "nuviI3C5nzXO"
      },
      "execution_count": null,
      "outputs": []
    }
  ]
}