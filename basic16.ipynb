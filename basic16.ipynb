{
 "cells": [
  {
   "cell_type": "markdown",
   "id": "c344102a",
   "metadata": {},
   "source": [
    "Question1. Write a function that stutters a word as if someone is struggling to read it. The\n",
    "first two letters are repeated twice with an ellipsis ... and space after each, and then the\n",
    "word is pronounced with a question mark ?.\n",
    "Examples\n",
    "stutter(&quot;incredible&quot;) ➞ &quot;in... in... incredible?&quot;\n",
    "stutter(&quot;enthusiastic&quot;) ➞ &quot;en... en... enthusiastic?&quot;\n",
    "stutter(&quot;outstanding&quot;) ➞ &quot;ou... ou... outstanding?&quot;\n",
    "\n",
    "Hint :- Assume all input is in lower case and at least two characters long.\n",
    "\n",
    "Question 2.Create a function that takes an angle in radians and returns the corresponding\n",
    "angle in degrees rounded to one decimal place.\n",
    "Examples\n",
    "radians_to_degrees(1) ➞ 57.3\n",
    "radians_to_degrees(20) ➞ 1145.9\n",
    "radians_to_degrees(50) ➞ 2864.8\n",
    "\n",
    "Question 3. In this challenge, establish if a given integer num is a Curzon number. If 1 plus\n",
    "2 elevated to num is exactly divisible by 1 plus 2 multiplied by num, then num is a Curzon\n",
    "number.\n",
    "Given a non-negative integer num, implement a function that returns True if num is a Curzon\n",
    "number, or False otherwise.\n",
    "Examples\n",
    "is_curzon(5) ➞ True\n",
    "# 2 ** 5 + 1 = 33\n",
    "# 2 * 5 + 1 = 11\n",
    "# 33 is a multiple of 11\n",
    "is_curzon(10) ➞ False\n",
    "# 2 ** 10 + 1 = 1025\n",
    "# 2 * 10 + 1 = 21\n",
    "# 1025 is not a multiple of 21\n",
    "is_curzon(14) ➞ True\n",
    "# 2 ** 14 + 1 = 16385\n",
    "# 2 * 14 + 1 = 29\n",
    "# 16385 is a multiple of 29\n",
    "\n",
    "Question 4.Given the side length x find the area of a hexagon.\n",
    "\n",
    "Examples\n",
    "area_of_hexagon(1) ➞ 2.6\n",
    "area_of_hexagon(2) ➞ 10.4\n",
    "area_of_hexagon(3) ➞ 23.4\n",
    "\n",
    "Question 5. Create a function that returns a base-2 (binary) representation of a base-10\n",
    "(decimal) string number. To convert is simple: ((2) means base-2 and (10) means base-10)\n",
    "010101001(2) = 1 + 8 + 32 + 128.\n",
    "Going from right to left, the value of the most right bit is 1, now from that every bit to the left\n",
    "will be x2 the value, value of an 8 bit binary numbers are (256, 128, 64, 32, 16, 8, 4, 2, 1).\n",
    "Examples\n",
    "binary(1) ➞ &quot;1&quot;\n",
    "# 1*1 = 1\n",
    "binary(5) ➞ &quot;101&quot;\n",
    "# 1*1 + 1*4 = 5\n",
    "binary(10) ➞ &quot;1010&quot;\n",
    "# 1*2 + 1*8 = 10"
   ]
  },
  {
   "cell_type": "code",
   "execution_count": 3,
   "id": "2b94df9d",
   "metadata": {},
   "outputs": [],
   "source": [
    "def stut(word):\n",
    "    return f'{word[0:2]}... {word[0:2]}... {word}'"
   ]
  },
  {
   "cell_type": "code",
   "execution_count": 4,
   "id": "2ae5d01b",
   "metadata": {},
   "outputs": [
    {
     "data": {
      "text/plain": [
       "'he... he... hello'"
      ]
     },
     "execution_count": 4,
     "metadata": {},
     "output_type": "execute_result"
    }
   ],
   "source": [
    "stut('hello')"
   ]
  },
  {
   "cell_type": "code",
   "execution_count": 7,
   "id": "78e98dcf",
   "metadata": {},
   "outputs": [],
   "source": [
    "import math\n",
    "pi=3.14\n",
    "def radian_to_d(rad):\n",
    "    return (180/3.14)*rad"
   ]
  },
  {
   "cell_type": "code",
   "execution_count": 8,
   "id": "1ae753df",
   "metadata": {},
   "outputs": [
    {
     "data": {
      "text/plain": [
       "57.324840764331206"
      ]
     },
     "execution_count": 8,
     "metadata": {},
     "output_type": "execute_result"
    }
   ],
   "source": [
    "radian_to_d(1)"
   ]
  },
  {
   "cell_type": "raw",
   "id": "5dcdf2cc",
   "metadata": {},
   "source": [
    "# Python3 implementation of the approach\n",
    "\n",
    "# Function to check if a number\n",
    "# is a Curzon number or not\n",
    "def checkIfCurzonNumber(N):\n",
    "\n",
    "\tpowerTerm, productTerm = 0, 0\n",
    "\n",
    "\t# Find 2^N + 1\n",
    "\tpowerTerm = pow(2, N) + 1\n",
    "\n",
    "\t# Find 2*N + 1\n",
    "\tproductTerm = 2 * N + 1\n",
    "\n",
    "\t# Check for divisibility\n",
    "\tif (powerTerm % productTerm == 0):\n",
    "\t\tprint(\"Yes\")\n",
    "\telse:\n",
    "\t\tprint(\"No\")\n",
    "\n",
    "\n"
   ]
  },
  {
   "cell_type": "code",
   "execution_count": 9,
   "id": "d55eebf7",
   "metadata": {},
   "outputs": [],
   "source": [
    "# Python3 implementation of the approach\n",
    "\n",
    "# Function to check if a number\n",
    "# is a Curzon number or not\n",
    "def checkIfCurzonNumber(N):\n",
    "\n",
    "\tpowerTerm, productTerm = 0, 0\n",
    "\n",
    "\t# Find 2^N + 1\n",
    "\tpowerTerm = pow(2, N) + 1\n",
    "\n",
    "\t# Find 2*N + 1\n",
    "\tproductTerm = 2 * N + 1\n",
    "\n",
    "\t# Check for divisibility\n",
    "\tif (powerTerm % productTerm == 0):\n",
    "\t\tprint(\"Yes\")\n",
    "\telse:\n",
    "\t\tprint(\"No\")\n",
    "\n",
    "\n"
   ]
  },
  {
   "cell_type": "code",
   "execution_count": 13,
   "id": "da0efd22",
   "metadata": {},
   "outputs": [],
   "source": [
    "def areaH(side):\n",
    "    height=math.sqrt((side**2)-((side/2)**2))\n",
    "    return 6*(0.5*(height)*(side))"
   ]
  },
  {
   "cell_type": "code",
   "execution_count": 15,
   "id": "0b3b356f",
   "metadata": {},
   "outputs": [
    {
     "data": {
      "text/plain": [
       "2.598076211353316"
      ]
     },
     "execution_count": 15,
     "metadata": {},
     "output_type": "execute_result"
    }
   ],
   "source": [
    "areaH(1)"
   ]
  },
  {
   "cell_type": "code",
   "execution_count": 1,
   "id": "9e0db8e2",
   "metadata": {},
   "outputs": [],
   "source": [
    "def bi(num):\n",
    "    return str(bin(num))[2:]"
   ]
  },
  {
   "cell_type": "code",
   "execution_count": 2,
   "id": "bfdbc31d",
   "metadata": {},
   "outputs": [
    {
     "data": {
      "text/plain": [
       "'1100100'"
      ]
     },
     "execution_count": 2,
     "metadata": {},
     "output_type": "execute_result"
    }
   ],
   "source": [
    "bi(100)"
   ]
  },
  {
   "cell_type": "code",
   "execution_count": null,
   "id": "a898b347",
   "metadata": {},
   "outputs": [],
   "source": []
  }
 ],
 "metadata": {
  "kernelspec": {
   "display_name": "Python 3 (ipykernel)",
   "language": "python",
   "name": "python3"
  },
  "language_info": {
   "codemirror_mode": {
    "name": "ipython",
    "version": 3
   },
   "file_extension": ".py",
   "mimetype": "text/x-python",
   "name": "python",
   "nbconvert_exporter": "python",
   "pygments_lexer": "ipython3",
   "version": "3.9.7"
  }
 },
 "nbformat": 4,
 "nbformat_minor": 5
}
