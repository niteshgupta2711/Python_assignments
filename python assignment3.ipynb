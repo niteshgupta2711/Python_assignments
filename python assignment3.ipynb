{
 "cells": [
  {
   "cell_type": "markdown",
   "id": "8fbbc1a8-9180-40c1-9bb3-13b8172a8e69",
   "metadata": {},
   "source": [
    "1. Why are functions advantageous to have in your programs?"
   ]
  },
  {
   "cell_type": "markdown",
   "id": "323cc99c-3e89-433f-a4cb-8e2133fd61f9",
   "metadata": {},
   "source": [
    "+ FUNCTIONS IN PYTHON ARE FIRST CLASS OBJECTS\n",
    "+ THE REASON WE CALL IT ADVANTAGEOUS IN OUR CODE IS, THAT THEY ARE REUSABLE PIECE OF CODE THAT HELPS WRITING CODE MORE ROBUST INTERMS OF REUSABILITY"
   ]
  },
  {
   "cell_type": "markdown",
   "id": "1027b7ba-427a-4e03-a7ef-06c4163fc6e8",
   "metadata": {},
   "source": [
    "2. When does the code in a function run: when it&#39;s specified or when it&#39;s called?"
   ]
  },
  {
   "cell_type": "markdown",
   "id": "7f6fc1f2-c551-4b79-b425-09100ff7c064",
   "metadata": {},
   "source": [
    "+ CODE IN A FUNCTION RUNS WHEN A FUNCTION IS CALLED NOT JUST SPECIFIED"
   ]
  },
  {
   "cell_type": "markdown",
   "id": "b8c72803-c793-46bb-9aac-99515d4b0dbf",
   "metadata": {},
   "source": [
    "3. What statement creates a function?"
   ]
  },
  {
   "cell_type": "markdown",
   "id": "3e240c7f-00ed-460f-a087-c227c7190928",
   "metadata": {},
   "source": [
    "* THE KEY WORD def  CREATES A FUNCITON IN PYTHON"
   ]
  },
  {
   "cell_type": "markdown",
   "id": "d41e7b76-eef8-4d8b-a2f4-9d0c26cc99dd",
   "metadata": {},
   "source": [
    "4. What is the difference between a function and a function call?"
   ]
  },
  {
   "cell_type": "markdown",
   "id": "312918a8-8427-4d27-aeb4-e43d144b22f4",
   "metadata": {},
   "source": [
    "+ THERE IS NO USE OF A FUNCTION UNLESS OR UNTILL ONE CALLS IT .\n",
    "+ FUNCTION IS SOMETHING TO ACHIEVE A TASK\n",
    "+ WHERE AS FUNCTION CALL DOES THAT TASK"
   ]
  },
  {
   "cell_type": "markdown",
   "id": "f2ed9e4b-6c48-4512-b993-7b49f2096532",
   "metadata": {},
   "source": [
    "5. How many global scopes are there in a Python program? How many local scopes?"
   ]
  },
  {
   "cell_type": "markdown",
   "id": "844c8d26-1b1c-4b03-a706-1aeee4c989ed",
   "metadata": {},
   "source": [
    "There's only one global Python scope per program execution. This scope remains in existence until the program terminates and all its names are forgotten."
   ]
  },
  {
   "cell_type": "markdown",
   "id": "312f7730-270a-4fd0-9477-467241ca7070",
   "metadata": {},
   "source": [
    "+ A Python scope determines where in your program a name is visible.\n",
    "+ IF YOU ASK ME HOW MANY LOCAL SCOPES , IF IT MEANS HOW MANY NAMES WHICH ARE NOT VISIBLE AT A MODULE LEVEL,IT REALLY DEPENDS UPON HOW MANY FUNCS,CLASS,ETC ARE PRESENT."
   ]
  },
  {
   "cell_type": "markdown",
   "id": "f9c06731-8ba8-4036-be86-403d8843d2bb",
   "metadata": {},
   "source": [
    "6. What happens to variables in a local scope when the function call returns?"
   ]
  },
  {
   "cell_type": "markdown",
   "id": "7cd0cc69-970e-42a3-bd81-deb35cde37a8",
   "metadata": {},
   "source": [
    "+ AFTER A FUNCTION CALL RETURNS ALL THE VARIABLES FROM MEMORY IS RELEASED AND IS NO LONGER AVAILABLE."
   ]
  },
  {
   "cell_type": "markdown",
   "id": "83b9986a-21df-47b8-b1c3-8a8f72ae454f",
   "metadata": {},
   "source": [
    "7. What is the concept of a return value? Is it possible to have a return value in an expression?"
   ]
  },
  {
   "cell_type": "markdown",
   "id": "14c630c1-17df-4c89-b70d-59c0e1dfadb4",
   "metadata": {},
   "source": [
    "+ YES IT IS POSSIBLE TO RETURN A VALUE IN EXPRESSION\n",
    "\n"
   ]
  },
  {
   "cell_type": "code",
   "execution_count": 8,
   "id": "04dfbe59-0d88-47bf-8441-de10f1c0992e",
   "metadata": {},
   "outputs": [
    {
     "data": {
      "text/plain": [
       "5"
      ]
     },
     "execution_count": 8,
     "metadata": {},
     "output_type": "execute_result"
    }
   ],
   "source": [
    "def add(a,b):\n",
    "    return a+b\n",
    "c=add(2,3)\n",
    "c"
   ]
  },
  {
   "cell_type": "markdown",
   "id": "a82d8b2d-8636-48bb-9c1a-c86a6815c326",
   "metadata": {},
   "source": [
    "+ THIS PARTICLAR KEYWORD IN PYTHON (return) ALLOWS FUNCS TO RETURN DATATYPES WITH CERTAIN VALUES ASSOCIATRED WITH IT."
   ]
  },
  {
   "cell_type": "markdown",
   "id": "6ce98a1c-4ced-473d-8d57-885f1eb47b6c",
   "metadata": {},
   "source": [
    "8. If a function does not have a return statement, what is the return value of a call to that function?"
   ]
  },
  {
   "cell_type": "code",
   "execution_count": 11,
   "id": "ee9629e9-e2ab-480d-b3d1-655026d421b3",
   "metadata": {},
   "outputs": [],
   "source": [
    "# LETS GIVE IT A CHECK RIGHT HERE\n",
    "def add(*args):\n",
    "    sum(args)\n",
    "k=add(2,5,7,8,9,3)"
   ]
  },
  {
   "cell_type": "markdown",
   "id": "5affa103-6d03-4968-82fc-54af09b01ed4",
   "metadata": {},
   "source": [
    "+ RETRUN VALUE IS OF NONETYPE:AND THE FUNCTION RETURNS NOTHING"
   ]
  },
  {
   "cell_type": "markdown",
   "id": "566d630d-f5bb-4b6f-8346-2273586f7fa4",
   "metadata": {},
   "source": [
    "9. How do you make a function variable refer to the global variable?"
   ]
  },
  {
   "cell_type": "markdown",
   "id": "13c0c869-15ac-4b9b-ba88-54986c99ce48",
   "metadata": {},
   "source": [
    "+ ONE CAN USE GLOBAL KEYWORD BEFORE THE VARIABLE NAME.\n",
    "\n"
   ]
  },
  {
   "cell_type": "code",
   "execution_count": 17,
   "id": "573ae8a2-f08c-4e5c-981e-74aeea58bd4f",
   "metadata": {},
   "outputs": [],
   "source": [
    "def call(a,b):\n",
    "    global c\n",
    "    c=a*b\n",
    "    return c"
   ]
  },
  {
   "cell_type": "code",
   "execution_count": 19,
   "id": "705e51cf-d1df-41cd-b8cb-14b5b62b9366",
   "metadata": {},
   "outputs": [
    {
     "data": {
      "text/plain": [
       "6"
      ]
     },
     "execution_count": 19,
     "metadata": {},
     "output_type": "execute_result"
    }
   ],
   "source": [
    "call(2,3)"
   ]
  },
  {
   "cell_type": "code",
   "execution_count": 20,
   "id": "3d79a3f9-2aac-41cb-b13d-189ef0e7990d",
   "metadata": {},
   "outputs": [
    {
     "data": {
      "text/plain": [
       "6"
      ]
     },
     "execution_count": 20,
     "metadata": {},
     "output_type": "execute_result"
    }
   ],
   "source": [
    "c"
   ]
  },
  {
   "cell_type": "code",
   "execution_count": 21,
   "id": "b9f23b9d-e35b-4c17-88c2-4a53368abc3f",
   "metadata": {},
   "outputs": [],
   "source": [
    "# one needs declare the variable as globle first , then carry out actions on it."
   ]
  },
  {
   "cell_type": "markdown",
   "id": "cdac4c48-c5fc-45b1-b633-224b421fcd1d",
   "metadata": {},
   "source": [
    "10. What is the data type of None?"
   ]
  },
  {
   "cell_type": "code",
   "execution_count": 22,
   "id": "852f33eb-5ee6-4764-94e6-bdcda3cc9db8",
   "metadata": {},
   "outputs": [
    {
     "data": {
      "text/plain": [
       "NoneType"
      ]
     },
     "execution_count": 22,
     "metadata": {},
     "output_type": "execute_result"
    }
   ],
   "source": [
    "c=None\n",
    "type(c)"
   ]
  },
  {
   "cell_type": "markdown",
   "id": "58b2e36e-c80a-44aa-9eb4-f0aa54faed21",
   "metadata": {},
   "source": [
    "+ the datatype of None is NoneType"
   ]
  },
  {
   "cell_type": "markdown",
   "id": "b4529ddb-23c9-489d-a5ce-8cbf824b31ec",
   "metadata": {},
   "source": [
    "11. What does the sentence import areallyourpetsnamederic do?"
   ]
  },
  {
   "cell_type": "markdown",
   "id": "25e5c187-5537-4e8a-8faa-2af20be2e765",
   "metadata": {},
   "source": [
    "+ import areallyourpetsnamederic \n",
    "* imports the module areallyyourpetsnamederic to the current module if its in the same dir"
   ]
  },
  {
   "cell_type": "markdown",
   "id": "96321b9a-245f-436d-bdba-0e9f9c48388e",
   "metadata": {},
   "source": [
    "12. If you had a bacon() feature in a spam module, what would you call it after importing spam?"
   ]
  },
  {
   "cell_type": "markdown",
   "id": "58fa919a-4ad3-450a-a527-30dec0149c64",
   "metadata": {},
   "source": [
    "* from spam import bacon"
   ]
  },
  {
   "cell_type": "markdown",
   "id": "cef5b9cb-c265-4774-897e-378c750b9286",
   "metadata": {},
   "source": [
    "13. What can you do to save a programme from crashing if it encounters an error?"
   ]
  },
  {
   "cell_type": "markdown",
   "id": "c570e2bf-182d-42f1-9b99-afa6c9c2c7bb",
   "metadata": {},
   "source": [
    "+ IF ITS A SYNTATICAL ERROR CHECK AND CORRECT IT\n",
    "+ IF ITS A RUN TIME ERROR ONE CAN USE EXCEPTION HANDLING IN PYTHON"
   ]
  },
  {
   "cell_type": "markdown",
   "id": "a1d42b38-2cd6-47ba-931c-d2cb490e6da5",
   "metadata": {},
   "source": [
    "14. What is the purpose of the try clause? What is the purpose of the except clause?"
   ]
  },
  {
   "cell_type": "code",
   "execution_count": null,
   "id": "6ed36101-b854-4d77-9448-365b3ac0405d",
   "metadata": {},
   "outputs": [],
   "source": [
    "TRY :\n",
    "    THIS IS WHERE YOU WRITE YOUR CODE IF YOU THINK RUN TIME ERRORS CAN OCCUR IN THIS BLOCK OF CODE\n",
    "EXCEPT:\n",
    "    THIS BLOCK HANDLES YOUR RUN TIME ERRORS."
   ]
  },
  {
   "cell_type": "code",
   "execution_count": null,
   "id": "e041f903-26f2-4ae8-b4c8-75e552d3caaa",
   "metadata": {},
   "outputs": [],
   "source": []
  }
 ],
 "metadata": {
  "kernelspec": {
   "display_name": "Python 3 (ipykernel)",
   "language": "python",
   "name": "python3"
  },
  "language_info": {
   "codemirror_mode": {
    "name": "ipython",
    "version": 3
   },
   "file_extension": ".py",
   "mimetype": "text/x-python",
   "name": "python",
   "nbconvert_exporter": "python",
   "pygments_lexer": "ipython3",
   "version": "3.9.7"
  }
 },
 "nbformat": 4,
 "nbformat_minor": 5
}
