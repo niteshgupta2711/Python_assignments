{
 "cells": [
  {
   "cell_type": "markdown",
   "id": "b2267667",
   "metadata": {},
   "source": [
    "1. Given a list of numbers, create a function that removes 25% from every\n",
    "number in the list except the smallest number, and adds the total amount\n",
    "removed to the smallest number.\n",
    "Examples\n",
    "show_the_love([4, 1, 4]) ➞ [3, 3, 3]\n",
    "show_the_love([16, 10, 8]) ➞ [12, 7.5, 14.5]\n",
    "show_the_love([2, 100]) ➞ [27, 75]"
   ]
  },
  {
   "cell_type": "code",
   "execution_count": 10,
   "id": "d9730147",
   "metadata": {},
   "outputs": [],
   "source": [
    "def show_the_love(list1):\n",
    "    \n",
    "    i=list1.index(min(list1))\n",
    "    l=[(0.25)*list1[j] for j in range(len(list1)) if j!=i]\n",
    "    return [(1-0.25)*list1[j] for j in range(len(list1)) if j!=i]+[min(list1)+sum(l)]"
   ]
  },
  {
   "cell_type": "code",
   "execution_count": 11,
   "id": "f870fb57",
   "metadata": {},
   "outputs": [
    {
     "data": {
      "text/plain": [
       "[12.0, 7.5, 14.5]"
      ]
     },
     "execution_count": 11,
     "metadata": {},
     "output_type": "execute_result"
    }
   ],
   "source": [
    "show_the_love([16, 10, 8])"
   ]
  },
  {
   "cell_type": "markdown",
   "id": "c380da86",
   "metadata": {},
   "source": [
    "2. Create a function that takes in two words as input and returns a list of three\n",
    "elements, in the following order:\n",
    "1.Shared letters between two words.\n",
    "2.Letters unique to word 1.\n",
    "3.Letters unique to word 2.\n",
    "Each element should have unique letters, and have each letter be\n",
    "alphabetically sorted.\n",
    "Examples\n",
    "letters(&quot;sharp&quot;, &quot;soap&quot;) ➞ [&quot;aps&quot;, &quot;hr&quot;, &quot;o&quot;]\n",
    "letters(&quot;board&quot;, &quot;bored&quot;) ➞ [&quot;bdor&quot;, &quot;a&quot;, &quot;e&quot;]\n",
    "letters(&quot;happiness&quot;, &quot;envelope&quot;) ➞ [&quot;enp&quot;, &quot;ahis&quot;, &quot;lov&quot;]"
   ]
  },
  {
   "cell_type": "code",
   "execution_count": 12,
   "id": "09159fd5",
   "metadata": {},
   "outputs": [],
   "source": [
    "def letters(a,b):\n",
    "    s=''\n",
    "    if len(a)<len(b):\n",
    "        word=a\n",
    "        in_=b\n",
    "    else :\n",
    "        word=b\n",
    "        in_=a\n",
    "    for char in word:\n",
    "        if char in in_:\n",
    "            s+=char\n",
    "    return s,''.join([x for x in a if x not in s]),''.join([x for x in b if x not in s])"
   ]
  },
  {
   "cell_type": "code",
   "execution_count": 14,
   "id": "1e98a46d",
   "metadata": {},
   "outputs": [
    {
     "data": {
      "text/plain": [
       "('sap', 'hr', 'o')"
      ]
     },
     "execution_count": 14,
     "metadata": {},
     "output_type": "execute_result"
    }
   ],
   "source": [
    "letters('sharp','soap')"
   ]
  },
  {
   "cell_type": "markdown",
   "id": "e1196f42",
   "metadata": {},
   "source": [
    "3. Write a function that pairs the first number in an array with the last, the\n",
    "second number with the second to last, etc.\n",
    "Examples\n",
    "pairs([1, 2, 3, 4, 5, 6, 7]) ➞ [[1, 7], [2, 6], [3, 5], [4, 4]]\n",
    "\n",
    "pairs([1, 2, 3, 4, 5, 6]) ➞ [[1, 6], [2, 5], [3, 4]]"
   ]
  },
  {
   "cell_type": "code",
   "execution_count": 20,
   "id": "9414a675",
   "metadata": {},
   "outputs": [],
   "source": [
    "def pairs(list1):\n",
    "    l=[]\n",
    "    if len(list1)%2!=0:\n",
    "        h1,h2=list1[:len(list1)//2],list1[(len(list1)//2)+1:][::-1]\n",
    "        for x,y in zip(h1,h2):\n",
    "            l.append([x,y])\n",
    "        return l+[[list1[len(list1)//2],list1[len(list1)//2]]]\n",
    "    else:\n",
    "        h1,h2=list1[:(len(list1)//2)-1],list1[(len(list1)//2):][::-1]\n",
    "        for x,y in zip(h1,h2):\n",
    "            l.append([x,y])\n",
    "        return l\n",
    "    \n",
    "        "
   ]
  },
  {
   "cell_type": "code",
   "execution_count": 21,
   "id": "65dd99bf",
   "metadata": {},
   "outputs": [
    {
     "data": {
      "text/plain": [
       "[[1, 7], [2, 6], [3, 5], [4, 4]]"
      ]
     },
     "execution_count": 21,
     "metadata": {},
     "output_type": "execute_result"
    }
   ],
   "source": [
    "pairs([1, 2, 3, 4, 5, 6, 7])"
   ]
  },
  {
   "cell_type": "markdown",
   "id": "d66e1fe3",
   "metadata": {},
   "source": [
    "4. Write a function that adds two numbers. The catch, however, is that the\n",
    "numbers will be strings.\n",
    "Examples\n",
    "add_str_nums(&quot;4&quot;, &quot;5&quot;) ➞ &quot;9&quot;\n",
    "add_str_nums(&quot;abcdefg&quot;, &quot;3&quot;) ➞ &quot;-1&quot;\n",
    "add_str_nums(&quot;1&quot;, &quot;&quot;) ➞ &quot;1&quot;"
   ]
  },
  {
   "cell_type": "code",
   "execution_count": 22,
   "id": "68b83f4e",
   "metadata": {},
   "outputs": [],
   "source": [
    "def add_str_nums(a,b):\n",
    "    if a==\"\":\n",
    "        a='0'\n",
    "    if b=='':\n",
    "        b='0'\n",
    "    try:\n",
    "        l=[int(x) for x in [a,b]]\n",
    "        return sum(l)\n",
    "    except Exception as E:\n",
    "        return -1"
   ]
  },
  {
   "cell_type": "code",
   "execution_count": 23,
   "id": "0dd14042",
   "metadata": {},
   "outputs": [
    {
     "data": {
      "text/plain": [
       "-1"
      ]
     },
     "execution_count": 23,
     "metadata": {},
     "output_type": "execute_result"
    }
   ],
   "source": [
    "add_str_nums(\"abcdefg\", \"3\")"
   ]
  },
  {
   "cell_type": "code",
   "execution_count": 70,
   "id": "38087566",
   "metadata": {},
   "outputs": [],
   "source": [
    "from functools import reduce\n",
    "def unmix_word(word):\n",
    "    #return #''.join([word[i+1]+word[i] for i in range(0,len(word)-1,2)])\n",
    "    return [word[i+1]+word[i] for i in range(0,len(word)-1,2)]\n",
    "    \n",
    "\n",
    "def unmix(str1):\n",
    "    str1=str1.split()\n",
    "    if len(str1)==1:\n",
    "        return unmix_word(str1[0])\n",
    "    else:\n",
    "        return ' '.join([unmix(x) for x in str1])"
   ]
  },
  {
   "cell_type": "code",
   "execution_count": 72,
   "id": "5dbfb35a",
   "metadata": {},
   "outputs": [
    {
     "data": {
      "text/plain": [
       "'This is a mixed up strin'"
      ]
     },
     "execution_count": 72,
     "metadata": {},
     "output_type": "execute_result"
    }
   ],
   "source": [
    "''.join(unmix_word(\"hTsii  s aimex dpus rtni\"))"
   ]
  },
  {
   "cell_type": "markdown",
   "id": "381614b8",
   "metadata": {},
   "source": [
    "unmix(&quot;hTsii s aimex dpus rtni.g&quot;)"
   ]
  },
  {
   "cell_type": "code",
   "execution_count": null,
   "id": "417dc94e",
   "metadata": {},
   "outputs": [],
   "source": []
  }
 ],
 "metadata": {
  "kernelspec": {
   "display_name": "Python 3 (ipykernel)",
   "language": "python",
   "name": "python3"
  },
  "language_info": {
   "codemirror_mode": {
    "name": "ipython",
    "version": 3
   },
   "file_extension": ".py",
   "mimetype": "text/x-python",
   "name": "python",
   "nbconvert_exporter": "python",
   "pygments_lexer": "ipython3",
   "version": "3.9.7"
  }
 },
 "nbformat": 4,
 "nbformat_minor": 5
}
