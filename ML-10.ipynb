{
  "nbformat": 4,
  "nbformat_minor": 0,
  "metadata": {
    "colab": {
      "provenance": [],
      "collapsed_sections": [],
      "authorship_tag": "ABX9TyN9iYkadX8EvJfefYZGmTYy",
      "include_colab_link": true
    },
    "kernelspec": {
      "name": "python3",
      "display_name": "Python 3"
    },
    "language_info": {
      "name": "python"
    }
  },
  "cells": [
    {
      "cell_type": "markdown",
      "metadata": {
        "id": "view-in-github",
        "colab_type": "text"
      },
      "source": [
        "<a href=\"https://colab.research.google.com/github/niteshgupta2711/Python_assignments/blob/main/ML-10.ipynb\" target=\"_parent\"><img src=\"https://colab.research.google.com/assets/colab-badge.svg\" alt=\"Open In Colab\"/></a>"
      ]
    },
    {
      "cell_type": "markdown",
      "source": [
        "1. Define the Bayesian interpretation of probability.\n",
        "2. Define probability of a union of two events with equation.\n",
        "3. What is joint probability? What is its formula?\n",
        "4. What is chain rule of probability?\n",
        "5. What is conditional probability means? What is the formula of it?\n",
        "6. What are continuous random variables?\n",
        "7. What are Bernoulli distributions? What is the formula of it?\n",
        "8. What is binomial distribution? What is the formula?\n",
        "9. What is Poisson distribution? What is the formula?\n",
        "10. Define covariance.\n",
        "11. Define correlation\n",
        "12. Define sampling with replacement. Give example.\n",
        "13. What is sampling without replacement? Give example.\n",
        "14. What is hypothesis? Give example."
      ],
      "metadata": {
        "id": "MJHRHV2FvYFc"
      }
    },
    {
      "cell_type": "markdown",
      "source": [
        "1. Bayesian probability is an interpretation of the concept of probability, in which, instead of frequency or propensity of some phenomenon, probability is interpreted as reasonable expectation representing a state of knowledge or as quantification of a personal belief."
      ],
      "metadata": {
        "id": "oY6FFoxpvY7h"
      }
    },
    {
      "cell_type": "markdown",
      "source": [
        "2. P(A or B) = P(A) + P(B). The chance of any (one or more) of two or more events occurring is called the union of the events. The probability of the union of disjoint events is the sum of their individual probabilities."
      ],
      "metadata": {
        "id": "cREbbJbXvxKQ"
      }
    },
    {
      "cell_type": "markdown",
      "source": [
        "3. A joint probability is a possibility of occurring one or more independent events simultaneously, denoted as P (A∩B) or P (A and B). One can calculate it by multiplying the probability of both outcomes = P (A)*P (B)."
      ],
      "metadata": {
        "id": "ljkApxTtwTmP"
      }
    },
    {
      "cell_type": "markdown",
      "source": [
        "4. In probability theory, the chain rule permits the calculation of any member of the joint distribution of a set of random variables using only conditional probabilities. The rule is useful in the study of Bayesian networks, which describe a probability distribution in terms of conditional probabilities."
      ],
      "metadata": {
        "id": "DSMYkFO0wb3N"
      }
    },
    {
      "cell_type": "markdown",
      "source": [
        "5. Conditional probability refers to the chances that some outcome occurs given that another event has also occurred. It is often stated as the probability of B given A and is written as P(B|A), where the probability of B depends on that of A happening."
      ],
      "metadata": {
        "id": "B_68b2ncwmAW"
      }
    },
    {
      "cell_type": "markdown",
      "source": [
        "6. A random variable X is continuous if possible values comprise either a single interval on the number line or a union of disjoint intervals. Example: If in the study of the ecology of a lake, X, the r.v. may be depth measurements at randomly chosen locations"
      ],
      "metadata": {
        "id": "5gHhJTHZw-Xu"
      }
    },
    {
      "cell_type": "markdown",
      "source": [
        "7. Bernoulli Distribution is a type of discrete probability distribution where every experiment conducted asks a question that can be answered only in yes or no. In other words, the random variable can be 1 with a probability p or it can be 0 with a probability (1 - p). Such an experiment is called a Bernoulli trial. A pass or fail exam can be modeled by a Bernoulli Distribution.\n",
        "\n",
        "If we have a Binomial Distribution where n = 1 then it becomes a Bernoulli Distribution. As this distribution is very easy to understand, it is used as a basis for deriving more complex distributions. Bernoulli Distribution can be used to describe events that can only have two outcomes, that is, success or failure. In this article, we will learn about the formula, pmf, CDF, and other aspects of the Bernoulli Distribution.\n",
        "\n"
      ],
      "metadata": {
        "id": "EmkT45r2xPmV"
      }
    },
    {
      "cell_type": "markdown",
      "source": [
        "8. The binomial distribution is a commonly used discrete distribution in statistics. The normal distribution as opposed to a binomial distribution is a continuous distribution. The binomial distribution represents the probability for 'x' successes of an experiment in 'n' trials, given a success probability 'p' for each trial at the experiment."
      ],
      "metadata": {
        "id": "f0pEIK-Yxi_O"
      }
    },
    {
      "cell_type": "markdown",
      "source": [
        "9. In Poisson distribution, the mean of the distribution is represented by λ and e is constant, which is approximately equal to 2.71828. Then, the Poisson probability is: P(x, λ ) =(e– λ λx)/x!"
      ],
      "metadata": {
        "id": "dvObi81tyL6b"
      }
    },
    {
      "cell_type": "markdown",
      "source": [
        "10. In mathematics and statistics, covariance is a measure of the relationship between two random variables."
      ],
      "metadata": {
        "id": "XLtKIfxXyUr9"
      }
    },
    {
      "cell_type": "markdown",
      "source": [
        "11. Define correlationIn statistics, correlation or dependence is any statistical relationship, whether causal or not, between two random variables or bivariate data."
      ],
      "metadata": {
        "id": "Vb7165UVydL6"
      }
    },
    {
      "cell_type": "markdown",
      "source": [
        "12. When a sampling unit is drawn from a finite population and is returned to that population, after its characteristic(s) have been recorded, before the next unit is drawn, the sampling is said to be “with replacement”. In the contrary case the sampling is “without replacement"
      ],
      "metadata": {
        "id": "u7RSaAmmy4Zq"
      }
    },
    {
      "cell_type": "code",
      "source": [],
      "metadata": {
        "id": "Nze2ZRP_y_bz"
      },
      "execution_count": null,
      "outputs": []
    }
  ]
}