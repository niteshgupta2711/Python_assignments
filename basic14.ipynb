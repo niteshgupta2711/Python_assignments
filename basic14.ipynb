{
 "cells": [
  {
   "cell_type": "markdown",
   "id": "6961bbe9",
   "metadata": {},
   "source": [
    "Question 1:\n",
    "Define a class with a generator which can iterate the numbers, which are divisible by\n",
    "7, between a given range 0 and n.\n",
    "\n",
    "Question 2:\n",
    "Write a program to compute the frequency of the words from the input. The output\n",
    "should output after sorting the key alphanumerically.\n",
    "Suppose the following input is supplied to the program:\n",
    "New to Python or choosing between Python 2 and Python 3? Read Python 2 or\n",
    "Python 3.\n",
    "Then, the output should be:\n",
    "2:2\n",
    "3.:1\n",
    "3?:1\n",
    "New:1\n",
    "Python:5\n",
    "Read:1\n",
    "and:1\n",
    "between:1\n",
    "choosing:1\n",
    "or:2\n",
    "to:1\n",
    "\n",
    "Question 3:\n",
    "\n",
    "Define a class Person and its two child classes: Male and Female. All classes have a\n",
    "method &quot;getGender&quot; which can print &quot;Male&quot; for Male class and &quot;Female&quot; for Female\n",
    "class.\n",
    "\n",
    "Question 4:\n",
    "Please write a program to generate all sentences where subject is in [&quot;I&quot;, &quot;You&quot;] and\n",
    "verb is in [&quot;Play&quot;, &quot;Love&quot;] and the object is in [&quot;Hockey&quot;,&quot;Football&quot;].\n",
    "\n",
    "Question 5:\n",
    "Please write a program to compress and decompress the string &quot;hello world!hello\n",
    "world!hello world!hello world!&quot;.\n",
    "\n",
    "Question 6:\n",
    "Please write a binary search function which searches an item in a sorted list. The\n",
    "function should return the index of element to be searched in the list."
   ]
  },
  {
   "cell_type": "code",
   "execution_count": 1,
   "id": "c5fb7b4b",
   "metadata": {},
   "outputs": [],
   "source": [
    "class gen:\n",
    "    def __init__(self,n):\n",
    "        self.n=n\n",
    "    def __iter__(self):\n",
    "        for i in range(self.n):\n",
    "            if i%7==0:\n",
    "                yield i"
   ]
  },
  {
   "cell_type": "code",
   "execution_count": 4,
   "id": "ca151f0c",
   "metadata": {},
   "outputs": [],
   "source": [
    "gen1=gen(10)\n",
    "from collections import OrderedDict"
   ]
  },
  {
   "cell_type": "code",
   "execution_count": 3,
   "id": "68f3b062",
   "metadata": {},
   "outputs": [
    {
     "name": "stdout",
     "output_type": "stream",
     "text": [
      "0\n",
      "7\n"
     ]
    }
   ],
   "source": [
    "for i in gen1:\n",
    "    print(i)"
   ]
  },
  {
   "cell_type": "code",
   "execution_count": 5,
   "id": "7e0949c6",
   "metadata": {},
   "outputs": [
    {
     "name": "stdout",
     "output_type": "stream",
     "text": [
      "enter the wordsNew to Python or choosing between Python 2 and Python 3? Read Python 2 or Python 3\n"
     ]
    }
   ],
   "source": [
    "inp=input(\"enter the words\")\n",
    "d={}\n",
    "for word in inp.split():\n",
    "    if word not in d:\n",
    "        d[word]=1\n",
    "    else :\n",
    "        d[word]+=1\n",
    "        \n",
    "d=OrderedDict(d)   "
   ]
  },
  {
   "cell_type": "code",
   "execution_count": 6,
   "id": "989f505e",
   "metadata": {},
   "outputs": [
    {
     "data": {
      "text/plain": [
       "OrderedDict([('New', 1),\n",
       "             ('to', 1),\n",
       "             ('Python', 5),\n",
       "             ('or', 2),\n",
       "             ('choosing', 1),\n",
       "             ('between', 1),\n",
       "             ('2', 2),\n",
       "             ('and', 1),\n",
       "             ('3?', 1),\n",
       "             ('Read', 1),\n",
       "             ('3', 1)])"
      ]
     },
     "execution_count": 6,
     "metadata": {},
     "output_type": "execute_result"
    }
   ],
   "source": [
    "d"
   ]
  },
  {
   "cell_type": "code",
   "execution_count": 7,
   "id": "847cde4b",
   "metadata": {},
   "outputs": [],
   "source": [
    "class Male:\n",
    "    def getgender(self):\n",
    "        print(\"Male\")\n",
    "    \n",
    "class Female:\n",
    "    def getgender(self):\n",
    "        print(\"Female\")\n",
    "    "
   ]
  },
  {
   "cell_type": "code",
   "execution_count": 8,
   "id": "73933f52",
   "metadata": {},
   "outputs": [],
   "source": [
    "class Person(Male,Female):\n",
    "    pass"
   ]
  },
  {
   "cell_type": "code",
   "execution_count": 9,
   "id": "6437fbf9",
   "metadata": {},
   "outputs": [],
   "source": [
    "from itertools import permutations as p"
   ]
  },
  {
   "cell_type": "code",
   "execution_count": 10,
   "id": "148e7a8c",
   "metadata": {},
   "outputs": [
    {
     "name": "stdout",
     "output_type": "stream",
     "text": [
      "I Play Hockey\n",
      "I Play Football\n",
      "I Love Hockey\n",
      "I Love Football\n",
      "You Play Hockey\n",
      "You Play Football\n",
      "You Love Hockey\n",
      "You Love Football\n"
     ]
    }
   ],
   "source": [
    "k,l,t=[\"I\", \"You\"],[\"Play\", \"Love\"],[\"Hockey\",\"Football\"]\n",
    "for i in k:\n",
    "    for j in l:\n",
    "        for h in t:\n",
    "            print(f'{i} {j} {h}')"
   ]
  },
  {
   "cell_type": "code",
   "execution_count": 11,
   "id": "e3f4eeb7",
   "metadata": {},
   "outputs": [],
   "source": [
    "str1='hello world!hello world!hello world!hello world!'.encode('utf8')"
   ]
  },
  {
   "cell_type": "code",
   "execution_count": 19,
   "id": "c116c791",
   "metadata": {},
   "outputs": [],
   "source": [
    "str2=str1.decode('utf')"
   ]
  },
  {
   "cell_type": "code",
   "execution_count": 27,
   "id": "24788b3d",
   "metadata": {},
   "outputs": [],
   "source": [
    "import lzma\n",
    "data = b\"Welcome to TutorialsPoint\"\n",
    "f = lzma.open(\"test.xz\",\"wb\")\n",
    "f.write(data)\n",
    "f.close()"
   ]
  },
  {
   "cell_type": "code",
   "execution_count": 1,
   "id": "30824a0a",
   "metadata": {},
   "outputs": [
    {
     "name": "stdout",
     "output_type": "stream",
     "text": [
      "Element is present at index  3\n"
     ]
    }
   ],
   "source": [
    "# Python3 Program for recursive binary search.\n",
    "\n",
    "# Returns index of x in arr if present, else -1\n",
    "\n",
    "\n",
    "def binarySearch(arr, l, r, x):\n",
    "\n",
    "\t# Check base case\n",
    "\tif r >= l:\n",
    "\n",
    "\t\tmid = l + (r - l) // 2\n",
    "\n",
    "\t\t# If element is present at the middle itself\n",
    "\t\tif arr[mid] == x:\n",
    "\t\t\treturn mid\n",
    "\n",
    "\t\t# If element is smaller than mid, then it\n",
    "\t\t# can only be present in left subarray\n",
    "\t\telif arr[mid] > x:\n",
    "\t\t\treturn binarySearch(arr, l, mid-1, x)\n",
    "\n",
    "\t\t# Else the element can only be present\n",
    "\t\t# in right subarray\n",
    "\t\telse:\n",
    "\t\t\treturn binarySearch(arr, mid + 1, r, x)\n",
    "\n",
    "\telse:\n",
    "\t\t# Element is not present in the array\n",
    "\t\treturn -1\n",
    "\n",
    "\n",
    "# Driver Code\n",
    "arr = [2, 3, 4, 10, 40]\n",
    "x = 10\n",
    "\n",
    "# Function call\n",
    "result = binarySearch(arr, 0, len(arr)-1, x)\n",
    "\n",
    "if result != -1:\n",
    "\tprint(\"Element is present at index % d\" % result)\n",
    "else:\n",
    "\tprint(\"Element is not present in array\")\n"
   ]
  },
  {
   "cell_type": "code",
   "execution_count": null,
   "id": "397e7620",
   "metadata": {},
   "outputs": [],
   "source": []
  }
 ],
 "metadata": {
  "kernelspec": {
   "display_name": "Python 3 (ipykernel)",
   "language": "python",
   "name": "python3"
  },
  "language_info": {
   "codemirror_mode": {
    "name": "ipython",
    "version": 3
   },
   "file_extension": ".py",
   "mimetype": "text/x-python",
   "name": "python",
   "nbconvert_exporter": "python",
   "pygments_lexer": "ipython3",
   "version": "3.9.7"
  }
 },
 "nbformat": 4,
 "nbformat_minor": 5
}
