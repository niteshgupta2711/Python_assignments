{
 "cells": [
  {
   "cell_type": "markdown",
   "id": "010b4e8f",
   "metadata": {},
   "source": [
    "1. Create a function that transposes a 2D matrix.\n",
    "Examples\n",
    "transpose_matrix([\n",
    "[1, 1, 1],\n",
    "[2, 2, 2],\n",
    "[3, 3, 3]\n",
    "]) ➞ [\n",
    "[1, 2, 3],\n",
    "[1, 2, 3],\n",
    "[1, 2, 3]\n",
    "]\n",
    "transpose_matrix([\n",
    "[5, 5],\n",
    "[6, 7],\n",
    "[9, 1]\n",
    "]) ➞ [\n",
    "[5, 6, 9],\n",
    "[5, 7, 1]\n",
    "]"
   ]
  },
  {
   "cell_type": "code",
   "execution_count": 2,
   "id": "af9d4b80",
   "metadata": {},
   "outputs": [],
   "source": [
    "import numpy as np"
   ]
  },
  {
   "cell_type": "code",
   "execution_count": 3,
   "id": "5aeadbb6",
   "metadata": {},
   "outputs": [],
   "source": [
    "def transpose_matrix(arr):\n",
    "    return np.array(arr).T"
   ]
  },
  {
   "cell_type": "code",
   "execution_count": 4,
   "id": "0fa5a2cb",
   "metadata": {},
   "outputs": [
    {
     "data": {
      "text/plain": [
       "array([[5, 6, 9],\n",
       "       [5, 7, 1]])"
      ]
     },
     "execution_count": 4,
     "metadata": {},
     "output_type": "execute_result"
    }
   ],
   "source": [
    "transpose_matrix([ [5, 5], [6, 7], [9, 1] ])"
   ]
  },
  {
   "cell_type": "markdown",
   "id": "cb376f58",
   "metadata": {},
   "source": [
    "2. Create a function that determines whether a string is a valid hex code.\n",
    "A hex code must begin with a pound key # and is exactly 6 characters in\n",
    "length. Each character must be a digit from 0-9 or an alphabetic character\n",
    "from A-F. All alphabetic characters may be uppercase or lowercase.\n",
    "Examples\n",
    "is_valid_hex_code(&quot;#CD5C5C&quot;) ➞ True\n",
    "is_valid_hex_code(&quot;#EAECEE&quot;) ➞ True\n",
    "is_valid_hex_code(&quot;#eaecee&quot;) ➞ True\n",
    "is_valid_hex_code(&quot;#CD5C58C&quot;) ➞ False\n",
    "# Length exceeds 6\n",
    "is_valid_hex_code(&quot;#CD5C5Z&quot;) ➞ False\n",
    "# Not all alphabetic characters in A-F\n",
    "is_valid_hex_code(&quot;#CD5C&amp;C&quot;) ➞ False\n",
    "# Contains unacceptable character"
   ]
  },
  {
   "cell_type": "code",
   "execution_count": 17,
   "id": "8fd01cd2",
   "metadata": {},
   "outputs": [],
   "source": [
    "import codecs\n",
    "\n",
    "def is_valid_hex_code(str1):\n",
    "    try:\n",
    "        codecs.decode(str1[1:],'hex')\n",
    "        return True\n",
    "    except Exception as E:\n",
    "        return False\n",
    "    "
   ]
  },
  {
   "cell_type": "code",
   "execution_count": 18,
   "id": "8b88f29e",
   "metadata": {},
   "outputs": [
    {
     "data": {
      "text/plain": [
       "False"
      ]
     },
     "execution_count": 18,
     "metadata": {},
     "output_type": "execute_result"
    }
   ],
   "source": [
    "is_valid_hex_code(\"#CD5C5Z\")"
   ]
  },
  {
   "cell_type": "markdown",
   "id": "56895190",
   "metadata": {},
   "source": [
    "3. Given a list of math equations (given as strings), return the percentage of\n",
    "correct answers as a string. Round to the nearest whole number.\n",
    "Examples\n",
    "mark_maths([&quot;2+2=4&quot;, &quot;3+2=5&quot;, &quot;10-3=3&quot;, &quot;5+5=10&quot;]) ➞ &quot;75%&quot;\n",
    "mark_maths([&quot;1-2=-2&quot;]), &quot;0%&quot;\n",
    "mark_maths([&quot;2+3=5&quot;, &quot;4+4=9&quot;, &quot;3-1=2&quot;]) ➞ &quot;67%&quot;"
   ]
  },
  {
   "cell_type": "code",
   "execution_count": 26,
   "id": "5734c153",
   "metadata": {},
   "outputs": [],
   "source": [
    "def mark_maths(list1):\n",
    "    l=len(list1)\n",
    "    su=0\n",
    "    for eq in list1:\n",
    "        if eval(eq.replace('=','==')):\n",
    "                su+=1\n",
    "    return f'{(su/l)*100}%'"
   ]
  },
  {
   "cell_type": "code",
   "execution_count": 27,
   "id": "ea074823",
   "metadata": {},
   "outputs": [
    {
     "data": {
      "text/plain": [
       "'66.66666666666666%'"
      ]
     },
     "execution_count": 27,
     "metadata": {},
     "output_type": "execute_result"
    }
   ],
   "source": [
    "mark_maths([\"2+3=5\", \"4+4=9\", \"3-1=2\"])"
   ]
  },
  {
   "cell_type": "markdown",
   "id": "136102cc",
   "metadata": {},
   "source": [
    "4. There are two players, Alice and Bob, each with a 3-by-3 grid. A referee\n",
    "tells Alice to fill out one particular row in the grid (say the second row) by\n",
    "putting either a 1 or a 0 in each box, such that the sum of the numbers in that\n",
    "row is odd. The referee tells Bob to fill out one column in the grid (say the first\n",
    "column) by putting either a 1 or a 0 in each box, such that the sum of the\n",
    "numbers in that column is even.\n",
    "Alice and Bob win the game if Alice’s numbers give an odd sum, Bob’s give\n",
    "an even sum, and (most important) they’ve each written down the same\n",
    "number in the one square where their row and column intersect.\n",
    "Examples\n",
    "magic_square_game([2, &quot;100&quot;], [1, &quot;101&quot;]) ➞ False\n",
    "magic_square_game([2, &quot;001&quot;], [1, &quot;101&quot;]) ➞ True\n",
    "magic_square_game([3, &quot;111&quot;], [2, &quot;011&quot;]) ➞ True\n",
    "magic_square_game([1, &quot;010&quot;], [3, &quot;101&quot;]) ➞ False"
   ]
  },
  {
   "cell_type": "code",
   "execution_count": 28,
   "id": "aafff870",
   "metadata": {},
   "outputs": [],
   "source": [
    "import numpy as np"
   ]
  },
  {
   "cell_type": "code",
   "execution_count": 43,
   "id": "bf460c84",
   "metadata": {},
   "outputs": [],
   "source": [
    "def magic_square_game(list1,list2,grid=np.zeros([3,3])):\n",
    "    list1_=[int(x) for x in list1[1]]\n",
    "    list2_=[int(x) for x in list2[1]]\n",
    "    alice=grid[list1[0]-1]=list1_\n",
    "    bob=grid[:,list2[0]-1]=list2_\n",
    "    return sum(alice)%2!=0 and sum(bob)%2==0"
   ]
  },
  {
   "cell_type": "code",
   "execution_count": 44,
   "id": "4815b049",
   "metadata": {},
   "outputs": [],
   "source": [
    "l=np.zeros((3,3))"
   ]
  },
  {
   "cell_type": "code",
   "execution_count": 45,
   "id": "0f8208b2",
   "metadata": {},
   "outputs": [],
   "source": [
    "l[0]=[1,2,3]"
   ]
  },
  {
   "cell_type": "code",
   "execution_count": 46,
   "id": "7ec6c58b",
   "metadata": {},
   "outputs": [
    {
     "data": {
      "text/plain": [
       "True"
      ]
     },
     "execution_count": 46,
     "metadata": {},
     "output_type": "execute_result"
    }
   ],
   "source": [
    "magic_square_game([2, \"001\"], [1, \"101\"])"
   ]
  },
  {
   "cell_type": "code",
   "execution_count": null,
   "id": "22e2e1e0",
   "metadata": {},
   "outputs": [],
   "source": []
  },
  {
   "cell_type": "code",
   "execution_count": null,
   "id": "85a2248c",
   "metadata": {},
   "outputs": [],
   "source": []
  }
 ],
 "metadata": {
  "kernelspec": {
   "display_name": "Python 3 (ipykernel)",
   "language": "python",
   "name": "python3"
  },
  "language_info": {
   "codemirror_mode": {
    "name": "ipython",
    "version": 3
   },
   "file_extension": ".py",
   "mimetype": "text/x-python",
   "name": "python",
   "nbconvert_exporter": "python",
   "pygments_lexer": "ipython3",
   "version": "3.9.7"
  }
 },
 "nbformat": 4,
 "nbformat_minor": 5
}
