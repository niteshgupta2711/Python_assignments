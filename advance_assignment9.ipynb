{
 "cells": [
  {
   "cell_type": "markdown",
   "id": "a1e8d03e",
   "metadata": {},
   "source": [
    "Q1. In Python 3.X, what are the names and functions of string object types?\n",
    "\n",
    "Q2. How do the string forms in Python 3.X vary in terms of operations?\n",
    "\n",
    "Q3. In 3.X, how do you put non-ASCII Unicode characters in a string?\n",
    "\n",
    "Q4. In Python 3.X, what are the key differences between text-mode and binary-mode files?\n",
    "\n",
    "Q5. How can you interpret a Unicode text file containing text encoded in a different encoding than\n",
    "your platform&#39;s default?\n",
    "\n",
    "Q6. What is the best way to make a Unicode text file in a particular encoding format?\n",
    "\n",
    "Q7. What qualifies ASCII text as a form of Unicode text?\n",
    "\n",
    "Q8. How much of an effect does the change in string types in Python 3.X have on your code?"
   ]
  },
  {
   "cell_type": "code",
   "execution_count": 1,
   "id": "d1f507c5",
   "metadata": {},
   "outputs": [],
   "source": [
    "# HERE IT IS PYTHON 3.X"
   ]
  },
  {
   "cell_type": "code",
   "execution_count": 2,
   "id": "734415c8",
   "metadata": {},
   "outputs": [],
   "source": [
    "ni='hello world'"
   ]
  },
  {
   "cell_type": "code",
   "execution_count": 3,
   "id": "6feac529",
   "metadata": {},
   "outputs": [
    {
     "data": {
      "text/plain": [
       "['__add__',\n",
       " '__class__',\n",
       " '__contains__',\n",
       " '__delattr__',\n",
       " '__dir__',\n",
       " '__doc__',\n",
       " '__eq__',\n",
       " '__format__',\n",
       " '__ge__',\n",
       " '__getattribute__',\n",
       " '__getitem__',\n",
       " '__getnewargs__',\n",
       " '__gt__',\n",
       " '__hash__',\n",
       " '__init__',\n",
       " '__init_subclass__',\n",
       " '__iter__',\n",
       " '__le__',\n",
       " '__len__',\n",
       " '__lt__',\n",
       " '__mod__',\n",
       " '__mul__',\n",
       " '__ne__',\n",
       " '__new__',\n",
       " '__reduce__',\n",
       " '__reduce_ex__',\n",
       " '__repr__',\n",
       " '__rmod__',\n",
       " '__rmul__',\n",
       " '__setattr__',\n",
       " '__sizeof__',\n",
       " '__str__',\n",
       " '__subclasshook__',\n",
       " 'capitalize',\n",
       " 'casefold',\n",
       " 'center',\n",
       " 'count',\n",
       " 'encode',\n",
       " 'endswith',\n",
       " 'expandtabs',\n",
       " 'find',\n",
       " 'format',\n",
       " 'format_map',\n",
       " 'index',\n",
       " 'isalnum',\n",
       " 'isalpha',\n",
       " 'isascii',\n",
       " 'isdecimal',\n",
       " 'isdigit',\n",
       " 'isidentifier',\n",
       " 'islower',\n",
       " 'isnumeric',\n",
       " 'isprintable',\n",
       " 'isspace',\n",
       " 'istitle',\n",
       " 'isupper',\n",
       " 'join',\n",
       " 'ljust',\n",
       " 'lower',\n",
       " 'lstrip',\n",
       " 'maketrans',\n",
       " 'partition',\n",
       " 'removeprefix',\n",
       " 'removesuffix',\n",
       " 'replace',\n",
       " 'rfind',\n",
       " 'rindex',\n",
       " 'rjust',\n",
       " 'rpartition',\n",
       " 'rsplit',\n",
       " 'rstrip',\n",
       " 'split',\n",
       " 'splitlines',\n",
       " 'startswith',\n",
       " 'strip',\n",
       " 'swapcase',\n",
       " 'title',\n",
       " 'translate',\n",
       " 'upper',\n",
       " 'zfill']"
      ]
     },
     "execution_count": 3,
     "metadata": {},
     "output_type": "execute_result"
    }
   ],
   "source": [
    "dir(ni)"
   ]
  },
  {
   "cell_type": "code",
   "execution_count": 4,
   "id": "f6008978",
   "metadata": {},
   "outputs": [
    {
     "data": {
      "text/plain": [
       "'hello worldhello '"
      ]
     },
     "execution_count": 4,
     "metadata": {},
     "output_type": "execute_result"
    }
   ],
   "source": [
    "ni+ \"hello \""
   ]
  },
  {
   "cell_type": "code",
   "execution_count": 5,
   "id": "ec992cdd",
   "metadata": {},
   "outputs": [
    {
     "data": {
      "text/plain": [
       "'hello worldhello world'"
      ]
     },
     "execution_count": 5,
     "metadata": {},
     "output_type": "execute_result"
    }
   ],
   "source": [
    "ni*2"
   ]
  },
  {
   "cell_type": "code",
   "execution_count": 7,
   "id": "89dcbc6b",
   "metadata": {},
   "outputs": [
    {
     "data": {
      "text/plain": [
       "\"'hello world'\""
      ]
     },
     "execution_count": 7,
     "metadata": {},
     "output_type": "execute_result"
    }
   ],
   "source": [
    "repr(ni)"
   ]
  },
  {
   "cell_type": "code",
   "execution_count": 8,
   "id": "33dc41d2",
   "metadata": {},
   "outputs": [
    {
     "data": {
      "text/plain": [
       "'hello abc'"
      ]
     },
     "execution_count": 8,
     "metadata": {},
     "output_type": "execute_result"
    }
   ],
   "source": [
    " unicode_string = u\"hello aåbäcö\"\n",
    ">>> unicode_string.encode(\"ascii\", \"ignore\")\n",
    "'hello abc'"
   ]
  },
  {
   "cell_type": "code",
   "execution_count": 11,
   "id": "91f4176b",
   "metadata": {},
   "outputs": [
    {
     "name": "stdout",
     "output_type": "stream",
     "text": [
      "aaaacce\n"
     ]
    }
   ],
   "source": [
    "import unicodedata\n",
    "\n",
    "stringVal = u'áæãåāœčćęßßßわた'\n",
    "\n",
    "print(unicodedata.normalize('NFKD', stringVal).encode('ascii', 'ignore').decode())"
   ]
  },
  {
   "cell_type": "code",
   "execution_count": 10,
   "id": "64def366",
   "metadata": {},
   "outputs": [
    {
     "data": {
      "text/plain": [
       "14"
      ]
     },
     "execution_count": 10,
     "metadata": {},
     "output_type": "execute_result"
    }
   ],
   "source": [
    "len(stringVal)"
   ]
  },
  {
   "cell_type": "markdown",
   "id": "6cd011c8",
   "metadata": {},
   "source": [
    "In text file, text, character, numbers are stored one character per byte i.e. 32667 occupies 5 bytes even though it occupies 2 bytes in memory.\n",
    "In binary file data is stored in binary format and each data would occupy the same number of bytes on disks as it occupies in memory.\n",
    "\n",
    "In the text file, the newline character is converted to carriage-return/linefeed before being written to the disk.\n",
    "In binary file, conversion of newline to carriage-return and linefeed does not take place.\n",
    "\n",
    "Text files are used to store data more user friendly.\n",
    "Binary files are used to store data more compactly.\n",
    "\n",
    "In the text file, a special character whose ASCII value is 26 inserted after the last character to mark the end of file.\n",
    "In the binary file no such character is present. Files keep track of the end of the file from the number of characters present.\n",
    "\n",
    "Content written in text files is human readable.\n",
    "Content written in binary files is not human readable and looks like encrypted content."
   ]
  },
  {
   "cell_type": "code",
   "execution_count": 16,
   "id": "f0898f2a",
   "metadata": {},
   "outputs": [],
   "source": [
    "# open('data.txt',encoding='utf8')"
   ]
  },
  {
   "cell_type": "code",
   "execution_count": 30,
   "id": "ae6ab75f",
   "metadata": {},
   "outputs": [],
   "source": [
    "with open(\"can.txt\",'wb') as f:\n",
    "    f.write(u\"hello world\".encode('utf8'))"
   ]
  },
  {
   "cell_type": "code",
   "execution_count": 50,
   "id": "566ca416",
   "metadata": {},
   "outputs": [],
   "source": [
    "unicode_text = u'ʑʒʓʔʕʗʘʙʚʛʜʝʞ'\n",
    "encoded_unicode = unicode_text.encode(\"utf8\")\n",
    "\n",
    "a_file = open(\"textfile.txt\", \"wb\")\n",
    "a_file.write(encoded_unicode)\n",
    "\n",
    "a_file = open(\"textfile.txt\", \"rb\")\n",
    "\n"
   ]
  },
  {
   "cell_type": "code",
   "execution_count": 51,
   "id": "86fdcf16",
   "metadata": {},
   "outputs": [
    {
     "data": {
      "text/plain": [
       "'ʑʒʓʔʕʗʘʙʚʛʜʝʞ'"
      ]
     },
     "execution_count": 51,
     "metadata": {},
     "output_type": "execute_result"
    }
   ],
   "source": [
    "a_file.read().decode('utf-8')"
   ]
  },
  {
   "cell_type": "code",
   "execution_count": 49,
   "id": "af4c4c7b",
   "metadata": {},
   "outputs": [],
   "source": [
    "# the first 128 characters in UTF-8 represent ascii characters"
   ]
  },
  {
   "cell_type": "code",
   "execution_count": null,
   "id": "8952b689",
   "metadata": {},
   "outputs": [],
   "source": []
  }
 ],
 "metadata": {
  "kernelspec": {
   "display_name": "Python 3 (ipykernel)",
   "language": "python",
   "name": "python3"
  },
  "language_info": {
   "codemirror_mode": {
    "name": "ipython",
    "version": 3
   },
   "file_extension": ".py",
   "mimetype": "text/x-python",
   "name": "python",
   "nbconvert_exporter": "python",
   "pygments_lexer": "ipython3",
   "version": "3.9.7"
  }
 },
 "nbformat": 4,
 "nbformat_minor": 5
}
