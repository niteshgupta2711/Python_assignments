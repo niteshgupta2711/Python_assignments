{
 "cells": [
  {
   "cell_type": "markdown",
   "id": "58327bf4",
   "metadata": {},
   "source": [
    "1. What is the concept of an abstract superclass?\n",
    "\n",
    "2. What happens when a class statement&#39;s top level contains a basic assignment statement?\n",
    "\n",
    "3. Why does a class need to manually call a superclass&#39;s __init__ method?\n",
    "\n",
    "4. How can you augment, instead of completely replacing, an inherited method?\n",
    "\n",
    "5. How is the local scope of a class different from that of a function?"
   ]
  },
  {
   "cell_type": "markdown",
   "id": "8522b86a",
   "metadata": {},
   "source": [
    "+ An abstract class can be considered as a blueprint for other classes. It allows you to create a set of methods that must be created within any child classes built from the abstract class. A class which contains one or more abstract methods is called an abstract class. An abstract method is a method that has a declaration but does not have an implementation. While we are designing large functional units we use an abstract class. When we want to provide a common interface for different implementations of a component, we use an abstract class. \n",
    "+ By defining an abstract base class, you can define a common Application Program Interface(API) for a set of subclasses. This capability is especially useful in situations where a third-party is going to provide implementations, such as with plugins, but can also help you when working in a large team or with a large code-base where keeping all classes in your mind is difficult or not possible. \n",
    "+ By default, Python does not provide abstract classes. Python comes with a module that provides the base for defining Abstract Base classes(ABC) and that module name is ABC. ABC works by decorating methods of the base class as abstract and then registering concrete classes as implementations of the abstract base. A method becomes abstract when decorated with the keyword @abstractmethod."
   ]
  },
  {
   "cell_type": "code",
   "execution_count": 1,
   "id": "b065911c",
   "metadata": {},
   "outputs": [
    {
     "name": "stdout",
     "output_type": "stream",
     "text": [
      "I have 3 sides\n",
      "I have 4 sides\n",
      "I have 5 sides\n",
      "I have 6 sides\n"
     ]
    }
   ],
   "source": [
    "# Python program showing\n",
    "# abstract base class work\n",
    "# you can not instantiate abstract class\n",
    "\n",
    "from abc import ABC, abstractmethod\n",
    "\n",
    "class Polygon(ABC):\n",
    "\n",
    "\t@abstractmethod\n",
    "\tdef noofsides(self):\n",
    "\t\tpass\n",
    "\n",
    "class Triangle(Polygon):\n",
    "\n",
    "\t# overriding abstract method\n",
    "\tdef noofsides(self):\n",
    "\t\tprint(\"I have 3 sides\")\n",
    "\n",
    "class Pentagon(Polygon):\n",
    "\n",
    "\t# overriding abstract method\n",
    "\tdef noofsides(self):\n",
    "\t\tprint(\"I have 5 sides\")\n",
    "\n",
    "class Hexagon(Polygon):\n",
    "\n",
    "\t# overriding abstract method\n",
    "\tdef noofsides(self):\n",
    "\t\tprint(\"I have 6 sides\")\n",
    "\n",
    "class Quadrilateral(Polygon):\n",
    "\n",
    "\t# overriding abstract method\n",
    "\tdef noofsides(self):\n",
    "\t\tprint(\"I have 4 sides\")\n",
    "\n",
    "# Driver code\n",
    "R = Triangle()\n",
    "R.noofsides()\n",
    "\n",
    "K = Quadrilateral()\n",
    "K.noofsides()\n",
    "\n",
    "R = Pentagon()\n",
    "R.noofsides()\n",
    "\n",
    "K = Hexagon()\n",
    "K.noofsides()\n"
   ]
  },
  {
   "cell_type": "code",
   "execution_count": 2,
   "id": "b09ff27a",
   "metadata": {},
   "outputs": [
    {
     "name": "stdout",
     "output_type": "stream",
     "text": [
      "True\n",
      "True\n"
     ]
    }
   ],
   "source": [
    "# Python program showing\n",
    "# implementation of abstract\n",
    "# class through subclassing\n",
    "\n",
    "import abc\n",
    "\n",
    "class parent:\t\n",
    "\tdef geeks(self):\n",
    "\t\tpass\n",
    "\n",
    "class child(parent):\n",
    "\tdef geeks(self):\n",
    "\t\tprint(\"child class\")\n",
    "\n",
    "# Driver code\n",
    "print( issubclass(child, parent))\n",
    "print( isinstance(child(), parent))\n"
   ]
  },
  {
   "cell_type": "code",
   "execution_count": 3,
   "id": "1be472c2",
   "metadata": {},
   "outputs": [],
   "source": [
    "class dog:\n",
    "    name=\"scissors\""
   ]
  },
  {
   "cell_type": "code",
   "execution_count": 4,
   "id": "9c774063",
   "metadata": {},
   "outputs": [],
   "source": [
    "d=dog()"
   ]
  },
  {
   "cell_type": "code",
   "execution_count": 5,
   "id": "c832165d",
   "metadata": {},
   "outputs": [
    {
     "data": {
      "text/plain": [
       "'scissors'"
      ]
     },
     "execution_count": 5,
     "metadata": {},
     "output_type": "execute_result"
    }
   ],
   "source": [
    "d.name"
   ]
  },
  {
   "cell_type": "code",
   "execution_count": 6,
   "id": "f9bfc3e2",
   "metadata": {},
   "outputs": [
    {
     "data": {
      "text/plain": [
       "'scissors'"
      ]
     },
     "execution_count": 6,
     "metadata": {},
     "output_type": "execute_result"
    }
   ],
   "source": [
    "# or \n",
    "dog().name"
   ]
  },
  {
   "cell_type": "code",
   "execution_count": 7,
   "id": "c50a9c1b",
   "metadata": {},
   "outputs": [],
   "source": [
    "# its an class attritbute"
   ]
  },
  {
   "cell_type": "code",
   "execution_count": 8,
   "id": "b8d77f8f",
   "metadata": {},
   "outputs": [],
   "source": [
    "# when a class calls its super class __init__ method\n",
    "# its instatiates the super class contructor variables in sub class contructor"
   ]
  },
  {
   "cell_type": "code",
   "execution_count": 11,
   "id": "d6afcac2",
   "metadata": {},
   "outputs": [],
   "source": [
    "# if you want to augment an exsting class method instead of overwriting it\n",
    "class Spam:\n",
    "    def update(self):\n",
    "        print('updating spam!')\n",
    "\n",
    "class SpamLite(Spam):\n",
    "    def update(self):\n",
    "        print('this spam is lite!')\n",
    "        Spam.update(self)\n",
    "\n",
    "def poison(spam):\n",
    "    import types\n",
    "    tmp = spam.update \n",
    "    def newUpdate(self):\n",
    "        print('this spam has been poisoned!')\n",
    "        tmp()\n",
    "    newUpdate = types.MethodType(newUpdate, spam, Spam)\n",
    "    spam.update = newUpdate\n"
   ]
  },
  {
   "cell_type": "markdown",
   "id": "06725960",
   "metadata": {},
   "source": [
    "Declaring a variable in a class (outside of a function): all class functions can access it (basically a public variable)\n",
    "\n",
    "Declaring a variable inside a function inside a class: only that function can access it (it's in that function's scope)\n",
    "\n",
    "Declaring a variable with self.(variable name) inside a function inside a class: all class functions can access it (how is this different from global (variable name)?)\n",
    "\n",
    "And since there is no private/protected, everything is public, so everything accessible from inside a class is accessible from outside the class."
   ]
  },
  {
   "cell_type": "code",
   "execution_count": null,
   "id": "09e7785f",
   "metadata": {},
   "outputs": [],
   "source": []
  }
 ],
 "metadata": {
  "kernelspec": {
   "display_name": "Python 3 (ipykernel)",
   "language": "python",
   "name": "python3"
  },
  "language_info": {
   "codemirror_mode": {
    "name": "ipython",
    "version": 3
   },
   "file_extension": ".py",
   "mimetype": "text/x-python",
   "name": "python",
   "nbconvert_exporter": "python",
   "pygments_lexer": "ipython3",
   "version": "3.9.7"
  }
 },
 "nbformat": 4,
 "nbformat_minor": 5
}
