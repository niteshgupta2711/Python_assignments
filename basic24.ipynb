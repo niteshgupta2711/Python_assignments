{
 "cells": [
  {
   "cell_type": "markdown",
   "id": "5c480141",
   "metadata": {},
   "source": [
    "Question1\n",
    "Create a function that takes an integer and returns a list from 1 to the given number, where:\n",
    "1. If the number can be divided evenly by 4, amplify it by 10 (i.e. return 10 times the\n",
    "number).\n",
    "2. If the number cannot be divided evenly by 4, simply return the number.\n",
    "Examples\n",
    "amplify(4) ➞ [1, 2, 3, 40]\n",
    "amplify(3) ➞ [1, 2, 3]\n",
    "amplify(25) ➞ [1, 2, 3, 40, 5, 6, 7, 80, 9, 10, 11, 120, 13, 14, 15, 160,\n",
    "17, 18, 19, 200, 21, 22, 23, 240, 25]\n",
    "Notes\n",
    " The given integer will always be equal to or greater than 1.\n",
    " Include the number (see example above).\n",
    " To perform this problem with its intended purpose, try doing it with list\n",
    "comprehensions. If that&#39;s too difficult, just solve the challenge any way you can.\n",
    "\n",
    "Question2\n",
    "Create a function that takes a list of numbers and return the number that&#39;s unique.\n",
    "Examples\n",
    "unique([3, 3, 3, 7, 3, 3]) ➞ 7\n",
    "unique([0, 0, 0.77, 0, 0]) ➞ 0.77\n",
    "unique([0, 1, 1, 1, 1, 1, 1, 1]) ➞ 0\n",
    "Notes\n",
    "Test cases will always have exactly one unique number while all others are the same.\n",
    "\n",
    "Question3\n",
    "Your task is to create a Circle constructor that creates a circle with a radius provided by an\n",
    "argument. The circles constructed must have two getters getArea() (PIr^2) and\n",
    "getPerimeter() (2PI*r) which give both respective areas and perimeter (circumference).\n",
    "\n",
    "For help with this class, I have provided you with a Rectangle constructor which you can use\n",
    "as a base example.\n",
    "Examples\n",
    "circy = Circle(11)\n",
    "circy.getArea()\n",
    "# Should return 380.132711084365\n",
    "circy = Circle(4.44)\n",
    "circy.getPerimeter()\n",
    "# Should return 27.897342763877365\n",
    "Notes\n",
    "Round results up to the nearest integer.\n",
    "\n",
    "Question4\n",
    "Create a function that takes a list of strings and return a list, sorted from shortest to longest.\n",
    "Examples\n",
    "sort_by_length([&quot;Google&quot;, &quot;Apple&quot;, &quot;Microsoft&quot;])\n",
    "➞ [&quot;Apple&quot;, &quot;Google&quot;, &quot;Microsoft&quot;]\n",
    "sort_by_length([&quot;Leonardo&quot;, &quot;Michelangelo&quot;, &quot;Raphael&quot;, &quot;Donatello&quot;])\n",
    "➞ [&quot;Raphael&quot;, &quot;Leonardo&quot;, &quot;Donatello&quot;, &quot;Michelangelo&quot;]\n",
    "sort_by_length([&quot;Turing&quot;, &quot;Einstein&quot;, &quot;Jung&quot;])\n",
    "➞ [&quot;Jung&quot;, &quot;Turing&quot;, &quot;Einstein&quot;]\n",
    "Notes\n",
    "All test cases contain lists with strings of different lengths, so you won&#39;t have to deal with\n",
    "multiple strings of the same length.\n",
    "\n",
    "Question5\n",
    "Create a function that validates whether three given integers form a Pythagorean triplet. The\n",
    "sum of the squares of the two smallest integers must equal the square of the largest number to\n",
    "be validated.\n",
    "\n",
    "Examples\n",
    "is_triplet(3, 4, 5) ➞ True\n",
    "# 3² + 4² = 25\n",
    "# 5² = 25\n",
    "is_triplet(13, 5, 12) ➞ True\n",
    "# 5² + 12² = 169\n",
    "# 13² = 169\n",
    "is_triplet(1, 2, 3) ➞ False\n",
    "# 1² + 2² = 5\n",
    "# 3² = 9\n",
    "Notes\n",
    "Numbers may not be given in a sorted order."
   ]
  },
  {
   "cell_type": "code",
   "execution_count": 2,
   "id": "faca45d9",
   "metadata": {},
   "outputs": [],
   "source": [
    "def li(num):\n",
    "    return [(x*10) if x%4==0 else x for x in range(num+1)]"
   ]
  },
  {
   "cell_type": "code",
   "execution_count": 3,
   "id": "20eb26d4",
   "metadata": {},
   "outputs": [
    {
     "data": {
      "text/plain": [
       "[0, 1, 2, 3, 40, 5, 6, 7, 80, 9, 10]"
      ]
     },
     "execution_count": 3,
     "metadata": {},
     "output_type": "execute_result"
    }
   ],
   "source": [
    "li(10)"
   ]
  },
  {
   "cell_type": "code",
   "execution_count": 4,
   "id": "8843487d",
   "metadata": {},
   "outputs": [],
   "source": [
    "def unique(li):\n",
    "    l2=list(set(li))\n",
    "    return [x for x in l2 if li.count(x)==1]"
   ]
  },
  {
   "cell_type": "code",
   "execution_count": 5,
   "id": "50ff7aed",
   "metadata": {},
   "outputs": [
    {
     "data": {
      "text/plain": [
       "[7]"
      ]
     },
     "execution_count": 5,
     "metadata": {},
     "output_type": "execute_result"
    }
   ],
   "source": [
    "unique([0,0,0,0,7])"
   ]
  },
  {
   "cell_type": "code",
   "execution_count": 6,
   "id": "ea0a2473",
   "metadata": {},
   "outputs": [],
   "source": [
    "class Circle:\n",
    "    def __init__(self,radius):\n",
    "        self.r=radius\n",
    "    def getArea(self):\n",
    "        return (3.14)*(self.r**2)\n",
    "    def getPer(self):\n",
    "        return 2*(3.14*self.r)"
   ]
  },
  {
   "cell_type": "code",
   "execution_count": 7,
   "id": "aa65bd25",
   "metadata": {},
   "outputs": [],
   "source": [
    "c=Circle(3)"
   ]
  },
  {
   "cell_type": "code",
   "execution_count": 8,
   "id": "df590934",
   "metadata": {},
   "outputs": [
    {
     "data": {
      "text/plain": [
       "28.26"
      ]
     },
     "execution_count": 8,
     "metadata": {},
     "output_type": "execute_result"
    }
   ],
   "source": [
    "c.getArea()"
   ]
  },
  {
   "cell_type": "code",
   "execution_count": 21,
   "id": "01e7fd12",
   "metadata": {},
   "outputs": [],
   "source": [
    "def sort_by_l(li):\n",
    "    half=len(li)//2\n",
    "    if len(li)==1:\n",
    "        return li\n",
    "    else:\n",
    "        return sort_by_l([x for x in li if len(x)<len(li[half])])+[li[half]]+sort_by_l([x for x in li if len(x)>len(li[half])])"
   ]
  },
  {
   "cell_type": "code",
   "execution_count": 22,
   "id": "4b339929",
   "metadata": {},
   "outputs": [
    {
     "data": {
      "text/plain": [
       "['wi', 'hey', 'nitesh']"
      ]
     },
     "execution_count": 22,
     "metadata": {},
     "output_type": "execute_result"
    }
   ],
   "source": [
    "sort_by_l(['nitesh','hey','wi'])"
   ]
  },
  {
   "cell_type": "code",
   "execution_count": 23,
   "id": "2403e6dc",
   "metadata": {},
   "outputs": [
    {
     "name": "stdout",
     "output_type": "stream",
     "text": [
      "3 4 5\n",
      "8 6 10\n",
      "5 12 13\n",
      "15 8 17\n",
      "12 16 20\n"
     ]
    }
   ],
   "source": [
    "# Python3 program to generate pythagorean\n",
    "# triplets smaller than a given limit\n",
    "\n",
    "# Function to generate pythagorean\n",
    "# triplets smaller than limit\n",
    "def pythagoreanTriplets(limits) :\n",
    "\tc, m = 0, 2\n",
    "\n",
    "\t# Limiting c would limit\n",
    "\t# all a, b and c\n",
    "\twhile c < limits :\n",
    "\t\t\n",
    "\t\t# Now loop on n from 1 to m-1\n",
    "\t\tfor n in range(1, m) :\n",
    "\t\t\ta = m * m - n * n\n",
    "\t\t\tb = 2 * m * n\n",
    "\t\t\tc = m * m + n * n\n",
    "\n",
    "\t\t\t# if c is greater than\n",
    "\t\t\t# limit then break it\n",
    "\t\t\tif c > limits :\n",
    "\t\t\t\tbreak\n",
    "\n",
    "\t\t\tprint(a, b, c)\n",
    "\n",
    "\t\tm = m + 1\n",
    "\n",
    "\n",
    "# Driver Code\n",
    "if __name__ == '__main__' :\n",
    "\t\n",
    "\tlimit = 20\n",
    "\tpythagoreanTriplets(limit)\n",
    "\n",
    "\n",
    "# This code is contributed by Shrikant13.\n"
   ]
  },
  {
   "cell_type": "code",
   "execution_count": null,
   "id": "84795a82",
   "metadata": {},
   "outputs": [],
   "source": []
  }
 ],
 "metadata": {
  "kernelspec": {
   "display_name": "Python 3 (ipykernel)",
   "language": "python",
   "name": "python3"
  },
  "language_info": {
   "codemirror_mode": {
    "name": "ipython",
    "version": 3
   },
   "file_extension": ".py",
   "mimetype": "text/x-python",
   "name": "python",
   "nbconvert_exporter": "python",
   "pygments_lexer": "ipython3",
   "version": "3.9.7"
  }
 },
 "nbformat": 4,
 "nbformat_minor": 5
}
