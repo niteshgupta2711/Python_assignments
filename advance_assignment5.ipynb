{
 "cells": [
  {
   "cell_type": "markdown",
   "id": "cec2de50",
   "metadata": {},
   "source": [
    "Q1. What is the meaning of multiple inheritance?\n",
    "\n",
    "Q2. What is the concept of delegation?\n",
    "\n",
    "Q3. What is the concept of composition?\n",
    "\n",
    "Q4. What are bound methods and how do we use them?\n",
    "\n",
    "Q5. What is the purpose of pseudoprivate attributes?"
   ]
  },
  {
   "cell_type": "code",
   "execution_count": 1,
   "id": "22a50c90",
   "metadata": {},
   "outputs": [],
   "source": [
    "# inheriting all the super classes in a class defined\n",
    "# multiple inheritences allow all the methods to be inherited in the same class"
   ]
  },
  {
   "cell_type": "markdown",
   "id": "6c3989d4",
   "metadata": {},
   "source": [
    "According to Wikipedia, “the delegation pattern is an object-oriented design pattern that allows object composition to achieve the same code reuse as inheritance.” If you read that sentence four or five times you might get it but let me try to make it simpler.\n",
    "+ It would be technically incorrect to say that Dog delegates get_number_of_legs to Animal because the Dog class actually has that method since it inherits the Animal class. This is what the Wikipedia definition is talking about when it refers to “code reuse.” This is what delegation will duplicate when we use composition."
   ]
  },
  {
   "cell_type": "markdown",
   "id": "aaef4395",
   "metadata": {},
   "source": [
    "It is a concept of Object-Oriented Programming. Inheritance is a mechanism that allows us to inherit all the properties from another class. The class from which the properties and functionalities are utilized is called the parent class (also called as Base Class). The class which uses the properties from another class is called as Child Class (also known as Derived class). Inheritance is also called an Is-A Relation. \n",
    "\n"
   ]
  },
  {
   "cell_type": "code",
   "execution_count": 2,
   "id": "e55f2ad1",
   "metadata": {},
   "outputs": [
    {
     "name": "stdout",
     "output_type": "stream",
     "text": [
      "Child Class object created...\n",
      "Parent Class Method called...\n",
      "Child Class Method called...\n"
     ]
    }
   ],
   "source": [
    "# parent class\n",
    "class Parent:\n",
    "\n",
    "\t# parent class method\n",
    "\tdef m1(self):\n",
    "\t\tprint('Parent Class Method called...')\n",
    "\n",
    "# child class inheriting parent class\n",
    "class Child(Parent):\n",
    "\n",
    "\t# child class constructor\n",
    "\tdef __init__(self):\n",
    "\t\tprint('Child Class object created...')\n",
    "\n",
    "\t# child class method\n",
    "\tdef m2(self):\n",
    "\t\tprint('Child Class Method called...')\n",
    "\n",
    "\n",
    "# creating object of child class\n",
    "obj = Child()\n",
    "\n",
    "# calling parent class m1() method\n",
    "obj.m1()\n",
    "\n",
    "# calling child class m2() method\n",
    "obj.m2()\n"
   ]
  },
  {
   "cell_type": "markdown",
   "id": "8f5f17b7",
   "metadata": {},
   "source": [
    "It is one of the fundamental concepts of Object-Oriented Programming. In this concept, we will describe a class that references to one or more objects of other classes as an Instance variable. Here, by using the class name or by creating the object we can access the members of one class inside another class. It enables creating complex types by combining objects of different classes. It means that a class Composite can contain an object of another class Component. This type of relationship is known as Has-A Relation."
   ]
  },
  {
   "cell_type": "code",
   "execution_count": 3,
   "id": "fca74078",
   "metadata": {},
   "outputs": [
    {
     "name": "stdout",
     "output_type": "stream",
     "text": [
      "Component class object created...\n",
      "Composite class object also created...\n",
      "Composite class m2() method executed...\n",
      "Component class m1() method executed...\n"
     ]
    }
   ],
   "source": [
    "class Component:\n",
    "\n",
    "# composite class constructor\n",
    "\tdef __init__(self):\n",
    "\t\tprint('Component class object created...')\n",
    "\n",
    "\t# composite class instance method\n",
    "\tdef m1(self):\n",
    "\t\tprint('Component class m1() method executed...')\n",
    "\n",
    "\n",
    "class Composite:\n",
    "\n",
    "\t# composite class constructor\n",
    "\tdef __init__(self):\n",
    "\n",
    "\t\t# creating object of component class\n",
    "\t\tself.obj1 = Component()\n",
    "\t\t\n",
    "\t\tprint('Composite class object also created...')\n",
    "\n",
    "\t# composite class instance method\n",
    "\tdef m2(self):\n",
    "\t\t\n",
    "\t\tprint('Composite class m2() method executed...')\n",
    "\n",
    "\t\t# calling m1() method of component class\n",
    "\t\tself.obj1.m1()\n",
    "\n",
    "\n",
    "# creating object of composite class\n",
    "obj2 = Composite()\n",
    "\n",
    "# calling m2() method of composite class\n",
    "obj2.m2()\n"
   ]
  },
  {
   "cell_type": "markdown",
   "id": "f2216f13",
   "metadata": {},
   "source": [
    "A bound method is the one which is dependent on the instance of the class as the first argument. It passes the instance as the first argument which is used to access the variables and functions. In Python 3 and newer versions of python, all functions in the class are by default bound methods."
   ]
  },
  {
   "cell_type": "markdown",
   "id": "e94bb64d",
   "metadata": {},
   "source": [
    "A bound method is the one which is dependent on the instance of the class as the first argument. It passes the instance as the first argument which is used to access the variables and functions. In Python 3 and newer versions of python, all functions in the class are by default bound methods."
   ]
  },
  {
   "cell_type": "code",
   "execution_count": 4,
   "id": "8272f66b",
   "metadata": {},
   "outputs": [
    {
     "name": "stdout",
     "output_type": "stream",
     "text": [
      "<bound method A.func of <__main__.A object at 0x00000189159FF550>>\n"
     ]
    }
   ],
   "source": [
    "# Python code to demonstrate\n",
    "# use of bound methods\n",
    "\n",
    "class A:\n",
    "\n",
    "\tdef func(self, arg):\n",
    "\t\tself.arg = arg\n",
    "\t\tprint(\"Value of arg = \", arg)\n",
    "\n",
    "\n",
    "# Creating an instance\n",
    "obj = A()\n",
    "\n",
    "# bound method\n",
    "print(obj.func)\n"
   ]
  },
  {
   "cell_type": "code",
   "execution_count": 5,
   "id": "99239c3e",
   "metadata": {},
   "outputs": [
    {
     "name": "stdout",
     "output_type": "stream",
     "text": [
      "Car1 gears before calling change_gears() =  5\n",
      "Gears after calling change_gears() =  6\n",
      "<bound method Car.change_gears of <class '__main__.Car'>>\n"
     ]
    }
   ],
   "source": [
    "# Python code to demonstrate\n",
    "# use of bound methods\n",
    "\n",
    "\n",
    "class Car:\n",
    "\t# Car class created\n",
    "\tgears = 5\n",
    "\n",
    "\t# a class method to change the number of gears\n",
    "\t@classmethod\n",
    "\tdef change_gears(cls, gears):\n",
    "\t\tcls.gears = gears\n",
    "\n",
    "\n",
    "# instance of class Car created\n",
    "Car1 = Car()\n",
    "\n",
    "\n",
    "print(\"Car1 gears before calling change_gears() = \", Car1.gears)\n",
    "Car1.change_gears(6)\n",
    "print(\"Gears after calling change_gears() = \", Car1.gears)\n",
    "\n",
    "# bound method\n",
    "print(Car1.change_gears)\n"
   ]
  },
  {
   "cell_type": "markdown",
   "id": "a65ccc60",
   "metadata": {},
   "source": [
    "Consider a real life example, a car engine, which is made up of many parts like spark plug, valves, piston, etc. No user use these parts directly, rather they just know how to use the parts which uses them. This is what private methods are used for. It is used to hide the inner functionality of any class from the outside world.\n",
    "\n",
    "Private methods are those methods that should neither be accessed outside the class nor by any base class. In Python, there is no existence of Private methods that cannot be accessed except inside a class. However, to define a private method prefix the member name with double underscore “__”."
   ]
  },
  {
   "cell_type": "code",
   "execution_count": 6,
   "id": "9d245621",
   "metadata": {},
   "outputs": [
    {
     "name": "stdout",
     "output_type": "stream",
     "text": [
      "Public method\n",
      "\n",
      "Inside derived class\n",
      "Public method\n"
     ]
    }
   ],
   "source": [
    "# Python program to\n",
    "# demonstrate private methods\n",
    "\n",
    "# Creating a Base class\n",
    "class Base:\n",
    "\n",
    "\t# Declaring public method\n",
    "\tdef fun(self):\n",
    "\t\tprint(\"Public method\")\n",
    "\n",
    "\t# Declaring private method\n",
    "\tdef __fun(self):\n",
    "\t\tprint(\"Private method\")\n",
    "\n",
    "# Creating a derived class\n",
    "class Derived(Base):\n",
    "\tdef __init__(self):\n",
    "\t\t\n",
    "\t\t# Calling constructor of\n",
    "\t\t# Base class\n",
    "\t\tBase.__init__(self)\n",
    "\t\t\n",
    "\tdef call_public(self):\n",
    "\t\t\n",
    "\t\t# Calling public method of base class\n",
    "\t\tprint(\"\\nInside derived class\")\n",
    "\t\tself.fun()\n",
    "\t\t\n",
    "\tdef call_private(self):\n",
    "\t\t\n",
    "\t\t# Calling private method of base class\n",
    "\t\tself.__fun()\n",
    "\n",
    "# Driver code\n",
    "obj1 = Base()\n",
    "\n",
    "# Calling public method\n",
    "obj1.fun()\n",
    "\n",
    "obj2 = Derived()\n",
    "obj2.call_public()\n",
    "\n",
    "# Uncommenting obj1.__fun() will\n",
    "# raise an AttributeError\n",
    "\n",
    "# Uncommenting obj2.call_private()\n",
    "# will also raise an AttributeError\n"
   ]
  },
  {
   "cell_type": "code",
   "execution_count": 7,
   "id": "3358c414",
   "metadata": {},
   "outputs": [
    {
     "name": "stdout",
     "output_type": "stream",
     "text": [
      "Public method\n",
      "Private method\n"
     ]
    }
   ],
   "source": [
    "# Python program to\n",
    "# demonstrate private methods\n",
    "\n",
    "# Creating a class\n",
    "class A:\n",
    "\n",
    "\t# Declaring public method\n",
    "\tdef fun(self):\n",
    "\t\tprint(\"Public method\")\n",
    "\n",
    "\t# Declaring private method\n",
    "\tdef __fun(self):\n",
    "\t\tprint(\"Private method\")\n",
    "\t\n",
    "\t# Calling private method via\n",
    "\t# another method\n",
    "\tdef Help(self):\n",
    "\t\tself.fun()\n",
    "\t\tself.__fun()\n",
    "\t\t\n",
    "# Driver's code\n",
    "obj = A()\n",
    "obj.Help()\n"
   ]
  },
  {
   "cell_type": "code",
   "execution_count": null,
   "id": "44cea28e",
   "metadata": {},
   "outputs": [],
   "source": []
  }
 ],
 "metadata": {
  "kernelspec": {
   "display_name": "Python 3 (ipykernel)",
   "language": "python",
   "name": "python3"
  },
  "language_info": {
   "codemirror_mode": {
    "name": "ipython",
    "version": 3
   },
   "file_extension": ".py",
   "mimetype": "text/x-python",
   "name": "python",
   "nbconvert_exporter": "python",
   "pygments_lexer": "ipython3",
   "version": "3.9.7"
  }
 },
 "nbformat": 4,
 "nbformat_minor": 5
}
