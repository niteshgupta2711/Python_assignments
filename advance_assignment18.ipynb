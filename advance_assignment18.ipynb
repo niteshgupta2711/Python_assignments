{
 "cells": [
  {
   "cell_type": "markdown",
   "id": "420913c5",
   "metadata": {},
   "source": [
    "Q1. Describe the differences between text and binary files in a single paragraph.\n",
    "\n",
    "Q2. What are some scenarios where using text files will be the better option? When would you like to\n",
    "use binary files instead of text files?\n",
    "\n",
    "Q3. What are some of the issues with using binary operations to read and write a Python integer\n",
    "directly to disc?\n",
    "\n",
    "Q4. Describe a benefit of using the with keyword instead of explicitly opening a file.\n",
    "\n",
    "Q5. Does Python have the trailing newline while reading a line of text? Does Python append a\n",
    "newline when you write a line of text?\n",
    "\n",
    "Q6. What file operations enable for random-access operation?\n",
    "\n",
    "Q7. When do you think you&#39;ll use the struct package the most?\n",
    "\n",
    "Q8. When is pickling the best option?\n",
    "\n",
    "Q9. When will it be best to use the shelve package?\n",
    "\n",
    "Q10. What is a special restriction when using the shelve package, as opposed to using other data\n",
    "dictionaries?"
   ]
  },
  {
   "cell_type": "markdown",
   "id": "94ee97ec",
   "metadata": {},
   "source": [
    "In text file, text, character, numbers are stored one character per byte i.e. 32667 occupies 5 bytes even though it occupies 2 bytes in memory. In binary file data is stored in binary format and each data would occupy the same number of bytes on disks as it occupies in memory."
   ]
  },
  {
   "cell_type": "code",
   "execution_count": 1,
   "id": "d6f53262",
   "metadata": {},
   "outputs": [],
   "source": [
    " # text files are better option when you want to store info persistently into a file"
   ]
  },
  {
   "cell_type": "code",
   "execution_count": 2,
   "id": "f410be8b",
   "metadata": {},
   "outputs": [],
   "source": [
    "# using binary options to read from a disk will lead to same size allocation in memory, in case of number this can take a lot of space"
   ]
  },
  {
   "cell_type": "code",
   "execution_count": 3,
   "id": "52ab8100",
   "metadata": {},
   "outputs": [],
   "source": [
    "# using with keyword while opening a file closes the file automaticaly after the with block"
   ]
  },
  {
   "cell_type": "code",
   "execution_count": 4,
   "id": "8c3f60a6",
   "metadata": {},
   "outputs": [],
   "source": [
    "# yes python has a trailong new line while reading a line,no you have to say it explicitly"
   ]
  },
  {
   "cell_type": "code",
   "execution_count": 10,
   "id": "c971fc7f",
   "metadata": {},
   "outputs": [],
   "source": [
    "# pickle can used to tranfer any python object to anywhere\n",
    "# pickle binaries are very helpful"
   ]
  },
  {
   "cell_type": "code",
   "execution_count": 11,
   "id": "717025ca",
   "metadata": {},
   "outputs": [
    {
     "name": "stdout",
     "output_type": "stream",
     "text": [
      "b'\\n\\x00\\x00\\x00John\\x00@\\x1cE'\n"
     ]
    }
   ],
   "source": [
    "import struct\n",
    "\n",
    "packed = struct.pack('i 4s f', 10, b'John', 2500)\n",
    "print(packed)"
   ]
  },
  {
   "cell_type": "code",
   "execution_count": 17,
   "id": "d54ad052",
   "metadata": {},
   "outputs": [
    {
     "name": "stdout",
     "output_type": "stream",
     "text": [
      "\n",
      "\u0000\u0000\u0000John\u0000@\u001c",
      "E\n"
     ]
    }
   ],
   "source": [
    "print(packed.decode('utf8'))"
   ]
  },
  {
   "cell_type": "code",
   "execution_count": 18,
   "id": "bc349ede",
   "metadata": {},
   "outputs": [
    {
     "name": "stdout",
     "output_type": "stream",
     "text": [
      "(10, b'John', 2500.0)\n"
     ]
    }
   ],
   "source": [
    "# struct converts python objects to sting of bytes\n",
    "import struct\n",
    "\n",
    "packed = b'\\n\\x00\\x00\\x00John\\x00@\\x1cE'\n",
    "unpacked = struct.unpack('i 4s f', packed)\n",
    "print(unpacked)"
   ]
  },
  {
   "cell_type": "code",
   "execution_count": 21,
   "id": "12efefcd",
   "metadata": {},
   "outputs": [
    {
     "ename": "error",
     "evalue": "pack expected 3 items for packing (got 1)",
     "output_type": "error",
     "traceback": [
      "\u001b[1;31m---------------------------------------------------------------------------\u001b[0m",
      "\u001b[1;31merror\u001b[0m                                     Traceback (most recent call last)",
      "\u001b[1;32m~\\AppData\\Local\\Temp/ipykernel_9484/56959065.py\u001b[0m in \u001b[0;36m<module>\u001b[1;34m\u001b[0m\n\u001b[1;32m----> 1\u001b[1;33m \u001b[0mstruct\u001b[0m\u001b[1;33m.\u001b[0m\u001b[0mpack\u001b[0m\u001b[1;33m(\u001b[0m\u001b[1;34m'i 1s f'\u001b[0m\u001b[1;33m,\u001b[0m\u001b[1;34m\"nitesh\"\u001b[0m\u001b[1;33m)\u001b[0m\u001b[1;33m\u001b[0m\u001b[1;33m\u001b[0m\u001b[0m\n\u001b[0m",
      "\u001b[1;31merror\u001b[0m: pack expected 3 items for packing (got 1)"
     ]
    }
   ],
   "source": []
  },
  {
   "cell_type": "code",
   "execution_count": 22,
   "id": "3430470e",
   "metadata": {},
   "outputs": [],
   "source": [
    "import shelve\n",
    "s = shelve.open(\"test\")\n",
    "s['name'] = \"Ajay\"\n",
    "s['age'] = 23\n",
    "s['marks'] = 75\n",
    "s.close()"
   ]
  },
  {
   "cell_type": "markdown",
   "id": "544d24b4",
   "metadata": {},
   "source": [
    "The shelve module in Python’s standard library is a simple yet effective tool for persistent data storage when using a relational database solution is not required. The shelf object defined in this module is dictionary-like object which is persistently stored in a disk file. This creates afile similar to dbm database on UNIX like systems. Only string data type can be used as key in this special dictionary object, whereas any picklable object can serve as value.\n",
    "This will create test.dir file in current directory and store key-value data in hashed form. The Shelf object has following methods available −"
   ]
  },
  {
   "cell_type": "markdown",
   "id": "370eb9cc",
   "metadata": {},
   "source": [
    "The shelf dictionary has certain restrictions. Only string data type can be used as key in this special dictionary object, whereas any picklable Python object can be used as value."
   ]
  },
  {
   "cell_type": "code",
   "execution_count": null,
   "id": "32c6726d",
   "metadata": {},
   "outputs": [],
   "source": []
  }
 ],
 "metadata": {
  "kernelspec": {
   "display_name": "Python 3 (ipykernel)",
   "language": "python",
   "name": "python3"
  },
  "language_info": {
   "codemirror_mode": {
    "name": "ipython",
    "version": 3
   },
   "file_extension": ".py",
   "mimetype": "text/x-python",
   "name": "python",
   "nbconvert_exporter": "python",
   "pygments_lexer": "ipython3",
   "version": "3.9.7"
  }
 },
 "nbformat": 4,
 "nbformat_minor": 5
}
