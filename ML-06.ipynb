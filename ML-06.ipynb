{
  "nbformat": 4,
  "nbformat_minor": 0,
  "metadata": {
    "colab": {
      "provenance": [],
      "collapsed_sections": [],
      "authorship_tag": "ABX9TyN/rKtFtXhGkPfdpJpBMjsx",
      "include_colab_link": true
    },
    "kernelspec": {
      "name": "python3",
      "display_name": "Python 3"
    },
    "language_info": {
      "name": "python"
    }
  },
  "cells": [
    {
      "cell_type": "markdown",
      "metadata": {
        "id": "view-in-github",
        "colab_type": "text"
      },
      "source": [
        "<a href=\"https://colab.research.google.com/github/niteshgupta2711/Python_assignments/blob/main/ML-06.ipynb\" target=\"_parent\"><img src=\"https://colab.research.google.com/assets/colab-badge.svg\" alt=\"Open In Colab\"/></a>"
      ]
    },
    {
      "cell_type": "markdown",
      "source": [
        "1. In the sense of machine learning, what is a model? What is the best way to train a model?\n",
        "2. In the sense of machine learning, explain the &quot;No Free Lunch&quot; theorem.\n",
        "3. Describe the K-fold cross-validation mechanism in detail.\n",
        "\n",
        "4. Describe the bootstrap sampling method. What is the aim of it?\n",
        "\n",
        "5. What is the significance of calculating the Kappa value for a classification model? Demonstrate\n",
        "how to measure the Kappa value of a classification model using a sample collection of results.\n",
        "\n",
        "6. Describe the model ensemble method. In machine learning, what part does it play?\n",
        "\n",
        "7. What is a descriptive model&#39;s main purpose? Give examples of real-world problems that\n",
        "descriptive models were used to solve.\n",
        "\n",
        "8. Describe how to evaluate a linear regression model.\n",
        "\n",
        "9. Distinguish :\n",
        "\n",
        "1. Descriptive vs. predictive models\n",
        "\n",
        "2. Underfitting vs. overfitting the model\n",
        "\n",
        "3. Bootstrapping vs. cross-validation\n",
        "\n",
        "10. Make quick notes on:\n",
        "\n",
        "1. LOOCV.\n",
        "\n",
        "2. F-measurement\n",
        "\n",
        "3. The width of the silhouette\n",
        "\n",
        "4. Receiver operating characteristic curve"
      ],
      "metadata": {
        "id": "Oz3lxIr6gphg"
      }
    },
    {
      "cell_type": "markdown",
      "source": [
        "1. A training model is a dataset that is used to train an ML algorithm. It consists of the sample output data and the corresponding sets of input data that have an influence on the output. The training model is used to run the input data through the algorithm to correlate the processed output against the sample output."
      ],
      "metadata": {
        "id": "8Bj7Y8SOhKII"
      }
    },
    {
      "cell_type": "markdown",
      "source": [
        "2.The “no free lunch” (NFL) theorem for supervised machine learning is a theorem that essentially implies that no single machine learning algorithm is universally the best-performing algorithm for all problems."
      ],
      "metadata": {
        "id": "gWUFu0gDinIO"
      }
    },
    {
      "cell_type": "markdown",
      "source": [
        "3. In k-fold cross-validation, the original sample is randomly partitioned into k equal sized subsamples. Of the k subsamples, a single subsample is retained as the validation data for testing the model, and the remaining k − 1 subsamples are used as training data."
      ],
      "metadata": {
        "id": "jtAA-iUyixhA"
      }
    },
    {
      "cell_type": "markdown",
      "source": [
        "4. Bootstrapping is any test or metric that uses random sampling with replacement (e.g. mimicking the sampling process), and falls under the broader class of resampling methods. Bootstrapping assigns measures of accuracy (bias, variance, confidence intervals, prediction error, etc.) to sample estimates."
      ],
      "metadata": {
        "id": "P-ePcxw-jOu2"
      }
    },
    {
      "cell_type": "markdown",
      "source": [
        "5. Cohen’s kappa is a metric often used to assess the agreement between two raters. It can also be used to assess the performance of a classification model.\n",
        "\n",
        "For example, if we had two bankers and we asked both to classify 100 customers in two classes for credit rating (i.e., good and bad) based on their creditworthiness, we could then measure the level of their agreement through Cohen’s kappa.\n",
        "\n",
        "Similarly, in the context of a classification model, we could use Cohen’s kappa to compare the machine learning model predictions with the manually established credit ratings.\n",
        "\n",
        "Like many other evaluation metrics, Cohen’s kappa is calculated based on the confusion matrix. However, in contrast to calculating overall accuracy, Cohen’s kappa takes imbalance in class distribution into account and can, therefore, be more complex to interpret."
      ],
      "metadata": {
        "id": "joNgycK1jsJP"
      }
    },
    {
      "cell_type": "markdown",
      "source": [
        "6. n this ensemble technique, machine learning professionals use a number of models for making predictions about each data point. The predictions made by different models are taken as separate votes. Subsequently, the prediction made by most models is treated as the ultimate prediction."
      ],
      "metadata": {
        "id": "MdxhgLPhkRNe"
      }
    },
    {
      "cell_type": "markdown",
      "source": [
        "7. Descriptive modeling is a mathematical process that describes real-world events and the relationships between factors responsible for them. The process is used by consumer-driven organizations to help them target their marketing and advertising efforts."
      ],
      "metadata": {
        "id": "U95zg739kt0F"
      }
    },
    {
      "cell_type": "markdown",
      "source": [
        "8. Describe how to evaluate a linear regression model.\n",
        "+ we have various metrics MSE, MAE, MSRE . R2 , adjusted r2"
      ],
      "metadata": {
        "id": "N3774AYalUFk"
      }
    },
    {
      "cell_type": "markdown",
      "source": [
        "Descriptive mining is generally used to support correlation, cross-tabulation, frequency, etc. The term 'Predictive' defines to predict something, so predictive data mining is the analysis done to predict the future event or multiple data or trends. It defines the features of the data in a target data set."
      ],
      "metadata": {
        "id": "1w3-M6yVnRPS"
      }
    },
    {
      "cell_type": "markdown",
      "source": [
        "## Underfiting\n",
        "+ high bias , low variance\n",
        "## overfitting \n",
        "+ low bias , high variance"
      ],
      "metadata": {
        "id": "3T6LxMNa9_87"
      }
    },
    {
      "cell_type": "markdown",
      "source": [
        "In summary, Cross validation splits the available dataset to create multiple datasets, and Bootstrapping method uses the original dataset to create multiple datasets after resampling with replacement. Bootstrapping it is not as strong as Cross validation when it is used for model validation."
      ],
      "metadata": {
        "id": "FKa99YzQ_LMZ"
      }
    },
    {
      "cell_type": "markdown",
      "source": [
        "+ F2 a metric related to classigfication models 2/p^-1 + r^-1"
      ],
      "metadata": {
        "id": "UxsR5VuhDJe8"
      }
    },
    {
      "cell_type": "markdown",
      "source": [
        "+ ROC curve is a curve plotted against true positive rate and False Positive rate by adjusting different thresholds"
      ],
      "metadata": {
        "id": "HdTyA7dPEOFc"
      }
    },
    {
      "cell_type": "code",
      "source": [],
      "metadata": {
        "id": "qDzuPkEYEbPb"
      },
      "execution_count": null,
      "outputs": []
    }
  ]
}