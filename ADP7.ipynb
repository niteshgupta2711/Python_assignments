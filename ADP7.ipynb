{
 "cells": [
  {
   "cell_type": "markdown",
   "id": "462c9c26",
   "metadata": {},
   "source": [
    "1. Write a function that counts how many concentric layers a rug.\n",
    "Examples\n",
    "count_layers([\n",
    "&quot;AAAA&quot;,\n",
    "&quot;ABBA&quot;,\n",
    "&quot;AAAA&quot;\n",
    "]) ➞ 2\n",
    "count_layers([\n",
    "&quot;AAAAAAAAA&quot;,\n",
    "&quot;ABBBBBBBA&quot;,\n",
    "&quot;ABBAAABBA&quot;,\n",
    "&quot;ABBBBBBBA&quot;,\n",
    "&quot;AAAAAAAAA&quot;\n",
    "]) ➞ 3\n",
    "count_layers([\n",
    "&quot;AAAAAAAAAAA&quot;,\n",
    "&quot;AABBBBBBBAA&quot;,\n",
    "&quot;AABCCCCCBAA&quot;,\n",
    "&quot;AABCAAACBAA&quot;,\n",
    "&quot;AABCADACBAA&quot;,\n",
    "&quot;AABCAAACBAA&quot;,\n",
    "&quot;AABCCCCCBAA&quot;,\n",
    "&quot;AABBBBBBBAA&quot;,\n",
    "&quot;AAAAAAAAAAA&quot;\n",
    "]) ➞ 5"
   ]
  },
  {
   "cell_type": "code",
   "execution_count": 1,
   "id": "de9d6666",
   "metadata": {},
   "outputs": [],
   "source": [
    "def count_layers(list1):\n",
    "    \n",
    "    h=(len(list1)//2)\n",
    "    return len(list1[h][len(list1[h])//2:])-1                                                  "
   ]
  },
  {
   "cell_type": "code",
   "execution_count": 2,
   "id": "08487201",
   "metadata": {},
   "outputs": [
    {
     "data": {
      "text/plain": [
       "5"
      ]
     },
     "execution_count": 2,
     "metadata": {},
     "output_type": "execute_result"
    }
   ],
   "source": [
    "count_layers([ \"AAAAAAAAAAA\", \"AABBBBBBBAA\", \"AABCCCCCBAA\", \"AABCAAACBAA\", \"AABCADACBAA\", \"AABCAAACBAA\", \"AABCCCCCBAA\", \"AABBBBBBBAA\", \"AAAAAAAAAAA\" ])"
   ]
  },
  {
   "cell_type": "code",
   "execution_count": null,
   "id": "f3fb208a",
   "metadata": {},
   "outputs": [],
   "source": []
  },
  {
   "cell_type": "markdown",
   "id": "f9e96d53",
   "metadata": {},
   "source": [
    "2. There are many different styles of music and many albums exhibit multiple\n",
    "styles. Create a function that takes a list of musical styles from albums and\n",
    "returns how many styles are unique.\n",
    "Examples\n",
    "unique_styles([\n",
    "&quot;Dub,Dancehall&quot;,\n",
    "&quot;Industrial,Heavy Metal&quot;,\n",
    "&quot;Techno,Dubstep&quot;,\n",
    "&quot;Synth-pop,Euro-Disco&quot;,\n",
    "&quot;Industrial,Techno,Minimal&quot;\n",
    "]) ➞ 9"
   ]
  },
  {
   "cell_type": "code",
   "execution_count": 3,
   "id": "90fe0271",
   "metadata": {},
   "outputs": [],
   "source": [
    "def unique_styles(list1):\n",
    "    l1=[]\n",
    "    for ele in list1:\n",
    "        print(ele.split(','))\n",
    "        l1+=ele.split(',')\n",
    "    return len(set(l1))"
   ]
  },
  {
   "cell_type": "code",
   "execution_count": 4,
   "id": "f7e7239a",
   "metadata": {},
   "outputs": [
    {
     "name": "stdout",
     "output_type": "stream",
     "text": [
      "['Dub', 'Dancehall']\n",
      "['Industrial', 'Heavy Metal']\n",
      "['Techno', 'Dubstep']\n",
      "['Synth-pop', 'Euro-Disco']\n",
      "['Industrial', 'Techno', 'Minimal']\n"
     ]
    },
    {
     "data": {
      "text/plain": [
       "9"
      ]
     },
     "execution_count": 4,
     "metadata": {},
     "output_type": "execute_result"
    }
   ],
   "source": [
    "unique_styles([ \"Dub,Dancehall\", \"Industrial,Heavy Metal\", \"Techno,Dubstep\", \"Synth-pop,Euro-Disco\", \"Industrial,Techno,Minimal\" ])"
   ]
  },
  {
   "cell_type": "markdown",
   "id": "d17a0b50",
   "metadata": {},
   "source": [
    "3. Create a function that finds a target number in a list of prime numbers.\n",
    "Implement a binary search algorithm in your function. The target number will\n",
    "be from 2 through 97. If the target is prime then return &quot;yes&quot; else return &quot;no&quot;.\n",
    "Examples\n",
    "primes = [2, 3, 5, 7, 11, 13, 17, 19, 23, 29, 31, 37, 41, 43, 47, 53, 59, 61, 67,\n",
    "71, 73, 79, 83, 89, 97]\n",
    "\n",
    "is_prime(primes, 3) ➞ &quot;yes&quot;\n",
    "is_prime(primes, 4) ➞ &quot;no&quot;\n",
    "is_prime(primes, 67) ➞ &quot;yes&quot;\n",
    "is_prime(primes, 36) ➞ &quot;no&quot;"
   ]
  },
  {
   "cell_type": "code",
   "execution_count": 3,
   "id": "bdd2680a",
   "metadata": {},
   "outputs": [],
   "source": [
    "primes = [2, 3, 5, 7, 11, 13, 17, 19, 23, 29, 31, 37, 41, 43, 47, 53, 59, 61, 67, 71, 73, 79, 83, 89, 97]"
   ]
  },
  {
   "cell_type": "code",
   "execution_count": 9,
   "id": "023da189",
   "metadata": {},
   "outputs": [],
   "source": [
    "def is_prime(primes,num):\n",
    "    if len(primes)==1 and num!=primes[0]:\n",
    "        return 'NO'\n",
    "    if num==primes[len(primes)//2]:\n",
    "        return \"yes\"\n",
    "    if num!=primes[len(primes)//2]:\n",
    "    \n",
    "        if num<primes[len(primes)//2]:\n",
    "            return is_prime(primes[:len(primes)//2],num)\n",
    "        if num>primes[len(primes)//2]:\n",
    "            return is_prime(primes[len(primes)//2:],num)\n",
    "        \n",
    "    \n",
    "        "
   ]
  },
  {
   "cell_type": "code",
   "execution_count": 10,
   "id": "105688b8",
   "metadata": {},
   "outputs": [
    {
     "data": {
      "text/plain": [
       "'yes'"
      ]
     },
     "execution_count": 10,
     "metadata": {},
     "output_type": "execute_result"
    }
   ],
   "source": [
    "is_prime(primes,97)"
   ]
  },
  {
   "cell_type": "markdown",
   "id": "76ff714c",
   "metadata": {},
   "source": [
    "4. Create a function that takes in n, a, b and returns the number of positive\n",
    "values raised to the nth power that lie in the range [a, b], inclusive.\n",
    "Examples\n",
    "power_ranger(2, 49, 65) ➞ 2\n",
    "# 2 squares (n^2) lie between 49 and 65, 49 (7^2) and 64 (8^2)\n",
    "power_ranger(3, 1, 27) ➞ 3\n",
    "# 3 cubes (n^3) lie between 1 and 27, 1 (1^3), 8 (2^3) and 27 (3^3)\n",
    "power_ranger(10, 1, 5) ➞ 1\n",
    "# 1 value raised to the 10th power lies between 1 and 5, 1 (1^10)\n",
    "power_ranger(5, 31, 33) ➞ 1\n",
    "power_ranger(4, 250, 1300) ➞ 3"
   ]
  },
  {
   "cell_type": "code",
   "execution_count": 50,
   "id": "a3ac8834",
   "metadata": {},
   "outputs": [],
   "source": [
    "def power_range(n,a,b):\n",
    "    co=0\n",
    "    i=0\n",
    "    while True:\n",
    "        if i**n>b:\n",
    "            break\n",
    "        if a<=i**n<=b:\n",
    "            co+=1\n",
    "        i+=1\n",
    "    return co\n",
    "    "
   ]
  },
  {
   "cell_type": "code",
   "execution_count": 51,
   "id": "33c7c768",
   "metadata": {},
   "outputs": [
    {
     "data": {
      "text/plain": [
       "3"
      ]
     },
     "execution_count": 51,
     "metadata": {},
     "output_type": "execute_result"
    }
   ],
   "source": [
    "power_range(3,1,27)"
   ]
  },
  {
   "cell_type": "code",
   "execution_count": 53,
   "id": "8248f6bc",
   "metadata": {},
   "outputs": [
    {
     "data": {
      "text/plain": [
       "3"
      ]
     },
     "execution_count": 53,
     "metadata": {},
     "output_type": "execute_result"
    }
   ],
   "source": [
    "power_range(4,250,1300)"
   ]
  },
  {
   "cell_type": "markdown",
   "id": "a4e26b71",
   "metadata": {},
   "source": [
    "5. Given a number, return the difference between the maximum and minimum\n",
    "numbers that can be formed when the digits are rearranged.\n",
    "Examples\n",
    "rearranged_difference(972882) ➞ 760833\n",
    "# 988722 - 227889 = 760833\n",
    "rearranged_difference(3320707) ➞ 7709823\n",
    "# 7733200 - 23377 = 7709823\n",
    "rearranged_difference(90010) ➞ 90981\n",
    "# 91000 - 19 = 90981                                                                               "
   ]
  },
  {
   "cell_type": "code",
   "execution_count": 62,
   "id": "06063904",
   "metadata": {},
   "outputs": [],
   "source": [
    "def rearranged_diff(num):\n",
    "    num=str(num)\n",
    "    l1=[int(''.join(ele)) for ele in p(num,len(num))]\n",
    "    return max(l1)-min(l1)"
   ]
  },
  {
   "cell_type": "code",
   "execution_count": 63,
   "id": "c21a08f1",
   "metadata": {},
   "outputs": [],
   "source": [
    "from itertools import permutations as p"
   ]
  },
  {
   "cell_type": "code",
   "execution_count": 64,
   "id": "5cb8e659",
   "metadata": {},
   "outputs": [
    {
     "data": {
      "text/plain": [
       "7709823"
      ]
     },
     "execution_count": 64,
     "metadata": {},
     "output_type": "execute_result"
    }
   ],
   "source": [
    "rearranged_diff(3320707)"
   ]
  },
  {
   "cell_type": "code",
   "execution_count": null,
   "id": "ee165d13",
   "metadata": {},
   "outputs": [],
   "source": []
  }
 ],
 "metadata": {
  "kernelspec": {
   "display_name": "Python 3 (ipykernel)",
   "language": "python",
   "name": "python3"
  },
  "language_info": {
   "codemirror_mode": {
    "name": "ipython",
    "version": 3
   },
   "file_extension": ".py",
   "mimetype": "text/x-python",
   "name": "python",
   "nbconvert_exporter": "python",
   "pygments_lexer": "ipython3",
   "version": "3.9.7"
  }
 },
 "nbformat": 4,
 "nbformat_minor": 5
}
