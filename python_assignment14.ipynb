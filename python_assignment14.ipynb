{
 "cells": [
  {
   "cell_type": "markdown",
   "id": "5ccb4ea9",
   "metadata": {},
   "source": [
    "1. What does RGBA stand for?\n",
    "+ red blue green and alpha"
   ]
  },
  {
   "cell_type": "markdown",
   "id": "b4a2d56d",
   "metadata": {},
   "source": [
    "2. From the Pillow module, how do you get the RGBA value of any images?"
   ]
  },
  {
   "cell_type": "code",
   "execution_count": 3,
   "id": "4ca8d806",
   "metadata": {},
   "outputs": [],
   "source": [
    "import PIL\n",
    "from PIL import Image"
   ]
  },
  {
   "cell_type": "code",
   "execution_count": 4,
   "id": "c7a2b0bc",
   "metadata": {},
   "outputs": [
    {
     "ename": "SyntaxError",
     "evalue": "invalid character '‘' (U+2018) (Temp/ipykernel_4916/3004648454.py, line 1)",
     "output_type": "error",
     "traceback": [
      "\u001b[1;36m  File \u001b[1;32m\"C:\\Users\\Nitesh\\AppData\\Local\\Temp/ipykernel_4916/3004648454.py\"\u001b[1;36m, line \u001b[1;32m1\u001b[0m\n\u001b[1;33m    img = Image.open(‘image.png’)\u001b[0m\n\u001b[1;37m                     ^\u001b[0m\n\u001b[1;31mSyntaxError\u001b[0m\u001b[1;31m:\u001b[0m invalid character '‘' (U+2018)\n"
     ]
    }
   ],
   "source": [
    "img = Image.open(‘image.png’)\n",
    "\n",
    "rgba = img.convert(“RGBA”)\n",
    "\n",
    "datas = rgba.getdata()"
   ]
  },
  {
   "cell_type": "markdown",
   "id": "0c017888",
   "metadata": {},
   "source": [
    "3. What is a box tuple, and how does it work?"
   ]
  },
  {
   "cell_type": "markdown",
   "id": "6c60a971",
   "metadata": {},
   "source": [
    "Coordinates and Box Tuples\n",
    "Image pixels are addressed with x- and y-coordinates, which respectively specify a pixel’s horizontal and vertical locations in an image. The origin is the pixel at the top-left corner of the image and is specified with the notation (0, 0). The first zero represents the x-coordinate, which starts at zero at the origin and increases going from left to right. The second zero represents the y-coordinate, which starts at zero at the origin and increases going down the image. This bears repeating: y-coordinates increase going downward, which is the opposite of how you may remember y-coordinates being used in math class. Figure 19-1 demonstrates how this coordinate system works.\n",
    "\n"
   ]
  },
  {
   "cell_type": "markdown",
   "id": "9107b32c",
   "metadata": {},
   "source": [
    "4. Use your image and load in notebook then, How can you find out the width and height of an\n",
    "Image object?"
   ]
  },
  {
   "cell_type": "code",
   "execution_count": 9,
   "id": "e84a05ee",
   "metadata": {},
   "outputs": [],
   "source": [
    "from PIL import Image\n",
    "from io import BytesIO\n",
    "import requests\n",
    "import urllib\n",
    "import urllib.request"
   ]
  },
  {
   "cell_type": "code",
   "execution_count": 11,
   "id": "9e93d44e",
   "metadata": {},
   "outputs": [],
   "source": [
    "im=Image.open(BytesIO(urllib.request.urlopen(\"https://static.toiimg.com/thumb/msid-67586673,width-800,height-600,resizemode-75,imgsize-3918697,pt-32,y_pad-40/67586673.jpg\").read()))"
   ]
  },
  {
   "cell_type": "code",
   "execution_count": 12,
   "id": "3c430f7b",
   "metadata": {},
   "outputs": [
    {
     "data": {
      "text/plain": [
       "(800, 599)"
      ]
     },
     "execution_count": 12,
     "metadata": {},
     "output_type": "execute_result"
    }
   ],
   "source": [
    "im.size"
   ]
  },
  {
   "cell_type": "markdown",
   "id": "c64f420b",
   "metadata": {},
   "source": [
    "5. What method would you call to get Image object for a 100×100 image, excluding the lower-left\n",
    "quarter of it?"
   ]
  },
  {
   "cell_type": "code",
   "execution_count": 21,
   "id": "892d2923",
   "metadata": {},
   "outputs": [],
   "source": [
    "im2=im.crop(box=(0,0,100,100))\n",
    "import matplotlib.pyplot as plt\n",
    "%matplotlib inline"
   ]
  },
  {
   "cell_type": "code",
   "execution_count": 19,
   "id": "43413b4a",
   "metadata": {},
   "outputs": [
    {
     "data": {
      "text/plain": [
       "(100, 100)"
      ]
     },
     "execution_count": 19,
     "metadata": {},
     "output_type": "execute_result"
    }
   ],
   "source": [
    "im2.size"
   ]
  },
  {
   "cell_type": "markdown",
   "id": "ccea60d9",
   "metadata": {},
   "source": [
    "6. After making changes to an Image object, how could you save it as an image file?"
   ]
  },
  {
   "cell_type": "code",
   "execution_count": 20,
   "id": "eed29354",
   "metadata": {},
   "outputs": [],
   "source": [
    "im2.save(\"image.png\")"
   ]
  },
  {
   "cell_type": "markdown",
   "id": "55601ad3",
   "metadata": {},
   "source": [
    "7. What module contains Pillow’s shape-drawing code?"
   ]
  },
  {
   "cell_type": "code",
   "execution_count": 24,
   "id": "11b8a53f",
   "metadata": {},
   "outputs": [],
   "source": [
    "from PIL import Image, ImageDraw\n",
    "  \n",
    "# Opening the image to\n",
    "# be used and displaying it\n",
    "img = Image.open('image.png')\n",
    "img.show()"
   ]
  },
  {
   "cell_type": "markdown",
   "id": "09ad51e6",
   "metadata": {},
   "source": [
    "8. Image objects do not have drawing methods. What kind of object does? How do you get this kind\n",
    "of object?"
   ]
  },
  {
   "cell_type": "code",
   "execution_count": 26,
   "id": "714f388d",
   "metadata": {},
   "outputs": [],
   "source": [
    "from PIL import Image, ImageDraw\n",
    "  \n",
    "# Opening the image to be used\n",
    "img = Image.open('image.png')\n",
    "  \n",
    "# Creating a Draw object\n",
    "draw = ImageDraw.Draw(img)\n",
    "  \n",
    "# Drawing a green rectangle\n",
    "# in the middle of the image\n",
    "draw.rectangle(xy = (50, 50, 150, 150),\n",
    "               fill = (0, 127, 0),\n",
    "               outline = (255, 255, 255),\n",
    "               width = 5)"
   ]
  },
  {
   "cell_type": "code",
   "execution_count": null,
   "id": "5e0385bd",
   "metadata": {},
   "outputs": [],
   "source": []
  }
 ],
 "metadata": {
  "kernelspec": {
   "display_name": "Python 3 (ipykernel)",
   "language": "python",
   "name": "python3"
  },
  "language_info": {
   "codemirror_mode": {
    "name": "ipython",
    "version": 3
   },
   "file_extension": ".py",
   "mimetype": "text/x-python",
   "name": "python",
   "nbconvert_exporter": "python",
   "pygments_lexer": "ipython3",
   "version": "3.9.7"
  }
 },
 "nbformat": 4,
 "nbformat_minor": 5
}
