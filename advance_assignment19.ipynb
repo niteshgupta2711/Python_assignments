{
 "cells": [
  {
   "cell_type": "markdown",
   "id": "9cbf3a91",
   "metadata": {},
   "source": [
    "Q1. Define the relationship between a class and its instances. Is it a one-to-one or a one-to-many\n",
    "partnership, for example?\n",
    "\n",
    "Q2. What kind of data is held only in an instance?\n",
    "\n",
    "Q3. What kind of knowledge is stored in a class?\n",
    "\n",
    "Q4. What exactly is a method, and how is it different from a regular function?\n",
    "\n",
    "Q5. Is inheritance supported in Python, and if so, what is the syntax?\n",
    "\n",
    "Q6. How much encapsulation (making instance or class variables private) does Python support?\n",
    "\n",
    "Q7. How do you distinguish between a class variable and an instance variable?\n",
    "\n",
    "Q8. When, if ever, can self be included in a class&#39;s method definitions?\n",
    "\n",
    "Q9. What is the difference between the _ _add_ _ and the _ _radd_ _ methods?\n",
    "\n",
    "Q10. When is it necessary to use a reflection method? When do you not need it, even though you\n",
    "support the operation in question?\n",
    "\n",
    "Q11. What is the _ _iadd_ _ method called?\n",
    "\n",
    "Q12. Is the _ _init_ _ method inherited by subclasses? What do you do if you need to customize its\n",
    "behavior within a subclass?"
   ]
  },
  {
   "cell_type": "code",
   "execution_count": 1,
   "id": "3a156b6b",
   "metadata": {},
   "outputs": [],
   "source": [
    "# relation between class and instances\n",
    "# a class is logical blue print of code\n",
    "# a instance of class is a physical object of that code"
   ]
  },
  {
   "cell_type": "markdown",
   "id": "0530b952",
   "metadata": {},
   "source": [
    " What kind of data is held only in an instance?"
   ]
  },
  {
   "cell_type": "code",
   "execution_count": 2,
   "id": "06c0cdd8",
   "metadata": {},
   "outputs": [],
   "source": [
    "# the insatnce holds the entire abstraction of the class "
   ]
  },
  {
   "cell_type": "markdown",
   "id": "b70d548c",
   "metadata": {},
   "source": [
    "What kind of knowledge is stored in a class?"
   ]
  },
  {
   "cell_type": "code",
   "execution_count": 3,
   "id": "f03a4661",
   "metadata": {},
   "outputs": [],
   "source": [
    "# class stores the logical abstraction of code"
   ]
  },
  {
   "cell_type": "code",
   "execution_count": 4,
   "id": "768bb55c",
   "metadata": {},
   "outputs": [],
   "source": [
    "# methods are functions defined within a class with a instance of class as first parameter"
   ]
  },
  {
   "cell_type": "code",
   "execution_count": 6,
   "id": "6fe5d755",
   "metadata": {},
   "outputs": [],
   "source": [
    "# yes inheritance is supported in python\n",
    "class class1(type):\n",
    "    pass"
   ]
  },
  {
   "cell_type": "code",
   "execution_count": 7,
   "id": "3243d904",
   "metadata": {},
   "outputs": [],
   "source": [
    "# encapsulation in python does not much effetc in python as it can easily be accessed"
   ]
  },
  {
   "cell_type": "code",
   "execution_count": 8,
   "id": "55aec445",
   "metadata": {},
   "outputs": [],
   "source": [
    "# a class variable can be accessed without class intansiation\n",
    "# instance variable can only be accessed after instantiating the class"
   ]
  },
  {
   "cell_type": "code",
   "execution_count": 9,
   "id": "acd8d04e",
   "metadata": {},
   "outputs": [],
   "source": [
    "# bound methods require self key word\n"
   ]
  },
  {
   "cell_type": "code",
   "execution_count": 10,
   "id": "f305672d",
   "metadata": {},
   "outputs": [],
   "source": [
    "# There is no difference. One performs a+b , the other b+a . Likewise rmul and mul produce the same result, but rsub and sub & rdiv and div do not."
   ]
  },
  {
   "cell_type": "code",
   "execution_count": 11,
   "id": "a51d4eb7",
   "metadata": {},
   "outputs": [],
   "source": [
    "# th eimethod is called iadd to allow += opration with objects"
   ]
  },
  {
   "cell_type": "code",
   "execution_count": 12,
   "id": "bb5b6241",
   "metadata": {},
   "outputs": [],
   "source": [
    "# yes __init__ is also inherited and can can be overridden"
   ]
  },
  {
   "cell_type": "code",
   "execution_count": null,
   "id": "6beb2d8f",
   "metadata": {},
   "outputs": [],
   "source": []
  }
 ],
 "metadata": {
  "kernelspec": {
   "display_name": "Python 3 (ipykernel)",
   "language": "python",
   "name": "python3"
  },
  "language_info": {
   "codemirror_mode": {
    "name": "ipython",
    "version": 3
   },
   "file_extension": ".py",
   "mimetype": "text/x-python",
   "name": "python",
   "nbconvert_exporter": "python",
   "pygments_lexer": "ipython3",
   "version": "3.9.7"
  }
 },
 "nbformat": 4,
 "nbformat_minor": 5
}
