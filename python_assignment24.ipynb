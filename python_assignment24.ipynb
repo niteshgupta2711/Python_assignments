{
 "cells": [
  {
   "cell_type": "markdown",
   "id": "fbb08f44",
   "metadata": {},
   "source": [
    "1. What is the relationship between def statements and lambda expressions ?"
   ]
  },
  {
   "cell_type": "markdown",
   "id": "4a76cdf1",
   "metadata": {},
   "source": [
    "+ def statements are multiline func \n",
    "+ lambda Expression : one can call them one line functions or anonymous functions"
   ]
  },
  {
   "cell_type": "markdown",
   "id": "d018231e",
   "metadata": {},
   "source": [
    "2. What is the benefit of lambda?"
   ]
  },
  {
   "cell_type": "markdown",
   "id": "72be38e1",
   "metadata": {},
   "source": [
    "+ lambda functions allows you to write simple funtions in a single line\n",
    "+ if functions are  too simple to be written in a multipline single line may work best"
   ]
  },
  {
   "cell_type": "markdown",
   "id": "d3108233",
   "metadata": {},
   "source": [
    "3. Compare and contrast map, filter, and reduce."
   ]
  },
  {
   "cell_type": "code",
   "execution_count": 8,
   "id": "a2455bc3",
   "metadata": {},
   "outputs": [],
   "source": [
    "li=map(int,''.join([str(i) for i in range(100)]))"
   ]
  },
  {
   "cell_type": "code",
   "execution_count": 9,
   "id": "1422a39b",
   "metadata": {},
   "outputs": [],
   "source": [
    "# Map(func,iterable_object)"
   ]
  },
  {
   "cell_type": "code",
   "execution_count": 10,
   "id": "0fd440e4",
   "metadata": {},
   "outputs": [],
   "source": [
    "# filter(function, iterable(s)) this is the syntax for filter function too\n"
   ]
  },
  {
   "cell_type": "code",
   "execution_count": 14,
   "id": "9fda2f13",
   "metadata": {},
   "outputs": [],
   "source": [
    "x=filter(lambda x:x%2==0,list(range(10)))"
   ]
  },
  {
   "cell_type": "code",
   "execution_count": 15,
   "id": "92399969",
   "metadata": {},
   "outputs": [
    {
     "name": "stdout",
     "output_type": "stream",
     "text": [
      "0\n",
      "2\n",
      "4\n",
      "6\n",
      "8\n"
     ]
    }
   ],
   "source": [
    "for _ in x :\n",
    "    print(_)"
   ]
  },
  {
   "cell_type": "code",
   "execution_count": 16,
   "id": "ac802be2",
   "metadata": {},
   "outputs": [
    {
     "name": "stdout",
     "output_type": "stream",
     "text": [
      "16\n",
      "With an initial value: 26\n"
     ]
    }
   ],
   "source": [
    "from functools import reduce\n",
    "\n",
    "list = [2, 4, 7, 3]\n",
    "print(reduce(lambda x, y: x + y, list))\n",
    "print(\"With an initial value: \" + str(reduce(lambda x, y: x + y, list, 10)))"
   ]
  },
  {
   "cell_type": "markdown",
   "id": "cb1e3173",
   "metadata": {},
   "source": [
    "4. What are function annotations, and how are they used?"
   ]
  },
  {
   "cell_type": "markdown",
   "id": "534e209a",
   "metadata": {},
   "source": [
    "Function annotations are arbitrary python expressions that are associated with various part of functions. These expressions are evaluated at compile time and have no life in python's runtime environment. Python does not attach any meaning to these annotations."
   ]
  },
  {
   "cell_type": "markdown",
   "id": "c748c944",
   "metadata": {},
   "source": [
    "5. What are recursive functions, and how are they used?\n"
   ]
  },
  {
   "cell_type": "markdown",
   "id": "d9f30c6f",
   "metadata": {},
   "source": [
    "+ recursive functions are functions calling itself.\n",
    "+ it is said any problem could be boiled down to a recursive problem."
   ]
  },
  {
   "cell_type": "code",
   "execution_count": 19,
   "id": "12063ced",
   "metadata": {},
   "outputs": [],
   "source": [
    "# example\n",
    "def le(str1:str=\"\") -> int:\n",
    "    if str1=='':\n",
    "        return 0\n",
    "    else:\n",
    "        return 1+le(str1[1:])\n",
    "    "
   ]
  },
  {
   "cell_type": "code",
   "execution_count": 20,
   "id": "dacb669e",
   "metadata": {},
   "outputs": [
    {
     "data": {
      "text/plain": [
       "6"
      ]
     },
     "execution_count": 20,
     "metadata": {},
     "output_type": "execute_result"
    }
   ],
   "source": [
    "le(\"nitesh\")"
   ]
  },
  {
   "cell_type": "markdown",
   "id": "7fcf5e51",
   "metadata": {},
   "source": [
    "6. What are some general design guidelines for coding functions?"
   ]
  },
  {
   "cell_type": "code",
   "execution_count": 21,
   "id": "9f7765ab",
   "metadata": {},
   "outputs": [],
   "source": [
    "# python supports both scripting and object oriented programming\n",
    "# while defining a funtion we use the def statement then followed by a func name\n",
    "# then passing in parameters functions take"
   ]
  },
  {
   "cell_type": "code",
   "execution_count": 22,
   "id": "34c0edbb",
   "metadata": {},
   "outputs": [],
   "source": [
    "# then writing a docstring to explain explain how the function works\n",
    "# we should make a code more readable and reusable"
   ]
  },
  {
   "cell_type": "markdown",
   "id": "8c8db1f0",
   "metadata": {},
   "source": [
    "7. Name three or more ways that functions can communicate results to a caller."
   ]
  },
  {
   "cell_type": "code",
   "execution_count": 24,
   "id": "b749fd18",
   "metadata": {},
   "outputs": [],
   "source": [
    "# functions can be passed as a parameter in other functions\n",
    "# functions can be passed as a variable\n",
    "# other function can be defined within a function\n",
    "# functins can call itself"
   ]
  },
  {
   "cell_type": "code",
   "execution_count": null,
   "id": "dfe5c394",
   "metadata": {},
   "outputs": [],
   "source": []
  }
 ],
 "metadata": {
  "kernelspec": {
   "display_name": "Python 3 (ipykernel)",
   "language": "python",
   "name": "python3"
  },
  "language_info": {
   "codemirror_mode": {
    "name": "ipython",
    "version": 3
   },
   "file_extension": ".py",
   "mimetype": "text/x-python",
   "name": "python",
   "nbconvert_exporter": "python",
   "pygments_lexer": "ipython3",
   "version": "3.9.7"
  }
 },
 "nbformat": 4,
 "nbformat_minor": 5
}
