{
 "cells": [
  {
   "cell_type": "markdown",
   "id": "5124fbda",
   "metadata": {},
   "source": [
    "1. Write a Python program to find words which are greater than given length k?\n",
    "2. Write a Python program for removing i-th character from a string?\n",
    "3. Write a Python program to split and join a string?\n",
    "4. Write a Python to check if a given string is binary string or not?\n",
    "5. Write a Python program to find uncommon words from two Strings?\n",
    "6. Write a Python to find all duplicate characters in string?\n",
    "7. Write a Python Program to check if a string contains any special character?"
   ]
  },
  {
   "cell_type": "code",
   "execution_count": 1,
   "id": "b67ee949",
   "metadata": {},
   "outputs": [],
   "source": [
    "str1=\"this a length test  hello world\""
   ]
  },
  {
   "cell_type": "code",
   "execution_count": 3,
   "id": "659f0343",
   "metadata": {},
   "outputs": [
    {
     "data": {
      "text/plain": [
       "'length hello world'"
      ]
     },
     "execution_count": 3,
     "metadata": {},
     "output_type": "execute_result"
    }
   ],
   "source": [
    "\" \".join([x for x in str1.split() if len(x)>4])"
   ]
  },
  {
   "cell_type": "code",
   "execution_count": 4,
   "id": "0184996f",
   "metadata": {},
   "outputs": [
    {
     "data": {
      "text/plain": [
       "'this |a |length |test |hello |world'"
      ]
     },
     "execution_count": 4,
     "metadata": {},
     "output_type": "execute_result"
    }
   ],
   "source": [
    "\" |\".join(str1.split())"
   ]
  },
  {
   "cell_type": "code",
   "execution_count": 5,
   "id": "32fabf49",
   "metadata": {},
   "outputs": [
    {
     "name": "stdout",
     "output_type": "stream",
     "text": [
      "Yes\n"
     ]
    }
   ],
   "source": [
    "# Python program to check\n",
    "# if a string is binary or not\n",
    "\n",
    "# function for checking the\n",
    "# string is accepted or not\n",
    "def check(string) :\n",
    "\n",
    "\t# set function convert string\n",
    "\t# into set of characters .\n",
    "\tp = set(string)\n",
    "\n",
    "\t# declare set of '0', '1' .\n",
    "\ts = {'0', '1'}\n",
    "\n",
    "\t# check set p is same as set s\n",
    "\t# or set p contains only '0'\n",
    "\t# or set p contains only '1'\n",
    "\t# or not, if any one condition\n",
    "\t# is true then string is accepted\n",
    "\t# otherwise not .\n",
    "\tif s == p or p == {'0'} or p == {'1'}:\n",
    "\t\tprint(\"Yes\")\n",
    "\telse :\n",
    "\t\tprint(\"No\")\n",
    "\n",
    "\n",
    "\t\t\n",
    "# driver code\n",
    "if __name__ == \"__main__\" :\n",
    "\n",
    "\tstring = \"101010000111\"\n",
    "\n",
    "\t# function calling\n",
    "\tcheck(string)\n"
   ]
  },
  {
   "cell_type": "code",
   "execution_count": 31,
   "id": "b9c43dcd",
   "metadata": {},
   "outputs": [],
   "source": [
    "def uncom(str1,str2):\n",
    "    st1=set(str1.split())\n",
    "    print(st1)\n",
    "    st2=set(str2.split())\n",
    "    print(st2)\n",
    "    l1=st1.intersection(str2)\n",
    "    print(l1)\n",
    "    l2=[x for x in list(st1) if x not in l1]\n",
    "    l3=[x for x in list(st2) if x not in l1]\n",
    "    return l2+l3\n",
    "    "
   ]
  },
  {
   "cell_type": "code",
   "execution_count": 32,
   "id": "e80f4cd6",
   "metadata": {},
   "outputs": [
    {
     "name": "stdout",
     "output_type": "stream",
     "text": [
      "{'this', 'a', 'strin', 'is'}\n",
      "{'this', 'wedding', 'anot', 'is'}\n",
      "{'a'}\n"
     ]
    },
    {
     "data": {
      "text/plain": [
       "['this', 'strin', 'is', 'this', 'wedding', 'anot', 'is']"
      ]
     },
     "execution_count": 32,
     "metadata": {},
     "output_type": "execute_result"
    }
   ],
   "source": [
    "uncom(\"this is a strin\",\"this is anot wedding\")"
   ]
  },
  {
   "cell_type": "code",
   "execution_count": 34,
   "id": "53bcaa91",
   "metadata": {},
   "outputs": [
    {
     "data": {
      "text/plain": [
       "2"
      ]
     },
     "execution_count": 34,
     "metadata": {},
     "output_type": "execute_result"
    }
   ],
   "source": [
    "str2='this is a test'\n",
    "str2.count('i')"
   ]
  },
  {
   "cell_type": "code",
   "execution_count": 36,
   "id": "476b625d",
   "metadata": {},
   "outputs": [
    {
     "data": {
      "text/plain": [
       "{' ', 'i', 's', 't'}"
      ]
     },
     "execution_count": 36,
     "metadata": {},
     "output_type": "execute_result"
    }
   ],
   "source": [
    "set([x for x in str2 if str2.count(x)>1])"
   ]
  },
  {
   "cell_type": "code",
   "execution_count": 37,
   "id": "90bef7fb",
   "metadata": {},
   "outputs": [
    {
     "data": {
      "text/plain": [
       "True"
      ]
     },
     "execution_count": 37,
     "metadata": {},
     "output_type": "execute_result"
    }
   ],
   "source": [
    "'!' in \"!test\""
   ]
  },
  {
   "cell_type": "code",
   "execution_count": null,
   "id": "52924cac",
   "metadata": {},
   "outputs": [],
   "source": []
  }
 ],
 "metadata": {
  "kernelspec": {
   "display_name": "Python 3 (ipykernel)",
   "language": "python",
   "name": "python3"
  },
  "language_info": {
   "codemirror_mode": {
    "name": "ipython",
    "version": 3
   },
   "file_extension": ".py",
   "mimetype": "text/x-python",
   "name": "python",
   "nbconvert_exporter": "python",
   "pygments_lexer": "ipython3",
   "version": "3.9.7"
  }
 },
 "nbformat": 4,
 "nbformat_minor": 5
}
