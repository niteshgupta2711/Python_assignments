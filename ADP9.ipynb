{
 "cells": [
  {
   "cell_type": "markdown",
   "id": "1b9f1b8b",
   "metadata": {},
   "source": [
    "1. YouTube offers different playback speed options for users. This allows\n",
    "users to increase or decrease the speed of the video content. Given the\n",
    "actual duration and playback speed of the video, calculate the playback\n",
    "duration of the video.\n",
    "Examples\n",
    "playback_duration(&quot;00:30:00&quot;, 2) ➞ &quot;00:15:00&quot;\n",
    "playback_duration(&quot;01:20:00&quot;, 1.5) ➞ &quot;00:53:20&quot;\n",
    "playback_duration(&quot;51:20:09&quot;, 0.5) ➞ &quot;102:40:18&quot;"
   ]
  },
  {
   "cell_type": "code",
   "execution_count": 1,
   "id": "1529567c",
   "metadata": {},
   "outputs": [],
   "source": [
    "# def playback_duration(str1,num):\n",
    "#     l=int(i) t(':')"
   ]
  },
  {
   "cell_type": "code",
   "execution_count": 30,
   "id": "c630d93a",
   "metadata": {},
   "outputs": [],
   "source": [
    "def sec_toh(num):\n",
    "    h=int(num//3600)\n",
    "    if h==0:\n",
    "        m=int(num/60)\n",
    "        s=num%60\n",
    "    else:\n",
    "        m=int((num%3600)/60)\n",
    "        s=int((num%3600)%60)\n",
    "    return ':'.join([str(h),str(m),str(s)])\n",
    "        \n",
    "        \n",
    "\n",
    "\n",
    "\n",
    "\n",
    "def playback_duration(str1,num):\n",
    "    l=[int(i) for i in str1.split(':')]\n",
    "    l1,l2,l3=3600*l[0],60*l[1],l[2]\n",
    "    return sec_toh(sum([l1,l2,l3])//num)"
   ]
  },
  {
   "cell_type": "code",
   "execution_count": 31,
   "id": "8ec5211d",
   "metadata": {},
   "outputs": [
    {
     "data": {
      "text/plain": [
       "('0:53:20.0', '102:40:18')"
      ]
     },
     "execution_count": 31,
     "metadata": {},
     "output_type": "execute_result"
    }
   ],
   "source": [
    "playback_duration(\"01:20:00\", 1.5),playback_duration(\"51:20:09\", 0.5)"
   ]
  },
  {
   "cell_type": "markdown",
   "id": "845f7103",
   "metadata": {},
   "source": [
    "2. We needs your help to construct a building which will be a pile of n cubes.\n",
    "The cube at the bottom will have a volume of n^3, the cube above will have\n",
    "volume of (n-1)^3 and so on until the top which will have a volume of 1^3.\n",
    "Given the total volume m of the building, can you find the number of cubes n\n",
    "required for the building?\n",
    "In other words, you have to return an integer n such that:\n",
    "n^3 + (n-1)^3 + ... + 1^3 == m\n",
    "Return None if there is no such number."
   ]
  },
  {
   "cell_type": "code",
   "execution_count": 45,
   "id": "85998f53",
   "metadata": {},
   "outputs": [],
   "source": [
    "def pile_of_cubes(num):\n",
    "    cou=1\n",
    "    sum=0\n",
    "    while sum!=num:\n",
    "        sum+=cou**3\n",
    "        cou+=1\n",
    "    return cou-1\n"
   ]
  },
  {
   "cell_type": "code",
   "execution_count": 46,
   "id": "f8dddaf2",
   "metadata": {},
   "outputs": [
    {
     "data": {
      "text/plain": [
       "45"
      ]
     },
     "execution_count": 46,
     "metadata": {},
     "output_type": "execute_result"
    }
   ],
   "source": [
    "pile_of_cubes(1071225)"
   ]
  },
  {
   "cell_type": "code",
   "execution_count": 47,
   "id": "165f7e8d",
   "metadata": {},
   "outputs": [
    {
     "data": {
      "text/plain": [
       "2022"
      ]
     },
     "execution_count": 47,
     "metadata": {},
     "output_type": "execute_result"
    }
   ],
   "source": [
    "pile_of_cubes(4183059834009)"
   ]
  },
  {
   "cell_type": "markdown",
   "id": "6a4ef804",
   "metadata": {},
   "source": [
    "3. A fulcrum of a list is an integer such that all elements to the left of it and all\n",
    "elements to the right of it sum to the same value. Write a function that finds\n",
    "the fulcrum of a list.\n",
    "To illustrate:\n",
    "find_fulcrum([3, 1, 5, 2, 4, 6, -1]) ➞ 2\n",
    "// Since [3, 1, 5] and [4, 6, -1] both sum to 9"
   ]
  },
  {
   "cell_type": "code",
   "execution_count": 50,
   "id": "6c002f80",
   "metadata": {},
   "outputs": [],
   "source": [
    "def find_fulcrum(list1):\n",
    "    for i in range(len(list1)):\n",
    "        if sum(list1[:i])==sum(list1[i+1:]):\n",
    "            return list1[i]\n",
    "    return -1"
   ]
  },
  {
   "cell_type": "code",
   "execution_count": 51,
   "id": "4ab41d0b",
   "metadata": {},
   "outputs": [
    {
     "data": {
      "text/plain": [
       "2"
      ]
     },
     "execution_count": 51,
     "metadata": {},
     "output_type": "execute_result"
    }
   ],
   "source": [
    "find_fulcrum([3, 1, 5, 2, 4, 6, -1])"
   ]
  },
  {
   "cell_type": "markdown",
   "id": "1e61ea5c",
   "metadata": {},
   "source": [
    "4. Given a list of integers representing the color of each sock, determine how\n",
    "many pairs of socks with matching colors there are. For example, there are 7\n",
    "socks with colors [1, 2, 1, 2, 1, 3, 2]. There is one pair of color 1 and one of\n",
    "color 2. There are three odd socks left, one of each color. The number of\n",
    "pairs is 2.\n",
    "Create a function that returns an integer representing the number of matching\n",
    "pairs of socks that are available.\n",
    "Examples\n",
    "sock_merchant([10, 20, 20, 10, 10, 30, 50, 10, 20]) ➞ 3\n",
    "sock_merchant([50, 20, 30, 90, 30, 20, 50, 20, 90]) ➞ 4\n",
    "sock_merchant([]) ➞ 0"
   ]
  },
  {
   "cell_type": "code",
   "execution_count": 55,
   "id": "4cdf403b",
   "metadata": {},
   "outputs": [],
   "source": [
    "def sock_merchant(list1):\n",
    "    l=list(set(list1))\n",
    "    d={}\n",
    "    for ele in l:\n",
    "        d[ele]=list1.count(ele)\n",
    "    return sum([val//2 for val in d.values()])"
   ]
  },
  {
   "cell_type": "code",
   "execution_count": 56,
   "id": "c0a68fe3",
   "metadata": {},
   "outputs": [
    {
     "data": {
      "text/plain": [
       "4"
      ]
     },
     "execution_count": 56,
     "metadata": {},
     "output_type": "execute_result"
    }
   ],
   "source": [
    "sock_merchant([50, 20, 30, 90, 30, 20, 50, 20, 90])"
   ]
  },
  {
   "cell_type": "markdown",
   "id": "42595255",
   "metadata": {},
   "source": [
    "5. Create a function that takes a string containing integers as well as other\n",
    "characters and return the sum of the negative integers only.\n",
    "Examples\n",
    "negative_sum(&quot;-12 13%14&amp;-11&quot;) ➞ -23\n",
    "# -12 + -11 = -23\n",
    "negative_sum(&quot;22 13%14&amp;-11-22 13 12&quot;) ➞ -33\n",
    "# -11 + -22 = -33"
   ]
  },
  {
   "cell_type": "code",
   "execution_count": 59,
   "id": "9aee1522",
   "metadata": {},
   "outputs": [],
   "source": [
    "def negative_sum(str1):\n",
    "    import re\n",
    "    return sum([int(x) for x in re.findall('-{1}[0-9]+',str1)])"
   ]
  },
  {
   "cell_type": "code",
   "execution_count": 60,
   "id": "c43991ed",
   "metadata": {},
   "outputs": [
    {
     "data": {
      "text/plain": [
       "-23"
      ]
     },
     "execution_count": 60,
     "metadata": {},
     "output_type": "execute_result"
    }
   ],
   "source": [
    "negative_sum(\"-12 13%14&-11\")"
   ]
  },
  {
   "cell_type": "code",
   "execution_count": null,
   "id": "bb930b25",
   "metadata": {},
   "outputs": [],
   "source": []
  }
 ],
 "metadata": {
  "kernelspec": {
   "display_name": "Python 3 (ipykernel)",
   "language": "python",
   "name": "python3"
  },
  "language_info": {
   "codemirror_mode": {
    "name": "ipython",
    "version": 3
   },
   "file_extension": ".py",
   "mimetype": "text/x-python",
   "name": "python",
   "nbconvert_exporter": "python",
   "pygments_lexer": "ipython3",
   "version": "3.9.7"
  }
 },
 "nbformat": 4,
 "nbformat_minor": 5
}
