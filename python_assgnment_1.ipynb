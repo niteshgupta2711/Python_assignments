{
 "cells": [
  {
   "cell_type": "markdown",
   "id": "24ccd42b-01b8-4a0c-9faf-8d9401d489de",
   "metadata": {},
   "source": [
    "1. In the below elements which of them are values or an expression? eg:- values can be\n",
    "integer or string and expressions will be mathematical operators."
   ]
  },
  {
   "cell_type": "markdown",
   "id": "4e0757cd-e4f1-42cb-811c-13d63b285055",
   "metadata": {},
   "source": [
    "+ \"hello\",-87.8 ,6 are values \n",
    "+ *,-,/,+ are EXPRESSIONS"
   ]
  },
  {
   "cell_type": "markdown",
   "id": "833f9053-d45d-4c9d-b0bc-862f3a693af6",
   "metadata": {},
   "source": [
    "2. What is the difference between string and variable?"
   ]
  },
  {
   "cell_type": "markdown",
   "id": "0aee7c23-2768-4ac1-9fad-657b60a37ab6",
   "metadata": {},
   "source": [
    "+ String is a predefined datatype in python.\n",
    "+ Variables are anything that holds a value or stores informatin in it which can later be manipulated in a program"
   ]
  },
  {
   "cell_type": "markdown",
   "id": "7d585fbb-81d7-43b4-80b8-2b789d573937",
   "metadata": {},
   "source": [
    "3. Describe three different data types."
   ]
  },
  {
   "cell_type": "markdown",
   "id": "0391441f-2688-443c-a550-2bdfcdd9c429",
   "metadata": {},
   "source": [
    "+ Integer - Integer is any non-decimal number,(Typically, an integer occupies four bytes, or 32 bits.)\n",
    "+ string - sequence of characters , immutable, written within single or double quotes.(each char has typical size of 1 byte)\n",
    "+ boolean - 0,1,True,False Any info which is binary "
   ]
  },
  {
   "cell_type": "markdown",
   "id": "7df34485-13a3-44b8-956d-4d2b2ac1582f",
   "metadata": {},
   "source": [
    "4. What is an expression made up of? What do all expressions do?"
   ]
  },
  {
   "cell_type": "markdown",
   "id": "5b0e0490-786f-4a4c-b66e-d7d400239dac",
   "metadata": {},
   "source": [
    "An expression is made up of +,/,*,%,//\n",
    "+ '+'operator ==> adds two numbers or concatenates two strings\n",
    "+ '/' opeartor ==> divides two numbers\n",
    "+ '*' operator ==> multiplies two numbers also multiplies strings with numbers(eg- \"Nitesh\"*3 )\n",
    "+ % opeartor ==> gives remainder when two numbers are divided(5%2=1)\n",
    "+ // opeartor ==> gives quotient part when two numbers are divided (5//2=2)\n"
   ]
  },
  {
   "cell_type": "markdown",
   "id": "ea00688b-17b2-4fc4-b8fe-c30dfea0d7d5",
   "metadata": {},
   "source": [
    "5. This assignment statements, like spam = 10. What is the difference between an\n",
    "expression and a statement?"
   ]
  },
  {
   "cell_type": "markdown",
   "id": "80a462bb-70b4-4a53-8618-38d8e16f1d24",
   "metadata": {},
   "source": [
    "+ spam=10 (= sign is a assigning opearator, assigns 10 to variable 'spam')\n",
    "+ expressions perform a logical operations  on variables or on compatible datatypes."
   ]
  },
  {
   "cell_type": "markdown",
   "id": "9d5c556f-181a-401a-8753-486ba8ca06af",
   "metadata": {},
   "source": [
    "6. After running the following code, what does the variable bacon contain?\n",
    "bacon = 22\n",
    "bacon + 1"
   ]
  },
  {
   "cell_type": "markdown",
   "id": "d34aeca4-60fc-4946-a599-acb558eb5652",
   "metadata": {},
   "source": [
    "bacon contains value 22 in it"
   ]
  },
  {
   "cell_type": "markdown",
   "id": "38a6d4f9-8209-415e-8201-d19dc05dc0b1",
   "metadata": {},
   "source": [
    "7. What should the values of the following two terms be?\n",
    "&#39;spam&#39; + &#39;spamspam&#39;\n",
    "&#39;spam&#39; * 3"
   ]
  },
  {
   "cell_type": "markdown",
   "id": "dca009ce-25f0-46f7-9319-4e7ba8ecfc12",
   "metadata": {},
   "source": [
    "+ \"spam\"+\"spamspam\"='spamspamspam'\n",
    "+ 'spam'*3='spamspamspam'"
   ]
  },
  {
   "cell_type": "markdown",
   "id": "e75d1d83-6aee-4ffa-a2a0-6d37d2600b10",
   "metadata": {},
   "source": [
    "8. Why is eggs a valid variable name while 100 is invalid?"
   ]
  },
  {
   "cell_type": "markdown",
   "id": "05ca2112-bbed-458e-b854-f9bcfb811d01",
   "metadata": {},
   "source": [
    "The name of a variable should start with letter,not special characters, not numbers which is why eggs is a valid variable name while 100 is not.\n"
   ]
  },
  {
   "cell_type": "markdown",
   "id": "5be547f2-0284-4bfa-bda0-f2046888271b",
   "metadata": {},
   "source": [
    "9. What three functions can be used to get the integer, floating-point number, or string\n",
    "version of a value?"
   ]
  },
  {
   "cell_type": "markdown",
   "id": "0b3b5e9d-9857-4321-ac81-45d94f5c7726",
   "metadata": {},
   "source": [
    "The three inbuilt functions that can be used are \n",
    "+ int()\n",
    "+ float()\n",
    "+ str()"
   ]
  },
  {
   "cell_type": "markdown",
   "id": "f77c63d9-01ff-45da-b997-1ffba5258388",
   "metadata": {},
   "source": [
    "10. Why does this expression cause an error? How can you fix it?\n",
    "&#39;I have eaten &#39; + 99 + &#39; burritos.&#39;"
   ]
  },
  {
   "cell_type": "markdown",
   "id": "d2cf8be8-4c04-4732-b3e7-1a5c93d1eac1",
   "metadata": {},
   "source": [
    "This expression causes an error because , one cannot concatenate integer with a string.\n",
    "+ we can fix this by typcasting 'I have eaten' + str(99) + 'burritos'."
   ]
  },
  {
   "cell_type": "code",
   "execution_count": null,
   "id": "441fdb32-1a08-4131-861a-cf1d520fb6c5",
   "metadata": {},
   "outputs": [],
   "source": []
  }
 ],
 "metadata": {
  "kernelspec": {
   "display_name": "Python 3 (ipykernel)",
   "language": "python",
   "name": "python3"
  },
  "language_info": {
   "codemirror_mode": {
    "name": "ipython",
    "version": 3
   },
   "file_extension": ".py",
   "mimetype": "text/x-python",
   "name": "python",
   "nbconvert_exporter": "python",
   "pygments_lexer": "ipython3",
   "version": "3.9.7"
  }
 },
 "nbformat": 4,
 "nbformat_minor": 5
}
