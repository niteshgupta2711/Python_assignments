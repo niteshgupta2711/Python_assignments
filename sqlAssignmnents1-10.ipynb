{
 "cells": [
  {
   "cell_type": "markdown",
   "id": "c47faecf",
   "metadata": {},
   "source": [
    "# SQL"
   ]
  },
  {
   "cell_type": "markdown",
   "id": "7f90d855",
   "metadata": {},
   "source": [
    "# Assignment1"
   ]
  },
  {
   "cell_type": "markdown",
   "id": "3c8c6692",
   "metadata": {},
   "source": [
    "1. Write an SQL query to fetch “FIRST_NAME” from Worker table using the alias\n",
    "name as &lt;WORKER_NAME&gt;.\n",
    "2. Write an SQL query to fetch unique values of DEPARTMENT from Worker table.\n",
    "3. Write an SQL query to show the last 5 record from a table."
   ]
  },
  {
   "cell_type": "code",
   "execution_count": 1,
   "id": "9e9633cb",
   "metadata": {},
   "outputs": [
    {
     "data": {
      "text/plain": [
       "'\\nselect first_name as worker_name from worker\\n\\n'"
      ]
     },
     "execution_count": 1,
     "metadata": {},
     "output_type": "execute_result"
    }
   ],
   "source": [
    "\"\"\"\n",
    "select first_name as worker_name from worker\n",
    "\n",
    "\"\"\""
   ]
  },
  {
   "cell_type": "code",
   "execution_count": 2,
   "id": "9062ac17",
   "metadata": {},
   "outputs": [
    {
     "data": {
      "text/plain": [
       "'\\nselect distinct(department) as departent from worker\\n\\n\\n\\n'"
      ]
     },
     "execution_count": 2,
     "metadata": {},
     "output_type": "execute_result"
    }
   ],
   "source": [
    "\"\"\"\n",
    "select distinct(department) as departent from worker\n",
    "\n",
    "\n",
    "\n",
    "\"\"\""
   ]
  },
  {
   "cell_type": "code",
   "execution_count": 3,
   "id": "9d7e3a3e",
   "metadata": {},
   "outputs": [
    {
     "data": {
      "text/plain": [
       "'\\n\\n-- lets say we have  a primary key as id then\\n(select * worker order by id desc limit 5) order by id asc \\n\\n\\n\\n'"
      ]
     },
     "execution_count": 3,
     "metadata": {},
     "output_type": "execute_result"
    }
   ],
   "source": [
    "\"\"\"\n",
    "\n",
    "-- lets say we have  a primary key as id then\n",
    "(select * worker order by id desc limit 5) order by id asc \n",
    "\n",
    "\n",
    "\n",
    "\"\"\""
   ]
  },
  {
   "cell_type": "markdown",
   "id": "da3330f9",
   "metadata": {},
   "source": [
    "# assignment 2"
   ]
  },
  {
   "cell_type": "markdown",
   "id": "f21decf1",
   "metadata": {},
   "source": [
    "1. Write an SQL query to print the first three characters of  FIRST_NAME from Worker\n",
    "table.\n",
    "2. Write an SQL query to find the position of the alphabet (‘a’) in the first name\n",
    "column ‘Amitabh’ from Worker table.\n",
    "3. Write an SQL query to print the name of employees having the highest salary in each\n",
    "department."
   ]
  },
  {
   "cell_type": "code",
   "execution_count": 4,
   "id": "3c200221",
   "metadata": {},
   "outputs": [
    {
     "data": {
      "text/plain": [
       "'\\nselect substring(first_name,1,3) as first_three from worker\\n\\n\\n\\n'"
      ]
     },
     "execution_count": 4,
     "metadata": {},
     "output_type": "execute_result"
    }
   ],
   "source": [
    "\"\"\"\n",
    "select substring(first_name,1,3) as first_three from worker\n",
    "\n",
    "\n",
    "\n",
    "\"\"\""
   ]
  },
  {
   "cell_type": "code",
   "execution_count": 5,
   "id": "70ea142a",
   "metadata": {},
   "outputs": [
    {
     "data": {
      "text/plain": [
       "\"\\nselect charindex('a', first_name)\\n\\n\\n\\n\""
      ]
     },
     "execution_count": 5,
     "metadata": {},
     "output_type": "execute_result"
    }
   ],
   "source": [
    "\"\"\"\n",
    "select charindex('a', first_name)\n",
    "\n",
    "\n",
    "\n",
    "\"\"\""
   ]
  },
  {
   "cell_type": "code",
   "execution_count": 6,
   "id": "68b76187",
   "metadata": {},
   "outputs": [
    {
     "data": {
      "text/plain": [
       "'\\nselect first_name,max(salary),deparment from worker group by department\\n\\n\\n\\n\\n\\n\\n'"
      ]
     },
     "execution_count": 6,
     "metadata": {},
     "output_type": "execute_result"
    }
   ],
   "source": [
    "'''\n",
    "select first_name,max(salary),deparment from worker group by department\n",
    "\n",
    "\n",
    "\n",
    "\n",
    "\n",
    "\n",
    "'''"
   ]
  },
  {
   "cell_type": "markdown",
   "id": "1394070c",
   "metadata": {},
   "source": [
    "# assignment 3"
   ]
  },
  {
   "cell_type": "markdown",
   "id": "cbcebf1c",
   "metadata": {},
   "source": [
    "1. Write an SQL query to print the FIRST_NAME from Worker table after removing\n",
    "white spaces from the right side.\n",
    "2. Write an SQL query that fetches the unique values of DEPARTMENT from Worker\n",
    "table and prints its length.\n",
    "3. Write an SQL query to fetch nth max salaries from a table."
   ]
  },
  {
   "cell_type": "markdown",
   "id": "10360a2a",
   "metadata": {},
   "source": []
  },
  {
   "cell_type": "code",
   "execution_count": 9,
   "id": "65ab6ec0",
   "metadata": {},
   "outputs": [
    {
     "data": {
      "text/plain": [
       "'\\n\\nselect rtrim(first_name) from worker\\n\\n\\n\\n\\n'"
      ]
     },
     "execution_count": 9,
     "metadata": {},
     "output_type": "execute_result"
    }
   ],
   "source": [
    "\"\"\"\n",
    "\n",
    "select rtrim(first_name) from worker\n",
    "\n",
    "\n",
    "\n",
    "\n",
    "\"\"\""
   ]
  },
  {
   "cell_type": "code",
   "execution_count": 10,
   "id": "f024049a",
   "metadata": {},
   "outputs": [
    {
     "data": {
      "text/plain": [
       "'\\n\\n\\nselect distinct(department) as department ,len(department) from worker'"
      ]
     },
     "execution_count": 10,
     "metadata": {},
     "output_type": "execute_result"
    }
   ],
   "source": [
    "\n",
    "\"\"\"\n",
    "\n",
    "\n",
    "select distinct(department) as department ,len(department) from worker\"\"\""
   ]
  },
  {
   "cell_type": "code",
   "execution_count": 11,
   "id": "b1d9f6bf",
   "metadata": {},
   "outputs": [
    {
     "data": {
      "text/plain": [
       "'\\n\\n\\nselect salary deom worker order by salary desc limit n\\n\\n\\n'"
      ]
     },
     "execution_count": 11,
     "metadata": {},
     "output_type": "execute_result"
    }
   ],
   "source": [
    "\n",
    "\"\"\"\n",
    "\n",
    "\n",
    "select salary deom worker order by salary desc limit n\n",
    "\n",
    "\n",
    "\"\"\""
   ]
  },
  {
   "cell_type": "markdown",
   "id": "6c7b75bd",
   "metadata": {},
   "source": [
    " # asignment 4"
   ]
  },
  {
   "cell_type": "markdown",
   "id": "e3afe5a4",
   "metadata": {},
   "source": [
    "1. Write an SQL query to print the FIRST_NAME from Worker table after replacing ‘a’\n",
    "with ‘A’.\n",
    "2. Write an SQL query to print all Worker details from the Worker table order by\n",
    "FIRST_NAME Ascending and DEPARTMENT Descending.\n",
    "3. Write an SQL query to fetch the names of workers who earn the highest salary."
   ]
  },
  {
   "cell_type": "code",
   "execution_count": 13,
   "id": "7a0e787b",
   "metadata": {},
   "outputs": [
    {
     "data": {
      "text/plain": [
       "\"\\nselect replace(first_name, 'a','A') as first from worker\\n\\n\\n\""
      ]
     },
     "execution_count": 13,
     "metadata": {},
     "output_type": "execute_result"
    }
   ],
   "source": [
    "\"\"\"\n",
    "select replace(first_name, 'a','A') as first from worker\n",
    "\n",
    "\n",
    "\"\"\""
   ]
  },
  {
   "cell_type": "code",
   "execution_count": 14,
   "id": "214150ac",
   "metadata": {},
   "outputs": [
    {
     "data": {
      "text/plain": [
       "'\\nselect * from worker order by first_name asc, department desc\\n\\n\\n'"
      ]
     },
     "execution_count": 14,
     "metadata": {},
     "output_type": "execute_result"
    }
   ],
   "source": [
    "\"\"\"\n",
    "select * from worker order by first_name asc, department desc\n",
    "\n",
    "\n",
    "\"\"\""
   ]
  },
  {
   "cell_type": "code",
   "execution_count": 15,
   "id": "bef798b7",
   "metadata": {},
   "outputs": [
    {
     "data": {
      "text/plain": [
       "'\\nselect first_name deom worker order by salary desc limit 20\\n\\n\\n\\n\\n'"
      ]
     },
     "execution_count": 15,
     "metadata": {},
     "output_type": "execute_result"
    }
   ],
   "source": [
    "\"\"\"\n",
    "select first_name deom worker order by salary desc limit 20\n",
    "\n",
    "\n",
    "\n",
    "\n",
    "\"\"\""
   ]
  },
  {
   "cell_type": "markdown",
   "id": "6b2439fd",
   "metadata": {},
   "source": [
    "# assignment 6"
   ]
  },
  {
   "cell_type": "markdown",
   "id": "7fdf49b0",
   "metadata": {},
   "source": [
    "1. Write an SQL query to print details of the Workers who have joined in Feb’2014.\n",
    "2. Write an SQL query to fetch duplicate records having matching data in some fields of\n",
    "a table.\n",
    "3. How to remove duplicate rows from Employees table."
   ]
  },
  {
   "cell_type": "code",
   "execution_count": 16,
   "id": "252e2807",
   "metadata": {},
   "outputs": [
    {
     "data": {
      "text/plain": [
       "'\\nselect * from worker where joining_date between 2014:02:01 00:00:00 and 2014:02:28 11:59:59\\n\\n\\n'"
      ]
     },
     "execution_count": 16,
     "metadata": {},
     "output_type": "execute_result"
    }
   ],
   "source": [
    "\"\"\"\n",
    "select * from worker where joining_date between 2014:02:01 00:00:00 and 2014:02:28 11:59:59\n",
    "\n",
    "\n",
    "\"\"\""
   ]
  },
  {
   "cell_type": "code",
   "execution_count": 17,
   "id": "4e8bde11",
   "metadata": {},
   "outputs": [
    {
     "data": {
      "text/plain": [
       "'\\nselect count(*) as dup,* from worker group by * where dup >1\\n\\n\\n\\n'"
      ]
     },
     "execution_count": 17,
     "metadata": {},
     "output_type": "execute_result"
    }
   ],
   "source": [
    "\"\"\"\n",
    "select count(*) as dup,* from worker group by * where dup >1\n",
    "\n",
    "\n",
    "\n",
    "\"\"\""
   ]
  },
  {
   "cell_type": "code",
   "execution_count": 18,
   "id": "d17623ca",
   "metadata": {},
   "outputs": [
    {
     "data": {
      "text/plain": [
       "'\\nselect * from (select count(*) as dup,* from worker group by * having dup >1)\\n\\n\\n'"
      ]
     },
     "execution_count": 18,
     "metadata": {},
     "output_type": "execute_result"
    }
   ],
   "source": [
    "'''\n",
    "select * from (select count(*) as dup,* from worker group by * having dup >1)\n",
    "\n",
    "\n",
    "'''"
   ]
  },
  {
   "cell_type": "markdown",
   "id": "615882d8",
   "metadata": {},
   "source": [
    "# assignment 7"
   ]
  },
  {
   "cell_type": "markdown",
   "id": "5c4ef172",
   "metadata": {},
   "source": [
    "13. Write an SQL query to show only odd rows from a table.\n",
    "14. Write an SQL query to clone a new table from another table."
   ]
  },
  {
   "cell_type": "code",
   "execution_count": 19,
   "id": "c9d8319b",
   "metadata": {},
   "outputs": [
    {
     "data": {
      "text/plain": [
       "'\\nselect * from (select *,rownumber as rn from <table> where rn%2!=0)\\n\\n\\n'"
      ]
     },
     "execution_count": 19,
     "metadata": {},
     "output_type": "execute_result"
    }
   ],
   "source": [
    "\n",
    "\"\"\"\n",
    "select * from (select *,rownumber as rn from <table> where rn%2!=0)\n",
    "\n",
    "\n",
    "\"\"\""
   ]
  },
  {
   "cell_type": "code",
   "execution_count": 20,
   "id": "7421beeb",
   "metadata": {},
   "outputs": [
    {
     "data": {
      "text/plain": [
       "'\\nCREATE TABLE new_table LIKE original_table;\\ninsert into new_table select * from original_table\\n\\n\\n\\n'"
      ]
     },
     "execution_count": 20,
     "metadata": {},
     "output_type": "execute_result"
    }
   ],
   "source": [
    "\"\"\"\n",
    "CREATE TABLE new_table LIKE original_table;\n",
    "insert into new_table select * from original_table\n",
    "\n",
    "\n",
    "\n",
    "\"\"\""
   ]
  },
  {
   "cell_type": "markdown",
   "id": "14f23709",
   "metadata": {},
   "source": [
    "# assignment 8"
   ]
  },
  {
   "cell_type": "markdown",
   "id": "4dc4eb29",
   "metadata": {},
   "source": [
    "15. Write an SQL query to fetch intersecting records of two tables.\n",
    "16. Write an SQL query to show records from one table that another table does not\n",
    "have."
   ]
  },
  {
   "cell_type": "code",
   "execution_count": 21,
   "id": "0c9ee70f",
   "metadata": {},
   "outputs": [
    {
     "data": {
      "text/plain": [
       "'\\nselect a.*,b.* from table_1 as a inner join table_2 as b on a.primry_key=b.primary_key\\n\\n'"
      ]
     },
     "execution_count": 21,
     "metadata": {},
     "output_type": "execute_result"
    }
   ],
   "source": [
    "\"\"\"\n",
    "select a.*,b.* from table_1 as a inner join table_2 as b on a.primry_key=b.primary_key\n",
    "\n",
    "\"\"\""
   ]
  },
  {
   "cell_type": "code",
   "execution_count": 22,
   "id": "e0e4cf6e",
   "metadata": {},
   "outputs": [
    {
     "data": {
      "text/plain": [
       "'\\nselect a.* from table_1 as a anti left join table_2 as b on a.primry_key=b.primary_key\\n\\n'"
      ]
     },
     "execution_count": 22,
     "metadata": {},
     "output_type": "execute_result"
    }
   ],
   "source": [
    "\"\"\"\n",
    "select a.* from table_1 as a anti left join table_2 as b on a.primry_key=b.primary_key\n",
    "\n",
    "\"\"\""
   ]
  },
  {
   "cell_type": "markdown",
   "id": "e5475743",
   "metadata": {},
   "source": [
    "# assignment 9"
   ]
  },
  {
   "cell_type": "markdown",
   "id": "c08d3948",
   "metadata": {},
   "source": [
    "17. Write an SQL query to show the top n (say 10) records of a table.\n",
    "18. Write an SQL query to determine the nth (say n=5) highest salary from a table."
   ]
  },
  {
   "cell_type": "code",
   "execution_count": 25,
   "id": "426e8a6b",
   "metadata": {},
   "outputs": [
    {
     "data": {
      "text/plain": [
       "'\\nselect top 10 from table_1\\n\\n'"
      ]
     },
     "execution_count": 25,
     "metadata": {},
     "output_type": "execute_result"
    }
   ],
   "source": [
    "\"\"\"\n",
    "select top 10 from table_1\n",
    "\n",
    "\"\"\""
   ]
  },
  {
   "cell_type": "code",
   "execution_count": null,
   "id": "c81decf1",
   "metadata": {},
   "outputs": [],
   "source": []
  },
  {
   "cell_type": "code",
   "execution_count": 26,
   "id": "7ef55eb4",
   "metadata": {},
   "outputs": [
    {
     "data": {
      "text/plain": [
       "'(select * from (select * from worker order by salary desc ) limit n) order by salary asc limit 1'"
      ]
     },
     "execution_count": 26,
     "metadata": {},
     "output_type": "execute_result"
    }
   ],
   "source": [
    "'(select * from (select * from worker order by salary desc ) limit n) order by salary asc limit 1'"
   ]
  },
  {
   "cell_type": "markdown",
   "id": "7aba696c",
   "metadata": {},
   "source": [
    "# asignment 10"
   ]
  },
  {
   "cell_type": "markdown",
   "id": "e7687d16",
   "metadata": {},
   "source": [
    "19. Write an SQL query to determine the 5th highest salary without using TOP or limit\n",
    "method.\n",
    "20. Write an SQL query to fetch the list of employees with the same salary."
   ]
  },
  {
   "cell_type": "code",
   "execution_count": 27,
   "id": "bff33056",
   "metadata": {},
   "outputs": [
    {
     "data": {
      "text/plain": [
       "'\\n\\n\\n      select row_number() as rn,* from (select * from worker order by salary desc) where rn=5\\n\\n\\n\\n'"
      ]
     },
     "execution_count": 27,
     "metadata": {},
     "output_type": "execute_result"
    }
   ],
   "source": [
    "\"\"\"\n",
    "\n",
    "\n",
    "      select row_number() as rn,* from (select * from worker order by salary desc) where rn=5\n",
    "\n",
    "\n",
    "\n",
    "\"\"\""
   ]
  },
  {
   "cell_type": "code",
   "execution_count": null,
   "id": "6fbaaf2f",
   "metadata": {},
   "outputs": [],
   "source": [
    "\"\"\"\n",
    "SELECT STRING_AGG( ISNULL(first_name, ' '), ',') As names \n",
    "       From worker group by salary\n",
    "\n",
    "\n",
    "\n",
    "\"\"\""
   ]
  }
 ],
 "metadata": {
  "kernelspec": {
   "display_name": "Python 3 (ipykernel)",
   "language": "python",
   "name": "python3"
  },
  "language_info": {
   "codemirror_mode": {
    "name": "ipython",
    "version": 3
   },
   "file_extension": ".py",
   "mimetype": "text/x-python",
   "name": "python",
   "nbconvert_exporter": "python",
   "pygments_lexer": "ipython3",
   "version": "3.9.7"
  }
 },
 "nbformat": 4,
 "nbformat_minor": 5
}
