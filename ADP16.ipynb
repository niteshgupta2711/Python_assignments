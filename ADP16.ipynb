{
 "cells": [
  {
   "cell_type": "markdown",
   "id": "21e8ddf0",
   "metadata": {},
   "source": [
    "1. Rondo Form is a type of musical structure, in which there is a recurring\n",
    "theme/refrain, notated as A. Here are the rules for valid rondo forms:\n",
    "- Rondo forms always start and end with an A section.\n",
    "- In between the A sections, there should be contrasting sections notated as\n",
    "B, then C, then D, etc... No letter should be skipped.\n",
    "- There shouldn&#39;t be any repeats in the sequence (such as ABBACCA).\n",
    "Create a function which validates whether a given string is a valid Rondo\n",
    "Form.\n",
    "Examples\n",
    "valid_rondo(&quot;ABACADAEAFAGAHAIAJA&quot;) ➞ True\n",
    "valid_rondo(&quot;ABA&quot;) ➞ True\n",
    "valid_rondo(&quot;ABBACCA&quot;) ➞ False\n",
    "valid_rondo(&quot;ACAC&quot;) ➞ False\n",
    "valid_rondo(&quot;A&quot;) ➞ False"
   ]
  },
  {
   "cell_type": "code",
   "execution_count": 7,
   "id": "92446aba",
   "metadata": {},
   "outputs": [],
   "source": [
    "def valid_rondo(str1):\n",
    "    if len(str1)==1:\n",
    "        return False\n",
    "    if str1[0]=='A' and str1[-1]=='A':\n",
    "        return str1[1:-1][::2]=='BCDEFGHIJKLMNOPQRSTUVWXYZ'[:len(str1[1:-1][::2])]"
   ]
  },
  {
   "cell_type": "code",
   "execution_count": 8,
   "id": "db29ad9e",
   "metadata": {},
   "outputs": [
    {
     "data": {
      "text/plain": [
       "True"
      ]
     },
     "execution_count": 8,
     "metadata": {},
     "output_type": "execute_result"
    }
   ],
   "source": [
    "valid_rondo(\"ABACADAEAFAGAHAIAJA\")"
   ]
  },
  {
   "cell_type": "code",
   "execution_count": 9,
   "id": "a09c115c",
   "metadata": {},
   "outputs": [
    {
     "data": {
      "text/plain": [
       "True"
      ]
     },
     "execution_count": 9,
     "metadata": {},
     "output_type": "execute_result"
    }
   ],
   "source": [
    "valid_rondo(\"ABA\")"
   ]
  },
  {
   "cell_type": "markdown",
   "id": "4505cdf2",
   "metadata": {},
   "source": [
    "2. Create a function that returns the whole of the first sentence which\n",
    "contains a specific word. Include the full stop at the end of the sentence.\n",
    "Examples\n",
    "txt = &quot;I have a cat. I have a mat. Things are going swell.&quot;\n",
    "sentence_searcher(txt, &quot;have&quot;) ➞ &quot;I have a cat.&quot;\n",
    "sentence_searcher(txt, &quot;MAT&quot;) ➞ &quot;I have a mat.&quot;\n",
    "sentence_searcher(txt, &quot;things&quot;) ➞ &quot;Things are going swell.&quot;\n",
    "sentence_searcher(txt, &quot;flat&quot;) ➞ &quot;&quot;"
   ]
  },
  {
   "cell_type": "code",
   "execution_count": 15,
   "id": "b78ca3e1",
   "metadata": {},
   "outputs": [],
   "source": [
    "def sent_searcher(str1,m):\n",
    "    sent=str1.lower().split('.')\n",
    "    for sen in sent:\n",
    "        if m.lower() in sen:\n",
    "            return sen+'.'\n",
    "    "
   ]
  },
  {
   "cell_type": "code",
   "execution_count": 16,
   "id": "54e46f45",
   "metadata": {},
   "outputs": [
    {
     "data": {
      "text/plain": [
       "' i have a mat.'"
      ]
     },
     "execution_count": 16,
     "metadata": {},
     "output_type": "execute_result"
    }
   ],
   "source": [
    "sent_searcher(\"I have a cat. I have a mat. Things are going swell.\",'MAT')"
   ]
  },
  {
   "cell_type": "markdown",
   "id": "7df8c576",
   "metadata": {},
   "source": [
    "3. Given a number, find the &quot;round &quot;of each digit of the number. An integer is\n",
    "called &quot;round&quot; if all its digits except the leftmost (most significant) are equal to\n",
    "zero.\n",
    "- Round numbers: 4000, 1, 9, 800, 90\n",
    "- Not round numbers: 110, 707, 222, 1001\n",
    "\n",
    "Create a function that takes a number and returns the &quot;round&quot; of each digit\n",
    "(except if the digit is zero) as a string. Check out the following examples for\n",
    "more clarification.\n",
    "Examples\n",
    "sum_round(101) ➞ &quot;1 100&quot;\n",
    "sum_round(1234) ➞ &quot;4 30 200 1000&quot;\n",
    "sum_round(54210) ➞ &quot;10 200 4000 50000&quot;"
   ]
  },
  {
   "cell_type": "code",
   "execution_count": 28,
   "id": "e83a71fa",
   "metadata": {},
   "outputs": [],
   "source": [
    "def sum_round(num):\n",
    "    num=str(num)\n",
    "    return ' '.join([x for x in [num[-(x+1)]+((x)*'0') for x in range(len(num))] if int(x)!=0])"
   ]
  },
  {
   "cell_type": "raw",
   "id": "058922c9",
   "metadata": {},
   "source": []
  },
  {
   "cell_type": "code",
   "execution_count": 29,
   "id": "ab626541",
   "metadata": {},
   "outputs": [
    {
     "data": {
      "text/plain": [
       "'10 200 4000 50000'"
      ]
     },
     "execution_count": 29,
     "metadata": {},
     "output_type": "execute_result"
    }
   ],
   "source": [
    "sum_round(54210)"
   ]
  },
  {
   "cell_type": "markdown",
   "id": "629710ae",
   "metadata": {},
   "source": [
    "4. Your task, is to create N x N multiplication table, of size n provided in\n",
    "parameter.\n",
    "For example, when n is 5, the multiplication table is:\n",
    "- 1, 2, 3, 4, 5\n",
    "- 2, 4, 6, 8, 10\n",
    "- 3, 6, 9, 12, 15\n",
    "- 4, 8, 12, 16, 20\n",
    "- 5, 10, 15, 20, 25\n",
    "This example will result in:\n",
    "[[1, 2, 3, 4, 5], [2, 4, 6, 8, 10], [3, 6, 9, 12, 15], [4, 8, 12, 16, 20], [5, 10, 15, 20,\n",
    "25]]"
   ]
  },
  {
   "cell_type": "code",
   "execution_count": 30,
   "id": "59e22d54",
   "metadata": {},
   "outputs": [],
   "source": [
    "def multiplication(num):\n",
    "    l=[]\n",
    "    for i in range(1,num+1):\n",
    "        l.append([x*i for x in range(1,num+1)])\n",
    "    return l"
   ]
  },
  {
   "cell_type": "code",
   "execution_count": 31,
   "id": "57a487ce",
   "metadata": {},
   "outputs": [
    {
     "data": {
      "text/plain": [
       "[[1, 2, 3, 4, 5],\n",
       " [2, 4, 6, 8, 10],\n",
       " [3, 6, 9, 12, 15],\n",
       " [4, 8, 12, 16, 20],\n",
       " [5, 10, 15, 20, 25]]"
      ]
     },
     "execution_count": 31,
     "metadata": {},
     "output_type": "execute_result"
    }
   ],
   "source": [
    "multiplication(5)"
   ]
  },
  {
   "cell_type": "markdown",
   "id": "e5019bfd",
   "metadata": {},
   "source": [
    "5. Create a function that returns True if two lines rhyme and False otherwise.\n",
    "For the purposes of this exercise, two lines rhyme if the last word from each\n",
    "sentence contains the same vowels.\n",
    "Examples\n",
    "does_rhyme(&quot;Sam I am!&quot;, &quot;Green eggs and ham.&quot;) ➞ True\n",
    "does_rhyme(&quot;Sam I am!&quot;, &quot;Green eggs and HAM.&quot;) ➞ True\n",
    "# Capitalization and punctuation should not matter."
   ]
  },
  {
   "cell_type": "code",
   "execution_count": 36,
   "id": "0c81b998",
   "metadata": {},
   "outputs": [],
   "source": [
    "def get_v(word):\n",
    "    return ''.join([x for x in word if x in 'aeiou'])\n",
    "\n",
    "\n",
    "def does_rhyme(sent1,sent2):\n",
    "    h1,h2=sent1.split()[-1].lower(),sent2.split()[-1].lower()\n",
    "    return get_v(h1)==get_v(h2)"
   ]
  },
  {
   "cell_type": "code",
   "execution_count": 37,
   "id": "0ed66fe2",
   "metadata": {},
   "outputs": [
    {
     "data": {
      "text/plain": [
       "True"
      ]
     },
     "execution_count": 37,
     "metadata": {},
     "output_type": "execute_result"
    }
   ],
   "source": [
    "does_rhyme(\"Sam I am!\", \"Green eggs and HAM\")"
   ]
  },
  {
   "cell_type": "code",
   "execution_count": null,
   "id": "86c46eea",
   "metadata": {},
   "outputs": [],
   "source": []
  }
 ],
 "metadata": {
  "kernelspec": {
   "display_name": "Python 3 (ipykernel)",
   "language": "python",
   "name": "python3"
  },
  "language_info": {
   "codemirror_mode": {
    "name": "ipython",
    "version": 3
   },
   "file_extension": ".py",
   "mimetype": "text/x-python",
   "name": "python",
   "nbconvert_exporter": "python",
   "pygments_lexer": "ipython3",
   "version": "3.9.7"
  }
 },
 "nbformat": 4,
 "nbformat_minor": 5
}
