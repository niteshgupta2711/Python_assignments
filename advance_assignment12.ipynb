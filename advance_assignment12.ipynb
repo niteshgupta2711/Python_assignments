{
 "cells": [
  {
   "cell_type": "markdown",
   "id": "22c84c23",
   "metadata": {},
   "source": [
    "Q1. Does assigning a value to a string&#39;s indexed character violate Python&#39;s string immutability?\n",
    "\n",
    "Q2. Does using the += operator to concatenate strings violate Python&#39;s string immutability? Why or\n",
    "why not?\n",
    "\n",
    "Q3. In Python, how many different ways are there to index a character?\n",
    "\n",
    "Q4. What is the relationship between indexing and slicing?\n",
    "\n",
    "Q5. What is an indexed character&#39;s exact data type? What is the data form of a slicing-generated\n",
    "substring?\n",
    "\n",
    "Q6. What is the relationship between string and character &quot;types&quot; in Python?\n",
    "\n",
    "Q7. Identify at least two operators and one method that allow you to combine one or more smaller\n",
    "strings to create a larger string.\n",
    "\n",
    "Q8. What is the benefit of first checking the target string with in or not in before using the index\n",
    "method to find a substring?\n",
    "\n",
    "Q9. Which operators and built-in string methods produce simple Boolean (true/false) results?"
   ]
  },
  {
   "cell_type": "code",
   "execution_count": 1,
   "id": "b31e8f93",
   "metadata": {},
   "outputs": [],
   "source": [
    "# yes it violates the string immutability\n",
    "str1=\"hello world\""
   ]
  },
  {
   "cell_type": "code",
   "execution_count": 2,
   "id": "a627e762",
   "metadata": {},
   "outputs": [
    {
     "ename": "TypeError",
     "evalue": "'str' object does not support item assignment",
     "output_type": "error",
     "traceback": [
      "\u001b[1;31m---------------------------------------------------------------------------\u001b[0m",
      "\u001b[1;31mTypeError\u001b[0m                                 Traceback (most recent call last)",
      "\u001b[1;32m~\\AppData\\Local\\Temp/ipykernel_780/369004715.py\u001b[0m in \u001b[0;36m<module>\u001b[1;34m\u001b[0m\n\u001b[1;32m----> 1\u001b[1;33m \u001b[0mstr1\u001b[0m\u001b[1;33m[\u001b[0m\u001b[1;36m0\u001b[0m\u001b[1;33m]\u001b[0m\u001b[1;33m=\u001b[0m\u001b[1;36m2\u001b[0m\u001b[1;33m\u001b[0m\u001b[1;33m\u001b[0m\u001b[0m\n\u001b[0m",
      "\u001b[1;31mTypeError\u001b[0m: 'str' object does not support item assignment"
     ]
    }
   ],
   "source": [
    "str1[0]=2"
   ]
  },
  {
   "cell_type": "code",
   "execution_count": 2,
   "id": "971564d9",
   "metadata": {},
   "outputs": [],
   "source": [
    "str1=\"Hello World\"\n",
    "str1+=\"name\""
   ]
  },
  {
   "cell_type": "code",
   "execution_count": 4,
   "id": "6ccd273e",
   "metadata": {},
   "outputs": [
    {
     "data": {
      "text/plain": [
       "'Hello Worldname'"
      ]
     },
     "execution_count": 4,
     "metadata": {},
     "output_type": "execute_result"
    }
   ],
   "source": [
    "str1"
   ]
  },
  {
   "cell_type": "code",
   "execution_count": 5,
   "id": "adc45f9f",
   "metadata": {},
   "outputs": [],
   "source": [
    "# no it is not violating as it is re-initialized"
   ]
  },
  {
   "cell_type": "code",
   "execution_count": 6,
   "id": "3f79cda4",
   "metadata": {},
   "outputs": [],
   "source": [
    "# indexing is when acquiring a specific element\n",
    "# slicing when acquiring range of index values"
   ]
  },
  {
   "cell_type": "markdown",
   "id": "d65162c6",
   "metadata": {},
   "source": [
    "Q5. What is an indexed character's exact data type? What is the data form of a slicing-generated substring?"
   ]
  },
  {
   "cell_type": "code",
   "execution_count": 7,
   "id": "7dc8c4d0",
   "metadata": {},
   "outputs": [
    {
     "data": {
      "text/plain": [
       "str"
      ]
     },
     "execution_count": 7,
     "metadata": {},
     "output_type": "execute_result"
    }
   ],
   "source": [
    "type(str1[0])"
   ]
  },
  {
   "cell_type": "code",
   "execution_count": 8,
   "id": "31d949d6",
   "metadata": {},
   "outputs": [
    {
     "data": {
      "text/plain": [
       "str"
      ]
     },
     "execution_count": 8,
     "metadata": {},
     "output_type": "execute_result"
    }
   ],
   "source": [
    "type(str1[2:5])"
   ]
  },
  {
   "cell_type": "code",
   "execution_count": 9,
   "id": "7fd2aa05",
   "metadata": {},
   "outputs": [],
   "source": [
    "c='c'"
   ]
  },
  {
   "cell_type": "code",
   "execution_count": 10,
   "id": "6c34aa7f",
   "metadata": {},
   "outputs": [
    {
     "data": {
      "text/plain": [
       "str"
      ]
     },
     "execution_count": 10,
     "metadata": {},
     "output_type": "execute_result"
    }
   ],
   "source": []
  },
  {
   "cell_type": "code",
   "execution_count": 15,
   "id": "296f62a6",
   "metadata": {},
   "outputs": [
    {
     "data": {
      "text/plain": [
       "'\\x02'"
      ]
     },
     "execution_count": 15,
     "metadata": {},
     "output_type": "execute_result"
    }
   ],
   "source": [
    "chr(2)"
   ]
  },
  {
   "cell_type": "code",
   "execution_count": 16,
   "id": "dbe2ef19",
   "metadata": {},
   "outputs": [],
   "source": [
    "# charcter converts integer to char\n",
    "# strings convert a block in quotes to string"
   ]
  },
  {
   "cell_type": "code",
   "execution_count": 17,
   "id": "790a2459",
   "metadata": {},
   "outputs": [
    {
     "data": {
      "text/plain": [
       "'Hello Worldname more string'"
      ]
     },
     "execution_count": 17,
     "metadata": {},
     "output_type": "execute_result"
    }
   ],
   "source": [
    "str1+\" more string\""
   ]
  },
  {
   "cell_type": "code",
   "execution_count": 18,
   "id": "afce2140",
   "metadata": {},
   "outputs": [
    {
     "data": {
      "text/plain": [
       "'Hello WorldnameHello WorldnameHello Worldname'"
      ]
     },
     "execution_count": 18,
     "metadata": {},
     "output_type": "execute_result"
    }
   ],
   "source": [
    "str1*3"
   ]
  },
  {
   "cell_type": "code",
   "execution_count": 20,
   "id": "e3d4de67",
   "metadata": {},
   "outputs": [
    {
     "data": {
      "text/plain": [
       "'Hello Worldnamemore additioN'"
      ]
     },
     "execution_count": 20,
     "metadata": {},
     "output_type": "execute_result"
    }
   ],
   "source": [
    "str1.__add__(\"more additioN\")"
   ]
  },
  {
   "cell_type": "code",
   "execution_count": 21,
   "id": "aeb1f095",
   "metadata": {},
   "outputs": [
    {
     "data": {
      "text/plain": [
       "False"
      ]
     },
     "execution_count": 21,
     "metadata": {},
     "output_type": "execute_result"
    }
   ],
   "source": [
    "# before finding a substring we can check\n",
    "\"hello\" in str1"
   ]
  },
  {
   "cell_type": "code",
   "execution_count": 3,
   "id": "b3f222a1",
   "metadata": {},
   "outputs": [
    {
     "data": {
      "text/plain": [
       "False"
      ]
     },
     "execution_count": 3,
     "metadata": {},
     "output_type": "execute_result"
    }
   ],
   "source": [
    "str1.isupper()"
   ]
  },
  {
   "cell_type": "code",
   "execution_count": 4,
   "id": "53d7b6e5",
   "metadata": {},
   "outputs": [
    {
     "data": {
      "text/plain": [
       "False"
      ]
     },
     "execution_count": 4,
     "metadata": {},
     "output_type": "execute_result"
    }
   ],
   "source": [
    "str1.isdigit()"
   ]
  },
  {
   "cell_type": "code",
   "execution_count": 5,
   "id": "40f42385",
   "metadata": {},
   "outputs": [
    {
     "data": {
      "text/plain": [
       "False"
      ]
     },
     "execution_count": 5,
     "metadata": {},
     "output_type": "execute_result"
    }
   ],
   "source": [
    "str1.endswith('o')"
   ]
  },
  {
   "cell_type": "code",
   "execution_count": 6,
   "id": "6b5a7a02",
   "metadata": {},
   "outputs": [
    {
     "data": {
      "text/plain": [
       "False"
      ]
     },
     "execution_count": 6,
     "metadata": {},
     "output_type": "execute_result"
    }
   ],
   "source": [
    "str1.isalpha()"
   ]
  },
  {
   "cell_type": "code",
   "execution_count": 7,
   "id": "3f7572a0",
   "metadata": {},
   "outputs": [
    {
     "data": {
      "text/plain": [
       "True"
      ]
     },
     "execution_count": 7,
     "metadata": {},
     "output_type": "execute_result"
    }
   ],
   "source": [
    "str1.isascii()"
   ]
  },
  {
   "cell_type": "code",
   "execution_count": null,
   "id": "9c90e6e4",
   "metadata": {},
   "outputs": [],
   "source": []
  }
 ],
 "metadata": {
  "kernelspec": {
   "display_name": "Python 3 (ipykernel)",
   "language": "python",
   "name": "python3"
  },
  "language_info": {
   "codemirror_mode": {
    "name": "ipython",
    "version": 3
   },
   "file_extension": ".py",
   "mimetype": "text/x-python",
   "name": "python",
   "nbconvert_exporter": "python",
   "pygments_lexer": "ipython3",
   "version": "3.9.7"
  }
 },
 "nbformat": 4,
 "nbformat_minor": 5
}
