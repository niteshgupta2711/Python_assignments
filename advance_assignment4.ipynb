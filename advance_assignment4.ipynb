{
 "cells": [
  {
   "cell_type": "markdown",
   "id": "6c3c3512",
   "metadata": {},
   "source": [
    "Q1. Which two operator overloading methods can you use in your classes to support iteration?\n",
    "\n",
    "Q2. In what contexts do the two operator overloading methods manage printing?\n",
    "\n",
    "Q3. In a class, how do you intercept slice operations?\n",
    "\n",
    "Q4. In a class, how do you capture in-place addition?\n",
    "\n",
    "Q5. When is it appropriate to use operator overloading?"
   ]
  },
  {
   "cell_type": "code",
   "execution_count": 92,
   "id": "25483f31",
   "metadata": {},
   "outputs": [],
   "source": [
    "# lets just try range function for different number\n",
    "def isPrime(num):\n",
    "    i=2\n",
    "    while i**2<=num:\n",
    "        if num%i==0:\n",
    "            return False\n",
    "        i+=1\n",
    "    return True\n",
    "def getPrime(num):\n",
    "    k=0\n",
    "    while k<num:\n",
    "        i=2\n",
    "        done=True\n",
    "        while done:\n",
    "            if isPrime(i):\n",
    "                i+=1\n",
    "                k+=1\n",
    "                if k==num:\n",
    "                    return i-1\n",
    "                        \n",
    "            elif not isPrime(i):\n",
    "                i+=1\n",
    "                \n",
    "\n",
    "    \n"
   ]
  },
  {
   "cell_type": "code",
   "execution_count": 110,
   "id": "cf5955c1",
   "metadata": {},
   "outputs": [],
   "source": [
    "class Pnumber:\n",
    "    def __init__(self,num):\n",
    "        self.num=num\n",
    "    def __iter__(self):\n",
    "        for i in range(2,self.num):\n",
    "            if isPrime(i):\n",
    "                yield i\n",
    "    def __getitem__(self,index):\n",
    "        l=[]\n",
    "        for i in range(index.start,index.stop):\n",
    "            l.append(getPrime(i))\n",
    "        return l\n",
    "    def __add__(self,nu):\n",
    "        self.num+=nu\n",
    "        return Pnumber(self.num+nu)\n",
    "            \n",
    "            \n",
    "                \n",
    "                \n",
    "        "
   ]
  },
  {
   "cell_type": "code",
   "execution_count": 111,
   "id": "cbf98d20",
   "metadata": {},
   "outputs": [],
   "source": [
    "pl=Pnumber(20)"
   ]
  },
  {
   "cell_type": "code",
   "execution_count": 112,
   "id": "7a17792b",
   "metadata": {},
   "outputs": [
    {
     "data": {
      "text/plain": [
       "[29, 31, 37, 41, 43, 47, 53, 59, 61, 67]"
      ]
     },
     "execution_count": 112,
     "metadata": {},
     "output_type": "execute_result"
    }
   ],
   "source": [
    "pl[10:20]"
   ]
  },
  {
   "cell_type": "code",
   "execution_count": 113,
   "id": "7048d330",
   "metadata": {},
   "outputs": [
    {
     "data": {
      "text/plain": [
       "<__main__.Pnumber at 0x1b68cef34c0>"
      ]
     },
     "execution_count": 113,
     "metadata": {},
     "output_type": "execute_result"
    }
   ],
   "source": [
    "pl+20"
   ]
  },
  {
   "cell_type": "code",
   "execution_count": 114,
   "id": "c152da10",
   "metadata": {},
   "outputs": [
    {
     "data": {
      "text/plain": [
       "40"
      ]
     },
     "execution_count": 114,
     "metadata": {},
     "output_type": "execute_result"
    }
   ],
   "source": [
    "pl.num"
   ]
  },
  {
   "cell_type": "code",
   "execution_count": 64,
   "id": "b651ebc7",
   "metadata": {},
   "outputs": [],
   "source": [
    "k=slice(2,5,1)"
   ]
  },
  {
   "cell_type": "code",
   "execution_count": 66,
   "id": "a98442e6",
   "metadata": {},
   "outputs": [
    {
     "data": {
      "text/plain": [
       "2"
      ]
     },
     "execution_count": 66,
     "metadata": {},
     "output_type": "execute_result"
    }
   ],
   "source": [
    "k.start"
   ]
  },
  {
   "cell_type": "code",
   "execution_count": 115,
   "id": "ed337ac4",
   "metadata": {},
   "outputs": [],
   "source": [
    "# when you know you your claases need proper additions or any other opearations with your classes you should do operator overloading"
   ]
  },
  {
   "cell_type": "code",
   "execution_count": null,
   "id": "3ab91fb3",
   "metadata": {},
   "outputs": [],
   "source": []
  }
 ],
 "metadata": {
  "kernelspec": {
   "display_name": "Python 3 (ipykernel)",
   "language": "python",
   "name": "python3"
  },
  "language_info": {
   "codemirror_mode": {
    "name": "ipython",
    "version": 3
   },
   "file_extension": ".py",
   "mimetype": "text/x-python",
   "name": "python",
   "nbconvert_exporter": "python",
   "pygments_lexer": "ipython3",
   "version": "3.9.7"
  }
 },
 "nbformat": 4,
 "nbformat_minor": 5
}
