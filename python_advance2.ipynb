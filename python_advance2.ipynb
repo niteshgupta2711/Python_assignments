{
 "cells": [
  {
   "cell_type": "markdown",
   "id": "da5bad6d",
   "metadata": {},
   "source": [
    "Q1. What is the relationship between classes and modules?"
   ]
  },
  {
   "cell_type": "markdown",
   "id": "85012880",
   "metadata": {},
   "source": [
    "Modules are files present inside a package, whereas a class is used to encapsulate data and functions together inside the same unit."
   ]
  },
  {
   "cell_type": "markdown",
   "id": "425d5269",
   "metadata": {},
   "source": [
    "Q2. How do you make instances and classes?\n",
    "+ one makes a class by class statement followed by class name\n",
    "+ then making the methods like contructions or any class specific method\n",
    "` we make instance by`\n",
    "Creating Instance Objects. To create instances of a class, you call the class using class name and pass in whatever arguments its __init__ method accepts. "
   ]
  },
  {
   "cell_type": "markdown",
   "id": "a0bae805",
   "metadata": {},
   "source": [
    "Q3. Where and how should be class attributes created?\n",
    " + class variables are cretated within a class within the class body\n",
    " + neither in methods or anything\n",
    " "
   ]
  },
  {
   "cell_type": "code",
   "execution_count": 1,
   "id": "ec0bf009",
   "metadata": {},
   "outputs": [],
   "source": [
    "class Service(object):\n",
    "    data = []\n",
    "\n",
    "    def __init__(self, other_data):\n",
    "        self.other_data = other_data\n",
    "        # data is a class attribute"
   ]
  },
  {
   "cell_type": "markdown",
   "id": "a0c4cd0c",
   "metadata": {},
   "source": [
    "Q4. Where and how are instance attributes created?\n",
    " + instance atrributes are creted within the __init__ method\n",
    " + one can access this only by creaing a instance of of the class"
   ]
  },
  {
   "cell_type": "markdown",
   "id": "95412c74",
   "metadata": {},
   "source": [
    "Q4. Where and how are instance attributes created?\n",
    "+ the self terms means that the variable or methods refers to that particular class"
   ]
  },
  {
   "cell_type": "markdown",
   "id": "9dd858e3",
   "metadata": {},
   "source": [
    "Q6. How does a Python class handle operator overloading?\n",
    "+ Consider that we have two objects which are a physical representation of a class (user-defined data type) and we have to add two objects with binary ‘+’ operator it throws an error, because compiler don’t know how to add two objects. So we define a method for an operator and that process is called operator overloading. We can overload all existing operators but we can’t create a new operator. To perform operator overloading, Python provides some special function or magic function that is automatically invoked when it is associated with that particular operator. For example, when we use + operator, the magic method __add__ is automatically invoked in which the operation for + operator is defined."
   ]
  },
  {
   "cell_type": "markdown",
   "id": "d353c4ad",
   "metadata": {},
   "source": [
    "Q7. When do you consider allowing operator overloading of your classes?\n",
    "+ one can allow operator overloading in classes if necessary, if one thinks that classes defined requires a Operator overloading,\n",
    "+ if one knows that the two instance of same class can be added to give the same instance again we can give oparator overloading"
   ]
  },
  {
   "cell_type": "markdown",
   "id": "51e8ee54",
   "metadata": {},
   "source": [
    "Q8. What is the most popular form of operator overloading?\n",
    "+ Operator overloading is the process of using an operator in different ways depending on the operands. You can change the way an operator in Python works on different data-types. A very popular and convenient example is the Addition (+) operator."
   ]
  },
  {
   "cell_type": "markdown",
   "id": "56ed2ade",
   "metadata": {},
   "source": [
    "Q9. What are the two most important concepts to grasp in order to comprehend Python OOP code?\n",
    "+ Inheritance\n",
    "+ oprator overloading"
   ]
  },
  {
   "cell_type": "code",
   "execution_count": null,
   "id": "74df7274",
   "metadata": {},
   "outputs": [],
   "source": []
  }
 ],
 "metadata": {
  "kernelspec": {
   "display_name": "Python 3 (ipykernel)",
   "language": "python",
   "name": "python3"
  },
  "language_info": {
   "codemirror_mode": {
    "name": "ipython",
    "version": 3
   },
   "file_extension": ".py",
   "mimetype": "text/x-python",
   "name": "python",
   "nbconvert_exporter": "python",
   "pygments_lexer": "ipython3",
   "version": "3.9.7"
  }
 },
 "nbformat": 4,
 "nbformat_minor": 5
}
