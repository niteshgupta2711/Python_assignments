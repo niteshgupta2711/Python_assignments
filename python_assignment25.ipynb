{
 "cells": [
  {
   "cell_type": "markdown",
   "id": "fa2c422a-69a1-447d-a2a5-2a377aad4bea",
   "metadata": {},
   "source": [
    "1) . What is the difference between enclosing a list comprehension in square brackets and\n",
    "parentheses?"
   ]
  },
  {
   "cell_type": "code",
   "execution_count": 6,
   "id": "31afeffc-dcd2-439f-a241-1ede32cf2d0e",
   "metadata": {},
   "outputs": [],
   "source": [
    "# enclosing a list comprehension in square brackets is list comprehension\n",
    "even=[x for x in range(0,1000) if x%2==0] # list comprehension\n",
    "def result(x):\n",
    "    if x%2==0:\n",
    "        return \"even\"\n",
    "    else:\n",
    "        return \"odd\""
   ]
  },
  {
   "cell_type": "code",
   "execution_count": 9,
   "id": "ac86ae04-2a72-4839-8cc6-6ca9173bcabd",
   "metadata": {},
   "outputs": [],
   "source": [
    "odd={i:result(i) for i in range(0,1000)} # dict comprehension"
   ]
  },
  {
   "cell_type": "markdown",
   "id": "a49b3f56-f95d-4497-b685-07938d0ee7c1",
   "metadata": {},
   "source": [
    "2) What is the relationship between generators and iterators?"
   ]
  },
  {
   "cell_type": "code",
   "execution_count": 10,
   "id": "d63e3428-0886-45d1-85f5-7a15c79fe727",
   "metadata": {},
   "outputs": [],
   "source": [
    "# only iterale objects can be converted to iterators\n",
    "# and all the generator funcs are iterable objects"
   ]
  },
  {
   "cell_type": "code",
   "execution_count": 11,
   "id": "8fa3ce21-ee06-427d-ac80-19a8a2dc6f59",
   "metadata": {},
   "outputs": [],
   "source": [
    "# example\n",
    "# fibonacci generator\n",
    "def fibo(num):\n",
    "    a,b=0,1\n",
    "    for i in range(num-2):\n",
    "        c=a+b\n",
    "        yield c\n",
    "        a=b\n",
    "        b=c\n",
    "    "
   ]
  },
  {
   "cell_type": "code",
   "execution_count": 12,
   "id": "60bd5035-c192-445a-af5d-f1a12e5e05e3",
   "metadata": {},
   "outputs": [
    {
     "data": {
      "text/plain": [
       "1"
      ]
     },
     "execution_count": 12,
     "metadata": {},
     "output_type": "execute_result"
    }
   ],
   "source": [
    "k=iter(fibo(123))\n",
    "next(k)"
   ]
  },
  {
   "cell_type": "markdown",
   "id": "b0f8a311-4def-4dd5-b39a-004913a6c5f8",
   "metadata": {},
   "source": [
    "3) What are the signs that a function is a generator function?"
   ]
  },
  {
   "cell_type": "markdown",
   "id": "660dfebf-309b-4067-99c2-2fe8ad76eade",
   "metadata": {},
   "source": [
    "+ The signs that a function is a generator function\n",
    "+ if the function contains atleast one yield statement then it is a generator"
   ]
  },
  {
   "cell_type": "markdown",
   "id": "3c3ceca3-219d-45fe-913c-dd2449f3f166",
   "metadata": {},
   "source": [
    "4) What is the purpose of a yield statement?"
   ]
  },
  {
   "cell_type": "markdown",
   "id": "963e7d76-5c1c-4818-acea-b51043e8b424",
   "metadata": {},
   "source": [
    "+ The yield statement suspends function's execution and sends a value back to the caller, but retains enough state to enable function to resume where it is left off."
   ]
  },
  {
   "cell_type": "markdown",
   "id": "e357ca06-ad8b-49f6-ada6-0cefb70c8126",
   "metadata": {},
   "source": [
    "5) What is the relationship between map calls and list comprehensions? Make a comparison and\n",
    "contrast between the two."
   ]
  },
  {
   "cell_type": "code",
   "execution_count": 14,
   "id": "1311aa9d-87eb-4b2d-88df-75dad989ccb7",
   "metadata": {},
   "outputs": [],
   "source": [
    "m=map(result,list(range(1,1000)))"
   ]
  },
  {
   "cell_type": "code",
   "execution_count": 22,
   "id": "28be3157-1bf2-44bd-818a-b8dbe6aa7b41",
   "metadata": {},
   "outputs": [
    {
     "data": {
      "text/plain": [
       "<map at 0x1be100a63a0>"
      ]
     },
     "execution_count": 22,
     "metadata": {},
     "output_type": "execute_result"
    }
   ],
   "source": [
    "iter(m)\n",
    "m"
   ]
  },
  {
   "cell_type": "code",
   "execution_count": 18,
   "id": "5b01663b-498b-430c-860c-e8914246fc3e",
   "metadata": {},
   "outputs": [
    {
     "data": {
      "text/plain": [
       "'odd'"
      ]
     },
     "execution_count": 18,
     "metadata": {},
     "output_type": "execute_result"
    }
   ],
   "source": [
    "next(m)"
   ]
  },
  {
   "cell_type": "code",
   "execution_count": 21,
   "id": "317765b4-951b-4ba8-aee6-c8c05e14e71c",
   "metadata": {},
   "outputs": [],
   "source": [
    "l=[result(i) for i in range(1,1000)]\n"
   ]
  },
  {
   "cell_type": "markdown",
   "id": "6198e2f8-79a5-45ad-88b1-7d2eaa774c1e",
   "metadata": {},
   "source": [
    "## as you can see above \n",
    "+ map calls are generator objects\n",
    "+ where as list compreensions are not , and they occupy a lot of memory"
   ]
  },
  {
   "cell_type": "code",
   "execution_count": null,
   "id": "6cfdfd99-28de-4d77-a657-16000aef4165",
   "metadata": {},
   "outputs": [],
   "source": []
  }
 ],
 "metadata": {
  "kernelspec": {
   "display_name": "Python 3 (ipykernel)",
   "language": "python",
   "name": "python3"
  },
  "language_info": {
   "codemirror_mode": {
    "name": "ipython",
    "version": 3
   },
   "file_extension": ".py",
   "mimetype": "text/x-python",
   "name": "python",
   "nbconvert_exporter": "python",
   "pygments_lexer": "ipython3",
   "version": "3.9.7"
  }
 },
 "nbformat": 4,
 "nbformat_minor": 5
}
