{
 "cells": [
  {
   "cell_type": "markdown",
   "id": "77ae3501",
   "metadata": {},
   "source": [
    "1. Write a Python Program to find sum of array?\n",
    "2. Write a Python Program to find largest element in an array?\n",
    "3. Write a Python Program for array rotation?\n",
    "4. Write a Python Program to Split the array and add the first part to the end?\n",
    "5. Write a Python Program to check if given array is Monotonic?"
   ]
  },
  {
   "cell_type": "code",
   "execution_count": 1,
   "id": "fa415b65",
   "metadata": {},
   "outputs": [],
   "source": [
    "import numpy as np"
   ]
  },
  {
   "cell_type": "code",
   "execution_count": 2,
   "id": "06d84e46",
   "metadata": {},
   "outputs": [],
   "source": [
    "a1=np.array([2,3,4,5,6,7])"
   ]
  },
  {
   "cell_type": "code",
   "execution_count": 3,
   "id": "d0d5c750",
   "metadata": {},
   "outputs": [
    {
     "data": {
      "text/plain": [
       "27"
      ]
     },
     "execution_count": 3,
     "metadata": {},
     "output_type": "execute_result"
    }
   ],
   "source": [
    "a1.sum()"
   ]
  },
  {
   "cell_type": "code",
   "execution_count": 4,
   "id": "3726a547",
   "metadata": {},
   "outputs": [
    {
     "data": {
      "text/plain": [
       "2"
      ]
     },
     "execution_count": 4,
     "metadata": {},
     "output_type": "execute_result"
    }
   ],
   "source": [
    "a1.min()"
   ]
  },
  {
   "cell_type": "code",
   "execution_count": 5,
   "id": "6316ecce",
   "metadata": {},
   "outputs": [
    {
     "data": {
      "text/plain": [
       "7"
      ]
     },
     "execution_count": 5,
     "metadata": {},
     "output_type": "execute_result"
    }
   ],
   "source": [
    "a1.max()"
   ]
  },
  {
   "cell_type": "code",
   "execution_count": 7,
   "id": "989a8f30",
   "metadata": {},
   "outputs": [
    {
     "data": {
      "text/plain": [
       "2.9166666666666665"
      ]
     },
     "execution_count": 7,
     "metadata": {},
     "output_type": "execute_result"
    }
   ],
   "source": [
    "a1"
   ]
  },
  {
   "cell_type": "code",
   "execution_count": 8,
   "id": "a858dff5",
   "metadata": {},
   "outputs": [
    {
     "name": "stdout",
     "output_type": "stream",
     "text": [
      "Array after left rotation is:  [3, 4, 5, 6, 7, 1, 2]\n"
     ]
    }
   ],
   "source": [
    "# function to rotate array by d elements using temp array\n",
    "def rotateArray(arr, n, d):\n",
    "\ttemp = []\n",
    "\ti = 0\n",
    "\twhile (i < d):\n",
    "\t\ttemp.append(arr[i])\n",
    "\t\ti = i + 1\n",
    "\ti = 0\n",
    "\twhile (d < n):\n",
    "\t\tarr[i] = arr[d]\n",
    "\t\ti = i + 1\n",
    "\t\td = d + 1\n",
    "\tarr[:] = arr[: i] + temp\n",
    "\treturn arr\n",
    "\n",
    "\n",
    "# Driver function to test above function\n",
    "arr = [1, 2, 3, 4, 5, 6, 7]\n",
    "print(\"Array after left rotation is: \", end=' ')\n",
    "print(rotateArray(arr, len(arr), 2))\n",
    "\n",
    "# this code is contributed by Anabhra Tyagi\n"
   ]
  },
  {
   "cell_type": "code",
   "execution_count": 10,
   "id": "454631c6",
   "metadata": {},
   "outputs": [
    {
     "name": "stdout",
     "output_type": "stream",
     "text": [
      "True\n"
     ]
    }
   ],
   "source": [
    "# Python3 program to find sum in Nth group\n",
    "\n",
    "# Check if given array is Monotonic\n",
    "def isMonotonic(A):\n",
    "\n",
    "\treturn (all(A[i] <= A[i + 1] for i in range(len(A) - 1)) or\n",
    "\t\t\tall(A[i] >= A[i + 1] for i in range(len(A) - 1)))\n",
    "\n",
    "# Driver program\n",
    "A = [6, 5, 4, 4]\n",
    "\n",
    "# Print required result\n",
    "print(isMonotonic(A))\n",
    "\n"
   ]
  },
  {
   "cell_type": "code",
   "execution_count": null,
   "id": "a5ea51db",
   "metadata": {},
   "outputs": [],
   "source": []
  }
 ],
 "metadata": {
  "kernelspec": {
   "display_name": "Python 3 (ipykernel)",
   "language": "python",
   "name": "python3"
  },
  "language_info": {
   "codemirror_mode": {
    "name": "ipython",
    "version": 3
   },
   "file_extension": ".py",
   "mimetype": "text/x-python",
   "name": "python",
   "nbconvert_exporter": "python",
   "pygments_lexer": "ipython3",
   "version": "3.9.7"
  }
 },
 "nbformat": 4,
 "nbformat_minor": 5
}
