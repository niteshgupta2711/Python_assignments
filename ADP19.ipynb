{
 "cells": [
  {
   "cell_type": "markdown",
   "id": "7f65debf",
   "metadata": {},
   "source": [
    "1. Create a checker board generator, which takes as inputs n and 2 elements\n",
    "to generate an n x n checkerboard with those two elements as alternating\n",
    "squares.\n",
    "Examples\n",
    "checker_board(2, 7, 6) ➞ [\n",
    "[7, 6],\n",
    "[6, 7]\n",
    "]\n",
    "checker_board(3, &quot;A&quot;, &quot;B&quot;) ➞ [\n",
    "[&quot;A&quot;, &quot;B&quot;, &quot;A&quot;],\n",
    "[&quot;B&quot;, &quot;A&quot;, &quot;B&quot;],\n",
    "[&quot;A&quot;, &quot;B&quot;, &quot;A&quot;]\n",
    "]\n",
    "checker_board(4, &quot;c&quot;, &quot;d&quot;) ➞ [\n",
    "[&quot;c&quot;, &quot;d&quot;, &quot;c&quot;, &quot;d&quot;],\n",
    "[&quot;d&quot;, &quot;c&quot;, &quot;d&quot;, &quot;c&quot;],\n",
    "[&quot;c&quot;, &quot;d&quot;, &quot;c&quot;, &quot;d&quot;],\n",
    "[&quot;d&quot;, &quot;c&quot;, &quot;d&quot;, &quot;c&quot;]\n",
    "]\n",
    "checker_board(4, &quot;c&quot;, &quot;c&quot;) ➞ &quot;invalid&quot;"
   ]
  },
  {
   "cell_type": "code",
   "execution_count": 5,
   "id": "5ce8cc04",
   "metadata": {},
   "outputs": [],
   "source": [
    "def alter(a,b,num):\n",
    "    d={1:a,2:b}\n",
    "    return [d[1] if i%2!=0 else d[2] for i in range(1,num+1)]\n",
    "\n",
    "def checker_board(a,b,c):\n",
    "    if b==c:\n",
    "        return 'invalid'\n",
    "    import numpy  as np\n",
    "    return np.array(alter(b,c,a*a)).reshape([a,a])\n",
    "    \n",
    "    "
   ]
  },
  {
   "cell_type": "code",
   "execution_count": 6,
   "id": "ceb10916",
   "metadata": {},
   "outputs": [],
   "source": [
    "def alter(a,b,num):\n",
    "    d={1:a,2:b}\n",
    "    return [d[1] if i%2!=0 else d[2] for i in range(1,num+1)]"
   ]
  },
  {
   "cell_type": "code",
   "execution_count": 4,
   "id": "3ffa1bf4",
   "metadata": {},
   "outputs": [
    {
     "data": {
      "text/plain": [
       "['a', 'b', 'a', 'b', 'a', 'b', 'a', 'b', 'a']"
      ]
     },
     "execution_count": 4,
     "metadata": {},
     "output_type": "execute_result"
    }
   ],
   "source": [
    "alter('a','b',9)"
   ]
  },
  {
   "cell_type": "code",
   "execution_count": 8,
   "id": "75a99255",
   "metadata": {},
   "outputs": [
    {
     "data": {
      "text/plain": [
       "array([['A', 'B', 'A'],\n",
       "       ['B', 'A', 'B'],\n",
       "       ['A', 'B', 'A']], dtype='<U1')"
      ]
     },
     "execution_count": 8,
     "metadata": {},
     "output_type": "execute_result"
    }
   ],
   "source": [
    "checker_board(3,'A','B')"
   ]
  },
  {
   "cell_type": "code",
   "execution_count": 13,
   "id": "a778235f",
   "metadata": {},
   "outputs": [],
   "source": [
    "def almost_palindrome(str1):\n",
    "    d={}\n",
    "    u=list(set(str1))\n",
    "    #return ''.join(sorted(str1))\n",
    "    for l in u:\n",
    "        d[l]=str1.count(l)\n",
    "    return d"
   ]
  },
  {
   "cell_type": "markdown",
   "id": "c690d09b",
   "metadata": {},
   "source": []
  },
  {
   "cell_type": "code",
   "execution_count": 14,
   "id": "0482b16b",
   "metadata": {},
   "outputs": [
    {
     "data": {
      "text/plain": [
       "{'g': 1, 'a': 1, 'b': 2, 'd': 1, 'c': 2}"
      ]
     },
     "execution_count": 14,
     "metadata": {},
     "output_type": "execute_result"
    }
   ],
   "source": [
    "almost_palindrome('abcdcbg')"
   ]
  },
  {
   "cell_type": "code",
   "execution_count": 12,
   "id": "93623eae",
   "metadata": {},
   "outputs": [
    {
     "data": {
      "text/plain": [
       "{'e', 'h', 'i', 'n', 's', 't'}"
      ]
     },
     "execution_count": 12,
     "metadata": {},
     "output_type": "execute_result"
    }
   ],
   "source": [
    "set('nitesh')"
   ]
  },
  {
   "cell_type": "code",
   "execution_count": 15,
   "id": "9a091d2a",
   "metadata": {},
   "outputs": [],
   "source": [
    "def LCS(str1,str2,ite):\n",
    "    +\n",
    "        return ite\n",
    "    \n",
    "\n",
    "    "
   ]
  },
  {
   "cell_type": "code",
   "execution_count": 17,
   "id": "33643d92",
   "metadata": {},
   "outputs": [
    {
     "data": {
      "text/plain": [
       "'abc'"
      ]
     },
     "execution_count": 17,
     "metadata": {},
     "output_type": "execute_result"
    }
   ],
   "source": [
    "LCS('abc','abd','')"
   ]
  },
  {
   "cell_type": "code",
   "execution_count": 26,
   "id": "86d0f783",
   "metadata": {},
   "outputs": [],
   "source": [
    "def LCS(str1,str2):\n",
    "    if str1==str2:\n",
    "        return str1\n",
    "    if str1=='' or str2=='':\n",
    "        return ''\n",
    "    \n",
    "    else:\n",
    "        for i in range(len(str1)):\n",
    "            if str1[0]==str2[0]:\n",
    "                return str1[0]+LCS(str1[1:],str2[1:])\n",
    "            else:\n",
    "                opt1=LCS(str1,str2[1:])\n",
    "                opt2=LCS(str1[1:],str2)\n",
    "                return opt1 if len(opt1)>len(opt2) else opt2\n",
    "    "
   ]
  },
  {
   "cell_type": "code",
   "execution_count": 27,
   "id": "c2c378fa",
   "metadata": {},
   "outputs": [
    {
     "data": {
      "text/plain": [
       "'abc'"
      ]
     },
     "execution_count": 27,
     "metadata": {},
     "output_type": "execute_result"
    }
   ],
   "source": [
    "LCS('abc','abc')"
   ]
  },
  {
   "cell_type": "code",
   "execution_count": 28,
   "id": "67752d78",
   "metadata": {},
   "outputs": [
    {
     "data": {
      "text/plain": [
       "'bcdcb'"
      ]
     },
     "execution_count": 28,
     "metadata": {},
     "output_type": "execute_result"
    }
   ],
   "source": [
    "LCS('abcdcbg','abcdcbg'[::-1])"
   ]
  },
  {
   "cell_type": "code",
   "execution_count": 29,
   "id": "b2940860",
   "metadata": {},
   "outputs": [],
   "source": [
    "def almost_palindrome(str1):\n",
    "    return  len(LCS(str1,str1[::-1]))+2==len(str1)   "
   ]
  },
  {
   "cell_type": "code",
   "execution_count": 30,
   "id": "fa379109",
   "metadata": {},
   "outputs": [
    {
     "data": {
      "text/plain": [
       "True"
      ]
     },
     "execution_count": 30,
     "metadata": {},
     "output_type": "execute_result"
    }
   ],
   "source": [
    "almost_palindrome('abcccia')"
   ]
  },
  {
   "cell_type": "markdown",
   "id": "cb82f58c",
   "metadata": {},
   "source": [
    "3. Create a function that finds how many prime numbers there are, up to the\n",
    "given integer.\n",
    "\n",
    "Examples\n",
    "prime_numbers(10) ➞ 4\n",
    "# 2, 3, 5 and 7\n",
    "prime_numbers(20) ➞ 8\n",
    "# 2, 3, 5, 7, 11, 13, 17 and 19\n",
    "prime_numbers(30) ➞ 10\n",
    "# 2, 3, 5, 7, 11, 13, 17, 19, 23 and 29"
   ]
  },
  {
   "cell_type": "code",
   "execution_count": 31,
   "id": "7ccfde22",
   "metadata": {},
   "outputs": [],
   "source": [
    "def is_prime(num):\n",
    "    if num==2:\n",
    "        return True\n",
    "    for i in range(2, num):\n",
    "        if  num%i==0:\n",
    "            return False\n",
    "    return True"
   ]
  },
  {
   "cell_type": "code",
   "execution_count": 32,
   "id": "59752019",
   "metadata": {},
   "outputs": [],
   "source": [
    "def num_primes(num):\n",
    "    l=0\n",
    "    for i in range(2,num+1):\n",
    "        if is_prime(i):\n",
    "            l+=1\n",
    "    return l"
   ]
  },
  {
   "cell_type": "code",
   "execution_count": 33,
   "id": "7c3169a5",
   "metadata": {},
   "outputs": [
    {
     "data": {
      "text/plain": [
       "4"
      ]
     },
     "execution_count": 33,
     "metadata": {},
     "output_type": "execute_result"
    }
   ],
   "source": [
    "num_primes(10)"
   ]
  },
  {
   "cell_type": "markdown",
   "id": "95f86c62",
   "metadata": {},
   "source": [
    "4. If today was Monday, in two days, it would be Wednesday.\n",
    "Create a function that takes in a list of days as input and the number of days\n",
    "to increment by. Return a list of days after n number of days has passed.\n",
    "Examples\n",
    "after_n_days([&quot;Thursday&quot;, &quot;Monday&quot;], 4) ➞ [&quot;Monday&quot;, &quot;Friday&quot;]\n",
    "after_n_days([&quot;Sunday&quot;, &quot;Sunday&quot;, &quot;Sunday&quot;], 1) ➞ [&quot;Monday&quot;, &quot;Monday&quot;,\n",
    "&quot;Monday&quot;]\n",
    "after_n_days([&quot;Monday&quot;, &quot;Tuesday&quot;, &quot;Friday&quot;], 1) ➞ [&quot;Tuesday&quot;, &quot;Wednesday&quot;,\n",
    "&quot;Saturday&quot;]"
   ]
  },
  {
   "cell_type": "code",
   "execution_count": 59,
   "id": "bb6afc05",
   "metadata": {},
   "outputs": [],
   "source": [
    "d={0:'Sunday',1:'Monday',2:'Tuesday',3:'Wednesday',4:'Thursday',5:'Friday',6:'Saturday'}\n",
    "d={v:k+1 for k,v in d.items()}\n",
    "d1={v:k for k,v in d.items()}"
   ]
  },
  {
   "cell_type": "code",
   "execution_count": 60,
   "id": "520995d3",
   "metadata": {},
   "outputs": [],
   "source": [
    "def after_n_days(list1,num):\n",
    "    return [d1[x] if x<=7 else d1[x%7] for x in [x+num for x in [d[x] for x in list1]]]"
   ]
  },
  {
   "cell_type": "code",
   "execution_count": 61,
   "id": "2e8c360f",
   "metadata": {},
   "outputs": [
    {
     "data": {
      "text/plain": [
       "['Monday', 'Friday']"
      ]
     },
     "execution_count": 61,
     "metadata": {},
     "output_type": "execute_result"
    }
   ],
   "source": [
    "after_n_days([\"Thursday\", \"Monday\"], 4)"
   ]
  },
  {
   "cell_type": "code",
   "execution_count": null,
   "id": "1d883c59",
   "metadata": {},
   "outputs": [],
   "source": []
  },
  {
   "cell_type": "code",
   "execution_count": null,
   "id": "d52406b4",
   "metadata": {},
   "outputs": [],
   "source": []
  }
 ],
 "metadata": {
  "kernelspec": {
   "display_name": "Python 3 (ipykernel)",
   "language": "python",
   "name": "python3"
  },
  "language_info": {
   "codemirror_mode": {
    "name": "ipython",
    "version": 3
   },
   "file_extension": ".py",
   "mimetype": "text/x-python",
   "name": "python",
   "nbconvert_exporter": "python",
   "pygments_lexer": "ipython3",
   "version": "3.9.7"
  }
 },
 "nbformat": 4,
 "nbformat_minor": 5
}
