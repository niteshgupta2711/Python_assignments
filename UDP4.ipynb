{
 "cells": [
  {
   "cell_type": "markdown",
   "id": "bbaa4708",
   "metadata": {},
   "source": [
    "1. In mathematics, the Fibonacci numbers, commonly denoted Fn, form a\n",
    "sequence, called the Fibonacci sequence, such that each number is the sum\n",
    "of the two preceding ones, starting from 0 and 1:\n",
    "\n",
    "The beginning of the sequence is this:\n",
    "0, 1, 1, 2, 3, 5, 8, 13, 21, 34, 55, 89, 144, ...\n",
    "The function fastFib(num) returns the fibonacci number Fn, of the given num\n",
    "as an argument."
   ]
  },
  {
   "cell_type": "code",
   "execution_count": 51,
   "id": "04b5854f",
   "metadata": {},
   "outputs": [],
   "source": [
    "d={1:0,2:1}\n",
    "\n",
    "def fib_fast(num):\n",
    "    if num in d:\n",
    "        return d[num]\n",
    "    else :\n",
    "        for i in range(3,num+1):\n",
    "            if i not in d:\n",
    "                d[i]=fib_fast(i-1)+fib_fast(i-2)\n",
    "        return d[num]\n",
    "    \n",
    "            \n",
    "        \n",
    "        "
   ]
  },
  {
   "cell_type": "code",
   "execution_count": 52,
   "id": "97786f5b",
   "metadata": {},
   "outputs": [
    {
     "data": {
      "text/plain": [
       "{1: 0, 2: 1}"
      ]
     },
     "execution_count": 52,
     "metadata": {},
     "output_type": "execute_result"
    }
   ],
   "source": [
    "d"
   ]
  },
  {
   "cell_type": "code",
   "execution_count": 55,
   "id": "ae4e5ad7",
   "metadata": {},
   "outputs": [
    {
     "data": {
      "text/plain": [
       "12586269025"
      ]
     },
     "execution_count": 55,
     "metadata": {},
     "output_type": "execute_result"
    }
   ],
   "source": [
    "fib_fast(51)"
   ]
  },
  {
   "cell_type": "markdown",
   "id": "777c84fa",
   "metadata": {},
   "source": [
    "2. Create a function that takes a strings characters as ASCII and returns each\n",
    "characters hexadecimal value as a string.\n",
    "Examples\n",
    "convert_to_hex(&quot;hello world&quot;) ➞ &quot;68 65 6c 6c 6f 20 77 6f 72 6c 64&quot;\n",
    "convert_to_hex(&quot;Big Boi&quot;) ➞ &quot;42 69 67 20 42 6f 69&quot;\n",
    "convert_to_hex(&quot;Marty Poppinson&quot;) ➞ &quot;4d 61 72 74 79 20 50 6f 70 70 69 6e\n",
    "73 6f 6e&quot;"
   ]
  },
  {
   "cell_type": "code",
   "execution_count": 38,
   "id": "26b76c71",
   "metadata": {},
   "outputs": [],
   "source": [
    "import codecs\n",
    "from io import StringIO,BytesIO\n",
    "import operator\n",
    "\n",
    "\n",
    "def convert_to_hex(str1):\n",
    "    l1=[]\n",
    "    for ele in str1:\n",
    "        l1.append(codecs.encode(bytes(ele,'ascii'),'hex'))\n",
    "    return ''.join([x[1:] for x in [str(x) for x in l1]])"
   ]
  },
  {
   "cell_type": "code",
   "execution_count": 39,
   "id": "122fd507",
   "metadata": {},
   "outputs": [
    {
     "data": {
      "text/plain": [
       "\"'68''65''6c''6c''6f''20''77''6f''72''6c''64'\""
      ]
     },
     "execution_count": 39,
     "metadata": {},
     "output_type": "execute_result"
    }
   ],
   "source": [
    "convert_to_hex('hello world')"
   ]
  },
  {
   "cell_type": "markdown",
   "id": "a2eadcfb",
   "metadata": {},
   "source": [
    "3. Someone has attempted to censor my strings by replacing every vowel\n",
    "with a *, l*k* th*s. Luckily, I&#39;ve been able to find the vowels that were\n",
    "removed.\n",
    "Given a censored string and a string of the censored vowels, return the\n",
    "original uncensored string.\n",
    "Example\n",
    "uncensor(&quot;Wh*r* d*d my v*w*ls g*?&quot;, &quot;eeioeo&quot;) ➞ &quot;Where did my vowels go?&quot;\n",
    "uncensor(&quot;abcd&quot;, &quot;&quot;) ➞ &quot;abcd&quot;\n",
    "uncensor(&quot;*PP*RC*S*&quot;, &quot;UEAE&quot;) ➞ &quot;UPPERCASE&quot;\n",
    "4. Write a function that takes an IP address and returns the domain name\n",
    "using PTR DNS records."
   ]
  },
  {
   "cell_type": "code",
   "execution_count": 40,
   "id": "4a4f09b5",
   "metadata": {},
   "outputs": [],
   "source": [
    "def uncensor(str1,str2):\n",
    "    str2=iter(str2)\n",
    "    x  for x in str1]\n",
    "    "
   ]
  },
  {
   "cell_type": "code",
   "execution_count": 41,
   "id": "6cedf8a6",
   "metadata": {},
   "outputs": [],
   "source": [
    "def uncensor(str1,str2):\n",
    "    str2=iter(str2)\n",
    "    return [next(str2) if x=='*' else x for x in [x for x in str1]]\n",
    "    "
   ]
  },
  {
   "cell_type": "markdown",
   "id": "622f017c",
   "metadata": {},
   "source": [
    "uncensor(uncensor(&quot;*PP*RC*S*&quot;, &quot;UEAE&quot;))"
   ]
  },
  {
   "cell_type": "code",
   "execution_count": 42,
   "id": "80fa8600",
   "metadata": {},
   "outputs": [
    {
     "data": {
      "text/plain": [
       "['U', 'P', 'P', 'E', 'R', 'C', 'A', 'S', 'E']"
      ]
     },
     "execution_count": 42,
     "metadata": {},
     "output_type": "execute_result"
    }
   ],
   "source": [
    "uncensor('*PP*RC*S*','UEAE')"
   ]
  },
  {
   "cell_type": "markdown",
   "id": "66afaf3b",
   "metadata": {},
   "source": [
    "4. Write a function that takes an IP address and returns the domain name\n",
    "using PTR DNS records.\n",
    "Example\n",
    "get_domain(&quot;8.8.8.8&quot;) ➞ &quot;dns.google&quot;\n",
    "get_domain(&quot;8.8.4.4&quot;) ➞ &quot;dns.google&quot;"
   ]
  },
  {
   "cell_type": "code",
   "execution_count": 44,
   "id": "608942c3",
   "metadata": {},
   "outputs": [],
   "source": [
    "def get_domain_name(ip_address):\n",
    "    import socket\n",
    "    result=socket.gethostbyaddr(ip_address)\n",
    "    return list(result)[0]"
   ]
  },
  {
   "cell_type": "code",
   "execution_count": 46,
   "id": "1184c337",
   "metadata": {},
   "outputs": [
    {
     "data": {
      "text/plain": [
       "'dns.google'"
      ]
     },
     "execution_count": 46,
     "metadata": {},
     "output_type": "execute_result"
    }
   ],
   "source": [
    "get_domain_name('8.8.8.8')"
   ]
  },
  {
   "cell_type": "code",
   "execution_count": 47,
   "id": "1b09c951",
   "metadata": {},
   "outputs": [],
   "source": [
    "def fact(num):\n",
    "    if num==0 :\n",
    "        return 1\n",
    "    else:\n",
    "        return num*fact(num-1)"
   ]
  },
  {
   "cell_type": "code",
   "execution_count": 48,
   "id": "a16b58d7",
   "metadata": {},
   "outputs": [
    {
     "data": {
      "text/plain": [
       "120"
      ]
     },
     "execution_count": 48,
     "metadata": {},
     "output_type": "execute_result"
    }
   ],
   "source": [
    "fact(5)"
   ]
  },
  {
   "cell_type": "code",
   "execution_count": null,
   "id": "5f9390d1",
   "metadata": {},
   "outputs": [],
   "source": []
  }
 ],
 "metadata": {
  "kernelspec": {
   "display_name": "Python 3 (ipykernel)",
   "language": "python",
   "name": "python3"
  },
  "language_info": {
   "codemirror_mode": {
    "name": "ipython",
    "version": 3
   },
   "file_extension": ".py",
   "mimetype": "text/x-python",
   "name": "python",
   "nbconvert_exporter": "python",
   "pygments_lexer": "ipython3",
   "version": "3.9.7"
  }
 },
 "nbformat": 4,
 "nbformat_minor": 5
}
