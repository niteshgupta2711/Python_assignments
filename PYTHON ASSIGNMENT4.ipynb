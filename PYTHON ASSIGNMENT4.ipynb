{
 "cells": [
  {
   "cell_type": "markdown",
   "id": "b75e0d61-2955-4239-9786-efd78c6112f7",
   "metadata": {},
   "source": [
    "1. What exactly is []?"
   ]
  },
  {
   "cell_type": "markdown",
   "id": "6d82bdd2-f3b7-4331-80e8-3c8a0f332d96",
   "metadata": {},
   "source": [
    "+ TWO WAYS OF INITIALISING A LIST"
   ]
  },
  {
   "cell_type": "code",
   "execution_count": 1,
   "id": "5ff06fe5-2d5b-472b-9f8c-5283eee65903",
   "metadata": {},
   "outputs": [],
   "source": [
    "l=[]\n",
    "l=list()"
   ]
  },
  {
   "cell_type": "markdown",
   "id": "90dd2a02-7380-4cf8-bff0-bf75a78b11fa",
   "metadata": {},
   "source": [
    "2. In a list of values stored in a variable called spam, how would you assign the value &#39;hello&#39; as the\n",
    "third value? (Assume [2, 4, 6, 8, 10] are in spam.)"
   ]
  },
  {
   "cell_type": "markdown",
   "id": "a276053f-34b6-4324-bc08-c573554e4a60",
   "metadata": {},
   "source": [
    "+ spam[2]='hello'"
   ]
  },
  {
   "cell_type": "markdown",
   "id": "267b3b93-e586-4d0a-9772-a0d8f65405ed",
   "metadata": {},
   "source": [
    "Let&#39;s pretend the spam includes the list [&#39;a&#39;, &#39;b&#39;, &#39;c&#39;, &#39;d&#39;] for the next three queries.\n",
    "+ 3. What is the value of spam[int(int(&#39;3&#39; * 2) / 11)]?\n",
    "+ 4. What is the value of spam[-1]?\n",
    "+ 5. What is the value of spam[:2]?"
   ]
  },
  {
   "cell_type": "code",
   "execution_count": 2,
   "id": "bf6e266c-e23c-405a-b1e0-67a1eba6e75d",
   "metadata": {},
   "outputs": [],
   "source": [
    "spam=['a','b','c','d']\n"
   ]
  },
  {
   "cell_type": "markdown",
   "id": "2880b506-356f-469f-8854-e751102fe458",
   "metadata": {},
   "source": [
    "spam[int(int('3'*2)/11)]='d'"
   ]
  },
  {
   "cell_type": "markdown",
   "id": "a10e396d-2e7e-4306-a835-1d0b3390d846",
   "metadata": {},
   "source": [
    "spam[-1]='d'"
   ]
  },
  {
   "cell_type": "markdown",
   "id": "c5b2031e-6f96-49d7-8c2c-9cbd291d94a7",
   "metadata": {},
   "source": [
    "spam[:2]=['a','b']"
   ]
  },
  {
   "cell_type": "markdown",
   "id": "7c1758fb-f326-4aa8-93f4-19afa16379ac",
   "metadata": {},
   "source": [
    "Let&#39;s pretend bacon has the list [3.14, &#39;cat,&#39; 11, &#39;cat,&#39; True] for the next three questions.\n",
    "+ 6. What is the value of bacon.index(&#39;cat&#39;)?\n",
    "+ 7. How does bacon.append(99) change the look of the list value in bacon?\n",
    "+ 8. How does bacon.remove(&#39;cat&#39;) change the look of the list in bacon?"
   ]
  },
  {
   "cell_type": "code",
   "execution_count": 4,
   "id": "48233b1c-b7c0-4eb7-bc58-3d83433260d0",
   "metadata": {},
   "outputs": [],
   "source": [
    "l1=[3.14,'cat',11,'cat',True]"
   ]
  },
  {
   "cell_type": "markdown",
   "id": "adb24570-0768-420c-8f22-a7c439e8d152",
   "metadata": {},
   "source": [
    "l1.index('cat')=1"
   ]
  },
  {
   "cell_type": "code",
   "execution_count": 6,
   "id": "1cdd55d7-1ab9-40ba-b945-4c21f87284bb",
   "metadata": {},
   "outputs": [],
   "source": [
    "l1.append(99)"
   ]
  },
  {
   "cell_type": "code",
   "execution_count": 7,
   "id": "1de47c97-e9b9-4726-a9b2-b949e4c8dec0",
   "metadata": {},
   "outputs": [
    {
     "data": {
      "text/plain": [
       "[3.14, 'cat', 11, 'cat', True, 99]"
      ]
     },
     "execution_count": 7,
     "metadata": {},
     "output_type": "execute_result"
    }
   ],
   "source": [
    "l1"
   ]
  },
  {
   "cell_type": "code",
   "execution_count": 8,
   "id": "69d16c9f-eee1-4c1d-ae90-b62bd855e625",
   "metadata": {},
   "outputs": [],
   "source": [
    "l1.remove('cat')"
   ]
  },
  {
   "cell_type": "code",
   "execution_count": 9,
   "id": "a2653215-2581-4811-8cb1-4c1c9d9fb88b",
   "metadata": {},
   "outputs": [
    {
     "data": {
      "text/plain": [
       "[3.14, 11, 'cat', True, 99]"
      ]
     },
     "execution_count": 9,
     "metadata": {},
     "output_type": "execute_result"
    }
   ],
   "source": [
    "l1"
   ]
  },
  {
   "cell_type": "markdown",
   "id": "86cf2ee7-75b3-407c-b05e-e12a8236570b",
   "metadata": {},
   "source": [
    "9. What are the list concatenation and list replication operators?"
   ]
  },
  {
   "cell_type": "markdown",
   "id": "67e6a794-a116-4d40-bd8d-88bf9cbdce81",
   "metadata": {},
   "source": [
    "`list concatenation`"
   ]
  },
  {
   "cell_type": "code",
   "execution_count": 10,
   "id": "06689558-a275-48fb-86ed-064dd86ab5a6",
   "metadata": {},
   "outputs": [
    {
     "data": {
      "text/plain": [
       "[1, 2, 3, 4, 4, 5, 6, 7]"
      ]
     },
     "execution_count": 10,
     "metadata": {},
     "output_type": "execute_result"
    }
   ],
   "source": [
    "[1,2,3,4]+[4,5,6,7]"
   ]
  },
  {
   "cell_type": "markdown",
   "id": "74d2cdb2-4c9f-447c-ad66-07fe406bb0ea",
   "metadata": {},
   "source": [
    "`list replication`"
   ]
  },
  {
   "cell_type": "code",
   "execution_count": 11,
   "id": "60cd9c22-e773-4e4e-bb7d-20f202ec78e4",
   "metadata": {},
   "outputs": [
    {
     "data": {
      "text/plain": [
       "[1, 2, 3, 4, 5, 1, 2, 3, 4, 5, 1, 2, 3, 4, 5]"
      ]
     },
     "execution_count": 11,
     "metadata": {},
     "output_type": "execute_result"
    }
   ],
   "source": [
    "[1,2,3,4,5]*3"
   ]
  },
  {
   "cell_type": "markdown",
   "id": "07149263-ea3f-40b7-aa5b-d61727c08285",
   "metadata": {},
   "source": [
    "10. What is difference between the list methods append() and insert()?"
   ]
  },
  {
   "cell_type": "markdown",
   "id": "398ecd74-9f95-4efb-87ab-f36e68d93601",
   "metadata": {},
   "source": [
    "+ append method adds element at the last_index+1 of the list object.\n",
    "+ insert method inserts a element at a given particualr index (appending it at the index not replacing)"
   ]
  },
  {
   "cell_type": "markdown",
   "id": "40097eb7-4dd3-4462-a1d2-4962ed35d92d",
   "metadata": {},
   "source": [
    "11. What are the two methods for removing items from a list?"
   ]
  },
  {
   "cell_type": "markdown",
   "id": "8d1f22e8-7363-4af1-b11e-24f9af1ed9cf",
   "metadata": {},
   "source": [
    "+ the two methods to remove items\n",
    "+ list().remove(element)\n",
    "+ list().pop(index)"
   ]
  },
  {
   "cell_type": "markdown",
   "id": "4769a724-4684-451c-9e98-b8af831ab189",
   "metadata": {},
   "source": [
    "12. Describe how list values and string values are identical."
   ]
  },
  {
   "cell_type": "markdown",
   "id": "ee8953c3-451c-4022-9eb3-35b6f39a8fc4",
   "metadata": {},
   "source": [
    "+ lists are mutable , strings are immutable\n",
    "+ they are similar in slice operation\n",
    "+ They are similar in concatenation"
   ]
  },
  {
   "cell_type": "markdown",
   "id": "d9bc17e7-f934-41a7-b066-78af907e364f",
   "metadata": {},
   "source": [
    "13. What&#39;s the difference between tuples and lists?"
   ]
  },
  {
   "cell_type": "markdown",
   "id": "b81a1718-9cb7-4b9c-a5fa-422c2d1c8362",
   "metadata": {},
   "source": [
    "+  LISTS ==> ordered heterogenous mutable sequence\n",
    "+  TUPLES ==> ordered heterogenous immutable sequence"
   ]
  },
  {
   "cell_type": "markdown",
   "id": "4145205a-968f-4f9a-bd11-b3c6598c4efe",
   "metadata": {},
   "source": [
    "14. How do you type a tuple value that only contains the integer 42?"
   ]
  },
  {
   "cell_type": "code",
   "execution_count": 22,
   "id": "289b9ac8-9a1a-4852-8150-97cb13568482",
   "metadata": {},
   "outputs": [],
   "source": [
    "\n",
    "t1=tuple([22,])"
   ]
  },
  {
   "cell_type": "code",
   "execution_count": 23,
   "id": "957812c3-2fd6-4b7b-8f59-48d2ed18afac",
   "metadata": {},
   "outputs": [
    {
     "data": {
      "text/plain": [
       "tuple"
      ]
     },
     "execution_count": 23,
     "metadata": {},
     "output_type": "execute_result"
    }
   ],
   "source": [
    "type(t1)"
   ]
  },
  {
   "cell_type": "markdown",
   "id": "704f244f-17c4-4155-863a-85295dcc6516",
   "metadata": {},
   "source": [
    "15. How do you get a list value&#39;s tuple form? How do you get a tuple value&#39;s list form?"
   ]
  },
  {
   "cell_type": "markdown",
   "id": "7b14c520-e522-429a-bea9-c987744deb77",
   "metadata": {},
   "source": [
    "+ `list(tuple_object) or [tuple_object]`\n",
    "+ `tuple(list_objetc) `"
   ]
  },
  {
   "cell_type": "markdown",
   "id": "3f2d4c48-742a-4681-a1f6-1ebc3349ba29",
   "metadata": {},
   "source": [
    "16. Variables that &quot;contain&quot; list values are not necessarily lists themselves. Instead, what do they\n",
    "contain?"
   ]
  },
  {
   "cell_type": "code",
   "execution_count": 29,
   "id": "c083d59b-b55a-42c3-8b3d-a5b1235afb97",
   "metadata": {},
   "outputs": [],
   "source": [
    "val=[1,2,3,4]"
   ]
  },
  {
   "cell_type": "code",
   "execution_count": 30,
   "id": "86a1f1c5-c8fa-4a99-a3a1-0a922d2c6c68",
   "metadata": {},
   "outputs": [],
   "source": [
    "val1=val.copy()"
   ]
  },
  {
   "cell_type": "code",
   "execution_count": 33,
   "id": "33fd6166-b0e4-4358-9ae9-f18254d7daa2",
   "metadata": {},
   "outputs": [],
   "source": [
    "val1[2]=5"
   ]
  },
  {
   "cell_type": "markdown",
   "id": "87fec34c-92f7-4a27-9b78-9932740ba180",
   "metadata": {},
   "source": [
    "17. How do you distinguish between copy.copy() and copy.deepcopy()?"
   ]
  },
  {
   "cell_type": "code",
   "execution_count": 35,
   "id": "7a3501e8-0d24-45a4-b406-5bea7b52d693",
   "metadata": {},
   "outputs": [],
   "source": [
    "import copy"
   ]
  },
  {
   "cell_type": "markdown",
   "id": "0801aac9-3939-40f6-84b5-2b024b12367c",
   "metadata": {},
   "source": [
    "+ copy.copy() changes the original object too.\n",
    "+ copy.deepcopy() doesnt change the original object ."
   ]
  },
  {
   "cell_type": "code",
   "execution_count": null,
   "id": "04d6e7eb-1a35-46c4-88e7-bd8a656be94f",
   "metadata": {},
   "outputs": [],
   "source": []
  }
 ],
 "metadata": {
  "kernelspec": {
   "display_name": "Python 3 (ipykernel)",
   "language": "python",
   "name": "python3"
  },
  "language_info": {
   "codemirror_mode": {
    "name": "ipython",
    "version": 3
   },
   "file_extension": ".py",
   "mimetype": "text/x-python",
   "name": "python",
   "nbconvert_exporter": "python",
   "pygments_lexer": "ipython3",
   "version": "3.9.7"
  }
 },
 "nbformat": 4,
 "nbformat_minor": 5
}
