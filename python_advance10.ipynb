{
 "cells": [
  {
   "cell_type": "markdown",
   "id": "921cad31",
   "metadata": {},
   "source": [
    "Q1. What is the difference between __getattr__ and __getattribute__?\n",
    "+ A key difference between __getattr__ and __getattribute__ is that __getattr__ is only invoked if the attribute wasn't found the usual ways. It's good for implementing a fallback for missing attributes, and is probably the one of two you want.\n",
    "+ Now lets see the __getattribute__ method. If you have __getattribute__ method in your class, python invokes this method for every attribute regardless whether it exists or not."
   ]
  },
  {
   "cell_type": "markdown",
   "id": "65315bb0",
   "metadata": {},
   "source": [
    "Q2. What is the difference between properties and descriptors?"
   ]
  },
  {
   "cell_type": "markdown",
   "id": "92590b87",
   "metadata": {},
   "source": [
    "+ if any of these __get__ ,__set__, __del__ are defiend within a class those can be called as descriptors\n",
    "+ this is a low level mechanism to retrieve a value to an attribute , to set an value to an attriute , del value to an attribute\n",
    "+ Property provides an high level mechanism to this \n",
    "+ property(getValue,setValue, deleteValue)"
   ]
  },
  {
   "cell_type": "markdown",
   "id": "b7ac7a29",
   "metadata": {},
   "source": [
    "Q3. What are the key differences in functionality between __getattr__ and __getattribute__, as well as\n",
    "properties and descriptors?"
   ]
  },
  {
   "cell_type": "markdown",
   "id": "6d4627c8",
   "metadata": {},
   "source": [
    "`some of key differences between getattr,getattribute`\n",
    "+ if both dunder methods are called within a class \n",
    "+ at first getattribute method id invoked if it raises an exception then getattr method is invoked which returns a default value for invalid attributes\n"
   ]
  },
  {
   "cell_type": "code",
   "execution_count": 1,
   "id": "25c41f82",
   "metadata": {},
   "outputs": [],
   "source": [
    "class Count(object):\n",
    "\n",
    "    def __init__(self,mymin,mymax):\n",
    "        self.mymin=mymin\n",
    "        self.mymax=mymax\n",
    "        self.current=None\n",
    "\n",
    "    def __getattr__(self, item):\n",
    "            self.__dict__[item]=0\n",
    "            return 0\n",
    "\n",
    "    def __getattribute__(self, item):\n",
    "        if item.startswith('cur'):\n",
    "            raise AttributeError\n",
    "        return object.__getattribute__(self,item)\n",
    "        # or you can use ---return super().__getattribute__(item)\n",
    "        # note this class subclass object"
   ]
  },
  {
   "cell_type": "code",
   "execution_count": 2,
   "id": "6b181650",
   "metadata": {},
   "outputs": [],
   "source": [
    "# key differences between descriptors and property"
   ]
  },
  {
   "cell_type": "code",
   "execution_count": 3,
   "id": "356f8fc8",
   "metadata": {},
   "outputs": [],
   "source": [
    "# example of descriptor"
   ]
  },
  {
   "cell_type": "code",
   "execution_count": 4,
   "id": "0d0629b3",
   "metadata": {},
   "outputs": [],
   "source": [
    "class Descriptor(object):\n",
    "  \n",
    "    def __init__(self, name =''):\n",
    "        self.name = name\n",
    "  \n",
    "    def __get__(self, obj, objtype):\n",
    "        return \"{}for{}\".format(self.name, self.name)\n",
    "  \n",
    "    def __set__(self, obj, name):\n",
    "        if isinstance(name, str):\n",
    "            self.name = name\n",
    "        else:\n",
    "            raise TypeError(\"Name should be string\")"
   ]
  },
  {
   "cell_type": "code",
   "execution_count": 7,
   "id": "5fc69955",
   "metadata": {},
   "outputs": [
    {
     "name": "stdout",
     "output_type": "stream",
     "text": [
      "Getting value\n",
      "('GeeksforGeeks', 'ji')\n",
      "Setting value to GfG\n",
      "Deleting value\n"
     ]
    }
   ],
   "source": [
    "class Alphabet: \n",
    "    def __init__(self, value,a): \n",
    "        self._value = value \n",
    "        self.a=a\n",
    "            \n",
    "    # getting the values \n",
    "    def getValue(self): \n",
    "        print('Getting value') \n",
    "        return self._value ,self.a\n",
    "            \n",
    "    # setting the values \n",
    "    def setValue(self, value): \n",
    "        print('Setting value to ' + value) \n",
    "        self._value = value \n",
    "            \n",
    "    # deleting the values \n",
    "    def delValue(self): \n",
    "        print('Deleting value') \n",
    "        del self._value \n",
    "        \n",
    "    value = property(getValue, setValue, delValue, ) \n",
    "    \n",
    "# passing the value \n",
    "x = Alphabet('GeeksforGeeks',\"ji\") \n",
    "print(x.value) \n",
    "    \n",
    "x.value = 'GfG'\n",
    "    \n",
    "del x.value "
   ]
  },
  {
   "cell_type": "code",
   "execution_count": null,
   "id": "015b916d",
   "metadata": {},
   "outputs": [],
   "source": []
  }
 ],
 "metadata": {
  "kernelspec": {
   "display_name": "Python 3 (ipykernel)",
   "language": "python",
   "name": "python3"
  },
  "language_info": {
   "codemirror_mode": {
    "name": "ipython",
    "version": 3
   },
   "file_extension": ".py",
   "mimetype": "text/x-python",
   "name": "python",
   "nbconvert_exporter": "python",
   "pygments_lexer": "ipython3",
   "version": "3.9.7"
  }
 },
 "nbformat": 4,
 "nbformat_minor": 5
}
