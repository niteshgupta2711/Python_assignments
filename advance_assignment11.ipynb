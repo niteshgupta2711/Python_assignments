{
 "cells": [
  {
   "cell_type": "markdown",
   "id": "5b141977",
   "metadata": {},
   "source": [
    "Q1. What is the concept of a metaclass?\n",
    "\n",
    "Q2. What is the best way to declare a class&#39;s metaclass?\n",
    "\n",
    "Q3. How do class decorators overlap with metaclasses for handling classes?\n",
    "\n",
    "Q4. How do class decorators overlap with metaclasses for handling instances?"
   ]
  },
  {
   "cell_type": "code",
   "execution_count": 1,
   "id": "035ae957",
   "metadata": {},
   "outputs": [],
   "source": [
    "class square:\n",
    "    def __init__(self,a):\n",
    "        self.a=a"
   ]
  },
  {
   "cell_type": "code",
   "execution_count": 2,
   "id": "404ab266",
   "metadata": {},
   "outputs": [],
   "source": [
    "x=square(9)Python Metaclasses and Metaprogramming\n",
    "Python "
   ]
  },
  {
   "cell_type": "code",
   "execution_count": 4,
   "id": "636a81e8",
   "metadata": {},
   "outputs": [
    {
     "data": {
      "text/plain": [
       "__main__.square"
      ]
     },
     "execution_count": 4,
     "metadata": {},
     "output_type": "execute_result"
    }
   ],
   "source": [
    "type(x)"
   ]
  },
  {
   "cell_type": "code",
   "execution_count": 5,
   "id": "6a52f56d",
   "metadata": {},
   "outputs": [
    {
     "data": {
      "text/plain": [
       "type"
      ]
     },
     "execution_count": 5,
     "metadata": {},
     "output_type": "execute_result"
    }
   ],
   "source": [
    "type(square)"
   ]
  },
  {
   "cell_type": "code",
   "execution_count": 6,
   "id": "988b9772",
   "metadata": {},
   "outputs": [
    {
     "data": {
      "text/plain": [
       "[type, type, type]"
      ]
     },
     "execution_count": 6,
     "metadata": {},
     "output_type": "execute_result"
    }
   ],
   "source": [
    "# see that type of a class is of type , type!\n",
    "[type(x) for x in [int,str,tuple]]"
   ]
  },
  {
   "cell_type": "code",
   "execution_count": 7,
   "id": "c67dead1",
   "metadata": {},
   "outputs": [],
   "source": [
    "# we see that here all the int, str,tuple are of same class called type\n",
    "# it means any class we define , any object we create are a part of super class called type"
   ]
  },
  {
   "cell_type": "code",
   "execution_count": 9,
   "id": "dc8223b6",
   "metadata": {},
   "outputs": [],
   "source": [
    "class Meta(type):\n",
    "    def __new__(cls, name, bases, dct):\n",
    "        x = super().__new__(cls, name, bases, dct)\n",
    "        x.attr = 100\n",
    "        return x\n"
   ]
  },
  {
   "cell_type": "code",
   "execution_count": 10,
   "id": "4f46d564",
   "metadata": {},
   "outputs": [],
   "source": [
    "class Foo(metaclass=Meta):\n",
    "    pass\n"
   ]
  },
  {
   "cell_type": "code",
   "execution_count": 11,
   "id": "eb199e48",
   "metadata": {},
   "outputs": [],
   "source": [
    "# when we write metaclass we are point to super class type\n",
    "# but we are replacing it by Meta we just defined above"
   ]
  },
  {
   "cell_type": "code",
   "execution_count": 12,
   "id": "5e27238b",
   "metadata": {},
   "outputs": [],
   "source": [
    "# What is the best way to declare a class's metaclass?\n",
    "class Meta(type):\n",
    "    def __new__(cls, name, bases, dct):\n",
    "        x = super().__new__(cls, name, bases, dct)\n",
    "        x.attr = 100\n",
    "        return x\n"
   ]
  },
  {
   "cell_type": "code",
   "execution_count": 13,
   "id": "fbda7f4f",
   "metadata": {},
   "outputs": [],
   "source": [
    " # How do class decorators overlap with metaclasses for handling classes?"
   ]
  },
  {
   "cell_type": "code",
   "execution_count": 14,
   "id": "d2e98449",
   "metadata": {},
   "outputs": [
    {
     "data": {
      "text/plain": [
       "100"
      ]
     },
     "execution_count": 14,
     "metadata": {},
     "output_type": "execute_result"
    }
   ],
   "source": [
    ">>> def decorator(cls):\n",
    "...     class NewClass(cls):\n",
    "...         attr = 100\n",
    "...     return NewClass\n",
    "...\n",
    ">>> @decorator\n",
    "... class X:\n",
    "...     pass\n",
    "...\n",
    ">>> @decorator\n",
    "... class Y:\n",
    "...     pass\n",
    "...\n",
    ">>> @decorator\n",
    "... class Z:\n",
    "...     pass\n",
    "...\n",
    "\n",
    ">>> X.attr\n",
    "100\n",
    ">>> Y.attr\n",
    "100\n",
    ">>> Z.attr\n",
    "100"
   ]
  },
  {
   "cell_type": "code",
   "execution_count": null,
   "id": "2b998555",
   "metadata": {},
   "outputs": [],
   "source": []
  }
 ],
 "metadata": {
  "kernelspec": {
   "display_name": "Python 3 (ipykernel)",
   "language": "python",
   "name": "python3"
  },
  "language_info": {
   "codemirror_mode": {
    "name": "ipython",
    "version": 3
   },
   "file_extension": ".py",
   "mimetype": "text/x-python",
   "name": "python",
   "nbconvert_exporter": "python",
   "pygments_lexer": "ipython3",
   "version": "3.9.7"
  }
 },
 "nbformat": 4,
 "nbformat_minor": 5
}
