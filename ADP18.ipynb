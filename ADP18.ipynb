{
 "cells": [
  {
   "cell_type": "markdown",
   "id": "f03b5683",
   "metadata": {},
   "source": [
    "1. A robot has been given a list of movement instructions. Each instruction is\n",
    "either left, right, up or down, followed by a distance to move. The robot starts\n",
    "at [0, 0]. You want to calculate where the robot will end up and return its final\n",
    "position as a list.\n",
    "To illustrate, if the robot is given the following instructions:\n",
    "[&quot;right 10&quot;, &quot;up 50&quot;, &quot;left 30&quot;, &quot;down 10&quot;]\n",
    "It will end up 20 left and 40 up from where it started, so we return [-20, 40].\n",
    "Examples\n",
    "track_robot([&quot;right 10&quot;, &quot;up 50&quot;, &quot;left 30&quot;, &quot;down 10&quot;]) ➞ [-20, 40]\n",
    "track_robot([]) ➞ [0, 0]\n",
    "// If there are no instructions, the robot doesn&#39;t move.\n",
    "track_robot([&quot;right 100&quot;, &quot;right 100&quot;, &quot;up 500&quot;, &quot;up 10000&quot;]) ➞ [200, 10500]"
   ]
  },
  {
   "cell_type": "code",
   "execution_count": 10,
   "id": "384d5c43",
   "metadata": {},
   "outputs": [],
   "source": [
    "def track_robot(list1):\n",
    "    d={'up':0,'left':0,'down':0,'right':0}\n",
    "    import re\n",
    "    for x in list1:\n",
    "        d[re.findall('[a-z]+',x)[-1]]+=int(re.findall('[0-9]+',x)[-1])\n",
    "    return d,[d['right']-d['left'],d['up']-d['down']]\n",
    "        \n",
    "        "
   ]
  },
  {
   "cell_type": "code",
   "execution_count": 12,
   "id": "475de072",
   "metadata": {},
   "outputs": [
    {
     "data": {
      "text/plain": [
       "({'up': 10500, 'left': 0, 'down': 0, 'right': 200}, [200, 10500])"
      ]
     },
     "execution_count": 12,
     "metadata": {},
     "output_type": "execute_result"
    }
   ],
   "source": [
    "track_robot([\"right 100\", \"right 100\", \"up 500\", \"up 10000\"])"
   ]
  },
  {
   "cell_type": "markdown",
   "id": "ba3f24b2",
   "metadata": {},
   "source": [
    "2. Write a function that will return the longest word in a sentence. In cases\n",
    "where more than one word is found, return the first one.\n",
    "Examples\n",
    "find_longest(&quot;A thing of beauty is a joy forever.&quot;) ➞ &quot;forever&quot;\n",
    "find_longest(&quot;Forgetfulness is by all means powerless!&quot;) ➞ &quot;forgetfulness&quot;\n",
    "find_longest(&quot;\\&quot;Strengths\\&quot; is the longest and most commonly used word that\n",
    "contains only a single vowel.&quot;) ➞ &quot;strengths&quot;"
   ]
  },
  {
   "cell_type": "code",
   "execution_count": 17,
   "id": "5014a1b8",
   "metadata": {},
   "outputs": [],
   "source": [
    "def find_longest(sent):\n",
    "    sent=sent.split()\n",
    "    return sorted([(len(x),x) for x in sent])[::-1][0][1]"
   ]
  },
  {
   "cell_type": "code",
   "execution_count": 18,
   "id": "3b186a44",
   "metadata": {},
   "outputs": [
    {
     "data": {
      "text/plain": [
       "'Forgetfulness'"
      ]
     },
     "execution_count": 18,
     "metadata": {},
     "output_type": "execute_result"
    }
   ],
   "source": [
    "find_longest(\"Forgetfulness is by all means powerless!\")"
   ]
  },
  {
   "cell_type": "markdown",
   "id": "2ce13f0a",
   "metadata": {},
   "source": [
    "3. Create a function to check if a candidate is qualified in an imaginary coding\n",
    "interview of an imaginary tech startup.\n",
    "The criteria for a candidate to be qualified in the coding interview is:\n",
    "1. The candidate should have complete all the questions.\n",
    "2. The maximum time given to complete the interview is 120 minutes.\n",
    "3. The maximum time given for very easy questions is 5 minutes each.\n",
    "4. The maximum time given for easy questions is 10 minutes each.\n",
    "5. The maximum time given for medium questions is 15 minutes each.\n",
    "6. The maximum time given for hard questions is 20 minutes each.\n",
    "\n",
    "If all the above conditions are satisfied, return &quot;qualified&quot;, else return\n",
    "&quot;disqualified&quot;.\n",
    "You will be given a list of time taken by a candidate to solve a particular\n",
    "question and the total time taken by the candidate to complete the interview.\n",
    "Given a list , in a true condition will always be in the format [very easy, very\n",
    "easy, easy, easy, medium, medium, hard, hard].\n",
    "The maximum time to complete the interview includes a buffer time of 20\n",
    "minutes.\n",
    "Examples\n",
    "interview([5, 5, 10, 10, 15, 15, 20, 20], 120) ➞ &quot;qualified&quot;\n",
    "interview([2, 3, 8, 6, 5, 12, 10, 18], 64) ➞ &quot;qualified&quot;\n",
    "interview([5, 5, 10, 10, 25, 15, 20, 20], 120) ➞ &quot;disqualified&quot;\n",
    "# Exceeded the time limit for a medium question.\n",
    "interview([5, 5, 10, 10, 15, 15, 20], 120) ➞ &quot;disqualified&quot;\n",
    "# Did not complete all the questions.\n",
    "interview([5, 5, 10, 10, 15, 15, 20, 20], 130) ➞ &quot;disqualified&quot;\n",
    "# Solved all the questions in their respected time limits but exceeded the total\n",
    "time limit of the interview."
   ]
  },
  {
   "cell_type": "code",
   "execution_count": 25,
   "id": "e888530a",
   "metadata": {},
   "outputs": [],
   "source": [
    "def interview(list1,su):\n",
    "    if sum(list1)<=120 and len(list1)==8:\n",
    "        very_easy=2\n",
    "        easy=4\n",
    "        medium=6\n",
    "        hard=8\n",
    "        if all([x<=5 for x in list1[:2]]) and all([x<=10 for x in list1[very_easy:easy]]) and all([x<=15 for x in list1[easy:medium]]) and all([x<=20 for x in list1[medium:hard]]):\n",
    "                   return 'Qualified'\n",
    "        return 'Not Qualified'\n",
    "        "
   ]
  },
  {
   "cell_type": "code",
   "execution_count": 26,
   "id": "5b9b5a8e",
   "metadata": {},
   "outputs": [
    {
     "data": {
      "text/plain": [
       "True"
      ]
     },
     "execution_count": 26,
     "metadata": {},
     "output_type": "execute_result"
    }
   ],
   "source": [
    "all([1,2,4])<3"
   ]
  },
  {
   "cell_type": "code",
   "execution_count": 27,
   "id": "db8669e7",
   "metadata": {},
   "outputs": [
    {
     "data": {
      "text/plain": [
       "'Qualified'"
      ]
     },
     "execution_count": 27,
     "metadata": {},
     "output_type": "execute_result"
    }
   ],
   "source": [
    "interview([2, 3, 8, 6, 5, 12, 10, 18], 64)"
   ]
  },
  {
   "cell_type": "markdown",
   "id": "9758640f",
   "metadata": {},
   "source": [
    "4. Write a function that divides a list into chunks of size n, where n is the\n",
    "length of each chunk.\n",
    "Examples\n",
    "chunkify([2, 3, 4, 5], 2) ➞ [[2, 3], [4, 5]]\n",
    "chunkify([2, 3, 4, 5, 6], 2) ➞ [[2, 3], [4, 5], [6]]\n",
    "chunkify([2, 3, 4, 5, 6, 7], 3) ➞ [[2, 3, 4], [5, 6, 7]]\n",
    "chunkify([2, 3, 4, 5, 6, 7], 1) ➞ [[2], [3], [4], [5], [6], [7]]\n",
    "chunkify([2, 3, 4, 5, 6, 7], 7) ➞ [[2, 3, 4, 5, 6, 7]]"
   ]
  },
  {
   "cell_type": "code",
   "execution_count": 77,
   "id": "f7664dda",
   "metadata": {},
   "outputs": [],
   "source": []
  },
  {
   "cell_type": "code",
   "execution_count": 50,
   "id": "5e4be7e1",
   "metadata": {},
   "outputs": [
    {
     "data": {
      "text/plain": [
       "[0, 3]"
      ]
     },
     "execution_count": 50,
     "metadata": {},
     "output_type": "execute_result"
    }
   ],
   "source": []
  },
  {
   "cell_type": "code",
   "execution_count": 56,
   "id": "56926b28",
   "metadata": {},
   "outputs": [],
   "source": [
    "l=[0,3,4,5,7]"
   ]
  },
  {
   "cell_type": "code",
   "execution_count": 58,
   "id": "41dbeb09",
   "metadata": {},
   "outputs": [
    {
     "data": {
      "text/plain": [
       "[(0, 3), (4, 5)]"
      ]
     },
     "execution_count": 58,
     "metadata": {},
     "output_type": "execute_result"
    }
   ],
   "source": [
    "[(l[x],l[x+1]) for x in range(0,len(l)-1,2)]"
   ]
  },
  {
   "cell_type": "code",
   "execution_count": 107,
   "id": "730c4c8b",
   "metadata": {},
   "outputs": [
    {
     "data": {
      "text/plain": [
       "[[2, 3, 4], [5, 6, 7], []]"
      ]
     },
     "execution_count": 107,
     "metadata": {},
     "output_type": "execute_result"
    }
   ],
   "source": [
    "chunkify([2, 3, 4, 5, 6, 7], 3)"
   ]
  },
  {
   "cell_type": "code",
   "execution_count": 108,
   "id": "1a594cc6",
   "metadata": {},
   "outputs": [],
   "source": [
    "def chunkify(list1,num):\n",
    "    return[list1[x[0]:x[1]] for x in [[x[0],sum(x)] for x in [[x,num] for x in range(0,len(list1)+1,num)]]]"
   ]
  },
  {
   "cell_type": "code",
   "execution_count": 110,
   "id": "63de91d0",
   "metadata": {},
   "outputs": [
    {
     "data": {
      "text/plain": [
       "[[2, 3, 4, 5, 6, 7, 8, 9]]"
      ]
     },
     "execution_count": 110,
     "metadata": {},
     "output_type": "execute_result"
    }
   ],
   "source": [
    "chunkify([2, 3, 4, 5, 6, 7,8,9], 9)"
   ]
  },
  {
   "cell_type": "code",
   "execution_count": 111,
   "id": "b58e2ee4",
   "metadata": {},
   "outputs": [],
   "source": [
    "def get_prices(list1):\n",
    "    import re\n",
    "    l=[]\n",
    "    for x in list1:\n",
    "        l.append(re.findall('[0-9.]+',x)[-1])\n",
    "    return l"
   ]
  },
  {
   "cell_type": "markdown",
   "id": "ccd7ec37",
   "metadata": {},
   "source": [
    "get_prices([\n",
    "&quot;artichokes ($1.99)&quot;,\n",
    "&quot;rotiserrie chicken ($5.99)&quot;,\n",
    "&quot;gum ($0.75)&quot;\n",
    "])"
   ]
  },
  {
   "cell_type": "markdown",
   "id": "3a7678ad",
   "metadata": {},
   "source": [
    "get_prices([ \"artichokes ( 1.99)&quot;,\n",
    "&quot;rotiserrie chicken ( 5.99)\", \"gum ($0.75)\" ]"
   ]
  },
  {
   "cell_type": "code",
   "execution_count": 114,
   "id": "ae21dad3",
   "metadata": {},
   "outputs": [
    {
     "data": {
      "text/plain": [
       "['1.99', '5.99', '0.75']"
      ]
     },
     "execution_count": 114,
     "metadata": {},
     "output_type": "execute_result"
    }
   ],
   "source": [
    "get_prices([ \"artichokes ( 1.99)\", \"rotiserrie chicken ( 5.99)\", \"gum ($0.75)\" ])"
   ]
  },
  {
   "cell_type": "code",
   "execution_count": null,
   "id": "24be1092",
   "metadata": {},
   "outputs": [],
   "source": []
  }
 ],
 "metadata": {
  "kernelspec": {
   "display_name": "Python 3 (ipykernel)",
   "language": "python",
   "name": "python3"
  },
  "language_info": {
   "codemirror_mode": {
    "name": "ipython",
    "version": 3
   },
   "file_extension": ".py",
   "mimetype": "text/x-python",
   "name": "python",
   "nbconvert_exporter": "python",
   "pygments_lexer": "ipython3",
   "version": "3.9.7"
  }
 },
 "nbformat": 4,
 "nbformat_minor": 5
}
