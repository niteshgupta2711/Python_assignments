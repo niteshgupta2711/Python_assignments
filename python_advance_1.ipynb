{
 "cells": [
  {
   "cell_type": "markdown",
   "id": "a42e460c",
   "metadata": {},
   "source": [
    "Q1. What is the purpose of Python&#39;s OOP?"
   ]
  },
  {
   "cell_type": "markdown",
   "id": "1034b68e",
   "metadata": {},
   "source": [
    "In Python, object-oriented Programming (OOPs) is a programming paradigm that uses objects and classes in programming. It aims to implement real-world entities like inheritance, polymorphisms, encapsulation, etc. in the programming"
   ]
  },
  {
   "cell_type": "markdown",
   "id": "d73c663b",
   "metadata": {},
   "source": [
    "Q2. Where does an inheritance search look for an attribute?\n",
    " + Find the first occurrence of attribute by looking in object, then in all classes above it, from bottom to top and left to right.\n"
   ]
  },
  {
   "cell_type": "markdown",
   "id": "83ba14ca",
   "metadata": {},
   "source": [
    "Q3. How do you distinguish between a class object and an instance object?\n",
    "+ a class is the blue print of the entire namepsace created\n",
    "+ where as instance object is the physical object created by class"
   ]
  },
  {
   "cell_type": "markdown",
   "id": "9cdd8474",
   "metadata": {},
   "source": [
    "Q4. What makes the first argument in a class’s method function special?\n",
    "+ the first arguemnet self or anyvalue has a special utility in python\n",
    "+ it refers that method or variable belongs to that particular name space or class"
   ]
  },
  {
   "cell_type": "markdown",
   "id": "0ceb0fed",
   "metadata": {},
   "source": [
    "Q5. What is the purpose of the __init__ method?\n",
    " + init method is a constructor for a class \n",
    " + it alows to pass data to class , to instantiate a object"
   ]
  },
  {
   "cell_type": "markdown",
   "id": "b2614e5a",
   "metadata": {},
   "source": [
    "Q6. What is the process for creating a class instance?"
   ]
  },
  {
   "cell_type": "code",
   "execution_count": 4,
   "id": "5d352732",
   "metadata": {},
   "outputs": [],
   "source": [
    "class rect:\n",
    "    def __init__(self,l,b):\n",
    "        self.l=l\n",
    "        self.b=b\n",
    "    def area(self):\n",
    "        return self.l*self.b"
   ]
  },
  {
   "cell_type": "code",
   "execution_count": 9,
   "id": "c60e8a47",
   "metadata": {},
   "outputs": [],
   "source": [
    "class square(rect):\n",
    "    def __init__(self,a):\n",
    "        super().__init__(a,a)\n",
    "        self.l=a\n",
    "        self.b=a\n",
    "        "
   ]
  },
  {
   "cell_type": "code",
   "execution_count": 10,
   "id": "229a8898",
   "metadata": {},
   "outputs": [],
   "source": [
    "sq=square(6)"
   ]
  },
  {
   "cell_type": "code",
   "execution_count": 11,
   "id": "d7ea06c2",
   "metadata": {},
   "outputs": [
    {
     "data": {
      "text/plain": [
       "36"
      ]
     },
     "execution_count": 11,
     "metadata": {},
     "output_type": "execute_result"
    }
   ],
   "source": [
    "sq.area()"
   ]
  },
  {
   "cell_type": "markdown",
   "id": "ac0ac823",
   "metadata": {},
   "source": [
    "Q7. What is the process for creating a class?\n",
    "class rect:\n",
    "    def __init__(self,l,b):\n",
    "        self.l=l\n",
    "        self.b=b\n",
    "    def area(self):\n",
    "        return self.l*self.b"
   ]
  },
  {
   "cell_type": "markdown",
   "id": "b08e54ae",
   "metadata": {},
   "source": [
    "Q8. How would you define the superclasses of a class?\n",
    " + superclass is the parent class of the cureent class been defined"
   ]
  },
  {
   "cell_type": "markdown",
   "id": "68f5ab1c",
   "metadata": {},
   "source": []
  }
 ],
 "metadata": {
  "kernelspec": {
   "display_name": "Python 3 (ipykernel)",
   "language": "python",
   "name": "python3"
  },
  "language_info": {
   "codemirror_mode": {
    "name": "ipython",
    "version": 3
   },
   "file_extension": ".py",
   "mimetype": "text/x-python",
   "name": "python",
   "nbconvert_exporter": "python",
   "pygments_lexer": "ipython3",
   "version": "3.9.7"
  }
 },
 "nbformat": 4,
 "nbformat_minor": 5
}
