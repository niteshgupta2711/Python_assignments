{
 "cells": [
  {
   "cell_type": "code",
   "execution_count": 32,
   "id": "0a0fb226",
   "metadata": {},
   "outputs": [],
   "source": [
    "from datetime import datetime,timedelta"
   ]
  },
  {
   "cell_type": "code",
   "execution_count": 3,
   "id": "035de479",
   "metadata": {},
   "outputs": [
    {
     "data": {
      "text/plain": [
       "datetime.datetime(2022, 5, 23, 8, 40, 43, 838102)"
      ]
     },
     "execution_count": 3,
     "metadata": {},
     "output_type": "execute_result"
    }
   ],
   "source": [
    "datetime.now()"
   ]
  },
  {
   "cell_type": "code",
   "execution_count": 5,
   "id": "e5cf4e1b",
   "metadata": {},
   "outputs": [
    {
     "data": {
      "text/plain": [
       "'2022-05-23 08:41:21.164664'"
      ]
     },
     "execution_count": 5,
     "metadata": {},
     "output_type": "execute_result"
    }
   ],
   "source": [
    "str(datetime.now())"
   ]
  },
  {
   "cell_type": "markdown",
   "id": "8a306524",
   "metadata": {},
   "source": [
    "1. Add the current date to the text file today.txt as a string."
   ]
  },
  {
   "cell_type": "code",
   "execution_count": 6,
   "id": "9a0e7758",
   "metadata": {},
   "outputs": [],
   "source": [
    "with open('date.txt','w') as f:\n",
    "    f.write(str(datetime.now()))\n",
    "    "
   ]
  },
  {
   "cell_type": "markdown",
   "id": "5dad6dd6",
   "metadata": {},
   "source": [
    "1. Add the current date to the text file today.txt as a string.\n",
    "2. Read the text file today.txt into the string today_string\n",
    "3. Parse the date from today_string.\n",
    "4. List the files in your current directory\n",
    "5. Create a list of all of the files in your parent directory (minimum five files should be available).\n",
    "6. Use multiprocessing to create three separate processes. Make each one wait a random number of\n",
    "seconds between one and five, print the current time, and then exit.\n",
    "7. Create a date object of your day of birth.\n",
    "8. What day of the week was your day of birth?\n",
    "9. When will you be (or when were you) 10,000 days old?"
   ]
  },
  {
   "cell_type": "code",
   "execution_count": 7,
   "id": "9bd1e284",
   "metadata": {},
   "outputs": [
    {
     "name": "stdout",
     "output_type": "stream",
     "text": [
      "2022-05-23 08:42:39.787339\n"
     ]
    }
   ],
   "source": [
    "with open('date.txt') as f:\n",
    "    print(f.read())"
   ]
  },
  {
   "cell_type": "code",
   "execution_count": 13,
   "id": "846ff18c",
   "metadata": {},
   "outputs": [
    {
     "name": "stdout",
     "output_type": "stream",
     "text": [
      "2022-05-23\n"
     ]
    }
   ],
   "source": [
    "print(datetime.now().date())\n",
    "# this is from toady_string"
   ]
  },
  {
   "cell_type": "code",
   "execution_count": 16,
   "id": "f017d822",
   "metadata": {},
   "outputs": [
    {
     "data": {
      "text/plain": [
       "['# write a function for fibonacci.py',\n",
       " '.ipynb_checkpoints',\n",
       " 'Assignment_11.ipynb',\n",
       " 'date.txt',\n",
       " 'image.png',\n",
       " 'ji',\n",
       " 'protagonist.csv',\n",
       " 'pythin_assignmnet8.ipynb',\n",
       " 'python assignment3.ipynb',\n",
       " 'PYTHON ASSIGNMENT4.ipynb',\n",
       " 'pythonadvance',\n",
       " 'python_assgnment_1.ipynb',\n",
       " 'python_assignent17.ipynb',\n",
       " 'python_assignment10.ipynb',\n",
       " 'python_assignment13.ipynb',\n",
       " 'python_assignment14.ipynb',\n",
       " 'python_assignment15.ipynb',\n",
       " 'python_assignment22.ipynb',\n",
       " 'python_assignment23.ipynb',\n",
       " 'python_assignment24.ipynb',\n",
       " 'python_assignment25.ipynb',\n",
       " 'python_assignment5.ipynb',\n",
       " 'python_assignment6.ipynb',\n",
       " 'python_assignment9.ipynb',\n",
       " 'python_assignment_2.ipynb',\n",
       " 'Untitled.ipynb',\n",
       " 'Untitled1.ipynb']"
      ]
     },
     "execution_count": 16,
     "metadata": {},
     "output_type": "execute_result"
    }
   ],
   "source": [
    "# list the files in cur direc\n",
    "import os\n",
    "os.listdir('.')"
   ]
  },
  {
   "cell_type": "markdown",
   "id": "e1eb0585",
   "metadata": {},
   "source": [
    "Create a list of all of the files in your parent directory"
   ]
  },
  {
   "cell_type": "code",
   "execution_count": 17,
   "id": "3704a732",
   "metadata": {},
   "outputs": [],
   "source": [
    "l2=os.listdir('.')"
   ]
  },
  {
   "cell_type": "code",
   "execution_count": 18,
   "id": "c95649db",
   "metadata": {},
   "outputs": [],
   "source": [
    "# l2 is the list with all the files"
   ]
  },
  {
   "cell_type": "code",
   "execution_count": 20,
   "id": "a1a718e8",
   "metadata": {},
   "outputs": [],
   "source": [
    "import multiprocessing\n",
    "import time\n",
    "import random"
   ]
  },
  {
   "cell_type": "code",
   "execution_count": 21,
   "id": "e42762c5",
   "metadata": {},
   "outputs": [],
   "source": [
    "def wor():\n",
    "    time.sleep(random.randint(1,6))\n",
    "    print(str(datetime.now()))\n",
    "    "
   ]
  },
  {
   "cell_type": "code",
   "execution_count": 23,
   "id": "72ed57c4",
   "metadata": {},
   "outputs": [
    {
     "name": "stdout",
     "output_type": "stream",
     "text": [
      "the work has been com pleted in 0.0390019416809082\n"
     ]
    }
   ],
   "source": [
    "tic=time.time()\n",
    "p1 =  multiprocessing.Process(target= wor)\n",
    "p2 =  multiprocessing.Process(target= wor)\n",
    "p3=   multiprocessing.Process(target= wor)\n",
    "p1.start()\n",
    "p2.start()\n",
    "p3.start()\n",
    "print(f'the work has been com pleted in {time.time()-tic}')"
   ]
  },
  {
   "cell_type": "code",
   "execution_count": 24,
   "id": "85428775",
   "metadata": {},
   "outputs": [
    {
     "name": "stdout",
     "output_type": "stream",
     "text": [
      "Done in 0.0280 seconds\n"
     ]
    }
   ],
   "source": [
    "def sleepy_man():\n",
    "    print('Starting to sleep')\n",
    "    time.sleep(1)\n",
    "    print('Done sleeping')\n",
    "\n",
    "tic = time.time()\n",
    "p1 =  multiprocessing.Process(target= sleepy_man)\n",
    "p2 =  multiprocessing.Process(target= sleepy_man)\n",
    "p1.start()\n",
    "p2.start()\n",
    "toc = time.time()\n",
    "\n",
    "print('Done in {:.4f} seconds'.format(toc-tic))"
   ]
  },
  {
   "cell_type": "code",
   "execution_count": 25,
   "id": "a97e6536",
   "metadata": {},
   "outputs": [],
   "source": [
    "bi=datetime(1998,11,27)"
   ]
  },
  {
   "cell_type": "code",
   "execution_count": 26,
   "id": "62f1f0b0",
   "metadata": {},
   "outputs": [
    {
     "data": {
      "text/plain": [
       "datetime.datetime(1998, 11, 27, 0, 0)"
      ]
     },
     "execution_count": 26,
     "metadata": {},
     "output_type": "execute_result"
    }
   ],
   "source": [
    "bi"
   ]
  },
  {
   "cell_type": "code",
   "execution_count": 27,
   "id": "5dcebe5e",
   "metadata": {},
   "outputs": [],
   "source": [
    "# what day of week your birthday"
   ]
  },
  {
   "cell_type": "code",
   "execution_count": 29,
   "id": "34af3911",
   "metadata": {},
   "outputs": [
    {
     "data": {
      "text/plain": [
       "5"
      ]
     },
     "execution_count": 29,
     "metadata": {},
     "output_type": "execute_result"
    }
   ],
   "source": [
    "bi.isoweekday()"
   ]
  },
  {
   "cell_type": "code",
   "execution_count": 30,
   "id": "38fa9dd6",
   "metadata": {},
   "outputs": [],
   "source": [
    "# when will you be 10000 days old"
   ]
  },
  {
   "cell_type": "code",
   "execution_count": 34,
   "id": "cb47e363",
   "metadata": {},
   "outputs": [
    {
     "data": {
      "text/plain": [
       "datetime.datetime(2026, 4, 14, 0, 0)"
      ]
     },
     "execution_count": 34,
     "metadata": {},
     "output_type": "execute_result"
    }
   ],
   "source": [
    "bi + timedelta(days=10000)"
   ]
  },
  {
   "cell_type": "code",
   "execution_count": null,
   "id": "142b1e10",
   "metadata": {},
   "outputs": [],
   "source": []
  }
 ],
 "metadata": {
  "kernelspec": {
   "display_name": "Python 3 (ipykernel)",
   "language": "python",
   "name": "python3"
  },
  "language_info": {
   "codemirror_mode": {
    "name": "ipython",
    "version": 3
   },
   "file_extension": ".py",
   "mimetype": "text/x-python",
   "name": "python",
   "nbconvert_exporter": "python",
   "pygments_lexer": "ipython3",
   "version": "3.9.7"
  }
 },
 "nbformat": 4,
 "nbformat_minor": 5
}
