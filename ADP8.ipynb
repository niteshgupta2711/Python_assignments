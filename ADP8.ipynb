{
 "cells": [
  {
   "cell_type": "markdown",
   "id": "360e084e",
   "metadata": {},
   "source": [
    "1. Given a sentence as txt, return True if any two adjacent words have this\n",
    "property: One word ends with a vowel, while the word immediately after\n",
    "begins with a vowel (a e i o u).\n",
    "Examples\n",
    "vowel_links(&quot;a very large appliance&quot;) ➞ True\n",
    "vowel_links(&quot;go to edabit&quot;) ➞ True\n",
    "vowel_links(&quot;an open fire&quot;) ➞ False\n",
    "vowel_links(&quot;a sudden applause&quot;) ➞ False"
   ]
  },
  {
   "cell_type": "code",
   "execution_count": 2,
   "id": "880d37ec",
   "metadata": {},
   "outputs": [],
   "source": [
    "def vowel_links(sent):\n",
    "    sent=sent.split()\n",
    "    for i in range(len(sent)):\n",
    "        if (sent[i][-1] in ['a','e','i','o','u']) and (sent[i+1][0] in ['a','e','i','o','u']):\n",
    "            return True\n",
    "    return False"
   ]
  },
  {
   "cell_type": "code",
   "execution_count": 3,
   "id": "db9e515c",
   "metadata": {},
   "outputs": [
    {
     "data": {
      "text/plain": [
       "True"
      ]
     },
     "execution_count": 3,
     "metadata": {},
     "output_type": "execute_result"
    }
   ],
   "source": [
    "vowel_links('go to edabit')"
   ]
  },
  {
   "cell_type": "markdown",
   "id": "ec46e5e1",
   "metadata": {},
   "source": [
    "2. You are given three inputs: a string, one letter, and a second letter.\n",
    "Write a function that returns True if every instance of the first letter occurs\n",
    "before every instance of the second letter.\n",
    "Examples\n",
    "first_before_second(&quot;a rabbit jumps joyfully&quot;, &quot;a&quot;, &quot;j&quot;) ➞ True\n",
    "# Every instance of &quot;a&quot; occurs before every instance of &quot;j&quot;.\n",
    "first_before_second(&quot;knaves knew about waterfalls&quot;, &quot;k&quot;, &quot;w&quot;) ➞ True\n",
    "first_before_second(&quot;happy birthday&quot;, &quot;a&quot;, &quot;y&quot;) ➞ False\n",
    "# The &quot;a&quot; in &quot;birthday&quot; occurs after the &quot;y&quot; in &quot;happy&quot;.\n",
    "first_before_second(&quot;precarious kangaroos&quot;, &quot;k&quot;, &quot;a&quot;) ➞ False"
   ]
  },
  {
   "cell_type": "code",
   "execution_count": 7,
   "id": "37385ae4",
   "metadata": {},
   "outputs": [],
   "source": [
    "def first_before_second(str1,a,b):\n",
    "    l=[x for x in str1 if x==a or x==b]\n",
    "    for i in range(len(l)):\n",
    "        if l[i]==a:\n",
    "            continue\n",
    "        if l[i]==b:\n",
    "            if a in l[i:]:\n",
    "                return False\n",
    "    return True\n",
    "    "
   ]
  },
  {
   "cell_type": "code",
   "execution_count": 8,
   "id": "ffcbfab4",
   "metadata": {},
   "outputs": [
    {
     "data": {
      "text/plain": [
       "False"
      ]
     },
     "execution_count": 8,
     "metadata": {},
     "output_type": "execute_result"
    }
   ],
   "source": [
    "first_before_second('precarious kangaaroos','k','a')"
   ]
  },
  {
   "cell_type": "code",
   "execution_count": 9,
   "id": "4008fc28",
   "metadata": {},
   "outputs": [
    {
     "data": {
      "text/plain": [
       "True"
      ]
     },
     "execution_count": 9,
     "metadata": {},
     "output_type": "execute_result"
    }
   ],
   "source": [
    "first_before_second('a rabbit jumps joyfully','a','j')"
   ]
  },
  {
   "cell_type": "markdown",
   "id": "bfa69ed9",
   "metadata": {},
   "source": [
    "3. Create a function that returns the characters from a list or string r on odd or\n",
    "even positions, depending on the specifier s. The specifier will be &quot;odd&quot; for\n",
    "items on odd positions (1, 3, 5, ...) and &quot;even&quot; for items on even positions (2,\n",
    "4, 6, ...).\n",
    "Examples\n",
    "char_at_pos([2, 4, 6, 8, 10], &quot;even&quot;) ➞ [4, 8]\n",
    "# 4 &amp; 8 occupy the 2nd &amp; 4th positions\n",
    "char_at_pos(&quot;EDABIT&quot;, &quot;odd&quot;) ➞ &quot;EAI&quot;\n",
    "# &quot;E&quot;, &quot;A&quot; and &quot;I&quot; occupy the 1st, 3rd and 5th positions"
   ]
  },
  {
   "cell_type": "code",
   "execution_count": 10,
   "id": "1dcf288b",
   "metadata": {},
   "outputs": [],
   "source": [
    "def char_at_pos(list1,o_e):\n",
    "    if o_e=='odd':\n",
    "        return [list1[i-1] for i in range(1,len(list1)+1) if i%2!=0]\n",
    "    elif o_e=='even':\n",
    "        return [list1[i-1] for i in range(1,len(list1)+1) if i%2==0]\n",
    "        "
   ]
  },
  {
   "cell_type": "code",
   "execution_count": 11,
   "id": "5183a26d",
   "metadata": {},
   "outputs": [
    {
     "data": {
      "text/plain": [
       "['e', 'a', 'i']"
      ]
     },
     "execution_count": 11,
     "metadata": {},
     "output_type": "execute_result"
    }
   ],
   "source": [
    "char_at_pos('edabit','odd')"
   ]
  },
  {
   "cell_type": "markdown",
   "id": "1d7fab0a",
   "metadata": {},
   "source": [
    "4. Write a function that returns the greatest common divisor of all list\n",
    "elements. If the greatest common divisor is 1, return 1.\n",
    "Examples\n",
    "GCD([10, 20, 40]) ➞ 10\n",
    "GCD([1, 2, 3, 100]) ➞ 1\n",
    "GCD([1024, 192, 2048, 512]) ➞ 64"
   ]
  },
  {
   "cell_type": "code",
   "execution_count": 25,
   "id": "3c9ce19f",
   "metadata": {},
   "outputs": [],
   "source": [
    "def gcd(num1,num2):\n",
    "    if num2%num1==0:\n",
    "        return num1\n",
    "    else :\n",
    "        return gcd(num2%num1,num1)\n",
    "    "
   ]
  },
  {
   "cell_type": "code",
   "execution_count": 31,
   "id": "cfac0cb5",
   "metadata": {},
   "outputs": [
    {
     "data": {
      "text/plain": [
       "64"
      ]
     },
     "execution_count": 31,
     "metadata": {},
     "output_type": "execute_result"
    }
   ],
   "source": [
    "# def GCD(list1):\n",
    "#     list1=sorted(list1)\n",
    "#     for i in range()\n",
    "gcd(192,512)\n",
    "gcd(64,1024)\n",
    "gcd(64,2048)"
   ]
  },
  {
   "cell_type": "code",
   "execution_count": 33,
   "id": "233c522b",
   "metadata": {},
   "outputs": [],
   "source": [
    "from functools import reduce\n",
    "\n",
    "\n",
    "\n",
    "def GCD(list1):\n",
    "    list1=sorted(list1)\n",
    "    return reduce(lambda a,b:gcd(a,b),list1)\n",
    "    "
   ]
  },
  {
   "cell_type": "code",
   "execution_count": 34,
   "id": "bf140981",
   "metadata": {},
   "outputs": [
    {
     "data": {
      "text/plain": [
       "64"
      ]
     },
     "execution_count": 34,
     "metadata": {},
     "output_type": "execute_result"
    }
   ],
   "source": [
    "GCD([1024, 192, 2048, 512])"
   ]
  },
  {
   "cell_type": "markdown",
   "id": "78b12665",
   "metadata": {},
   "source": [
    "5. A number/string is a palindrome if the digits/characters are the same when\n",
    "read both forward and backward. Examples include &quot;racecar&quot; and 12321.\n",
    "Given a positive number n, check if n or the binary representation of n is\n",
    "palindromic. Return the following:\n",
    "- &quot;Decimal only.&quot; if only n is a palindrome.\n",
    "- &quot;Binary only.&quot; if only the binary representation of n is a palindrome.\n",
    "- &quot;Decimal and binary.&quot; if both are palindromes.\n",
    "- &quot;Neither!&quot; if neither are palindromes.\n",
    "Examples\n",
    "palindrome_type(1306031) ➞ &quot;Decimal only.&quot;\n",
    "# decimal = 1306031\n",
    "# binary = &quot;100111110110110101111&quot;\n",
    "palindrome_type(427787) ➞ &quot;Binary only.&quot;\n",
    "# decimal = 427787\n",
    "# binary = &quot;1101000011100001011&quot;\n",
    "palindrome_type(313) ➞ &quot;Decimal and binary.&quot;\n",
    "# decimal = 313\n",
    "# binary = 100111001\n",
    "palindrome_type(934) ➞ &quot;Neither!&quot;\n",
    "# decimal = 934\n",
    "# binary = &quot;1110100110&quot;"
   ]
  },
  {
   "cell_type": "code",
   "execution_count": 39,
   "id": "eb4853ef",
   "metadata": {},
   "outputs": [],
   "source": [
    "def palindrome_type(num):\n",
    "    num=str(num)\n",
    "    if num==num[::-1] and bin(1306031)[2:]==bin(1306031)[2:][::-1]:\n",
    "        return 'decimal and binary'\n",
    "    elif num==num[::-1] and bin(1306031)[2:]!=bin(1306031)[2:][::-1]:\n",
    "        return 'decimal only'\n",
    "    elif num!=num[::-1] and bin(1306031)[2:]==bin(1306031)[2:][::-1]:\n",
    "        return 'binary only'\n",
    "    else:return 'Neither!'"
   ]
  },
  {
   "cell_type": "code",
   "execution_count": 40,
   "id": "9e6cfd2c",
   "metadata": {},
   "outputs": [
    {
     "data": {
      "text/plain": [
       "'decimal only'"
      ]
     },
     "execution_count": 40,
     "metadata": {},
     "output_type": "execute_result"
    }
   ],
   "source": [
    "palindrome_type(1306031)"
   ]
  },
  {
   "cell_type": "code",
   "execution_count": null,
   "id": "b7b676fb",
   "metadata": {},
   "outputs": [],
   "source": []
  }
 ],
 "metadata": {
  "kernelspec": {
   "display_name": "Python 3 (ipykernel)",
   "language": "python",
   "name": "python3"
  },
  "language_info": {
   "codemirror_mode": {
    "name": "ipython",
    "version": 3
   },
   "file_extension": ".py",
   "mimetype": "text/x-python",
   "name": "python",
   "nbconvert_exporter": "python",
   "pygments_lexer": "ipython3",
   "version": "3.9.7"
  }
 },
 "nbformat": 4,
 "nbformat_minor": 5
}
