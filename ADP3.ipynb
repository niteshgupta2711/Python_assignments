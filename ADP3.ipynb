{
 "cells": [
  {
   "cell_type": "markdown",
   "id": "0d724558",
   "metadata": {},
   "source": [
    "1. Write four functions that directly mutate a list:\n",
    "1. repeat(lst, n): Repeat lst n times.\n",
    "2. add(lst, x): Adds x to the end of the lst.\n",
    "3. remove(lst, m, n): Removes all elements between indices m and n\n",
    "inclusive in lst.\n",
    "4. concat(lst, x): concatenates lst with x (another list).\n",
    "Examples\n",
    "lst = [1, 2, 3, 4]\n",
    "repeat(lst, 3) ➞ [1, 2, 3, 4, 1, 2, 3, 4, 1, 2, 3, 4]\n",
    "add(lst, 1) ➞ [1, 2, 3, 4, 1, 2, 3, 4, 1, 2, 3, 4, 1]\n",
    "remove(lst, 1, 12) ➞ [1]\n",
    "concat(lst, [3, 4]) ➞ [1, 3, 4]\n",
    "2. The classic game of Mastermind is played on a tray on which the\n",
    "Mastermind conceals a code and the Guesser has 10 tries to guess it. The\n",
    "code is a sequence of 4 (or 6, sometimes more) pegs of different colors. Each\n",
    "guess is a corresponding sequence of 4 (or more) pegs of different colors. A\n",
    "guess is &quot;correct&quot; when the color of every peg in the guess exactly matches\n",
    "the corresponding peg in the Mastermind&#39;s code.\n",
    "After each guess by the Guesser, the Mastermind will give a score comprising\n",
    "black &amp; white pegs, not arranged in any order:\n",
    "- Black peg == guess peg matches the color of a code peg in the same\n",
    "position.\n",
    "- White peg == guess peg matches the color of a code peg in another\n",
    "position.\n",
    "Create a function that takes two strings, code and guess as arguments, and\n",
    "returns the score in a dictionary.\n",
    "- The code and guess are strings of numeric digits\n",
    "- The color of the pegs are represented by numeric digits\n",
    "- no &quot;peg&quot; may be double-scored\n",
    "Examples\n",
    "guess_score(&quot;1423&quot;, &quot;5678&quot;) ➞ {&quot;black&quot;: 0, &quot;white&quot;: 0}\n",
    "\n",
    "guess_score(&quot;1423&quot;, &quot;2222&quot;) ➞ {&quot;black&quot;: 1, &quot;white&quot;: 0}\n",
    "guess_score(&quot;1423&quot;, &quot;1234&quot;) ➞ {&quot;black&quot;: 1, &quot;white&quot;: 3}\n",
    "guess_score(&quot;1423&quot;, &quot;2211&quot;) ➞ {&quot;black&quot;: 0, &quot;white&quot;: 2}\n",
    "3. Create a function that takes a list lst and a number N and returns a list of\n",
    "two integers from lst whose product equals N.\n",
    "Examples\n",
    "two_product([1, 2, -1, 4, 5], 20) ➞ [4, 5]\n",
    "two_product([1, 2, 3, 4, 5], 10) ➞ [2, 5]\n",
    "two_product([100, 12, 4, 1, 2], 15) ➞ None\n",
    "\n",
    "4. In this challenge, sort a list containing a series of dates given as strings.\n",
    "Each date is given in the format DD-MM-YYYY_HH:MM:\n",
    "&quot;12-02-2012_13:44&quot;\n",
    "The priority of criteria used for sorting will be:\n",
    "- Year\n",
    "- Month\n",
    "- Day\n",
    "- Hours\n",
    "- Minutes\n",
    "Given a list lst and a string mode, implement a function that returns:\n",
    "- if mode is equal to &quot;ASC&quot;, the list lst sorted in ascending order.\n",
    "- if mode is equal to &quot;DSC&quot;, the list lst sorted in descending order.\n",
    "Examples\n",
    "sort_dates([&quot;10-02-2018_12:30&quot;, &quot;10-02-2016_12:30&quot;, &quot;10-02-2018_12:15&quot;],\n",
    "&quot;ASC&quot;) ➞ [&quot;10-02-2016_12:30&quot;, &quot;10-02-2018_12:15&quot;, &quot;10-02-2018_12:30&quot;]\n",
    "sort_dates([&quot;10-02-2018_12:30&quot;, &quot;10-02-2016_12:30&quot;, &quot;10-02-2018_12:15&quot;],\n",
    "&quot;DSC&quot;) ➞ [&quot;10-02-2018_12:30&quot;, &quot;10-02-2018_12:15&quot;, &quot;10-02-2016_12:30&quot;]\n",
    "\n",
    "sort_dates([&quot;09-02-2000_10:03&quot;, &quot;10-02-2000_18:29&quot;, &quot;01-01-1999_00:55&quot;],\n",
    "&quot;ASC&quot;) ➞ [&quot;01-01-1999_00:55&quot;, &quot;09-02-2000_10:03&quot;, &quot;10-02-2000_18:29&quot;]\n",
    "5. Write a function that selects all words that have all the same vowels (in any\n",
    "order and/or number) as the first word, including the first word.\n",
    "Examples\n",
    "same_vowel_group([&quot;toe&quot;, &quot;ocelot&quot;, &quot;maniac&quot;]) ➞ [&quot;toe&quot;, &quot;ocelot&quot;]\n",
    "same_vowel_group([&quot;many&quot;, &quot;carriage&quot;, &quot;emit&quot;, &quot;apricot&quot;, &quot;animal&quot;]) ➞\n",
    "[&quot;many&quot;]\n",
    "same_vowel_group([&quot;hoops&quot;, &quot;chuff&quot;, &quot;bot&quot;, &quot;bottom&quot;]) ➞ [&quot;hoops&quot;, &quot;bot&quot;,\n",
    "&quot;bottom&quot;]\n",
    "6. Create a function that takes a list of more than three numbers and returns\n",
    "the Least Common Multiple (LCM).\n",
    "Examples\n",
    "lcm_of_list([1, 2, 3, 4, 5, 6, 7, 8, 9, 10]) ➞ 2520\n",
    "lcm_of_list([13, 6, 17, 18, 19, 20, 37]) ➞ 27965340\n",
    "lcm_of_list([44, 64, 12, 17, 65]) ➞ 2333760"
   ]
  },
  {
   "cell_type": "code",
   "execution_count": 2,
   "id": "5e8a57a1",
   "metadata": {},
   "outputs": [],
   "source": [
    "l1=[4,6,9,3,1,0]"
   ]
  },
  {
   "cell_type": "code",
   "execution_count": 3,
   "id": "97e30aea",
   "metadata": {},
   "outputs": [
    {
     "data": {
      "text/plain": [
       "[4, 6, 9, 3, 1, 0, 2, 9]"
      ]
     },
     "execution_count": 3,
     "metadata": {},
     "output_type": "execute_result"
    }
   ],
   "source": [
    "l1.append(2)\n",
    "l1.extend([4])\n",
    "l1.pop()\n",
    "l1.__add__([9])"
   ]
  },
  {
   "cell_type": "code",
   "execution_count": 4,
   "id": "23da5d36",
   "metadata": {},
   "outputs": [],
   "source": [
    "from datetime import datetime"
   ]
  },
  {
   "cell_type": "code",
   "execution_count": 5,
   "id": "4038b596",
   "metadata": {},
   "outputs": [],
   "source": [
    "l1=\"12-02-2012_13:44\".split('_')\n",
    "date=l1[0].split('-')\n",
    "year,month,da=int(date[2]),int(date[1]),int(date[0])\n",
    "time=l1[1].split(':')\n",
    "hour,minute=int(time[0]),int(time[1])"
   ]
  },
  {
   "cell_type": "code",
   "execution_count": 6,
   "id": "6c81d8bc",
   "metadata": {},
   "outputs": [
    {
     "data": {
      "text/plain": [
       "True"
      ]
     },
     "execution_count": 6,
     "metadata": {},
     "output_type": "execute_result"
    }
   ],
   "source": [
    "datetime(2020,12,2)<datetime(2021,12,2)"
   ]
  },
  {
   "cell_type": "code",
   "execution_count": 7,
   "id": "7dc1830b",
   "metadata": {},
   "outputs": [],
   "source": [
    "def str_to_d(time):\n",
    "    l1=time.split('_')\n",
    "    date=l1[0].split('-')\n",
    "    year,month,da=int(date[2]),int(date[1]),int(date[0])\n",
    "    time=l1[1].split(':')\n",
    "    hour,minute=int(time[0]),int(time[1])\n",
    "    return datetime(year,month,da,hour,minute)\n",
    "    "
   ]
  },
  {
   "cell_type": "code",
   "execution_count": 10,
   "id": "522cfffc",
   "metadata": {},
   "outputs": [],
   "source": [
    "def sort_dates(lst):\n",
    "    half=len(lst)//2\n",
    "    tmp=lst[:half]+lst[half+1:]\n",
    "    \n",
    "    if len(lst)==1:\n",
    "        return [lst[0]]\n",
    "    if len(lst)==0:\n",
    "        return []\n",
    "    \n",
    "    else :\n",
    "        return sort_dates([x for x in tmp if str_to_d(x)<str_to_d(lst[half])])+[lst[half]]+sort_dates([x for x in tmp if str_to_d(x)>str_to_d(lst[half])])"
   ]
  },
  {
   "cell_type": "code",
   "execution_count": 11,
   "id": "e6af8742",
   "metadata": {},
   "outputs": [
    {
     "data": {
      "text/plain": [
       "['10-02-2016_12:30', '10-02-2018_12:15', '10-02-2018_12:30']"
      ]
     },
     "execution_count": 11,
     "metadata": {},
     "output_type": "execute_result"
    }
   ],
   "source": [
    "sort_dates([\"10-02-2018_12:30\", \"10-02-2016_12:30\", \"10-02-2018_12:15\"])"
   ]
  },
  {
   "cell_type": "markdown",
   "id": "3a3dd91e",
   "metadata": {},
   "source": [
    "sort_dates([&quot;10-02-2018_12:30&quot;, &quot;10-02-2016_12:30&quot;, &quot;10-02-2018_12:15&quot;],"
   ]
  },
  {
   "cell_type": "code",
   "execution_count": 12,
   "id": "3a377b8e",
   "metadata": {},
   "outputs": [
    {
     "data": {
      "text/plain": [
       "['10-02-2016_12:30', '10-02-2018_12:15', '10-02-2018_12:30']"
      ]
     },
     "execution_count": 12,
     "metadata": {},
     "output_type": "execute_result"
    }
   ],
   "source": [
    "sort_dates([\"10-02-2018_12:30\", \"10-02-2016_12:30\", \"10-02-2018_12:15\"])"
   ]
  },
  {
   "cell_type": "code",
   "execution_count": 16,
   "id": "7bbf7f2c",
   "metadata": {},
   "outputs": [],
   "source": [
    "def get_v(word):\n",
    "    return [x for x in word if x in 'aeiou']\n",
    "def any1(d,u):\n",
    "    for i in d:\n",
    "        if i in u:\n",
    "            return True\n",
    "    return False"
   ]
  },
  {
   "cell_type": "markdown",
   "id": "291e1f79",
   "metadata": {},
   "source": [
    "same_vowel_group([&quot;toe&quot;, &quot;ocelot&quot;, &quot;maniac&quot;])"
   ]
  },
  {
   "cell_type": "code",
   "execution_count": 17,
   "id": "8c613205",
   "metadata": {},
   "outputs": [],
   "source": [
    "def same_vowel_group(lst):\n",
    "    vo=get_v(lst[0])\n",
    "    return [x for x in lst if any1(vo,x)]"
   ]
  },
  {
   "cell_type": "code",
   "execution_count": 18,
   "id": "466fd99c",
   "metadata": {},
   "outputs": [
    {
     "data": {
      "text/plain": [
       "['toe', 'ocelot']"
      ]
     },
     "execution_count": 18,
     "metadata": {},
     "output_type": "execute_result"
    }
   ],
   "source": [
    "same_vowel_group([\"toe\", \"ocelot\", \"maniac\"])"
   ]
  },
  {
   "cell_type": "code",
   "execution_count": 30,
   "id": "73fe23f6",
   "metadata": {},
   "outputs": [],
   "source": [
    "#lcm_of_list([1, 2, 3, 4, 5, 6, 7, 8, 9, 10]) ➞ 2520\n",
    "def fact(num):\n",
    "    l=[]\n",
    "    for i in range(1,num+1):\n",
    "        if num%i==0:\n",
    "            l.append(i)\n",
    "    return l\n",
    "def fact1(lst):\n",
    "    if len(lst)==1:\n",
    "        return lst[0]\n",
    "    else:\n",
    "        return lst[0]*fact1(lst[1:])"
   ]
  },
  {
   "cell_type": "code",
   "execution_count": 37,
   "id": "96fc869d",
   "metadata": {},
   "outputs": [],
   "source": [
    "def lcm_of_list(lst):\n",
    "    l=[]\n",
    "    for num in lst:\n",
    "        l+=fact(num)\n",
    "        print(fact(num))"
   ]
  },
  {
   "cell_type": "code",
   "execution_count": 38,
   "id": "ff2af4d1",
   "metadata": {},
   "outputs": [
    {
     "name": "stdout",
     "output_type": "stream",
     "text": [
      "[1]\n",
      "[1, 2]\n",
      "[1, 3]\n",
      "[1, 2, 4]\n",
      "[1, 5]\n",
      "[1, 2, 3, 6]\n",
      "[1, 7]\n",
      "[1, 2, 4, 8]\n",
      "[1, 3, 9]\n",
      "[1, 2, 5, 10]\n"
     ]
    }
   ],
   "source": [
    "lcm_of_list([1, 2, 3, 4, 5, 6, 7, 8, 9, 10])"
   ]
  },
  {
   "cell_type": "code",
   "execution_count": null,
   "id": "3728a28b",
   "metadata": {},
   "outputs": [],
   "source": []
  }
 ],
 "metadata": {
  "kernelspec": {
   "display_name": "Python 3 (ipykernel)",
   "language": "python",
   "name": "python3"
  },
  "language_info": {
   "codemirror_mode": {
    "name": "ipython",
    "version": 3
   },
   "file_extension": ".py",
   "mimetype": "text/x-python",
   "name": "python",
   "nbconvert_exporter": "python",
   "pygments_lexer": "ipython3",
   "version": "3.9.7"
  }
 },
 "nbformat": 4,
 "nbformat_minor": 5
}
